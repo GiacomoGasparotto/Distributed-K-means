{
 "cells": [
  {
   "cell_type": "code",
   "execution_count": 1,
   "metadata": {},
   "outputs": [],
   "source": [
    "import matplotlib.pyplot as plt\n",
    "import numpy as np\n",
    "import numpy.typing as npt\n",
    "import pandas as pd\n",
    "import time\n",
    "from sklearn.datasets import fetch_kddcup99\n",
    "from sklearn.preprocessing import StandardScaler\n",
    "\n",
    "from pyspark import SparkContext, SparkConf\n",
    "from pyspark.rdd import RDD\n",
    "from pyspark.sql import Row\n",
    "from pyspark.sql import SparkSession\n",
    "from pyspark.sql.functions import pandas_udf, col\n",
    "\n",
    "from utils import compute_centroidDistances, get_clusterId, get_minDistance"
   ]
  },
  {
   "cell_type": "markdown",
   "metadata": {},
   "source": [
    "## Import algorithms functions"
   ]
  },
  {
   "cell_type": "code",
   "execution_count": 2,
   "metadata": {},
   "outputs": [],
   "source": [
    "def kMeansPlusPlus_init(\n",
    "    data: npt.NDArray,\n",
    "    k: int,\n",
    "    weights: npt.NDArray = np.array([])\n",
    ") -> npt.NDArray:\n",
    "    \n",
    "    #Standard kMeans++ initialization method:\n",
    "    #given `data` (eventually weighted), returns `k` cluster centroids\n",
    "    \n",
    "    if weights.shape[0] == 0:\n",
    "        weights = np.ones(shape=(data.shape[0],))\n",
    "    \n",
    "    centroids = data[np.random.randint(0, data.shape[0]),:].reshape(1, -1) # reshaping for easier stacking\n",
    "    \n",
    "    while (centroids.shape[0] < k):\n",
    "        # since the original functions are made for map\n",
    "        # we need to loop over the data\n",
    "        minDistance_array = np.array(\n",
    "            [get_minDistance(compute_centroidDistances(datum, centroids)) for datum in data]\n",
    "        ) * weights # multiplyling by the weight simulates multiple copies of the same datum\n",
    "        total_minDistance = np.sum(minDistance_array)\n",
    "        # sampling probability proportional to minDistance\n",
    "        new_centroid_idx = np.random.choice(minDistance_array.shape[0], size = 1, p = minDistance_array / total_minDistance)\n",
    "        new_centroid = data[new_centroid_idx,:].reshape(1, -1)\n",
    "\n",
    "        # edge case in which the same centroid is selected twice:\n",
    "        # redo the iteration without saving the centroid\n",
    "        if any(np.array_equal(new_centroid, row) for row in centroids): continue\n",
    "        centroids = np.concatenate((centroids, new_centroid), axis = 0)\n",
    "\n",
    "    return centroids"
   ]
  },
  {
   "cell_type": "code",
   "execution_count": 3,
   "metadata": {},
   "outputs": [],
   "source": [
    "def kMeansNaive(\n",
    "    data: npt.NDArray,\n",
    "    centroids: npt.NDArray,\n",
    "    epochs: int = 5\n",
    ") -> npt.NDArray:\n",
    "    \"\"\"\n",
    "    Standard kMeans algorithm:\n",
    "    given `data`, updates the (k) `centroids` for `epochs` times,\n",
    "    improving the clustering each time\n",
    "    \"\"\"\n",
    "    k = centroids.shape[0]\n",
    "    for _ in range(epochs):\n",
    "        assignments = np.array(\n",
    "            [get_clusterId(compute_centroidDistances(x, centroids)) for x in data]\n",
    "        )\n",
    "        centroids = np.array(\n",
    "            [np.mean(data[assignments==i,:], axis = 0) for i in range(k)]\n",
    "        )\n",
    "    return centroids"
   ]
  },
  {
   "cell_type": "code",
   "execution_count": 4,
   "metadata": {},
   "outputs": [],
   "source": [
    "def kMeansParallel_init(\n",
    "    data_rdd: RDD,\n",
    "    k: int,\n",
    "    l: float\n",
    ") -> npt.NDArray:\n",
    "    \"\"\"\n",
    "    kMeans|| initialization method:\n",
    "    returns `k` good `centroids`.\n",
    "    `l` controls the probability of each point\n",
    "    in `data_rdd` of being sampled as a pre-processed centroid.\n",
    "    \"\"\"\n",
    "\n",
    "    centroids = np.array(\n",
    "        data_rdd.takeSample(num=1, withReplacement=False)\n",
    "    )\n",
    "    # centroid = data_rdd.takeSample(num=1, withReplacement=False, seed=42)[0]\n",
    "    # centroids = np.array([centroid])\n",
    "\n",
    "    \n",
    "    minDistance_rdd = data_rdd \\\n",
    "        .map(lambda x: (x, get_minDistance(compute_centroidDistances(x, centroids)))) \\\n",
    "        .persist()\n",
    "\n",
    "    cost = minDistance_rdd \\\n",
    "        .map(lambda x: x[1]) \\\n",
    "        .sum()\n",
    "\n",
    "    iterations = int(np.ceil(np.log(cost))) if (cost > 1) else 1\n",
    "    for _ in range(iterations):\n",
    "        new_centroids = np.array(\n",
    "            minDistance_rdd \\\n",
    "                .filter(lambda x: np.random.rand() < np.min((l * x[1] / cost, 1))) \\\n",
    "                .map(lambda x: x[0]) \\\n",
    "                .collect()\n",
    "        )\n",
    "        # edge case in which no new centroid is sampled:\n",
    "        # this avoids the following `np.concatenate` to fail\n",
    "        if len(new_centroids.shape) < 2:\n",
    "            continue\n",
    "\n",
    "        minDistance_rdd.unpersist()\n",
    "        centroids = np.unique(\n",
    "            np.concatenate((centroids, new_centroids), axis = 0), \n",
    "            axis = 0\n",
    "        )\n",
    "\n",
    "        minDistance_rdd = data_rdd \\\n",
    "            .map(lambda x: (x, get_minDistance(compute_centroidDistances(x, centroids)))) \\\n",
    "            .persist()\n",
    "        cost = minDistance_rdd \\\n",
    "            .map(lambda x: x[1]) \\\n",
    "            .sum()\n",
    "    \n",
    "    minDistance_rdd.unpersist()\n",
    "    clusterCounts = data_rdd \\\n",
    "        .map(lambda x: (get_clusterId(compute_centroidDistances(x, centroids)), 1)) \\\n",
    "        .countByKey()\n",
    "    \n",
    "    clusterCounts = np.array([w[1] for w in clusterCounts.items()])\n",
    "    centroids = kMeansNaive(\n",
    "        centroids, \n",
    "        kMeansPlusPlus_init(centroids, k, clusterCounts)\n",
    "    )\n",
    "    \n",
    "    return centroids"
   ]
  },
  {
   "cell_type": "code",
   "execution_count": 5,
   "metadata": {},
   "outputs": [],
   "source": [
    "def miniBatchKMeans(\n",
    "    data_rdd: RDD,\n",
    "    centroids: npt.NDArray,\n",
    "    iterations: int = 10,\n",
    "    batch_fraction: float = 0.1\n",
    ") -> npt.NDArray:\n",
    "    k = centroids.shape[0]\n",
    "    clusterCounters = np.zeros((k,)) # 1 / learning_rate\n",
    "    for iter in range(iterations):\n",
    "        miniBatch_rdd = data_rdd \\\n",
    "            .sample(withReplacement=False, fraction=batch_fraction)\n",
    "        miniBatch_rdd = miniBatch_rdd \\\n",
    "            .map(lambda x: (get_clusterId(compute_centroidDistances(x, centroids)), 1, x)) \\\n",
    "            .persist()\n",
    "        \n",
    "        # counting how many assigments per cluster\n",
    "        clusterCounts_dict = miniBatch_rdd \\\n",
    "            .map(lambda x: (x[0], x[1])) \\\n",
    "            .countByKey()\n",
    "        clusterCounts = np.array(\n",
    "            [clusterCounts_dict[i] if i in clusterCounts_dict.keys() else 0 for i in range(k)]\n",
    "        )\n",
    "        clusterCounters += clusterCounts\n",
    "        \n",
    "        # edge case in which a cluster has no assignments:\n",
    "        # if also its counter is zero the whole iteration is repeated\n",
    "        if any(np.isclose(v, 0) for v in clusterCounters): \n",
    "            iter -= 1\n",
    "            miniBatch_rdd.unpersist()\n",
    "            continue\n",
    "        # otherwise its count will be set to 1 to avoid division by 0 in the update step\n",
    "        clusterCounts = np.where(clusterCounts >= 1, clusterCounts, 1)\n",
    "\n",
    "        # summing all points assigned to the same cluster\n",
    "        # (in the update step this will be divided by the counts \n",
    "        # in order to get the mean for every cluster).\n",
    "        # A dict is used for convenience and consistency with clusterCounts\n",
    "        \"\"\"clusterSums_dict = dict(miniBatch_rdd \\\n",
    "            .map(lambda x: (x[0], x[2])) \\\n",
    "            .reduceByKey(lambda x, y: x + y) \\\n",
    "            .collect()\n",
    "        )\n",
    "        # edge case in which a cluster has no assignments:\n",
    "        # the centroid is returned instead of 0 \n",
    "        # (which would have been the sum of its assigned points) \n",
    "        # in order to not update its position \n",
    "        # (note how the terms cancel out in the update step)\n",
    "        clusterSums = np.array([\n",
    "            np.array(clusterSums_dict[i]) if i in clusterSums_dict else centroids[i, :]\n",
    "            for i in range(k)\n",
    "        ])\"\"\"\n",
    "        # summing all points assigned to the same cluster\n",
    "        clusterSums_dict = dict(\n",
    "            miniBatch_rdd\n",
    "                .map(lambda x: (x[0], np.array(x[2])))  # FORZA conversione a numpy\n",
    "                .reduceByKey(lambda x, y: x + y)\n",
    "                .collect()\n",
    "        )\n",
    "        \n",
    "        clusterSums = np.stack([\n",
    "            clusterSums_dict[i] if i in clusterSums_dict else centroids[i, :]\n",
    "            for i in range(k)\n",
    "        ])\n",
    "\n",
    "\n",
    "\n",
    "        # update step: c <- (1 - eta) * c + eta * x_mean\n",
    "        # (note x_mean = x_sums / c_count)\n",
    "        centroids = (1 - 1 / clusterCounters).reshape(-1, 1) * centroids + \\\n",
    "                    (1 / (clusterCounters * clusterCounts)).reshape(-1, 1) * clusterSums\n",
    "        \n",
    "        miniBatch_rdd.unpersist()\n",
    "        \n",
    "    return centroids"
   ]
  },
  {
   "cell_type": "markdown",
   "metadata": {},
   "source": [
    "## Start a Spark session"
   ]
  },
  {
   "cell_type": "code",
   "execution_count": 6,
   "metadata": {},
   "outputs": [
    {
     "name": "stderr",
     "output_type": "stream",
     "text": [
      "Setting default log level to \"WARN\".\n",
      "To adjust logging level use sc.setLogLevel(newLevel). For SparkR, use setLogLevel(newLevel).\n",
      "25/09/09 11:01:24 WARN NativeCodeLoader: Unable to load native-hadoop library for your platform... using builtin-java classes where applicable\n"
     ]
    }
   ],
   "source": [
    "spark = SparkSession.builder \\\n",
    "    .master(\"spark://spark-master:7077\") \\\n",
    "    .appName(\"kMeansParallel\") \\\n",
    "    .config(\"spark.executor.memory\", \"4g\") \\\n",
    "    .config(\"spark.driver.memory\", \"4g\") \\\n",
    "    .getOrCreate()\n",
    "\n",
    "sc = spark.sparkContext\n",
    "sc.addPyFile(\"utils.py\") "
   ]
  },
  {
   "cell_type": "markdown",
   "metadata": {},
   "source": [
    "## Load and preprocess the dataset"
   ]
  },
  {
   "cell_type": "code",
   "execution_count": 7,
   "metadata": {},
   "outputs": [
    {
     "data": {
      "text/plain": [
       "'# Generated dataset\\n\\n# Parameters for toy dataset\\nnum_points_per_cluster = 50\\nnum_clusters = 10\\ndim = 3  # 2D points for easy visualization\\nspread = 0.5\\nseed = 42\\nnp.random.seed(seed)\\n\\ncenters = np.random.uniform(-10, 10, (num_clusters, dim))\\ndata = np.concatenate(\\n    [center + spread * np.random.randn(num_points_per_cluster, dim) for center in centers],\\n    axis = 0\\n)\\ndata_rdd = sc.parallelize([row for row in data])\\n\\ndata_rdd = data_rdd.persist()'"
      ]
     },
     "execution_count": 7,
     "metadata": {},
     "output_type": "execute_result"
    }
   ],
   "source": [
    "\"\"\"# Generated dataset\n",
    "\n",
    "# Parameters for toy dataset\n",
    "num_points_per_cluster = 50\n",
    "num_clusters = 10\n",
    "dim = 3  # 2D points for easy visualization\n",
    "spread = 0.5\n",
    "seed = 42\n",
    "np.random.seed(seed)\n",
    "\n",
    "centers = np.random.uniform(-10, 10, (num_clusters, dim))\n",
    "data = np.concatenate(\n",
    "    [center + spread * np.random.randn(num_points_per_cluster, dim) for center in centers],\n",
    "    axis = 0\n",
    ")\n",
    "data_rdd = sc.parallelize([row for row in data])\n",
    "\n",
    "data_rdd = data_rdd.persist()\"\"\""
   ]
  },
  {
   "cell_type": "markdown",
   "metadata": {},
   "source": [
    "The first dataset we would like to test is a synthetic GaussMixture. To generate it, we sampled kcenters from a 15-dimensional spherical Gaussian distribution with mean at the origin and variance R∈{1,10,100}. We then added points from Gaussian distributions of unit variance around each center. Given the k centers, this is a mixture of k spherical Gaussians with equal weights.\n",
    "\n",
    "ref{paper kmeans||}"
   ]
  },
  {
   "cell_type": "code",
   "execution_count": 8,
   "metadata": {},
   "outputs": [],
   "source": [
    "# Generated dataset\n",
    "\n",
    "# Parameters\n",
    "def gauss_mixture(\n",
    "    num_points_per_cluster = 50,  \n",
    "    num_clusters = 10, # k centers\n",
    "    dim = 15,                  \n",
    "    R = 10 # center variances\n",
    "):\n",
    "\n",
    "    seed = 42\n",
    "    np.random.seed(seed)\n",
    "    \n",
    "    # Centers generation N(0, R*I)\n",
    "    centers = np.random.normal(loc=0, scale=np.sqrt(R), size=(num_clusters, dim))\n",
    "    \n",
    "    # Point generation N(center, I) for each cluster\n",
    "    data = np.concatenate(\n",
    "        [center + np.random.randn(num_points_per_cluster, dim) for center in centers],\n",
    "        axis=0\n",
    "    )\n",
    "    \n",
    "    data_rdd = sc.parallelize([row for row in data])\n",
    "    data_rdd = data_rdd.persist()\n",
    "    \n",
    "    return data_rdd"
   ]
  },
  {
   "cell_type": "code",
   "execution_count": 9,
   "metadata": {},
   "outputs": [],
   "source": [
    "# try to generate data\n",
    "data_rdd = gauss_mixture()"
   ]
  },
  {
   "cell_type": "code",
   "execution_count": 10,
   "metadata": {},
   "outputs": [
    {
     "name": "stderr",
     "output_type": "stream",
     "text": [
      "                                                                                "
     ]
    },
    {
     "name": "stdout",
     "output_type": "stream",
     "text": [
      "Shape of RDD object: (500, 15)\n"
     ]
    }
   ],
   "source": [
    "num_elements = data_rdd.count()\n",
    "element_dim = len(data_rdd.first())\n",
    "print(f\"Shape of RDD object: ({num_elements}, {element_dim})\")"
   ]
  },
  {
   "cell_type": "code",
   "execution_count": 11,
   "metadata": {},
   "outputs": [],
   "source": [
    "# Convert to numpy array\n",
    "data_list = data_rdd.collect()\n",
    "data_array = np.array(data_list)"
   ]
  },
  {
   "cell_type": "code",
   "execution_count": 12,
   "metadata": {},
   "outputs": [],
   "source": [
    "# Real dataset\n",
    "\n",
    "# Change percent10 to 'False' to fetch the full dataset (4M rows)\n",
    "# for local works is better to leave it as 'True'\n",
    "kdd = fetch_kddcup99(shuffle=True, percent10=True) \n",
    "kdd_data = kdd.data\n",
    "\n",
    "# Remove string features and standardize them\n",
    "data_kdd = np.delete(kdd_data,np.arange(1,4,1),axis = 1) \n",
    "scaler_kdd = StandardScaler()\n",
    "data_kdd = scaler_kdd.fit_transform(data_kdd)\n",
    "\n",
    "# parallelize\n",
    "data_rdd_kdd = sc.parallelize([row for row in data_kdd])\n",
    "# data_rdd = sc.parallelize(np.array(data).tolist(), numSlices=16)\n",
    "data_rdd_kdd = data_rdd_kdd.persist()"
   ]
  },
  {
   "cell_type": "code",
   "execution_count": 13,
   "metadata": {},
   "outputs": [
    {
     "name": "stderr",
     "output_type": "stream",
     "text": [
      "25/09/09 11:02:06 WARN TaskSetManager: Stage 3 contains a task of very large size (20239 KiB). The maximum recommended task size is 1000 KiB.\n",
      "25/09/09 11:02:21 WARN TaskSetManager: Stage 4 contains a task of very large size (20239 KiB). The maximum recommended task size is 1000 KiB.\n",
      "[Stage 4:>                                                          (0 + 1) / 1]"
     ]
    },
    {
     "name": "stdout",
     "output_type": "stream",
     "text": [
      "Shape of RDD object: (494021, 38)\n"
     ]
    },
    {
     "name": "stderr",
     "output_type": "stream",
     "text": [
      "                                                                                "
     ]
    }
   ],
   "source": [
    "num_elements = data_rdd_kdd.count()\n",
    "element_dim = len(data_rdd_kdd.first())\n",
    "print(f\"Shape of RDD object: ({num_elements}, {element_dim})\")"
   ]
  },
  {
   "cell_type": "code",
   "execution_count": 14,
   "metadata": {},
   "outputs": [
    {
     "name": "stderr",
     "output_type": "stream",
     "text": [
      "                                                                                "
     ]
    },
    {
     "name": "stdout",
     "output_type": "stream",
     "text": [
      "(6, 15)\n"
     ]
    }
   ],
   "source": [
    "k = 6\n",
    "l = 0.5*k\n",
    "centroids = kMeansParallel_init(data_rdd, k, l)\n",
    "\n",
    "print(centroids.shape)"
   ]
  },
  {
   "cell_type": "code",
   "execution_count": 15,
   "metadata": {},
   "outputs": [
    {
     "name": "stderr",
     "output_type": "stream",
     "text": [
      "                                                                                "
     ]
    },
    {
     "name": "stdout",
     "output_type": "stream",
     "text": [
      "(6, 15)\n"
     ]
    }
   ],
   "source": [
    "final_centroids = miniBatchKMeans(data_rdd, centroids)\n",
    "\n",
    "print(final_centroids.shape)"
   ]
  },
  {
   "cell_type": "markdown",
   "metadata": {},
   "source": [
    "## Benchmark testing"
   ]
  },
  {
   "cell_type": "code",
   "execution_count": 16,
   "metadata": {},
   "outputs": [],
   "source": [
    "def cost_function(data, centroids):\n",
    "    \"\"\"\n",
    "    Compute cost function: square distance between data and centroids\n",
    "    data: (N, d)\n",
    "    centroids: (k, d)\n",
    "    \"\"\"\n",
    "\n",
    "    distances = np.linalg.norm(data[:, None, :] - centroids[None, :, :], axis=2)**2\n",
    "    min_distances = np.min(distances, axis=1)\n",
    "    \n",
    "    # sum the distances to get the final cost\n",
    "    cost = np.sum(min_distances)\n",
    "\n",
    "    # return float(cost)\n",
    "    return cost"
   ]
  },
  {
   "cell_type": "code",
   "execution_count": 17,
   "metadata": {},
   "outputs": [],
   "source": [
    "def analysis(data_array, data_rdd, r, k, iterations=10, batch_fraction=0.1):\n",
    "    results = []\n",
    "\n",
    "    # 1 - Random initialization\n",
    "    start = time.time()\n",
    "    centroidsRandom = data_array[np.random.choice(data_array.shape[0], size=k, replace=False)]\n",
    "    init_time = time.time() - start\n",
    "    seed_cost = cost_function(data_array, centroidsRandom)\n",
    "    \n",
    "    final_centroids = miniBatchKMeans(data_rdd, centroidsRandom, iterations, batch_fraction)\n",
    "    final_cost = cost_function(data_array, final_centroids)\n",
    "    \n",
    "    results.append({\n",
    "        \"method\": \"random\",\n",
    "        \"k\": k, \n",
    "        \"l\": np.nan,\n",
    "        \"r\": r, \n",
    "        \"initialization_time\": init_time,\n",
    "        \"seed\": seed_cost,\n",
    "        \"final\": final_cost\n",
    "    })\n",
    "\n",
    "    # 2 - k-means++\n",
    "    start = time.time()\n",
    "    centroidsPlusPlus = kMeansPlusPlus_init(data_array, k)\n",
    "    init_time = time.time() - start\n",
    "    seed_cost = cost_function(data_array, centroidsPlusPlus)\n",
    "    final_centroids = miniBatchKMeans(data_rdd, centroidsPlusPlus, iterations, batch_fraction)\n",
    "    final_cost = cost_function(data_array, final_centroids)\n",
    "    results.append({\n",
    "        \"method\": \"kmeans++\",\n",
    "        \"k\": k,\n",
    "        \"l\": np.nan,\n",
    "        \"r\": r, \n",
    "        \"initialization_time\": init_time,\n",
    "        \"seed\": seed_cost,\n",
    "        \"final\": final_cost\n",
    "    })\n",
    "\n",
    "    # 3 - Parallel l=0.5k\n",
    "    start = time.time()\n",
    "    centroidsParallel1 = kMeansParallel_init(data_rdd, k=k, l=0.5*k)\n",
    "    init_time = time.time() - start\n",
    "    seed_cost = cost_function(data_array, centroidsParallel1)\n",
    "    final_centroids = miniBatchKMeans(data_rdd, centroidsParallel1, iterations, batch_fraction)\n",
    "    final_cost = cost_function(data_array, final_centroids)\n",
    "    results.append({\n",
    "        \"method\": \"kmeans|| (l=k/2)\",\n",
    "        \"k\": k,\n",
    "        \"l\": 0.5*k,\n",
    "        \"r\": r, \n",
    "        \"initialization_time\": init_time,\n",
    "        \"seed\": seed_cost,\n",
    "        \"final\": final_cost\n",
    "    })\n",
    "\n",
    "    # 4 - Parallel l=2k\n",
    "    start = time.time()\n",
    "    centroidsParallel2 = kMeansParallel_init(data_rdd, k=k, l=2*k)\n",
    "    init_time = time.time() - start\n",
    "    seed_cost = cost_function(data_array, centroidsParallel2)\n",
    "    final_centroids = miniBatchKMeans(data_rdd, centroidsParallel2, iterations, batch_fraction)\n",
    "    final_cost = cost_function(data_array, final_centroids)\n",
    "    results.append({\n",
    "        \"method\": \"kmeans|| (l=2k)\",\n",
    "        \"k\": k,\n",
    "        \"l\": 2*k,\n",
    "        \"r\": r, \n",
    "        \"initialization_time\": init_time,\n",
    "        \"seed\": seed_cost,\n",
    "        \"final\": final_cost\n",
    "    })\n",
    "\n",
    "    df = pd.DataFrame(results)\n",
    "    return df"
   ]
  },
  {
   "cell_type": "markdown",
   "metadata": {},
   "source": [
    "Paper analysis on Gaussian mixture"
   ]
  },
  {
   "cell_type": "code",
   "execution_count": null,
   "metadata": {},
   "outputs": [
    {
     "name": "stderr",
     "output_type": "stream",
     "text": [
      "                                                                                "
     ]
    }
   ],
   "source": [
    "R = [1, 10, 100]\n",
    "\n",
    "# generate data with Gaussian mixture changing R\n",
    "for RR in R:\n",
    "    data_rdd = gauss_mixture(R=RR)\n",
    "    # Convert to numpy array\n",
    "    data_list = data_rdd.collect()\n",
    "    data_array = np.array(data_list)\n",
    "\n",
    "    df = analysis(data_array, data_rdd, r=5, k=50)\n",
    "    print(\"R =\", RR, \"\\n\")\n",
    "    print(df)"
   ]
  }
 ],
 "metadata": {
  "kernelspec": {
   "display_name": "Python 3 (ipykernel)",
   "language": "python",
   "name": "python3"
  },
  "language_info": {
   "codemirror_mode": {
    "name": "ipython",
    "version": 3
   },
   "file_extension": ".py",
   "mimetype": "text/x-python",
   "name": "python",
   "nbconvert_exporter": "python",
   "pygments_lexer": "ipython3",
   "version": "3.11.12"
  }
 },
 "nbformat": 4,
 "nbformat_minor": 4
}
