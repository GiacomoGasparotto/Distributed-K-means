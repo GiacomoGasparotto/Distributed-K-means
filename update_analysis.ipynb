{
 "cells": [
  {
   "cell_type": "code",
   "execution_count": 8,
   "id": "de482d00",
   "metadata": {},
   "outputs": [],
   "source": [
    "# general imports\n",
    "import matplotlib.pyplot as plt\n",
    "import numpy as np\n",
    "import numpy.typing as npt\n",
    "import os\n",
    "import pandas as pd\n",
    "import time\n",
    "import warnings, logging\n",
    "\n",
    "from functools import singledispatch\n",
    "\n",
    "# dataset\n",
    "from sklearn.datasets import fetch_kddcup99\n",
    "from sklearn.preprocessing import StandardScaler\n",
    "\n",
    "# pyspark module\n",
    "from pyspark.rdd import RDD\n",
    "\n",
    "# src module\n",
    "from src.utils import kddSetup, sparkSetup\n",
    "from src.kmeans.base import compute_cost\n",
    "from src.kmeans.initialization import kMeansParallel_init, kMeansPlusPlus_init, kMeansRandom_init\n",
    "from src.kmeans.update import lloydKMeans, miniBatchKMeans"
   ]
  },
  {
   "cell_type": "markdown",
   "id": "afad672d",
   "metadata": {},
   "source": [
    "Starting the cluster"
   ]
  },
  {
   "cell_type": "code",
   "execution_count": 9,
   "id": "9fc77437",
   "metadata": {},
   "outputs": [],
   "source": [
    "# creating the zipped environment if it doesn't already exist\n",
    "! if [ ! -f \"environment.tar.gz\" ]; then venv-pack -o \"environment.tar.gz\" ; fi\n",
    "# creating the zipped module src\n",
    "! if [ -f \"src.tar.gz\" ]; then rm src.tar.gz ; fi\n",
    "! tar -czf src.tar.gz src"
   ]
  },
  {
   "cell_type": "code",
   "execution_count": 10,
   "id": "cc6dba2b",
   "metadata": {},
   "outputs": [
    {
     "name": "stdout",
     "output_type": "stream",
     "text": [
      "org.apache.spark.deploy.master.Master running as process 526108.  Stop it first.\n",
      "worker3: org.apache.spark.deploy.worker.Worker running as process 232336.  Stop it first.\n",
      "worker1: org.apache.spark.deploy.worker.Worker running as process 225764.  Stop it first.\n",
      "worker2: org.apache.spark.deploy.worker.Worker running as process 224249.  Stop it first.\n",
      "master: org.apache.spark.deploy.worker.Worker running as process 526314.  Stop it first.\n"
     ]
    }
   ],
   "source": [
    "# starting the cluster\n",
    "! $SPARK_HOME/sbin/start-all.sh"
   ]
  },
  {
   "cell_type": "code",
   "execution_count": 11,
   "id": "c8d733ac",
   "metadata": {},
   "outputs": [],
   "source": [
    "os.environ[\"PYSPARK_PYTHON\"] = \"./environment/bin/python\""
   ]
  },
  {
   "cell_type": "code",
   "execution_count": 12,
   "id": "3a075367",
   "metadata": {},
   "outputs": [
    {
     "name": "stderr",
     "output_type": "stream",
     "text": [
      "25/09/12 16:14:49 WARN SparkContext: The path src.tar.gz has been added already. Overwriting of added paths is not supported in the current version.\n"
     ]
    },
    {
     "ename": "Py4JJavaError",
     "evalue": "An error occurred while calling o722.addFile.\n: java.io.FileNotFoundException: File file:/home/ubuntu/Distributed-K-means/kmeans.py does not exist\n\tat org.apache.hadoop.fs.RawLocalFileSystem.deprecatedGetFileStatus(RawLocalFileSystem.java:779)\n\tat org.apache.hadoop.fs.RawLocalFileSystem.getFileLinkStatusInternal(RawLocalFileSystem.java:1100)\n\tat org.apache.hadoop.fs.RawLocalFileSystem.getFileStatus(RawLocalFileSystem.java:769)\n\tat org.apache.hadoop.fs.FilterFileSystem.getFileStatus(FilterFileSystem.java:462)\n\tat org.apache.spark.SparkContext.addFile(SparkContext.scala:1750)\n\tat org.apache.spark.SparkContext.addFile(SparkContext.scala:1728)\n\tat java.base/jdk.internal.reflect.NativeMethodAccessorImpl.invoke0(Native Method)\n\tat java.base/jdk.internal.reflect.NativeMethodAccessorImpl.invoke(NativeMethodAccessorImpl.java:77)\n\tat java.base/jdk.internal.reflect.DelegatingMethodAccessorImpl.invoke(DelegatingMethodAccessorImpl.java:43)\n\tat java.base/java.lang.reflect.Method.invoke(Method.java:569)\n\tat py4j.reflection.MethodInvoker.invoke(MethodInvoker.java:244)\n\tat py4j.reflection.ReflectionEngine.invoke(ReflectionEngine.java:374)\n\tat py4j.Gateway.invoke(Gateway.java:282)\n\tat py4j.commands.AbstractCommand.invokeMethod(AbstractCommand.java:132)\n\tat py4j.commands.CallCommand.execute(CallCommand.java:79)\n\tat py4j.ClientServerConnection.waitForCommands(ClientServerConnection.java:182)\n\tat py4j.ClientServerConnection.run(ClientServerConnection.java:106)\n\tat java.base/java.lang.Thread.run(Thread.java:840)\n",
     "output_type": "error",
     "traceback": [
      "\u001b[31m---------------------------------------------------------------------------\u001b[39m",
      "\u001b[31mPy4JJavaError\u001b[39m                             Traceback (most recent call last)",
      "\u001b[36mCell\u001b[39m\u001b[36m \u001b[39m\u001b[32mIn[12]\u001b[39m\u001b[32m, line 7\u001b[39m\n\u001b[32m      5\u001b[39m sc.addPyFile(\u001b[33m\"\u001b[39m\u001b[33msrc.tar.gz\u001b[39m\u001b[33m\"\u001b[39m)\n\u001b[32m      6\u001b[39m sc.setLogLevel(\u001b[33m\"\u001b[39m\u001b[33mERROR\u001b[39m\u001b[33m\"\u001b[39m)\n\u001b[32m----> \u001b[39m\u001b[32m7\u001b[39m \u001b[43msc\u001b[49m\u001b[43m.\u001b[49m\u001b[43maddPyFile\u001b[49m\u001b[43m(\u001b[49m\u001b[33;43m\"\u001b[39;49m\u001b[33;43mkmeans.py\u001b[39;49m\u001b[33;43m\"\u001b[39;49m\u001b[43m)\u001b[49m\n\u001b[32m      8\u001b[39m sc.addPyFile(\u001b[33m\"\u001b[39m\u001b[33mutils.py\u001b[39m\u001b[33m\"\u001b[39m) \n\u001b[32m      9\u001b[39m \u001b[38;5;66;03m# Setup the spark warnings\u001b[39;00m\n",
      "\u001b[36mFile \u001b[39m\u001b[32m/usr/local/spark/python/pyspark/context.py:1938\u001b[39m, in \u001b[36mSparkContext.addPyFile\u001b[39m\u001b[34m(self, path)\u001b[39m\n\u001b[32m   1916\u001b[39m \u001b[38;5;28;01mdef\u001b[39;00m\u001b[38;5;250m \u001b[39m\u001b[34maddPyFile\u001b[39m(\u001b[38;5;28mself\u001b[39m, path: \u001b[38;5;28mstr\u001b[39m) -> \u001b[38;5;28;01mNone\u001b[39;00m:\n\u001b[32m   1917\u001b[39m \u001b[38;5;250m    \u001b[39m\u001b[33;03m\"\"\"\u001b[39;00m\n\u001b[32m   1918\u001b[39m \u001b[33;03m    Add a .py or .zip dependency for all tasks to be executed on this\u001b[39;00m\n\u001b[32m   1919\u001b[39m \u001b[33;03m    SparkContext in the future.  The `path` passed can be either a local\u001b[39;00m\n\u001b[32m   (...)\u001b[39m\u001b[32m   1936\u001b[39m \u001b[33;03m    A path can be added only once. Subsequent additions of the same path are ignored.\u001b[39;00m\n\u001b[32m   1937\u001b[39m \u001b[33;03m    \"\"\"\u001b[39;00m\n\u001b[32m-> \u001b[39m\u001b[32m1938\u001b[39m     \u001b[38;5;28;43mself\u001b[39;49m\u001b[43m.\u001b[49m\u001b[43maddFile\u001b[49m\u001b[43m(\u001b[49m\u001b[43mpath\u001b[49m\u001b[43m)\u001b[49m\n\u001b[32m   1939\u001b[39m     (dirname, filename) = os.path.split(path)  \u001b[38;5;66;03m# dirname may be directory or HDFS/S3 prefix\u001b[39;00m\n\u001b[32m   1940\u001b[39m     \u001b[38;5;28;01mif\u001b[39;00m filename[-\u001b[32m4\u001b[39m:].lower() \u001b[38;5;129;01min\u001b[39;00m \u001b[38;5;28mself\u001b[39m.PACKAGE_EXTENSIONS:\n",
      "\u001b[36mFile \u001b[39m\u001b[32m/usr/local/spark/python/pyspark/context.py:1898\u001b[39m, in \u001b[36mSparkContext.addFile\u001b[39m\u001b[34m(self, path, recursive)\u001b[39m\n\u001b[32m   1823\u001b[39m \u001b[38;5;28;01mdef\u001b[39;00m\u001b[38;5;250m \u001b[39m\u001b[34maddFile\u001b[39m(\u001b[38;5;28mself\u001b[39m, path: \u001b[38;5;28mstr\u001b[39m, recursive: \u001b[38;5;28mbool\u001b[39m = \u001b[38;5;28;01mFalse\u001b[39;00m) -> \u001b[38;5;28;01mNone\u001b[39;00m:\n\u001b[32m   1824\u001b[39m \u001b[38;5;250m    \u001b[39m\u001b[33;03m\"\"\"\u001b[39;00m\n\u001b[32m   1825\u001b[39m \u001b[33;03m    Add a file to be downloaded with this Spark job on every node.\u001b[39;00m\n\u001b[32m   1826\u001b[39m \u001b[33;03m    The `path` passed can be either a local file, a file in HDFS\u001b[39;00m\n\u001b[32m   (...)\u001b[39m\u001b[32m   1896\u001b[39m \u001b[33;03m    [100, 200, 300, 400]\u001b[39;00m\n\u001b[32m   1897\u001b[39m \u001b[33;03m    \"\"\"\u001b[39;00m\n\u001b[32m-> \u001b[39m\u001b[32m1898\u001b[39m     \u001b[38;5;28;43mself\u001b[39;49m\u001b[43m.\u001b[49m\u001b[43m_jsc\u001b[49m\u001b[43m.\u001b[49m\u001b[43msc\u001b[49m\u001b[43m(\u001b[49m\u001b[43m)\u001b[49m\u001b[43m.\u001b[49m\u001b[43maddFile\u001b[49m\u001b[43m(\u001b[49m\u001b[43mpath\u001b[49m\u001b[43m,\u001b[49m\u001b[43m \u001b[49m\u001b[43mrecursive\u001b[49m\u001b[43m)\u001b[49m\n",
      "\u001b[36mFile \u001b[39m\u001b[32m/usr/local/spark/python/lib/py4j-0.10.9.7-src.zip/py4j/java_gateway.py:1322\u001b[39m, in \u001b[36mJavaMember.__call__\u001b[39m\u001b[34m(self, *args)\u001b[39m\n\u001b[32m   1316\u001b[39m command = proto.CALL_COMMAND_NAME +\\\n\u001b[32m   1317\u001b[39m     \u001b[38;5;28mself\u001b[39m.command_header +\\\n\u001b[32m   1318\u001b[39m     args_command +\\\n\u001b[32m   1319\u001b[39m     proto.END_COMMAND_PART\n\u001b[32m   1321\u001b[39m answer = \u001b[38;5;28mself\u001b[39m.gateway_client.send_command(command)\n\u001b[32m-> \u001b[39m\u001b[32m1322\u001b[39m return_value = \u001b[43mget_return_value\u001b[49m\u001b[43m(\u001b[49m\n\u001b[32m   1323\u001b[39m \u001b[43m    \u001b[49m\u001b[43manswer\u001b[49m\u001b[43m,\u001b[49m\u001b[43m \u001b[49m\u001b[38;5;28;43mself\u001b[39;49m\u001b[43m.\u001b[49m\u001b[43mgateway_client\u001b[49m\u001b[43m,\u001b[49m\u001b[43m \u001b[49m\u001b[38;5;28;43mself\u001b[39;49m\u001b[43m.\u001b[49m\u001b[43mtarget_id\u001b[49m\u001b[43m,\u001b[49m\u001b[43m \u001b[49m\u001b[38;5;28;43mself\u001b[39;49m\u001b[43m.\u001b[49m\u001b[43mname\u001b[49m\u001b[43m)\u001b[49m\n\u001b[32m   1325\u001b[39m \u001b[38;5;28;01mfor\u001b[39;00m temp_arg \u001b[38;5;129;01min\u001b[39;00m temp_args:\n\u001b[32m   1326\u001b[39m     \u001b[38;5;28;01mif\u001b[39;00m \u001b[38;5;28mhasattr\u001b[39m(temp_arg, \u001b[33m\"\u001b[39m\u001b[33m_detach\u001b[39m\u001b[33m\"\u001b[39m):\n",
      "\u001b[36mFile \u001b[39m\u001b[32m/usr/local/spark/python/pyspark/errors/exceptions/captured.py:179\u001b[39m, in \u001b[36mcapture_sql_exception.<locals>.deco\u001b[39m\u001b[34m(*a, **kw)\u001b[39m\n\u001b[32m    177\u001b[39m \u001b[38;5;28;01mdef\u001b[39;00m\u001b[38;5;250m \u001b[39m\u001b[34mdeco\u001b[39m(*a: Any, **kw: Any) -> Any:\n\u001b[32m    178\u001b[39m     \u001b[38;5;28;01mtry\u001b[39;00m:\n\u001b[32m--> \u001b[39m\u001b[32m179\u001b[39m         \u001b[38;5;28;01mreturn\u001b[39;00m \u001b[43mf\u001b[49m\u001b[43m(\u001b[49m\u001b[43m*\u001b[49m\u001b[43ma\u001b[49m\u001b[43m,\u001b[49m\u001b[43m \u001b[49m\u001b[43m*\u001b[49m\u001b[43m*\u001b[49m\u001b[43mkw\u001b[49m\u001b[43m)\u001b[49m\n\u001b[32m    180\u001b[39m     \u001b[38;5;28;01mexcept\u001b[39;00m Py4JJavaError \u001b[38;5;28;01mas\u001b[39;00m e:\n\u001b[32m    181\u001b[39m         converted = convert_exception(e.java_exception)\n",
      "\u001b[36mFile \u001b[39m\u001b[32m/usr/local/spark/python/lib/py4j-0.10.9.7-src.zip/py4j/protocol.py:326\u001b[39m, in \u001b[36mget_return_value\u001b[39m\u001b[34m(answer, gateway_client, target_id, name)\u001b[39m\n\u001b[32m    324\u001b[39m value = OUTPUT_CONVERTER[\u001b[38;5;28mtype\u001b[39m](answer[\u001b[32m2\u001b[39m:], gateway_client)\n\u001b[32m    325\u001b[39m \u001b[38;5;28;01mif\u001b[39;00m answer[\u001b[32m1\u001b[39m] == REFERENCE_TYPE:\n\u001b[32m--> \u001b[39m\u001b[32m326\u001b[39m     \u001b[38;5;28;01mraise\u001b[39;00m Py4JJavaError(\n\u001b[32m    327\u001b[39m         \u001b[33m\"\u001b[39m\u001b[33mAn error occurred while calling \u001b[39m\u001b[38;5;132;01m{0}\u001b[39;00m\u001b[38;5;132;01m{1}\u001b[39;00m\u001b[38;5;132;01m{2}\u001b[39;00m\u001b[33m.\u001b[39m\u001b[38;5;130;01m\\n\u001b[39;00m\u001b[33m\"\u001b[39m.\n\u001b[32m    328\u001b[39m         \u001b[38;5;28mformat\u001b[39m(target_id, \u001b[33m\"\u001b[39m\u001b[33m.\u001b[39m\u001b[33m\"\u001b[39m, name), value)\n\u001b[32m    329\u001b[39m \u001b[38;5;28;01melse\u001b[39;00m:\n\u001b[32m    330\u001b[39m     \u001b[38;5;28;01mraise\u001b[39;00m Py4JError(\n\u001b[32m    331\u001b[39m         \u001b[33m\"\u001b[39m\u001b[33mAn error occurred while calling \u001b[39m\u001b[38;5;132;01m{0}\u001b[39;00m\u001b[38;5;132;01m{1}\u001b[39;00m\u001b[38;5;132;01m{2}\u001b[39;00m\u001b[33m. Trace:\u001b[39m\u001b[38;5;130;01m\\n\u001b[39;00m\u001b[38;5;132;01m{3}\u001b[39;00m\u001b[38;5;130;01m\\n\u001b[39;00m\u001b[33m\"\u001b[39m.\n\u001b[32m    332\u001b[39m         \u001b[38;5;28mformat\u001b[39m(target_id, \u001b[33m\"\u001b[39m\u001b[33m.\u001b[39m\u001b[33m\"\u001b[39m, name, value))\n",
      "\u001b[31mPy4JJavaError\u001b[39m: An error occurred while calling o722.addFile.\n: java.io.FileNotFoundException: File file:/home/ubuntu/Distributed-K-means/kmeans.py does not exist\n\tat org.apache.hadoop.fs.RawLocalFileSystem.deprecatedGetFileStatus(RawLocalFileSystem.java:779)\n\tat org.apache.hadoop.fs.RawLocalFileSystem.getFileLinkStatusInternal(RawLocalFileSystem.java:1100)\n\tat org.apache.hadoop.fs.RawLocalFileSystem.getFileStatus(RawLocalFileSystem.java:769)\n\tat org.apache.hadoop.fs.FilterFileSystem.getFileStatus(FilterFileSystem.java:462)\n\tat org.apache.spark.SparkContext.addFile(SparkContext.scala:1750)\n\tat org.apache.spark.SparkContext.addFile(SparkContext.scala:1728)\n\tat java.base/jdk.internal.reflect.NativeMethodAccessorImpl.invoke0(Native Method)\n\tat java.base/jdk.internal.reflect.NativeMethodAccessorImpl.invoke(NativeMethodAccessorImpl.java:77)\n\tat java.base/jdk.internal.reflect.DelegatingMethodAccessorImpl.invoke(DelegatingMethodAccessorImpl.java:43)\n\tat java.base/java.lang.reflect.Method.invoke(Method.java:569)\n\tat py4j.reflection.MethodInvoker.invoke(MethodInvoker.java:244)\n\tat py4j.reflection.ReflectionEngine.invoke(ReflectionEngine.java:374)\n\tat py4j.Gateway.invoke(Gateway.java:282)\n\tat py4j.commands.AbstractCommand.invokeMethod(AbstractCommand.java:132)\n\tat py4j.commands.CallCommand.execute(CallCommand.java:79)\n\tat py4j.ClientServerConnection.waitForCommands(ClientServerConnection.java:182)\n\tat py4j.ClientServerConnection.run(ClientServerConnection.java:106)\n\tat java.base/java.lang.Thread.run(Thread.java:840)\n"
     ]
    }
   ],
   "source": [
    "# creating a sparkSession\n",
    "spark = sparkSetup(\"kMeans\")\n",
    "sc = spark.sparkContext\n",
    "# exporting the src module\n",
    "sc.addPyFile(\"src.tar.gz\")\n",
    "sc.setLogLevel(\"ERROR\")\n",
    "sc.addPyFile(\"kmeans.py\")\n",
    "sc.addPyFile(\"utils.py\") \n",
    "# Setup the spark warnings\n",
    "log4j_conf_path = \"./Settings//log4j.properties\"\n",
    "warnings.filterwarnings(\"ignore\") \n",
    "logging.getLogger('py4j').setLevel(logging.ERROR) \n",
    "logging.getLogger('pyspark').setLevel(logging.ERROR) "
   ]
  },
  {
   "cell_type": "markdown",
   "id": "e086be1b",
   "metadata": {},
   "source": [
    "Loading the dataset"
   ]
  },
  {
   "cell_type": "code",
   "execution_count": 6,
   "id": "3e68db5e",
   "metadata": {},
   "outputs": [],
   "source": [
    "kdd_data, kdd_labels, entries_dict = kddSetup(standardize=True)"
   ]
  },
  {
   "cell_type": "code",
   "execution_count": 7,
   "id": "9bb0b658",
   "metadata": {},
   "outputs": [],
   "source": [
    "k = np.unique(kdd_labels).shape[0]\n",
    "l = 0.5 * k"
   ]
  },
  {
   "cell_type": "code",
   "execution_count": 8,
   "id": "4493579f",
   "metadata": {},
   "outputs": [
    {
     "name": "stderr",
     "output_type": "stream",
     "text": [
      "25/09/12 14:02:33 WARN TaskSetManager: Stage 0 contains a task of very large size (5682 KiB). The maximum recommended task size is 1000 KiB.\n",
      "25/09/12 14:02:36 WARN TaskSetManager: Stage 1 contains a task of very large size (5682 KiB). The maximum recommended task size is 1000 KiB.\n",
      "25/09/12 14:02:36 WARN TaskSetManager: Stage 2 contains a task of very large size (5682 KiB). The maximum recommended task size is 1000 KiB.\n",
      "25/09/12 14:02:38 WARN TaskSetManager: Stage 3 contains a task of very large size (5682 KiB). The maximum recommended task size is 1000 KiB.\n",
      "25/09/12 14:02:38 WARN TaskSetManager: Stage 4 contains a task of very large size (5682 KiB). The maximum recommended task size is 1000 KiB.\n",
      "25/09/12 14:02:40 WARN TaskSetManager: Stage 5 contains a task of very large size (5682 KiB). The maximum recommended task size is 1000 KiB.\n",
      "25/09/12 14:02:40 WARN TaskSetManager: Stage 6 contains a task of very large size (5682 KiB). The maximum recommended task size is 1000 KiB.\n",
      "25/09/12 14:02:42 WARN TaskSetManager: Stage 7 contains a task of very large size (5682 KiB). The maximum recommended task size is 1000 KiB.\n",
      "25/09/12 14:02:43 WARN TaskSetManager: Stage 8 contains a task of very large size (5682 KiB). The maximum recommended task size is 1000 KiB.\n",
      "25/09/12 14:02:44 WARN TaskSetManager: Stage 9 contains a task of very large size (5682 KiB). The maximum recommended task size is 1000 KiB.\n",
      "25/09/12 14:02:45 WARN TaskSetManager: Stage 10 contains a task of very large size (5682 KiB). The maximum recommended task size is 1000 KiB.\n",
      "25/09/12 14:02:46 WARN TaskSetManager: Stage 11 contains a task of very large size (5682 KiB). The maximum recommended task size is 1000 KiB.\n",
      "25/09/12 14:02:47 WARN TaskSetManager: Stage 12 contains a task of very large size (5682 KiB). The maximum recommended task size is 1000 KiB.\n",
      "25/09/12 14:02:48 WARN TaskSetManager: Stage 13 contains a task of very large size (5682 KiB). The maximum recommended task size is 1000 KiB.\n",
      "25/09/12 14:02:48 WARN TaskSetManager: Stage 14 contains a task of very large size (5682 KiB). The maximum recommended task size is 1000 KiB.\n",
      "25/09/12 14:02:50 WARN TaskSetManager: Stage 15 contains a task of very large size (5682 KiB). The maximum recommended task size is 1000 KiB.\n",
      "25/09/12 14:02:50 WARN TaskSetManager: Stage 16 contains a task of very large size (5682 KiB). The maximum recommended task size is 1000 KiB.\n",
      "25/09/12 14:02:51 WARN TaskSetManager: Stage 17 contains a task of very large size (5682 KiB). The maximum recommended task size is 1000 KiB.\n",
      "25/09/12 14:02:52 WARN TaskSetManager: Stage 18 contains a task of very large size (5682 KiB). The maximum recommended task size is 1000 KiB.\n",
      "25/09/12 14:02:53 WARN TaskSetManager: Stage 19 contains a task of very large size (5682 KiB). The maximum recommended task size is 1000 KiB.\n",
      "25/09/12 14:02:54 WARN TaskSetManager: Stage 20 contains a task of very large size (5682 KiB). The maximum recommended task size is 1000 KiB.\n",
      "25/09/12 14:02:55 WARN TaskSetManager: Stage 21 contains a task of very large size (5682 KiB). The maximum recommended task size is 1000 KiB.\n",
      "25/09/12 14:02:56 WARN TaskSetManager: Stage 22 contains a task of very large size (5682 KiB). The maximum recommended task size is 1000 KiB.\n",
      "25/09/12 14:02:57 WARN TaskSetManager: Stage 23 contains a task of very large size (5682 KiB). The maximum recommended task size is 1000 KiB.\n",
      "25/09/12 14:02:58 WARN TaskSetManager: Stage 24 contains a task of very large size (5682 KiB). The maximum recommended task size is 1000 KiB.\n",
      "25/09/12 14:02:59 WARN TaskSetManager: Stage 25 contains a task of very large size (5682 KiB). The maximum recommended task size is 1000 KiB.\n",
      "25/09/12 14:02:59 WARN TaskSetManager: Stage 26 contains a task of very large size (5682 KiB). The maximum recommended task size is 1000 KiB.\n",
      "25/09/12 14:03:01 WARN TaskSetManager: Stage 27 contains a task of very large size (5682 KiB). The maximum recommended task size is 1000 KiB.\n",
      "25/09/12 14:03:01 WARN TaskSetManager: Stage 28 contains a task of very large size (5682 KiB). The maximum recommended task size is 1000 KiB.\n",
      "25/09/12 14:03:03 WARN TaskSetManager: Stage 29 contains a task of very large size (5682 KiB). The maximum recommended task size is 1000 KiB.\n",
      "25/09/12 14:03:03 WARN TaskSetManager: Stage 30 contains a task of very large size (5682 KiB). The maximum recommended task size is 1000 KiB.\n",
      "25/09/12 14:03:05 WARN TaskSetManager: Stage 31 contains a task of very large size (5682 KiB). The maximum recommended task size is 1000 KiB.\n",
      "25/09/12 14:03:05 WARN TaskSetManager: Stage 32 contains a task of very large size (5682 KiB). The maximum recommended task size is 1000 KiB.\n",
      "25/09/12 14:03:07 WARN TaskSetManager: Stage 33 contains a task of very large size (5682 KiB). The maximum recommended task size is 1000 KiB.\n",
      "25/09/12 14:03:07 WARN TaskSetManager: Stage 34 contains a task of very large size (5682 KiB). The maximum recommended task size is 1000 KiB.\n",
      "25/09/12 14:03:09 WARN TaskSetManager: Stage 35 contains a task of very large size (5682 KiB). The maximum recommended task size is 1000 KiB.\n",
      "25/09/12 14:03:09 WARN TaskSetManager: Stage 36 contains a task of very large size (5682 KiB). The maximum recommended task size is 1000 KiB.\n",
      "25/09/12 14:03:11 WARN TaskSetManager: Stage 37 contains a task of very large size (5682 KiB). The maximum recommended task size is 1000 KiB.\n",
      "                                                                                \r"
     ]
    },
    {
     "data": {
      "text/plain": [
       "ParallelCollectionRDD[0] at readRDDFromFile at PythonRDD.scala:289"
      ]
     },
     "execution_count": 8,
     "metadata": {},
     "output_type": "execute_result"
    }
   ],
   "source": [
    "data_rdd = sc.parallelize([row for row in kdd_data]).persist()\n",
    "centroids = kMeansParallel_init(data_rdd, k, l)\n",
    "data_rdd.unpersist()"
   ]
  },
  {
   "cell_type": "code",
   "execution_count": 9,
   "id": "5ff3e80d",
   "metadata": {},
   "outputs": [],
   "source": [
    "time_dict = {}"
   ]
  },
  {
   "cell_type": "markdown",
   "id": "43b73df2",
   "metadata": {},
   "source": [
    "Lloyd's kMeans serial"
   ]
  },
  {
   "cell_type": "code",
   "execution_count": 10,
   "id": "2cfa59fe",
   "metadata": {},
   "outputs": [],
   "source": [
    "start_time = time.time()\n",
    "final_centroids = lloydKMeans(kdd_data, centroids, epochs = 10)\n",
    "delta_time = time.time() - start_time\n",
    "time_dict[1] = {\"lloyd\": delta_time}"
   ]
  },
  {
   "cell_type": "markdown",
   "id": "db70758a",
   "metadata": {},
   "source": [
    "Parallel"
   ]
  },
  {
   "cell_type": "code",
   "execution_count": 11,
   "id": "be94e0a4",
   "metadata": {},
   "outputs": [
    {
     "name": "stderr",
     "output_type": "stream",
     "text": [
      "25/09/12 14:03:54 WARN TaskSetManager: Stage 38 contains a task of very large size (45590 KiB). The maximum recommended task size is 1000 KiB.\n",
      "25/09/12 14:03:57 WARN TaskSetManager: Stage 40 contains a task of very large size (45590 KiB). The maximum recommended task size is 1000 KiB.\n",
      "25/09/12 14:04:00 WARN TaskSetManager: Stage 42 contains a task of very large size (45590 KiB). The maximum recommended task size is 1000 KiB.\n",
      "25/09/12 14:04:03 WARN TaskSetManager: Stage 44 contains a task of very large size (45673 KiB). The maximum recommended task size is 1000 KiB.\n",
      "25/09/12 14:04:06 WARN TaskSetManager: Stage 46 contains a task of very large size (45590 KiB). The maximum recommended task size is 1000 KiB.\n",
      "25/09/12 14:04:09 WARN TaskSetManager: Stage 48 contains a task of very large size (45673 KiB). The maximum recommended task size is 1000 KiB.\n",
      "25/09/12 14:04:12 WARN TaskSetManager: Stage 50 contains a task of very large size (45590 KiB). The maximum recommended task size is 1000 KiB.\n",
      "25/09/12 14:04:15 WARN TaskSetManager: Stage 52 contains a task of very large size (45590 KiB). The maximum recommended task size is 1000 KiB.\n",
      "25/09/12 14:04:18 WARN TaskSetManager: Stage 54 contains a task of very large size (45673 KiB). The maximum recommended task size is 1000 KiB.\n",
      "25/09/12 14:04:21 WARN TaskSetManager: Stage 56 contains a task of very large size (45590 KiB). The maximum recommended task size is 1000 KiB.\n",
      "25/09/12 14:04:24 WARN TaskSetManager: Stage 58 contains a task of very large size (45590 KiB). The maximum recommended task size is 1000 KiB.\n",
      "25/09/12 14:04:25 WARN TaskSetManager: Stage 60 contains a task of very large size (45590 KiB). The maximum recommended task size is 1000 KiB.\n",
      "25/09/12 14:04:27 WARN TaskSetManager: Stage 62 contains a task of very large size (45673 KiB). The maximum recommended task size is 1000 KiB.\n",
      "25/09/12 14:04:28 WARN TaskSetManager: Stage 64 contains a task of very large size (45673 KiB). The maximum recommended task size is 1000 KiB.\n",
      "25/09/12 14:04:29 WARN TaskSetManager: Stage 66 contains a task of very large size (45673 KiB). The maximum recommended task size is 1000 KiB.\n",
      "25/09/12 14:04:30 WARN TaskSetManager: Stage 68 contains a task of very large size (45673 KiB). The maximum recommended task size is 1000 KiB.\n",
      "25/09/12 14:04:31 WARN TaskSetManager: Stage 70 contains a task of very large size (45590 KiB). The maximum recommended task size is 1000 KiB.\n",
      "25/09/12 14:04:32 WARN TaskSetManager: Stage 72 contains a task of very large size (45673 KiB). The maximum recommended task size is 1000 KiB.\n",
      "25/09/12 14:04:33 WARN TaskSetManager: Stage 74 contains a task of very large size (45590 KiB). The maximum recommended task size is 1000 KiB.\n",
      "25/09/12 14:04:34 WARN TaskSetManager: Stage 76 contains a task of very large size (45673 KiB). The maximum recommended task size is 1000 KiB.\n",
      "25/09/12 14:04:38 WARN TaskSetManager: Stage 78 contains a task of very large size (22704 KiB). The maximum recommended task size is 1000 KiB.\n",
      "25/09/12 14:04:40 WARN TaskSetManager: Stage 80 contains a task of very large size (22894 KiB). The maximum recommended task size is 1000 KiB.\n",
      "25/09/12 14:04:43 WARN TaskSetManager: Stage 82 contains a task of very large size (22704 KiB). The maximum recommended task size is 1000 KiB.\n",
      "25/09/12 14:04:44 WARN TaskSetManager: Stage 84 contains a task of very large size (22894 KiB). The maximum recommended task size is 1000 KiB.\n",
      "25/09/12 14:04:46 WARN TaskSetManager: Stage 86 contains a task of very large size (22894 KiB). The maximum recommended task size is 1000 KiB.\n",
      "25/09/12 14:04:48 WARN TaskSetManager: Stage 88 contains a task of very large size (22894 KiB). The maximum recommended task size is 1000 KiB.\n",
      "25/09/12 14:04:50 WARN TaskSetManager: Stage 90 contains a task of very large size (22788 KiB). The maximum recommended task size is 1000 KiB.\n",
      "25/09/12 14:04:52 WARN TaskSetManager: Stage 92 contains a task of very large size (22894 KiB). The maximum recommended task size is 1000 KiB.\n",
      "25/09/12 14:04:54 WARN TaskSetManager: Stage 94 contains a task of very large size (22704 KiB). The maximum recommended task size is 1000 KiB.\n",
      "25/09/12 14:04:56 WARN TaskSetManager: Stage 96 contains a task of very large size (22894 KiB). The maximum recommended task size is 1000 KiB.\n",
      "25/09/12 14:04:57 WARN TaskSetManager: Stage 98 contains a task of very large size (22894 KiB). The maximum recommended task size is 1000 KiB.\n",
      "25/09/12 14:04:58 WARN TaskSetManager: Stage 100 contains a task of very large size (22788 KiB). The maximum recommended task size is 1000 KiB.\n",
      "25/09/12 14:04:59 WARN TaskSetManager: Stage 102 contains a task of very large size (22894 KiB). The maximum recommended task size is 1000 KiB.\n",
      "25/09/12 14:05:00 WARN TaskSetManager: Stage 104 contains a task of very large size (22894 KiB). The maximum recommended task size is 1000 KiB.\n",
      "25/09/12 14:05:01 WARN TaskSetManager: Stage 106 contains a task of very large size (22788 KiB). The maximum recommended task size is 1000 KiB.\n",
      "25/09/12 14:05:02 WARN TaskSetManager: Stage 108 contains a task of very large size (22704 KiB). The maximum recommended task size is 1000 KiB.\n",
      "25/09/12 14:05:03 WARN TaskSetManager: Stage 110 contains a task of very large size (22788 KiB). The maximum recommended task size is 1000 KiB.\n",
      "25/09/12 14:05:04 WARN TaskSetManager: Stage 112 contains a task of very large size (22894 KiB). The maximum recommended task size is 1000 KiB.\n",
      "25/09/12 14:05:04 WARN TaskSetManager: Stage 114 contains a task of very large size (22894 KiB). The maximum recommended task size is 1000 KiB.\n",
      "25/09/12 14:05:05 WARN TaskSetManager: Stage 116 contains a task of very large size (22894 KiB). The maximum recommended task size is 1000 KiB.\n",
      "25/09/12 14:05:08 WARN TaskSetManager: Stage 118 contains a task of very large size (11356 KiB). The maximum recommended task size is 1000 KiB.\n",
      "25/09/12 14:05:09 WARN TaskSetManager: Stage 120 contains a task of very large size (11356 KiB). The maximum recommended task size is 1000 KiB.\n",
      "25/09/12 14:05:11 WARN TaskSetManager: Stage 122 contains a task of very large size (11356 KiB). The maximum recommended task size is 1000 KiB.\n",
      "25/09/12 14:05:12 WARN TaskSetManager: Stage 124 contains a task of very large size (11546 KiB). The maximum recommended task size is 1000 KiB.\n",
      "25/09/12 14:05:13 WARN TaskSetManager: Stage 126 contains a task of very large size (11356 KiB). The maximum recommended task size is 1000 KiB.\n",
      "25/09/12 14:05:14 WARN TaskSetManager: Stage 128 contains a task of very large size (11356 KiB). The maximum recommended task size is 1000 KiB.\n",
      "25/09/12 14:05:15 WARN TaskSetManager: Stage 130 contains a task of very large size (11356 KiB). The maximum recommended task size is 1000 KiB.\n",
      "25/09/12 14:05:17 WARN TaskSetManager: Stage 132 contains a task of very large size (11356 KiB). The maximum recommended task size is 1000 KiB.\n",
      "25/09/12 14:05:18 WARN TaskSetManager: Stage 134 contains a task of very large size (11356 KiB). The maximum recommended task size is 1000 KiB.\n",
      "25/09/12 14:05:19 WARN TaskSetManager: Stage 136 contains a task of very large size (11356 KiB). The maximum recommended task size is 1000 KiB.\n",
      "25/09/12 14:05:20 WARN TaskSetManager: Stage 138 contains a task of very large size (11356 KiB). The maximum recommended task size is 1000 KiB.\n",
      "25/09/12 14:05:21 WARN TaskSetManager: Stage 140 contains a task of very large size (11356 KiB). The maximum recommended task size is 1000 KiB.\n",
      "25/09/12 14:05:21 WARN TaskSetManager: Stage 142 contains a task of very large size (11356 KiB). The maximum recommended task size is 1000 KiB.\n",
      "25/09/12 14:05:22 WARN TaskSetManager: Stage 144 contains a task of very large size (11356 KiB). The maximum recommended task size is 1000 KiB.\n",
      "25/09/12 14:05:23 WARN TaskSetManager: Stage 146 contains a task of very large size (11356 KiB). The maximum recommended task size is 1000 KiB.\n",
      "25/09/12 14:05:23 WARN TaskSetManager: Stage 148 contains a task of very large size (11356 KiB). The maximum recommended task size is 1000 KiB.\n",
      "25/09/12 14:05:24 WARN TaskSetManager: Stage 150 contains a task of very large size (11356 KiB). The maximum recommended task size is 1000 KiB.\n",
      "25/09/12 14:05:24 WARN TaskSetManager: Stage 152 contains a task of very large size (11356 KiB). The maximum recommended task size is 1000 KiB.\n",
      "25/09/12 14:05:25 WARN TaskSetManager: Stage 154 contains a task of very large size (11356 KiB). The maximum recommended task size is 1000 KiB.\n",
      "25/09/12 14:05:26 WARN TaskSetManager: Stage 156 contains a task of very large size (11356 KiB). The maximum recommended task size is 1000 KiB.\n",
      "25/09/12 14:05:29 WARN TaskSetManager: Stage 158 contains a task of very large size (5682 KiB). The maximum recommended task size is 1000 KiB.\n",
      "25/09/12 14:05:29 WARN TaskSetManager: Stage 160 contains a task of very large size (5682 KiB). The maximum recommended task size is 1000 KiB.\n",
      "25/09/12 14:05:30 WARN TaskSetManager: Stage 162 contains a task of very large size (5682 KiB). The maximum recommended task size is 1000 KiB.\n",
      "25/09/12 14:05:31 WARN TaskSetManager: Stage 164 contains a task of very large size (5682 KiB). The maximum recommended task size is 1000 KiB.\n",
      "25/09/12 14:05:32 WARN TaskSetManager: Stage 166 contains a task of very large size (5682 KiB). The maximum recommended task size is 1000 KiB.\n",
      "25/09/12 14:05:33 WARN TaskSetManager: Stage 168 contains a task of very large size (5682 KiB). The maximum recommended task size is 1000 KiB.\n",
      "25/09/12 14:05:33 WARN TaskSetManager: Stage 170 contains a task of very large size (5682 KiB). The maximum recommended task size is 1000 KiB.\n",
      "25/09/12 14:05:34 WARN TaskSetManager: Stage 172 contains a task of very large size (5682 KiB). The maximum recommended task size is 1000 KiB.\n",
      "25/09/12 14:05:35 WARN TaskSetManager: Stage 174 contains a task of very large size (5682 KiB). The maximum recommended task size is 1000 KiB.\n",
      "25/09/12 14:05:36 WARN TaskSetManager: Stage 176 contains a task of very large size (5682 KiB). The maximum recommended task size is 1000 KiB.\n",
      "25/09/12 14:05:37 WARN TaskSetManager: Stage 178 contains a task of very large size (5682 KiB). The maximum recommended task size is 1000 KiB.\n",
      "25/09/12 14:05:37 WARN TaskSetManager: Stage 180 contains a task of very large size (5682 KiB). The maximum recommended task size is 1000 KiB.\n",
      "25/09/12 14:05:38 WARN TaskSetManager: Stage 182 contains a task of very large size (5682 KiB). The maximum recommended task size is 1000 KiB.\n",
      "25/09/12 14:05:38 WARN TaskSetManager: Stage 184 contains a task of very large size (5682 KiB). The maximum recommended task size is 1000 KiB.\n",
      "25/09/12 14:05:39 WARN TaskSetManager: Stage 186 contains a task of very large size (5682 KiB). The maximum recommended task size is 1000 KiB.\n",
      "25/09/12 14:05:40 WARN TaskSetManager: Stage 188 contains a task of very large size (5682 KiB). The maximum recommended task size is 1000 KiB.\n",
      "25/09/12 14:05:40 WARN TaskSetManager: Stage 190 contains a task of very large size (5682 KiB). The maximum recommended task size is 1000 KiB.\n",
      "25/09/12 14:05:41 WARN TaskSetManager: Stage 192 contains a task of very large size (5682 KiB). The maximum recommended task size is 1000 KiB.\n",
      "25/09/12 14:05:41 WARN TaskSetManager: Stage 194 contains a task of very large size (5682 KiB). The maximum recommended task size is 1000 KiB.\n",
      "25/09/12 14:05:42 WARN TaskSetManager: Stage 196 contains a task of very large size (5682 KiB). The maximum recommended task size is 1000 KiB.\n",
      "25/09/12 14:05:45 WARN TaskSetManager: Stage 198 contains a task of very large size (2845 KiB). The maximum recommended task size is 1000 KiB.\n",
      "25/09/12 14:05:46 WARN TaskSetManager: Stage 200 contains a task of very large size (2845 KiB). The maximum recommended task size is 1000 KiB.\n",
      "25/09/12 14:05:47 WARN TaskSetManager: Stage 202 contains a task of very large size (2845 KiB). The maximum recommended task size is 1000 KiB.\n",
      "25/09/12 14:05:48 WARN TaskSetManager: Stage 204 contains a task of very large size (2845 KiB). The maximum recommended task size is 1000 KiB.\n",
      "25/09/12 14:05:49 WARN TaskSetManager: Stage 206 contains a task of very large size (2845 KiB). The maximum recommended task size is 1000 KiB.\n",
      "25/09/12 14:05:50 WARN TaskSetManager: Stage 208 contains a task of very large size (2845 KiB). The maximum recommended task size is 1000 KiB.\n",
      "25/09/12 14:05:51 WARN TaskSetManager: Stage 210 contains a task of very large size (2845 KiB). The maximum recommended task size is 1000 KiB.\n",
      "25/09/12 14:05:52 WARN TaskSetManager: Stage 212 contains a task of very large size (2845 KiB). The maximum recommended task size is 1000 KiB.\n",
      "25/09/12 14:05:53 WARN TaskSetManager: Stage 214 contains a task of very large size (2845 KiB). The maximum recommended task size is 1000 KiB.\n",
      "25/09/12 14:05:53 WARN TaskSetManager: Stage 216 contains a task of very large size (2845 KiB). The maximum recommended task size is 1000 KiB.\n",
      "25/09/12 14:05:54 WARN TaskSetManager: Stage 218 contains a task of very large size (2845 KiB). The maximum recommended task size is 1000 KiB.\n",
      "25/09/12 14:05:55 WARN TaskSetManager: Stage 220 contains a task of very large size (2845 KiB). The maximum recommended task size is 1000 KiB.\n",
      "25/09/12 14:05:56 WARN TaskSetManager: Stage 222 contains a task of very large size (2845 KiB). The maximum recommended task size is 1000 KiB.\n",
      "25/09/12 14:05:56 WARN TaskSetManager: Stage 224 contains a task of very large size (2845 KiB). The maximum recommended task size is 1000 KiB.\n",
      "25/09/12 14:05:57 WARN TaskSetManager: Stage 226 contains a task of very large size (2845 KiB). The maximum recommended task size is 1000 KiB.\n",
      "25/09/12 14:05:58 WARN TaskSetManager: Stage 228 contains a task of very large size (2845 KiB). The maximum recommended task size is 1000 KiB.\n",
      "25/09/12 14:05:58 WARN TaskSetManager: Stage 230 contains a task of very large size (2845 KiB). The maximum recommended task size is 1000 KiB.\n",
      "25/09/12 14:05:59 WARN TaskSetManager: Stage 232 contains a task of very large size (2845 KiB). The maximum recommended task size is 1000 KiB.\n",
      "25/09/12 14:06:00 WARN TaskSetManager: Stage 234 contains a task of very large size (2845 KiB). The maximum recommended task size is 1000 KiB.\n",
      "25/09/12 14:06:00 WARN TaskSetManager: Stage 236 contains a task of very large size (2845 KiB). The maximum recommended task size is 1000 KiB.\n",
      "25/09/12 14:06:03 WARN TaskSetManager: Stage 238 contains a task of very large size (1332 KiB). The maximum recommended task size is 1000 KiB.\n",
      "25/09/12 14:06:05 WARN TaskSetManager: Stage 240 contains a task of very large size (1522 KiB). The maximum recommended task size is 1000 KiB.\n",
      "25/09/12 14:06:06 WARN TaskSetManager: Stage 242 contains a task of very large size (1332 KiB). The maximum recommended task size is 1000 KiB.\n",
      "25/09/12 14:06:07 WARN TaskSetManager: Stage 244 contains a task of very large size (1332 KiB). The maximum recommended task size is 1000 KiB.\n",
      "25/09/12 14:06:08 WARN TaskSetManager: Stage 246 contains a task of very large size (1332 KiB). The maximum recommended task size is 1000 KiB.\n",
      "25/09/12 14:06:09 WARN TaskSetManager: Stage 248 contains a task of very large size (1332 KiB). The maximum recommended task size is 1000 KiB.\n",
      "25/09/12 14:06:11 WARN TaskSetManager: Stage 250 contains a task of very large size (1332 KiB). The maximum recommended task size is 1000 KiB.\n",
      "25/09/12 14:06:12 WARN TaskSetManager: Stage 252 contains a task of very large size (1522 KiB). The maximum recommended task size is 1000 KiB.\n",
      "25/09/12 14:06:13 WARN TaskSetManager: Stage 254 contains a task of very large size (1522 KiB). The maximum recommended task size is 1000 KiB.\n",
      "25/09/12 14:06:14 WARN TaskSetManager: Stage 256 contains a task of very large size (1522 KiB). The maximum recommended task size is 1000 KiB.\n",
      "25/09/12 14:06:15 WARN TaskSetManager: Stage 258 contains a task of very large size (1522 KiB). The maximum recommended task size is 1000 KiB.\n",
      "25/09/12 14:06:16 WARN TaskSetManager: Stage 260 contains a task of very large size (1522 KiB). The maximum recommended task size is 1000 KiB.\n",
      "25/09/12 14:06:17 WARN TaskSetManager: Stage 262 contains a task of very large size (1522 KiB). The maximum recommended task size is 1000 KiB.\n",
      "25/09/12 14:06:18 WARN TaskSetManager: Stage 264 contains a task of very large size (1522 KiB). The maximum recommended task size is 1000 KiB.\n",
      "25/09/12 14:06:19 WARN TaskSetManager: Stage 266 contains a task of very large size (1332 KiB). The maximum recommended task size is 1000 KiB.\n",
      "25/09/12 14:06:20 WARN TaskSetManager: Stage 268 contains a task of very large size (1332 KiB). The maximum recommended task size is 1000 KiB.\n",
      "25/09/12 14:06:21 WARN TaskSetManager: Stage 270 contains a task of very large size (1522 KiB). The maximum recommended task size is 1000 KiB.\n",
      "25/09/12 14:06:21 WARN TaskSetManager: Stage 272 contains a task of very large size (1332 KiB). The maximum recommended task size is 1000 KiB.\n",
      "25/09/12 14:06:22 WARN TaskSetManager: Stage 274 contains a task of very large size (1522 KiB). The maximum recommended task size is 1000 KiB.\n",
      "25/09/12 14:06:23 WARN TaskSetManager: Stage 276 contains a task of very large size (1332 KiB). The maximum recommended task size is 1000 KiB.\n",
      "                                                                                \r"
     ]
    }
   ],
   "source": [
    "partitions = [2, 4, 8, 16, 32, 64, 128]\n",
    "for numSlices in partitions:\n",
    "    time_dict[numSlices] = {}\n",
    "    data_rdd = sc.parallelize([row for row in kdd_data], numSlices=numSlices).persist()\n",
    "    \n",
    "    start_time = time.time()\n",
    "    final_centroids = lloydKMeans(data_rdd, centroids, epochs = 10)\n",
    "    delta_time = time.time() - start_time\n",
    "    time_dict[numSlices][\"lloyd\"] = delta_time\n",
    "\n",
    "    start_time = time.time()\n",
    "    final_centroids = miniBatchKMeans(data_rdd, centroids, epochs = 10)\n",
    "    delta_time = time.time() - start_time\n",
    "    time_dict[numSlices][\"miniBatch\"] = delta_time\n",
    "    \n",
    "    data_rdd.unpersist()"
   ]
  },
  {
   "cell_type": "code",
   "execution_count": 12,
   "id": "018ba462",
   "metadata": {},
   "outputs": [
    {
     "data": {
      "text/plain": [
       "{1: {'lloyd': 22.632549047470093},\n",
       " 2: {'lloyd': 30.550265550613403, 'miniBatch': 11.384488105773926},\n",
       " 4: {'lloyd': 19.4558002948761, 'miniBatch': 8.661375284194946},\n",
       " 8: {'lloyd': 11.948050737380981, 'miniBatch': 6.0729289054870605},\n",
       " 16: {'lloyd': 8.140554904937744, 'miniBatch': 5.756534099578857},\n",
       " 32: {'lloyd': 9.793381929397583, 'miniBatch': 6.788220167160034},\n",
       " 64: {'lloyd': 11.758658647537231, 'miniBatch': 9.278021097183228},\n",
       " 128: {'lloyd': 16.789658069610596, 'miniBatch': 13.773572206497192}}"
      ]
     },
     "execution_count": 12,
     "metadata": {},
     "output_type": "execute_result"
    }
   ],
   "source": [
    "time_dict"
   ]
  },
  {
   "cell_type": "markdown",
   "id": "2ba66583",
   "metadata": {},
   "source": [
    "### Cost vs iterations\n"
   ]
  },
  {
   "cell_type": "code",
   "execution_count": 35,
   "id": "4fde6a47",
   "metadata": {},
   "outputs": [],
   "source": [
    "iterations = np.linspace(10,50,5, dtype=int)\n",
    "results_dict = {\"lloyd_serial\":np.zeros(len(iterations)), \"lloyd_parallel\":np.zeros(len(iterations)), \"minibatch\":np.zeros(len(iterations))}"
   ]
  },
  {
   "cell_type": "code",
   "execution_count": null,
   "id": "7d72960b",
   "metadata": {},
   "outputs": [
    {
     "name": "stdout",
     "output_type": "stream",
     "text": [
      "lloyd_serial\n",
      "running for 10 iterations...\n"
     ]
    },
    {
     "name": "stderr",
     "output_type": "stream",
     "text": [
      "[Stage 40:=>              (1 + 15) / 16][Stage 42:====>           (4 + 11) / 16]\r"
     ]
    },
    {
     "name": "stdout",
     "output_type": "stream",
     "text": [
      "running for 20 iterations...\n"
     ]
    },
    {
     "name": "stderr",
     "output_type": "stream",
     "text": [
      "[Stage 40:=>              (1 + 15) / 16][Stage 42:====>           (4 + 11) / 16]\r"
     ]
    },
    {
     "name": "stdout",
     "output_type": "stream",
     "text": [
      "running for 30 iterations...\n"
     ]
    },
    {
     "name": "stderr",
     "output_type": "stream",
     "text": [
      "[Stage 40:=>              (1 + 15) / 16][Stage 42:====>           (4 + 11) / 16]\r"
     ]
    },
    {
     "name": "stdout",
     "output_type": "stream",
     "text": [
      "running for 40 iterations...\n"
     ]
    },
    {
     "name": "stderr",
     "output_type": "stream",
     "text": [
      "[Stage 40:=>              (1 + 15) / 16][Stage 42:====>           (4 + 11) / 16]\r"
     ]
    },
    {
     "name": "stdout",
     "output_type": "stream",
     "text": [
      "running for 50 iterations...\n"
     ]
    },
    {
     "ename": "KeyboardInterrupt",
     "evalue": "",
     "output_type": "error",
     "traceback": [
      "\u001b[31m---------------------------------------------------------------------------\u001b[39m",
      "\u001b[31mKeyboardInterrupt\u001b[39m                         Traceback (most recent call last)",
      "\u001b[36mCell\u001b[39m\u001b[36m \u001b[39m\u001b[32mIn[36]\u001b[39m\u001b[32m, line 6\u001b[39m\n\u001b[32m      4\u001b[39m \u001b[38;5;28mprint\u001b[39m(\u001b[33mf\u001b[39m\u001b[33m\"\u001b[39m\u001b[33mrunning for \u001b[39m\u001b[38;5;132;01m{\u001b[39;00miterations[i]\u001b[38;5;132;01m}\u001b[39;00m\u001b[33m iterations...\u001b[39m\u001b[33m\"\u001b[39m)\n\u001b[32m      5\u001b[39m \u001b[38;5;28;01mif\u001b[39;00m key == \u001b[33m'\u001b[39m\u001b[33mlloyd_serial\u001b[39m\u001b[33m'\u001b[39m:\n\u001b[32m----> \u001b[39m\u001b[32m6\u001b[39m     final_centroids = \u001b[43mlloydKMeans\u001b[49m\u001b[43m(\u001b[49m\u001b[43mkdd_data\u001b[49m\u001b[43m,\u001b[49m\u001b[43mcentroids\u001b[49m\u001b[43m \u001b[49m\u001b[43m=\u001b[49m\u001b[43m \u001b[49m\u001b[43mcentroids\u001b[49m\u001b[43m,\u001b[49m\u001b[43m \u001b[49m\u001b[43mepochs\u001b[49m\u001b[43m \u001b[49m\u001b[43m=\u001b[49m\u001b[43m \u001b[49m\u001b[43miterations\u001b[49m\u001b[43m[\u001b[49m\u001b[43mi\u001b[49m\u001b[43m]\u001b[49m\u001b[43m)\u001b[49m\n\u001b[32m      7\u001b[39m     algo_cost = compute_cost(kdd_data,final_centroids)\n\u001b[32m      8\u001b[39m     results_dict[key][i] = algo_cost\n",
      "\u001b[36mFile \u001b[39m\u001b[32m/usr/lib/python3.12/functools.py:909\u001b[39m, in \u001b[36msingledispatch.<locals>.wrapper\u001b[39m\u001b[34m(*args, **kw)\u001b[39m\n\u001b[32m    905\u001b[39m \u001b[38;5;28;01mif\u001b[39;00m \u001b[38;5;129;01mnot\u001b[39;00m args:\n\u001b[32m    906\u001b[39m     \u001b[38;5;28;01mraise\u001b[39;00m \u001b[38;5;167;01mTypeError\u001b[39;00m(\u001b[33mf\u001b[39m\u001b[33m'\u001b[39m\u001b[38;5;132;01m{\u001b[39;00mfuncname\u001b[38;5;132;01m}\u001b[39;00m\u001b[33m requires at least \u001b[39m\u001b[33m'\u001b[39m\n\u001b[32m    907\u001b[39m                     \u001b[33m'\u001b[39m\u001b[33m1 positional argument\u001b[39m\u001b[33m'\u001b[39m)\n\u001b[32m--> \u001b[39m\u001b[32m909\u001b[39m \u001b[38;5;28;01mreturn\u001b[39;00m \u001b[43mdispatch\u001b[49m\u001b[43m(\u001b[49m\u001b[43margs\u001b[49m\u001b[43m[\u001b[49m\u001b[32;43m0\u001b[39;49m\u001b[43m]\u001b[49m\u001b[43m.\u001b[49m\u001b[34;43m__class__\u001b[39;49m\u001b[43m)\u001b[49m\u001b[43m(\u001b[49m\u001b[43m*\u001b[49m\u001b[43margs\u001b[49m\u001b[43m,\u001b[49m\u001b[43m \u001b[49m\u001b[43m*\u001b[49m\u001b[43m*\u001b[49m\u001b[43mkw\u001b[49m\u001b[43m)\u001b[49m\n",
      "\u001b[36mFile \u001b[39m\u001b[32m~/Distributed-K-means/src/kmeans.py:226\u001b[39m, in \u001b[36m_\u001b[39m\u001b[34m(data, centroids, epochs)\u001b[39m\n\u001b[32m    223\u001b[39m k = centroids.shape[\u001b[32m0\u001b[39m]\n\u001b[32m    224\u001b[39m \u001b[38;5;28;01mfor\u001b[39;00m _ \u001b[38;5;129;01min\u001b[39;00m \u001b[38;5;28mrange\u001b[39m(epochs):\n\u001b[32m    225\u001b[39m     assignments = np.array(\n\u001b[32m--> \u001b[39m\u001b[32m226\u001b[39m         [get_clusterId(\u001b[43mcompute_centroidDistances\u001b[49m\u001b[43m(\u001b[49m\u001b[43mx\u001b[49m\u001b[43m,\u001b[49m\u001b[43m \u001b[49m\u001b[43mcentroids\u001b[49m\u001b[43m)\u001b[49m) \u001b[38;5;28;01mfor\u001b[39;00m x \u001b[38;5;129;01min\u001b[39;00m data]\n\u001b[32m    227\u001b[39m     )\n\u001b[32m    228\u001b[39m     centroids = np.array(\n\u001b[32m    229\u001b[39m         [np.mean(data[assignments==i,:], axis = \u001b[32m0\u001b[39m) \u001b[38;5;28;01mif\u001b[39;00m i \u001b[38;5;129;01min\u001b[39;00m assignments \u001b[38;5;28;01melse\u001b[39;00m centroids[i,:] \u001b[38;5;28;01mfor\u001b[39;00m i \u001b[38;5;129;01min\u001b[39;00m \u001b[38;5;28mrange\u001b[39m(k)]\n\u001b[32m    230\u001b[39m     )\n\u001b[32m    231\u001b[39m \u001b[38;5;28;01mreturn\u001b[39;00m centroids\n",
      "\u001b[36mFile \u001b[39m\u001b[32m~/Distributed-K-means/src/kmeans.py:14\u001b[39m, in \u001b[36mcompute_centroidDistances\u001b[39m\u001b[34m(x, centroids)\u001b[39m\n\u001b[32m     10\u001b[39m \u001b[38;5;28;01mdef\u001b[39;00m\u001b[38;5;250m \u001b[39m\u001b[34mcompute_centroidDistances\u001b[39m(\n\u001b[32m     11\u001b[39m     x: npt.NDArray, \n\u001b[32m     12\u001b[39m     centroids: npt.NDArray\n\u001b[32m     13\u001b[39m ) -> npt.NDArray:\n\u001b[32m---> \u001b[39m\u001b[32m14\u001b[39m     \u001b[38;5;28;01mreturn\u001b[39;00m \u001b[43mnp\u001b[49m\u001b[43m.\u001b[49m\u001b[43msum\u001b[49m\u001b[43m(\u001b[49m\u001b[43m(\u001b[49m\u001b[43mcentroids\u001b[49m\u001b[43m \u001b[49m\u001b[43m-\u001b[49m\u001b[43m \u001b[49m\u001b[43mx\u001b[49m\u001b[43m)\u001b[49m\u001b[43m*\u001b[49m\u001b[43m*\u001b[49m\u001b[32;43m2\u001b[39;49m\u001b[43m,\u001b[49m\u001b[43m \u001b[49m\u001b[43maxis\u001b[49m\u001b[43m \u001b[49m\u001b[43m=\u001b[49m\u001b[43m \u001b[49m\u001b[32;43m1\u001b[39;49m\u001b[43m)\u001b[49m\n",
      "\u001b[36mFile \u001b[39m\u001b[32m~/Distributed-K-means/.venv/lib/python3.12/site-packages/numpy/_core/fromnumeric.py:2466\u001b[39m, in \u001b[36msum\u001b[39m\u001b[34m(a, axis, dtype, out, keepdims, initial, where)\u001b[39m\n\u001b[32m   2463\u001b[39m         \u001b[38;5;28;01mreturn\u001b[39;00m out\n\u001b[32m   2464\u001b[39m     \u001b[38;5;28;01mreturn\u001b[39;00m res\n\u001b[32m-> \u001b[39m\u001b[32m2466\u001b[39m \u001b[38;5;28;01mreturn\u001b[39;00m \u001b[43m_wrapreduction\u001b[49m\u001b[43m(\u001b[49m\n\u001b[32m   2467\u001b[39m \u001b[43m    \u001b[49m\u001b[43ma\u001b[49m\u001b[43m,\u001b[49m\u001b[43m \u001b[49m\u001b[43mnp\u001b[49m\u001b[43m.\u001b[49m\u001b[43madd\u001b[49m\u001b[43m,\u001b[49m\u001b[43m \u001b[49m\u001b[33;43m'\u001b[39;49m\u001b[33;43msum\u001b[39;49m\u001b[33;43m'\u001b[39;49m\u001b[43m,\u001b[49m\u001b[43m \u001b[49m\u001b[43maxis\u001b[49m\u001b[43m,\u001b[49m\u001b[43m \u001b[49m\u001b[43mdtype\u001b[49m\u001b[43m,\u001b[49m\u001b[43m \u001b[49m\u001b[43mout\u001b[49m\u001b[43m,\u001b[49m\n\u001b[32m   2468\u001b[39m \u001b[43m    \u001b[49m\u001b[43mkeepdims\u001b[49m\u001b[43m=\u001b[49m\u001b[43mkeepdims\u001b[49m\u001b[43m,\u001b[49m\u001b[43m \u001b[49m\u001b[43minitial\u001b[49m\u001b[43m=\u001b[49m\u001b[43minitial\u001b[49m\u001b[43m,\u001b[49m\u001b[43m \u001b[49m\u001b[43mwhere\u001b[49m\u001b[43m=\u001b[49m\u001b[43mwhere\u001b[49m\n\u001b[32m   2469\u001b[39m \u001b[43m\u001b[49m\u001b[43m)\u001b[49m\n",
      "\u001b[36mFile \u001b[39m\u001b[32m~/Distributed-K-means/.venv/lib/python3.12/site-packages/numpy/_core/fromnumeric.py:86\u001b[39m, in \u001b[36m_wrapreduction\u001b[39m\u001b[34m(obj, ufunc, method, axis, dtype, out, **kwargs)\u001b[39m\n\u001b[32m     83\u001b[39m         \u001b[38;5;28;01melse\u001b[39;00m:\n\u001b[32m     84\u001b[39m             \u001b[38;5;28;01mreturn\u001b[39;00m reduction(axis=axis, out=out, **passkwargs)\n\u001b[32m---> \u001b[39m\u001b[32m86\u001b[39m \u001b[38;5;28;01mreturn\u001b[39;00m \u001b[43mufunc\u001b[49m\u001b[43m.\u001b[49m\u001b[43mreduce\u001b[49m\u001b[43m(\u001b[49m\u001b[43mobj\u001b[49m\u001b[43m,\u001b[49m\u001b[43m \u001b[49m\u001b[43maxis\u001b[49m\u001b[43m,\u001b[49m\u001b[43m \u001b[49m\u001b[43mdtype\u001b[49m\u001b[43m,\u001b[49m\u001b[43m \u001b[49m\u001b[43mout\u001b[49m\u001b[43m,\u001b[49m\u001b[43m \u001b[49m\u001b[43m*\u001b[49m\u001b[43m*\u001b[49m\u001b[43mpasskwargs\u001b[49m\u001b[43m)\u001b[49m\n",
      "\u001b[31mKeyboardInterrupt\u001b[39m: "
     ]
    },
    {
     "name": "stderr",
     "output_type": "stream",
     "text": [
      "[Stage 40:=>              (1 + 15) / 16][Stage 42:====>           (4 + 11) / 16]\r"
     ]
    }
   ],
   "source": [
    "for key in results_dict.keys():\n",
    "    print(key)\n",
    "    for i in range(len(iterations)):\n",
    "        print(f\"running for {iterations[i]} iterations...\")\n",
    "        if key == 'lloyd_serial':\n",
    "            final_centroids = lloydKMeans(kdd_data,centroids = centroids, epochs = iterations[i])\n",
    "            algo_cost = compute_cost(kdd_data,final_centroids)\n",
    "            results_dict[key][i] = algo_cost\n",
    "        else:\n",
    "            break\n",
    "        "
   ]
  },
  {
   "cell_type": "markdown",
   "id": "82c23915",
   "metadata": {},
   "source": [
    "Stopping the cluster"
   ]
  },
  {
   "cell_type": "code",
   "execution_count": 21,
   "id": "501de77c",
   "metadata": {},
   "outputs": [],
   "source": [
    "sc.stop()\n",
    "spark.stop()"
   ]
  },
  {
   "cell_type": "code",
   "execution_count": null,
   "id": "8ec63757",
   "metadata": {},
   "outputs": [
    {
     "name": "stdout",
     "output_type": "stream",
     "text": [
      "worker3: stopping org.apache.spark.deploy.worker.Worker\n",
      "worker1: stopping org.apache.spark.deploy.worker.Worker\n",
      "worker2: stopping org.apache.spark.deploy.worker.Worker\n",
      "master: stopping org.apache.spark.deploy.worker.Worker\n",
      "stopping org.apache.spark.deploy.master.Master\n"
     ]
    }
   ],
   "source": [
    "# stopping the cluster\n",
    "! $SPARK_HOME/sbin/stop-all.sh\n",
    "# clearing the `$SPARK_HOME/work` directory in all the nodes\n",
    "# this avoids cluttering of storage among nodes\n",
    "! rm -rf $SPARK_HOME/work/*\n",
    "! ssh worker1 \"rm -rf $SPARK_HOME/work/*\"\n",
    "! ssh worker2 \"rm -rf $SPARK_HOME/work/*\"\n",
    "! ssh worker3 \"rm -rf $SPARK_HOME/work/*\""
   ]
  },
  {
   "cell_type": "code",
   "execution_count": null,
   "id": "d8ed2a55",
   "metadata": {},
   "outputs": [
    {
     "name": "stderr",
     "output_type": "stream",
     "text": [
      "25/09/12 16:10:59 WARN TaskSetManager: Stage 0 contains a task of very large size (5682 KiB). The maximum recommended task size is 1000 KiB.\n",
      "25/09/12 16:11:02 WARN TaskSetManager: Stage 1 contains a task of very large size (5682 KiB). The maximum recommended task size is 1000 KiB.\n",
      "25/09/12 16:11:02 WARN TaskSetManager: Stage 2 contains a task of very large size (5682 KiB). The maximum recommended task size is 1000 KiB.\n",
      "25/09/12 16:11:03 WARN TaskSetManager: Stage 3 contains a task of very large size (5682 KiB). The maximum recommended task size is 1000 KiB.\n",
      "25/09/12 16:11:05 WARN TaskSetManager: Stage 4 contains a task of very large size (5682 KiB). The maximum recommended task size is 1000 KiB.\n",
      "25/09/12 16:11:05 WARN TaskSetManager: Stage 5 contains a task of very large size (5682 KiB). The maximum recommended task size is 1000 KiB.\n",
      "25/09/12 16:11:07 WARN TaskSetManager: Stage 6 contains a task of very large size (5682 KiB). The maximum recommended task size is 1000 KiB.\n",
      "25/09/12 16:11:08 WARN TaskSetManager: Stage 7 contains a task of very large size (5682 KiB). The maximum recommended task size is 1000 KiB.\n",
      "25/09/12 16:11:09 WARN TaskSetManager: Stage 8 contains a task of very large size (5682 KiB). The maximum recommended task size is 1000 KiB.\n",
      "25/09/12 16:11:10 WARN TaskSetManager: Stage 9 contains a task of very large size (5682 KiB). The maximum recommended task size is 1000 KiB.\n",
      "25/09/12 16:11:12 WARN TaskSetManager: Stage 10 contains a task of very large size (5682 KiB). The maximum recommended task size is 1000 KiB.\n",
      "25/09/12 16:11:13 WARN TaskSetManager: Stage 11 contains a task of very large size (5682 KiB). The maximum recommended task size is 1000 KiB.\n",
      "25/09/12 16:11:15 WARN TaskSetManager: Stage 12 contains a task of very large size (5682 KiB). The maximum recommended task size is 1000 KiB.\n",
      "25/09/12 16:11:16 WARN TaskSetManager: Stage 13 contains a task of very large size (5682 KiB). The maximum recommended task size is 1000 KiB.\n",
      "25/09/12 16:11:18 WARN TaskSetManager: Stage 14 contains a task of very large size (5682 KiB). The maximum recommended task size is 1000 KiB.\n",
      "25/09/12 16:11:18 WARN TaskSetManager: Stage 15 contains a task of very large size (5682 KiB). The maximum recommended task size is 1000 KiB.\n",
      "25/09/12 16:11:21 WARN TaskSetManager: Stage 16 contains a task of very large size (5682 KiB). The maximum recommended task size is 1000 KiB.\n",
      "25/09/12 16:11:22 WARN TaskSetManager: Stage 17 contains a task of very large size (5682 KiB). The maximum recommended task size is 1000 KiB.\n",
      "25/09/12 16:11:24 WARN TaskSetManager: Stage 18 contains a task of very large size (5682 KiB). The maximum recommended task size is 1000 KiB.\n",
      "25/09/12 16:11:25 WARN TaskSetManager: Stage 19 contains a task of very large size (5682 KiB). The maximum recommended task size is 1000 KiB.\n",
      "25/09/12 16:11:28 WARN TaskSetManager: Stage 20 contains a task of very large size (5682 KiB). The maximum recommended task size is 1000 KiB.\n",
      "25/09/12 16:11:29 WARN TaskSetManager: Stage 21 contains a task of very large size (5682 KiB). The maximum recommended task size is 1000 KiB.\n",
      "25/09/12 16:11:32 WARN TaskSetManager: Stage 22 contains a task of very large size (5682 KiB). The maximum recommended task size is 1000 KiB.\n",
      "25/09/12 16:11:33 WARN TaskSetManager: Stage 23 contains a task of very large size (5682 KiB). The maximum recommended task size is 1000 KiB.\n",
      "25/09/12 16:11:37 WARN TaskSetManager: Stage 24 contains a task of very large size (5682 KiB). The maximum recommended task size is 1000 KiB.\n",
      "25/09/12 16:11:37 WARN TaskSetManager: Stage 25 contains a task of very large size (5682 KiB). The maximum recommended task size is 1000 KiB.\n",
      "25/09/12 16:11:41 WARN TaskSetManager: Stage 26 contains a task of very large size (5682 KiB). The maximum recommended task size is 1000 KiB.\n",
      "25/09/12 16:11:42 WARN TaskSetManager: Stage 27 contains a task of very large size (5682 KiB). The maximum recommended task size is 1000 KiB.\n",
      "25/09/12 16:11:46 WARN TaskSetManager: Stage 28 contains a task of very large size (5682 KiB). The maximum recommended task size is 1000 KiB.\n",
      "25/09/12 16:11:47 WARN TaskSetManager: Stage 29 contains a task of very large size (5682 KiB). The maximum recommended task size is 1000 KiB.\n",
      "25/09/12 16:11:51 WARN TaskSetManager: Stage 30 contains a task of very large size (5682 KiB). The maximum recommended task size is 1000 KiB.\n",
      "25/09/12 16:11:52 WARN TaskSetManager: Stage 31 contains a task of very large size (5682 KiB). The maximum recommended task size is 1000 KiB.\n",
      "25/09/12 16:11:57 WARN TaskSetManager: Stage 32 contains a task of very large size (5682 KiB). The maximum recommended task size is 1000 KiB.\n",
      "25/09/12 16:11:57 WARN TaskSetManager: Stage 33 contains a task of very large size (5682 KiB). The maximum recommended task size is 1000 KiB.\n",
      "25/09/12 16:12:02 WARN TaskSetManager: Stage 34 contains a task of very large size (5682 KiB). The maximum recommended task size is 1000 KiB.\n",
      "25/09/12 16:12:03 WARN TaskSetManager: Stage 35 contains a task of very large size (5682 KiB). The maximum recommended task size is 1000 KiB.\n",
      "25/09/12 16:12:08 WARN TaskSetManager: Stage 36 contains a task of very large size (5682 KiB). The maximum recommended task size is 1000 KiB.\n",
      "25/09/12 16:12:09 WARN TaskSetManager: Stage 37 contains a task of very large size (5682 KiB). The maximum recommended task size is 1000 KiB.\n",
      "25/09/12 16:12:14 WARN TaskSetManager: Stage 38 contains a task of very large size (5682 KiB). The maximum recommended task size is 1000 KiB.\n",
      "25/09/12 16:12:20 WARN TaskSetManager: Stage 39 contains a task of very large size (5682 KiB). The maximum recommended task size is 1000 KiB.\n",
      "25/09/12 16:12:20 WARN TaskSetManager: Stage 40 contains a task of very large size (5682 KiB). The maximum recommended task size is 1000 KiB.\n",
      "25/09/12 16:12:21 WARN TaskSetManager: Stage 41 contains a task of very large size (5682 KiB). The maximum recommended task size is 1000 KiB.\n",
      "25/09/12 16:12:22 WARN TaskSetManager: Stage 43 contains a task of very large size (5682 KiB). The maximum recommended task size is 1000 KiB.\n",
      "25/09/12 16:12:23 WARN TaskSetManager: Stage 44 contains a task of very large size (5682 KiB). The maximum recommended task size is 1000 KiB.\n",
      "25/09/12 16:12:23 WARN TaskSetManager: Stage 45 contains a task of very large size (5682 KiB). The maximum recommended task size is 1000 KiB.\n",
      "25/09/12 16:12:24 WARN TaskSetManager: Stage 46 contains a task of very large size (5682 KiB). The maximum recommended task size is 1000 KiB.\n"
     ]
    },
    {
     "name": "stdout",
     "output_type": "stream",
     "text": [
      "CONVERGED!\n"
     ]
    },
    {
     "name": "stderr",
     "output_type": "stream",
     "text": [
      "25/09/12 16:12:24 WARN TaskSetManager: Stage 47 contains a task of very large size (5682 KiB). The maximum recommended task size is 1000 KiB.\n",
      "25/09/12 16:12:25 WARN TaskSetManager: Stage 48 contains a task of very large size (5682 KiB). The maximum recommended task size is 1000 KiB.\n"
     ]
    },
    {
     "name": "stdout",
     "output_type": "stream",
     "text": [
      "38.6195\t38.5942\n"
     ]
    }
   ],
   "source": [
    "kdd_data, kdd_labels, entries_dict = kddSetup(standardize=True)\n",
    "\n",
    "# get the number of clusters from kdd_labels\n",
    "k = np.unique(kdd_labels).shape[0]\n",
    "\n",
    "#parallelize\n",
    "kdd_rdd = sc.parallelize([row for row in kdd_data])\n",
    "l = k * 10\n",
    "iterations = 1_000_000\n",
    "init_centroids = kMeansParallel_init(kdd_rdd, k, l)\n",
    "phi_init = compute_cost(kdd_rdd, init_centroids)\n",
    "final_centroids = miniBatchKMeans(kdd_rdd, init_centroids, iterations, 0.3)\n",
    "phi_final = compute_cost(kdd_rdd, final_centroids)\n",
    "print(f\"{phi_init:.6g}\\t{phi_final:.6g}\")"
   ]
  },
  {
   "cell_type": "code",
   "execution_count": null,
   "id": "e086f7d0",
   "metadata": {},
   "outputs": [],
   "source": []
  }
 ],
 "metadata": {
  "kernelspec": {
   "display_name": ".venv",
   "language": "python",
   "name": "python3"
  },
  "language_info": {
   "codemirror_mode": {
    "name": "ipython",
    "version": 3
   },
   "file_extension": ".py",
   "mimetype": "text/x-python",
   "name": "python",
   "nbconvert_exporter": "python",
   "pygments_lexer": "ipython3",
   "version": "3.12.3"
  }
 },
 "nbformat": 4,
 "nbformat_minor": 5
}
