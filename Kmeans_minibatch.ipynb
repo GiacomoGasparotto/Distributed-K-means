{
 "cells": [
  {
   "cell_type": "code",
   "execution_count": 1,
   "id": "0453b0cf-bc50-41b8-a3f6-3579b79be733",
   "metadata": {},
   "outputs": [],
   "source": [
    "import numpy as np\n",
    "import pandas as pd\n",
    "from pyspark.sql import SparkSession\n",
    "from pyspark import SparkContext, SparkConf\n",
    "from pyspark.sql import Row\n",
    "import matplotlib.pyplot as plt\n"
   ]
  },
  {
   "cell_type": "markdown",
   "id": "60fab374",
   "metadata": {},
   "source": [
    "## K-means minibatch implementation"
   ]
  },
  {
   "cell_type": "code",
   "execution_count": 2,
   "id": "332ef9ab",
   "metadata": {},
   "outputs": [
    {
     "name": "stderr",
     "output_type": "stream",
     "text": [
      "Setting default log level to \"WARN\".\n",
      "To adjust logging level use sc.setLogLevel(newLevel). For SparkR, use setLogLevel(newLevel).\n",
      "25/08/27 15:49:44 WARN NativeCodeLoader: Unable to load native-hadoop library for your platform... using builtin-java classes where applicable\n"
     ]
    }
   ],
   "source": [
    "# build a SparkSession \n",
    "#   connect to the master node on the port where the master node is listening (7077)\n",
    "#   declare the app name \n",
    "#   configure the executor memory to 512 MB\n",
    "#   either *connect* or *create* a new Spark Context\n",
    "spark = SparkSession.builder \\\n",
    "    .master(\"spark://spark-master:7077\")\\\n",
    "    .appName(\"My first spark application\")\\\n",
    "    .config(\"spark.executor.memory\", \"512m\")\\\n",
    "    .getOrCreate()"
   ]
  },
  {
   "cell_type": "code",
   "execution_count": 3,
   "id": "cbfbb45a",
   "metadata": {},
   "outputs": [
    {
     "data": {
      "text/html": [
       "\n",
       "            <div>\n",
       "                <p><b>SparkSession - in-memory</b></p>\n",
       "                \n",
       "        <div>\n",
       "            <p><b>SparkContext</b></p>\n",
       "\n",
       "            <p><a href=\"http://a5967221105b:4040\">Spark UI</a></p>\n",
       "\n",
       "            <dl>\n",
       "              <dt>Version</dt>\n",
       "                <dd><code>v3.5.5</code></dd>\n",
       "              <dt>Master</dt>\n",
       "                <dd><code>spark://spark-master:7077</code></dd>\n",
       "              <dt>AppName</dt>\n",
       "                <dd><code>My first spark application</code></dd>\n",
       "            </dl>\n",
       "        </div>\n",
       "        \n",
       "            </div>\n",
       "        "
      ],
      "text/plain": [
       "<pyspark.sql.session.SparkSession at 0x7f7d784f6850>"
      ]
     },
     "execution_count": 3,
     "metadata": {},
     "output_type": "execute_result"
    }
   ],
   "source": [
    "spark"
   ]
  },
  {
   "cell_type": "markdown",
   "id": "ed4eaa40",
   "metadata": {},
   "source": [
    "## load the dataset"
   ]
  },
  {
   "cell_type": "code",
   "execution_count": 4,
   "id": "92e6718b",
   "metadata": {},
   "outputs": [
    {
     "name": "stderr",
     "output_type": "stream",
     "text": [
      "                                                                                \r"
     ]
    },
    {
     "name": "stdout",
     "output_type": "stream",
     "text": [
      "+--------------------+--------------------+-----+\n",
      "|f0                  |f1                  |label|\n",
      "+--------------------+--------------------+-----+\n",
      "|-0.9307545424760288 |5.268657992303173   |0    |\n",
      "|-1.371675498888043  |4.39007458562457    |0    |\n",
      "|-0.46499240377267936|4.890860428675615   |0    |\n",
      "|-1.489336004493851  |4.778423085892143   |0    |\n",
      "|-1.4863076579326062 |4.2742781873140325  |0    |\n",
      "|-2.820036486661139  |-0.03357944829810772|1    |\n",
      "|-2.4639931305718346 |0.4046879826200156  |1    |\n",
      "|-2.411589608165228  |-0.4585875343452671 |1    |\n",
      "|-1.2247531859438459 |0.13467616607911082 |1    |\n",
      "|-1.923813468060661  |-0.46480977678434976|1    |\n",
      "|0.3486488999092735  |-4.347646863627187  |2    |\n",
      "|0.6238263436610224  |-4.681342747696661  |2    |\n",
      "|0.6232923825057264  |-3.6093567805455535 |2    |\n",
      "|0.9173970762514579  |-5.064351337277973  |2    |\n",
      "|1.3354181446720195  |-5.145917697785533  |2    |\n",
      "+--------------------+--------------------+-----+\n",
      "\n"
     ]
    }
   ],
   "source": [
    "#CREATE A TOY DATASET FOR TESTING\n",
    "\n",
    "# Parameters for toy dataset\n",
    "num_points_per_cluster = 5\n",
    "num_clusters = 3\n",
    "dim = 2  # 2D points for easy visualization\n",
    "spread = 0.5\n",
    "seed = 42\n",
    "np.random.seed(seed)\n",
    "\n",
    "# Generate toy points\n",
    "data = []\n",
    "for cluster_id in range(num_clusters):\n",
    "    # Generate points around a cluster center\n",
    "    center = np.random.uniform(-5, 5, size=dim)\n",
    "    points = center + spread * np.random.randn(num_points_per_cluster, dim)\n",
    "    for point in points:\n",
    "        # Create a Row with each feature as a separate column\n",
    "        row_dict = {f\"f{i}\": float(point[i]) for i in range(dim)}\n",
    "        row_dict[\"label\"] = int(cluster_id)\n",
    "        data.append(Row(**row_dict))\n",
    "\n",
    "# Convert to Spark DataFrame\n",
    "df = spark.createDataFrame(data)\n",
    "df.show(truncate=False)\n"
   ]
  },
  {
   "cell_type": "markdown",
   "id": "65742594",
   "metadata": {},
   "source": [
    "## Algorithm implementation"
   ]
  },
  {
   "cell_type": "code",
   "execution_count": 5,
   "id": "ae2a3705",
   "metadata": {},
   "outputs": [],
   "source": [
    "sc = spark.sparkContext"
   ]
  },
  {
   "cell_type": "code",
   "execution_count": 6,
   "id": "4cc80e1a",
   "metadata": {},
   "outputs": [],
   "source": [
    "# Initialize centroids and other quantities:\n",
    "K = 3\n",
    "num__iterations = 1000\n",
    "fraction_dataframe = 0.1"
   ]
  },
  {
   "cell_type": "markdown",
   "id": "636c39aa",
   "metadata": {},
   "source": [
    "# main loop"
   ]
  },
  {
   "cell_type": "code",
   "execution_count": 7,
   "id": "df4ce12a",
   "metadata": {},
   "outputs": [],
   "source": [
    "def cluster_assignment_partition(rows,broadcasted_centroids,feature_cols_bc):\n",
    "    \"\"\"\n",
    "    Function to assign a data point in a cluster when dealing with a distributed system, \n",
    "    based on the distance to the closest centroid (K-means).\n",
    "    \"\"\"\n",
    "    centroids = broadcasted_centroids.value\n",
    "    feature_cols = feature_cols_bc.value\n",
    "    results = []\n",
    "    for row in rows:\n",
    "        point = np.array([row[c] for c in feature_cols], dtype=float)\n",
    "        distances = [np.linalg.norm(point - c) for c in centroids]\n",
    "        cluster_id = np.argmin(distances)\n",
    "        results.append((cluster_id, (point, 1)))\n",
    "    return results\n"
   ]
  },
  {
   "cell_type": "code",
   "execution_count": null,
   "id": "dc0764f2",
   "metadata": {},
   "outputs": [],
   "source": [
    "def minibatch_Kmeans(df, K, num__iterations, batch_fraction, seed=345, has_label = True, persist = True):\n",
    "    \"\"\"\n",
    "    Minibatch K-means main loop\n",
    "\n",
    "    - df: spark dataframe\n",
    "    - K: number of clusters\n",
    "    - num_iterations: number of iterations to run the algorithm\n",
    "    - batch_fraction: fraction of data sampled from the original dataframe that constitutes a minibacth\n",
    "    - seed: random seed to sample the centroids\n",
    "    - has_label: Boolean variable to clean the dataset if it has the label column\n",
    "    - persist: Boolean variable that activates the \"persist\" operation of the dataframe if True\n",
    "    \"\"\"\n",
    "    # extract feature columns and remove labels (if present)\n",
    "    feature_cols = [c for c in df.columns if c != 'label']   # or filter by a pattern if needed\n",
    "    if has_label:\n",
    "        features_only_df = df.select(*feature_cols)\n",
    "    else:\n",
    "        features_only_df = df\n",
    "\n",
    "    # initialize centroids by picking randomly some points in the dataframe\n",
    "    centroids = features_only_df.rdd.takeSample(withReplacement=False, num=K, seed=seed)\n",
    "    centroids = np.array([np.array(row) for row in centroids])\n",
    "    \n",
    "    # broadcast feature columns so they can be read by the partitions (they are sent to them only once)\n",
    "    feature_cols_bc = sc.broadcast(feature_cols)  \n",
    "    dim = centroids.shape[1]\n",
    "\n",
    "    # counter arry to update the learning rates\n",
    "    counter = np.zeros(shape=K)\n",
    "\n",
    "    if persist:\n",
    "        # Persist the dataframe: we do this because we need to access it every iteration to sample the minibatch (at the end we will unpersist)\n",
    "        features_only_df.persist()\n",
    "        \n",
    "    for i in range(num__iterations):\n",
    "        print('iteration number:', i+1)\n",
    "        # sample the minibatch\n",
    "        minibatch = features_only_df.rdd.sample(withReplacement=False, fraction = batch_fraction)\n",
    "        \n",
    "        # broadcast centroids \n",
    "        broadcasted_centroids = sc.broadcast(centroids)\n",
    "\n",
    "        # map procedure - assign the points of the minibatch to the clusters using the function cluster_assignment_partition (cluster_id,(coordinates,1))\n",
    "        partial_assignments = minibatch.mapPartitions(lambda it:cluster_assignment_partition(it,broadcasted_centroids,feature_cols_bc))\n",
    "\n",
    "        # reduce step - reduce by key to count the points for cluster. Single entry: (cluster_id,(coordinates,number_of_points_per_cluster))\n",
    "        counter_points = partial_assignments.reduceByKey(lambda a,b: (a[0] + b[0], a[1] + b[1]) ).collect()\n",
    "\n",
    "        \n",
    "        # per-iteration arrays - count the number of points for each cluster_id and take the sum of all the coordinates for a single cluster\n",
    "        # (we need them to make an average at the end)\n",
    "\n",
    "        current_counts = np.zeros(K)\n",
    "        coordinates = np.zeros((K, dim))\n",
    "        \n",
    "        # fill them from Spark result\n",
    "        for cluster_id, (sum_coords, count_iter) in counter_points:\n",
    "            current_counts[cluster_id] = count_iter\n",
    "            coordinates[cluster_id] = sum_coords\n",
    "\n",
    "        # update global counters and centroids\n",
    "        for k in range(K):\n",
    "            if current_counts[k] > 0:  # cluster got points this batch\n",
    "                counter[k] += current_counts[k]  # cumulative count\n",
    "                eta = 1.0 / counter[k]           # learning rate\n",
    "                mean_coords = coordinates[k] / current_counts[k]\n",
    "                centroids[k] = (1 - eta) * centroids[k] + eta * mean_coords # exponential average of each centroid\n",
    "        \n",
    "        # at the end of every iteration, remove the broadcasted variables\n",
    "        broadcasted_centroids.destroy()\n",
    "\n",
    "    # Peform the final point assignment:\n",
    "    # broadcast centroids (as before)\n",
    "    broadcasted_centroids = sc.broadcast(centroids)\n",
    "    \n",
    "    # final assignment:\n",
    "    final_assignments_rdd = features_only_df.rdd.mapPartitions(lambda it: cluster_assignment_partition(it, broadcasted_centroids, feature_cols_bc)) \\\n",
    "                              .map(lambda x: (x[1][0].tolist(), int(x[0])))  # convert array to list and cluster_id to int\n",
    "\n",
    "    # wrap all in a Spark dataframe to avoid calling collect \n",
    "    final_assignments_df = final_assignments_rdd.toDF([\"features\", \"cluster_id\"])\n",
    "\n",
    "    if persist:\n",
    "        # unpersist the dataframe to free memory\n",
    "        features_only_df.unpersist()\n",
    "        \n",
    "    \n",
    "    return final_assignments_df,centroids \n"
   ]
  },
  {
   "cell_type": "markdown",
   "id": "7299e050",
   "metadata": {},
   "source": [
    "## Evaluation"
   ]
  },
  {
   "cell_type": "code",
   "execution_count": 9,
   "id": "34e8672b",
   "metadata": {},
   "outputs": [
    {
     "name": "stderr",
     "output_type": "stream",
     "text": [
      "                                                                                \r"
     ]
    },
    {
     "name": "stdout",
     "output_type": "stream",
     "text": [
      "iteration number: 1\n"
     ]
    },
    {
     "name": "stderr",
     "output_type": "stream",
     "text": [
      "                                                                                \r"
     ]
    },
    {
     "name": "stdout",
     "output_type": "stream",
     "text": [
      "iteration number: 2\n",
      "iteration number: 3\n",
      "iteration number: 4\n",
      "iteration number: 5\n",
      "iteration number: 6\n",
      "iteration number: 7\n",
      "iteration number: 8\n",
      "iteration number: 9\n",
      "iteration number: 10\n",
      "iteration number: 11\n",
      "iteration number: 12\n",
      "iteration number: 13\n",
      "iteration number: 14\n",
      "iteration number: 15\n",
      "iteration number: 16\n",
      "iteration number: 17\n",
      "iteration number: 18\n",
      "iteration number: 19\n",
      "iteration number: 20\n",
      "iteration number: 21\n",
      "iteration number: 22\n",
      "iteration number: 23\n",
      "iteration number: 24\n",
      "iteration number: 25\n",
      "iteration number: 26\n",
      "iteration number: 27\n",
      "iteration number: 28\n",
      "iteration number: 29\n",
      "iteration number: 30\n",
      "iteration number: 31\n"
     ]
    },
    {
     "name": "stderr",
     "output_type": "stream",
     "text": [
      "                                                                                \r"
     ]
    },
    {
     "name": "stdout",
     "output_type": "stream",
     "text": [
      "iteration number: 32\n",
      "iteration number: 33\n",
      "iteration number: 34\n",
      "iteration number: 35\n",
      "iteration number: 36\n",
      "iteration number: 37\n",
      "iteration number: 38\n",
      "iteration number: 39\n",
      "iteration number: 40\n",
      "iteration number: 41\n",
      "iteration number: 42\n",
      "iteration number: 43\n",
      "iteration number: 44\n",
      "iteration number: 45\n",
      "iteration number: 46\n",
      "iteration number: 47\n",
      "iteration number: 48\n",
      "iteration number: 49\n",
      "iteration number: 50\n",
      "iteration number: 51\n",
      "iteration number: 52\n",
      "iteration number: 53\n",
      "iteration number: 54\n",
      "iteration number: 55\n",
      "iteration number: 56\n",
      "iteration number: 57\n",
      "iteration number: 58\n",
      "iteration number: 59\n",
      "iteration number: 60\n",
      "iteration number: 61\n",
      "iteration number: 62\n",
      "iteration number: 63\n",
      "iteration number: 64\n",
      "iteration number: 65\n",
      "iteration number: 66\n",
      "iteration number: 67\n",
      "iteration number: 68\n",
      "iteration number: 69\n",
      "iteration number: 70\n",
      "iteration number: 71\n",
      "iteration number: 72\n",
      "iteration number: 73\n",
      "iteration number: 74\n",
      "iteration number: 75\n",
      "iteration number: 76\n",
      "iteration number: 77\n",
      "iteration number: 78\n",
      "iteration number: 79\n",
      "iteration number: 80\n",
      "iteration number: 81\n",
      "iteration number: 82\n",
      "iteration number: 83\n",
      "iteration number: 84\n",
      "iteration number: 85\n",
      "iteration number: 86\n",
      "iteration number: 87\n",
      "iteration number: 88\n",
      "iteration number: 89\n",
      "iteration number: 90\n",
      "iteration number: 91\n",
      "iteration number: 92\n",
      "iteration number: 93\n",
      "iteration number: 94\n",
      "iteration number: 95\n",
      "iteration number: 96\n",
      "iteration number: 97\n",
      "iteration number: 98\n",
      "iteration number: 99\n",
      "iteration number: 100\n",
      "iteration number: 101\n",
      "iteration number: 102\n",
      "iteration number: 103\n",
      "iteration number: 104\n",
      "iteration number: 105\n",
      "iteration number: 106\n",
      "iteration number: 107\n",
      "iteration number: 108\n",
      "iteration number: 109\n",
      "iteration number: 110\n",
      "iteration number: 111\n",
      "iteration number: 112\n",
      "iteration number: 113\n",
      "iteration number: 114\n",
      "iteration number: 115\n",
      "iteration number: 116\n",
      "iteration number: 117\n",
      "iteration number: 118\n",
      "iteration number: 119\n",
      "iteration number: 120\n",
      "iteration number: 121\n",
      "iteration number: 122\n",
      "iteration number: 123\n",
      "iteration number: 124\n",
      "iteration number: 125\n",
      "iteration number: 126\n",
      "iteration number: 127\n",
      "iteration number: 128\n",
      "iteration number: 129\n",
      "iteration number: 130\n",
      "iteration number: 131\n",
      "iteration number: 132\n",
      "iteration number: 133\n",
      "iteration number: 134\n",
      "iteration number: 135\n",
      "iteration number: 136\n",
      "iteration number: 137\n",
      "iteration number: 138\n",
      "iteration number: 139\n",
      "iteration number: 140\n",
      "iteration number: 141\n",
      "iteration number: 142\n",
      "iteration number: 143\n",
      "iteration number: 144\n",
      "iteration number: 145\n",
      "iteration number: 146\n",
      "iteration number: 147\n",
      "iteration number: 148\n",
      "iteration number: 149\n",
      "iteration number: 150\n",
      "iteration number: 151\n",
      "iteration number: 152\n",
      "iteration number: 153\n",
      "iteration number: 154\n",
      "iteration number: 155\n",
      "iteration number: 156\n",
      "iteration number: 157\n",
      "iteration number: 158\n",
      "iteration number: 159\n",
      "iteration number: 160\n",
      "iteration number: 161\n",
      "iteration number: 162\n",
      "iteration number: 163\n",
      "iteration number: 164\n",
      "iteration number: 165\n",
      "iteration number: 166\n",
      "iteration number: 167\n",
      "iteration number: 168\n",
      "iteration number: 169\n",
      "iteration number: 170\n",
      "iteration number: 171\n"
     ]
    },
    {
     "name": "stderr",
     "output_type": "stream",
     "text": [
      "                                                                                \r"
     ]
    },
    {
     "name": "stdout",
     "output_type": "stream",
     "text": [
      "iteration number: 172\n",
      "iteration number: 173\n",
      "iteration number: 174\n",
      "iteration number: 175\n",
      "iteration number: 176\n",
      "iteration number: 177\n",
      "iteration number: 178\n",
      "iteration number: 179\n",
      "iteration number: 180\n",
      "iteration number: 181\n",
      "iteration number: 182\n",
      "iteration number: 183\n",
      "iteration number: 184\n",
      "iteration number: 185\n",
      "iteration number: 186\n",
      "iteration number: 187\n",
      "iteration number: 188\n",
      "iteration number: 189\n",
      "iteration number: 190\n",
      "iteration number: 191\n",
      "iteration number: 192\n",
      "iteration number: 193\n",
      "iteration number: 194\n",
      "iteration number: 195\n",
      "iteration number: 196\n",
      "iteration number: 197\n",
      "iteration number: 198\n",
      "iteration number: 199\n",
      "iteration number: 200\n"
     ]
    }
   ],
   "source": [
    "final_assignment_df, centroids = minibatch_Kmeans(df, 3, num__iterations = 200, batch_fraction = 0.1, seed=42)"
   ]
  },
  {
   "cell_type": "markdown",
   "id": "19fcb70d",
   "metadata": {},
   "source": [
    "## Visual check for correctness"
   ]
  },
  {
   "cell_type": "code",
   "execution_count": 10,
   "id": "132ab87b",
   "metadata": {},
   "outputs": [
    {
     "data": {
      "image/png": "[encoded data removed]",
      "text/plain": [
       "<Figure size 1400x600 with 2 Axes>"
      ]
     },
     "metadata": {},
     "output_type": "display_data"
    }
   ],
   "source": [
    "# Columns with features\n",
    "feature_cols = [c for c in df.columns if c != 'label']\n",
    "\n",
    "# Original points as numpy array\n",
    "original_points = np.array(df.select(*feature_cols).collect())\n",
    "true_labels = np.array(df.select(\"label\").rdd.map(lambda r: r[0]).collect())\n",
    "\n",
    "# Clustered points as numpy array\n",
    "clustered_points = np.array(final_assignment_df.select(\"features\").rdd.map(lambda r: r[0]).collect())\n",
    "cluster_ids = np.array(final_assignment_df.select(\"cluster_id\").rdd.map(lambda r: r[0]).collect())\n",
    "\n",
    "original_points_2d = original_points\n",
    "clustered_points_2d = clustered_points\n",
    "\n",
    "# Plot\n",
    "fig, axes = plt.subplots(1, 2, figsize=(14, 6))\n",
    "\n",
    "# Original points colored by true label\n",
    "scatter1 = axes[0].scatter(original_points_2d[:, 0], original_points_2d[:, 1], c=true_labels, cmap='tab10', alpha=0.7)\n",
    "axes[0].set_title(\"Original Points (True Labels)\")\n",
    "\n",
    "# Clustered points colored by cluster assignment\n",
    "scatter2 = axes[1].scatter(clustered_points_2d[:, 0], clustered_points_2d[:, 1], c=cluster_ids, cmap='viridis', alpha=0.7)\n",
    "axes[1].set_title(\"Clustered Points (KMeans)\")\n",
    "\n",
    "plt.show()\n"
   ]
  },
  {
   "cell_type": "code",
   "execution_count": 11,
   "id": "5aa124cd",
   "metadata": {},
   "outputs": [
    {
     "name": "stdout",
     "output_type": "stream",
     "text": [
      "+--------------------+----------+\n",
      "|            features|cluster_id|\n",
      "+--------------------+----------+\n",
      "|[-0.9307545424760...|         0|\n",
      "|[-1.3716754988880...|         0|\n",
      "|[-0.4649924037726...|         0|\n",
      "|[-1.4893360044938...|         0|\n",
      "|[-1.4863076579326...|         0|\n",
      "|[-2.8200364866611...|         2|\n",
      "|[-2.4639931305718...|         2|\n",
      "|[-2.4115896081652...|         2|\n",
      "|[-1.2247531859438...|         2|\n",
      "|[-1.9238134680606...|         2|\n",
      "|[0.34864889990927...|         1|\n",
      "|[0.62382634366102...|         1|\n",
      "|[0.62329238250572...|         1|\n",
      "|[0.91739707625145...|         1|\n",
      "|[1.33541814467201...|         1|\n",
      "+--------------------+----------+\n",
      "\n"
     ]
    }
   ],
   "source": [
    "final_assignment_df.show()"
   ]
  }
 ],
 "metadata": {
  "kernelspec": {
   "display_name": "Python 3",
   "language": "python",
   "name": "python3"
  },
  "language_info": {
   "codemirror_mode": {
    "name": "ipython",
    "version": 3
   },
   "file_extension": ".py",
   "mimetype": "text/x-python",
   "name": "python",
   "nbconvert_exporter": "python",
   "pygments_lexer": "ipython3",
   "version": "3.11.12"
  }
 },
 "nbformat": 4,
 "nbformat_minor": 5
}
