{
 "cells": [
  {
   "cell_type": "markdown",
   "id": "fa4caa00-6b02-42a5-b502-c7e3a1f170a4",
   "metadata": {},
   "source": [
    "# Distributed K-Means\n",
    "\n",
    "### Authors\n",
    "- Bezzi Filippo, *2148867*, filippo.bezzi@studenti.unipd.it\n",
    "- Conte William, *2139490*, william.conte@studenti.unipd.it\n",
    "- D'Amore Edoardo, *2152861*, edoardo.damore@studenti.unipd.it\n",
    "- Gasparotto Giacomo, *2156362*, giacomo.gasparotto@studenti.unipd.it"
   ]
  },
  {
   "cell_type": "code",
   "execution_count": null,
   "id": "2fcbc1a7-d732-43b8-a0cb-b57109da4660",
   "metadata": {},
   "outputs": [],
   "source": [
    "import numpy as np\n",
    "import numpy.typing as npt\n",
    "import os\n",
    "import pandas as pd\n",
    "import time\n",
    "\n",
    "import matplotlib\n",
    "import matplotlib.pyplot as plt\n",
    "from matplotlib.ticker import FuncFormatter, MaxNLocator\n",
    "import matplotlib.cm as cm\n",
    "import seaborn as sns\n",
    "\n",
    "from functools import singledispatch\n",
    "import warnings\n",
    "import logging\n",
    "\n",
    "# dataset\n",
    "from sklearn.datasets import fetch_kddcup99\n",
    "from sklearn.preprocessing import StandardScaler\n",
    "\n",
    "# pyspark module\n",
    "from pyspark.rdd import RDD\n",
    "\n",
    "# src module\n",
    "from src.utils import *\n",
    "from src.data import *\n",
    "from src.kmeans.base import *\n",
    "from src.kmeans.initialization import *\n",
    "from src.kmeans.update import *"
   ]
  },
  {
   "cell_type": "markdown",
   "id": "f1f61d23",
   "metadata": {},
   "source": [
    "Starting the cluster"
   ]
  },
  {
   "cell_type": "code",
   "execution_count": 2,
   "id": "802036f8",
   "metadata": {},
   "outputs": [
    {
     "data": {
      "text/plain": [
       "'# creating the zipped environment if it doesn\\'t already exist\\n! if [ ! -f \"environment.tar.gz\" ]; then venv-pack -o \"environment.tar.gz\" ; fi\\n# creating the zipped module src\\n! if [ -f \"src.tar.gz\" ]; then rm src.tar.gz ; fi\\n! tar -czf src.tar.gz src'"
      ]
     },
     "execution_count": 2,
     "metadata": {},
     "output_type": "execute_result"
    }
   ],
   "source": [
    "\"\"\"# creating the zipped environment if it doesn't already exist\n",
    "! if [ ! -f \"environment.tar.gz\" ]; then venv-pack -o \"environment.tar.gz\" ; fi\n",
    "# creating the zipped module src\n",
    "! if [ -f \"src.tar.gz\" ]; then rm src.tar.gz ; fi\n",
    "! tar -czf src.tar.gz src\"\"\""
   ]
  },
  {
   "cell_type": "code",
   "execution_count": 3,
   "id": "45c80a13",
   "metadata": {},
   "outputs": [
    {
     "data": {
      "text/plain": [
       "'# starting the cluster\\n! $SPARK_HOME/sbin/start-all.sh'"
      ]
     },
     "execution_count": 3,
     "metadata": {},
     "output_type": "execute_result"
    },
    {
     "name": "stdout",
     "output_type": "stream",
     "text": [
      "master: starting org.apache.spark.deploy.worker.Worker, logging to /usr/local/spark/logs/spark-ubuntu-org.apache.spark.deploy.worker.Worker-1-mapd-b-14-1.out\n",
      "worker3: starting org.apache.spark.deploy.worker.Worker, logging to /usr/local/spark/logs/spark-ubuntu-org.apache.spark.deploy.worker.Worker-1-mapd-b-14-4.out\n",
      "worker2: starting org.apache.spark.deploy.worker.Worker, logging to /usr/local/spark/logs/spark-ubuntu-org.apache.spark.deploy.worker.Worker-1-mapd-b-14-3.out\n",
      "worker1: starting org.apache.spark.deploy.worker.Worker, logging to /usr/local/spark/logs/spark-ubuntu-org.apache.spark.deploy.worker.Worker-1-mapd-b-14-2.out\n"
     ]
    }
   ],
   "source": [
    "\"\"\"# starting the cluster\n",
    "! $SPARK_HOME/sbin/start-all.sh\"\"\""
   ]
  },
  {
   "cell_type": "code",
   "execution_count": 4,
   "id": "af4a0ed6",
   "metadata": {},
   "outputs": [
    {
     "data": {
      "text/plain": [
       "'os.environ[\"PYSPARK_PYTHON\"] = \"./environment/bin/python'"
      ]
     },
     "execution_count": 4,
     "metadata": {},
     "output_type": "execute_result"
    }
   ],
   "source": [
    "\"\"\"os.environ[\"PYSPARK_PYTHON\"] = \"./environment/bin/python\"\"\""
   ]
  },
  {
   "cell_type": "code",
   "execution_count": 5,
   "id": "d6275144",
   "metadata": {},
   "outputs": [
    {
     "data": {
      "text/plain": [
       "'# creating a sparkSession\\nspark = sparkSetup(\"kMeans\")\\nsc = spark.sparkContext\\n# exporting the src module\\nsc.addPyFile(\"src.tar.gz\")\\nsc.setLogLevel(\"ERROR\")\\n# Setup the spark warnings\\n# log4j_conf_path = \"./config/log4j.properties\"\\n# warnings.filterwarnings(\"ignore\") \\n# logging.getLogger(\\'py4j\\').setLevel(logging.ERROR) \\n# logging.getLogger(\\'pyspark\\').setLevel(logging.ERROR) '"
      ]
     },
     "execution_count": 5,
     "metadata": {},
     "output_type": "execute_result"
    }
   ],
   "source": [
    "\"\"\"# creating a sparkSession\n",
    "spark = sparkSetup(\"kMeans\")\n",
    "sc = spark.sparkContext\n",
    "# exporting the src module\n",
    "sc.addPyFile(\"src.tar.gz\")\n",
    "sc.setLogLevel(\"ERROR\")\n",
    "# Setup the spark warnings\n",
    "# log4j_conf_path = \"./config/log4j.properties\"\n",
    "# warnings.filterwarnings(\"ignore\") \n",
    "# logging.getLogger('py4j').setLevel(logging.ERROR) \n",
    "# logging.getLogger('pyspark').setLevel(logging.ERROR) \"\"\""
   ]
  },
  {
   "cell_type": "code",
   "execution_count": 6,
   "id": "0df689da-58d9-4259-b499-4d29f12b9dd1",
   "metadata": {},
   "outputs": [],
   "source": [
    "# Setup the spark warnings\n",
    "warnings.filterwarnings(\"ignore\") \n",
    "logging.getLogger('py4j').setLevel(logging.ERROR) \n",
    "logging.getLogger('pyspark').setLevel(logging.ERROR) \n",
    "log4j_conf_path = \"./Settings//log4j.properties\""
   ]
  },
  {
   "cell_type": "code",
   "execution_count": 7,
   "id": "389a1a3c-b34f-4cf1-aa71-3b4f427b50aa",
   "metadata": {},
   "outputs": [
    {
     "name": "stderr",
     "output_type": "stream",
     "text": [
      "Setting default log level to \"WARN\".\n",
      "To adjust logging level use sc.setLogLevel(newLevel). For SparkR, use setLogLevel(newLevel).\n",
      "25/09/15 10:11:51 WARN NativeCodeLoader: Unable to load native-hadoop library for your platform... using builtin-java classes where applicable\n"
     ]
    }
   ],
   "source": [
    "### DOCKER VERSION\n",
    "from pyspark.sql import SparkSession\n",
    "\n",
    "spark = (SparkSession.builder \n",
    "        .appName(\"kMeans\") \n",
    "        .master(\"spark://spark-master:7077\") \n",
    "        .config(\"spark.driver.memory\", \"4g\") \n",
    "        .config(\"spark.executor.memory\", \"4g\") \n",
    "        .config(\"spark.executor.cores\", \"2\") \n",
    "        .config(\"spark.cores.max\", \"8\") \n",
    "        .config(\"spark.network.timeout\", \"600s\")   \n",
    "        .config(\"spark.executor.heartbeatInterval\", \"60s\") \n",
    "        .getOrCreate()\n",
    "        )\n",
    "sc = spark.sparkContext\n",
    "sc.setLogLevel(\"ERROR\")\n",
    "\n",
    "sc.addPyFile(\"src.zip\")"
   ]
  },
  {
   "cell_type": "markdown",
   "id": "392bdefa",
   "metadata": {},
   "source": [
    "# Load and Test datasets"
   ]
  },
  {
   "cell_type": "markdown",
   "id": "39de6ba3",
   "metadata": {},
   "source": [
    "## Gaussian Mixture"
   ]
  },
  {
   "cell_type": "markdown",
   "id": "64e0056f",
   "metadata": {},
   "source": [
    "The first dataset we would consider to test the performance of the k-means++ initialization algorithm is a synthetic GaussMixture. To generate it, we sampled $k$ centers from a 15-dimensional spherical Gaussian distribution with mean at the origin and variance $R\\in \\{1,10,100\\}$. We then added points from Gaussian distributions of unit variance around each center. Given the $k$ centers, this is a mixture of $k$ spherical Gaussians with equal weights. The value of the optimal k-clustering\n",
    "can be well approximated using the centers of these Gaussians.\n",
    "\n",
    "We will perform some preliminary analysis that can be efficiently conducted on this dataset."
   ]
  },
  {
   "cell_type": "markdown",
   "id": "d5ba95d4",
   "metadata": {},
   "source": [
    "# kMeans|| Init Tests"
   ]
  },
  {
   "cell_type": "markdown",
   "id": "a65ab3ca",
   "metadata": {},
   "source": [
    "## Time / Cost tables"
   ]
  },
  {
   "cell_type": "markdown",
   "id": "3e94da46",
   "metadata": {},
   "source": [
    "The first thing we want to assess with this dataset is the performance in terms of time and cost using different initialization algorithms. In particular, we chose to initialize our k-means algorithm with four different methods:\n",
    "\n",
    "- **random**;\n",
    "- **k-means++**;\n",
    "- **k-means||** with $l\\cdot k = 0.5$;\n",
    "- **k-means||** with $l\\cdot k = 2$.\n",
    "\n",
    "Each initialization method is followed by Lloyd's iterations.\n",
    "\n",
    "This setup allows us to investigate whether the parallelization introduced by the k-means|| initialization leads to improved clustering performance, using random and k-means++ initializations as baselines."
   ]
  },
  {
   "cell_type": "code",
   "execution_count": 8,
   "id": "eceb39c9",
   "metadata": {},
   "outputs": [],
   "source": [
    "def compute_initAlgoMetrics(\n",
    "    initAlgo: str,\n",
    "    data_ndarray: npt.NDArray, \n",
    "    data_rdd: RDD, \n",
    "    iterations: int, \n",
    "    k: int, \n",
    "    l: float, \n",
    "    r: int\n",
    ") -> tuple[float, float, float, float]:\n",
    "    # Initialization\n",
    "    startTime = time.time()\n",
    "    \n",
    "    if initAlgo == \"RANDOM\": \n",
    "        centroids = kMeansRandom_init(data_rdd, k)\n",
    "    elif initAlgo == \"KM++\": \n",
    "        centroids = kMeansPlusPlus_init(data_ndarray, k)\n",
    "    elif initAlgo == \"KM||\": \n",
    "        centroids = kMeansParallel_init(data_rdd, k, l, r)\n",
    "    else: \n",
    "        raise ValueError(f\"Wrong initialization algorithm selected: '{initAlgo}'\")\n",
    "         \n",
    "    initTime = time.time() - startTime\n",
    "    seedCost = compute_cost(data_rdd, centroids)\n",
    "\n",
    "    # update centroids\n",
    "    startTime = time.time()\n",
    "    finalCentroids = lloydKMeans(data_rdd, centroids, iterations)\n",
    "    updateTime = time.time() - startTime\n",
    "    finalCost = compute_cost(data_rdd, finalCentroids)\n",
    "    \n",
    "    return initTime, updateTime, seedCost, finalCost"
   ]
  },
  {
   "cell_type": "markdown",
   "id": "1dd930c4",
   "metadata": {},
   "source": [
    "### GM dataset creation\n",
    "\n",
    "We need to create three different dataset for each value of $R \\in \\{1, 10, 100\\}$."
   ]
  },
  {
   "cell_type": "code",
   "execution_count": 9,
   "id": "1897db05",
   "metadata": {},
   "outputs": [],
   "source": [
    "# --- control parameters ---\n",
    "k = 10\n",
    "n = 100\n",
    "dim = 15\n",
    "R = [1, 10, 100]\n",
    "r = 5\n",
    "iterations = 100\n",
    "initAlgorithms = [\"RANDOM\", \"KM++\", \"KM||\", \"KM||\"]\n",
    "lk_ratios = [0, 0, 0.5, 2]"
   ]
  },
  {
   "cell_type": "code",
   "execution_count": 10,
   "id": "821eaa5f",
   "metadata": {},
   "outputs": [
    {
     "name": "stderr",
     "output_type": "stream",
     "text": [
      "                                                                                "
     ]
    },
    {
     "name": "stdout",
     "output_type": "stream",
     "text": [
      "R: 1 | initAlgo: RANDOM\n"
     ]
    },
    {
     "name": "stderr",
     "output_type": "stream",
     "text": [
      "                                                                                "
     ]
    },
    {
     "name": "stdout",
     "output_type": "stream",
     "text": [
      "R: 1 | initAlgo: KM++\n"
     ]
    },
    {
     "name": "stderr",
     "output_type": "stream",
     "text": [
      "                                                                                "
     ]
    },
    {
     "name": "stdout",
     "output_type": "stream",
     "text": [
      "R: 1 | initAlgo: KM||0.5\n"
     ]
    },
    {
     "name": "stderr",
     "output_type": "stream",
     "text": [
      "                                                                                "
     ]
    },
    {
     "name": "stdout",
     "output_type": "stream",
     "text": [
      "R: 1 | initAlgo: KM||2\n"
     ]
    },
    {
     "name": "stderr",
     "output_type": "stream",
     "text": [
      "                                                                                "
     ]
    },
    {
     "name": "stdout",
     "output_type": "stream",
     "text": [
      "R: 10 | initAlgo: RANDOM\n"
     ]
    },
    {
     "name": "stderr",
     "output_type": "stream",
     "text": [
      "                                                                                "
     ]
    },
    {
     "name": "stdout",
     "output_type": "stream",
     "text": [
      "R: 10 | initAlgo: KM++\n"
     ]
    },
    {
     "name": "stderr",
     "output_type": "stream",
     "text": [
      "                                                                                "
     ]
    },
    {
     "name": "stdout",
     "output_type": "stream",
     "text": [
      "R: 10 | initAlgo: KM||0.5\n"
     ]
    },
    {
     "name": "stderr",
     "output_type": "stream",
     "text": [
      "                                                                                "
     ]
    },
    {
     "name": "stdout",
     "output_type": "stream",
     "text": [
      "R: 10 | initAlgo: KM||2\n"
     ]
    },
    {
     "name": "stderr",
     "output_type": "stream",
     "text": [
      "                                                                                "
     ]
    },
    {
     "name": "stdout",
     "output_type": "stream",
     "text": [
      "R: 100 | initAlgo: RANDOM\n"
     ]
    },
    {
     "name": "stderr",
     "output_type": "stream",
     "text": [
      "                                                                                "
     ]
    },
    {
     "name": "stdout",
     "output_type": "stream",
     "text": [
      "R: 100 | initAlgo: KM++\n"
     ]
    },
    {
     "name": "stderr",
     "output_type": "stream",
     "text": [
      "                                                                                "
     ]
    },
    {
     "name": "stdout",
     "output_type": "stream",
     "text": [
      "R: 100 | initAlgo: KM||0.5\n"
     ]
    },
    {
     "name": "stderr",
     "output_type": "stream",
     "text": [
      "                                                                                "
     ]
    },
    {
     "name": "stdout",
     "output_type": "stream",
     "text": [
      "R: 100 | initAlgo: KM||2\n"
     ]
    },
    {
     "name": "stderr",
     "output_type": "stream",
     "text": [
      "                                                                                "
     ]
    }
   ],
   "source": [
    "initAlgoMetrics = []\n",
    "for variance in R:\n",
    "    gmData, gmCenters = get_gm(n, k, dim, variance)\n",
    "    gmData_rdd = sc.parallelize([row for row in gmData], numSlices=16).persist()\n",
    "    trueCost = compute_cost(gmData_rdd, gmCenters)\n",
    "    for initAlgo, lk_ratio in zip(initAlgorithms, lk_ratios):\n",
    "        print(f\"R: {variance} | initAlgo: {f'{initAlgo}{lk_ratio}' if initAlgo == 'KM||' else initAlgo}\")\n",
    "        initTime, updateTime, seedCost, finalCost = compute_initAlgoMetrics(\n",
    "            initAlgo = initAlgo,\n",
    "            data_ndarray = gmData,\n",
    "            data_rdd = gmData_rdd,\n",
    "            iterations = iterations,\n",
    "            k = k,\n",
    "            l = lk_ratio * k,\n",
    "            r = r\n",
    "        )\n",
    "        initAlgoMetrics.append({\n",
    "            \"R\": variance,\n",
    "            \"initAlgo\": f\"{initAlgo} {lk_ratio}\" if initAlgo == \"KM||\" else initAlgo,\n",
    "            \"initTime\": initTime,\n",
    "            \"updateTime\": updateTime,\n",
    "            \"seedCost\": seedCost,\n",
    "            \"finalCost\": finalCost,\n",
    "            \"trueCost\": trueCost\n",
    "        })\n",
    "    gmData_rdd.unpersist()\n",
    "\n",
    "initAlgoMetrics = pd.DataFrame(initAlgoMetrics)"
   ]
  },
  {
   "cell_type": "code",
   "execution_count": 22,
   "id": "72defbc5",
   "metadata": {},
   "outputs": [
    {
     "data": {
      "image/png": "[encoded data removed]",
      "text/plain": [
       "<Figure size 640x480 with 1 Axes>"
      ]
     },
     "metadata": {},
     "output_type": "display_data"
    }
   ],
   "source": [
    "plt.scatter(gmData[:,0], gmData[:,1])\n",
    "plt.scatter(gmCenters[:,0], gmCenters[:,1], c=\"red\")\n",
    "plt.show()"
   ]
  },
  {
   "cell_type": "code",
   "execution_count": 36,
   "id": "1dccb254-8420-4b65-80e3-cf47cbc2b669",
   "metadata": {},
   "outputs": [
    {
     "data": {
      "text/html": [
       "<div>\n",
       "<style scoped>\n",
       "    .dataframe tbody tr th:only-of-type {\n",
       "        vertical-align: middle;\n",
       "    }\n",
       "\n",
       "    .dataframe tbody tr th {\n",
       "        vertical-align: top;\n",
       "    }\n",
       "\n",
       "    .dataframe thead th {\n",
       "        text-align: right;\n",
       "    }\n",
       "</style>\n",
       "<table border=\"1\" class=\"dataframe\">\n",
       "  <thead>\n",
       "    <tr style=\"text-align: right;\">\n",
       "      <th></th>\n",
       "      <th>R</th>\n",
       "      <th>initAlgo</th>\n",
       "      <th>initTime</th>\n",
       "      <th>updateTime</th>\n",
       "      <th>seedCost</th>\n",
       "      <th>finalCost</th>\n",
       "      <th>trueCost</th>\n",
       "    </tr>\n",
       "  </thead>\n",
       "  <tbody>\n",
       "    <tr>\n",
       "      <th>0</th>\n",
       "      <td>1</td>\n",
       "      <td>RANDOM</td>\n",
       "      <td>3.034027</td>\n",
       "      <td>74.710596</td>\n",
       "      <td>14.491599</td>\n",
       "      <td>8.570479</td>\n",
       "      <td>8.333528</td>\n",
       "    </tr>\n",
       "    <tr>\n",
       "      <th>4</th>\n",
       "      <td>10</td>\n",
       "      <td>RANDOM</td>\n",
       "      <td>1.802900</td>\n",
       "      <td>30.982507</td>\n",
       "      <td>6.961907</td>\n",
       "      <td>3.591477</td>\n",
       "      <td>1.855832</td>\n",
       "    </tr>\n",
       "    <tr>\n",
       "      <th>8</th>\n",
       "      <td>100</td>\n",
       "      <td>RANDOM</td>\n",
       "      <td>1.161253</td>\n",
       "      <td>9.324611</td>\n",
       "      <td>6.073774</td>\n",
       "      <td>1.942490</td>\n",
       "      <td>0.215427</td>\n",
       "    </tr>\n",
       "  </tbody>\n",
       "</table>\n",
       "</div>"
      ],
      "text/plain": [
       "     R initAlgo  initTime  updateTime   seedCost  finalCost  trueCost\n",
       "0    1   RANDOM  3.034027   74.710596  14.491599   8.570479  8.333528\n",
       "4   10   RANDOM  1.802900   30.982507   6.961907   3.591477  1.855832\n",
       "8  100   RANDOM  1.161253    9.324611   6.073774   1.942490  0.215427"
      ]
     },
     "execution_count": 36,
     "metadata": {},
     "output_type": "execute_result"
    }
   ],
   "source": [
    "random_df = initAlgoMetrics[initAlgoMetrics[\"initAlgo\"]==\"RANDOM\"]\n",
    "random_df"
   ]
  },
  {
   "cell_type": "code",
   "execution_count": 37,
   "id": "da9d0610-bf57-436b-8d53-2f64efe6b07b",
   "metadata": {},
   "outputs": [
    {
     "data": {
      "text/html": [
       "<div>\n",
       "<style scoped>\n",
       "    .dataframe tbody tr th:only-of-type {\n",
       "        vertical-align: middle;\n",
       "    }\n",
       "\n",
       "    .dataframe tbody tr th {\n",
       "        vertical-align: top;\n",
       "    }\n",
       "\n",
       "    .dataframe thead th {\n",
       "        text-align: right;\n",
       "    }\n",
       "</style>\n",
       "<table border=\"1\" class=\"dataframe\">\n",
       "  <thead>\n",
       "    <tr style=\"text-align: right;\">\n",
       "      <th></th>\n",
       "      <th>R</th>\n",
       "      <th>initAlgo</th>\n",
       "      <th>initTime</th>\n",
       "      <th>updateTime</th>\n",
       "      <th>seedCost</th>\n",
       "      <th>finalCost</th>\n",
       "      <th>trueCost</th>\n",
       "    </tr>\n",
       "  </thead>\n",
       "  <tbody>\n",
       "    <tr>\n",
       "      <th>1</th>\n",
       "      <td>1</td>\n",
       "      <td>KM++</td>\n",
       "      <td>0.043638</td>\n",
       "      <td>55.357770</td>\n",
       "      <td>15.536516</td>\n",
       "      <td>8.242110</td>\n",
       "      <td>8.333528</td>\n",
       "    </tr>\n",
       "    <tr>\n",
       "      <th>5</th>\n",
       "      <td>10</td>\n",
       "      <td>KM++</td>\n",
       "      <td>0.016795</td>\n",
       "      <td>42.696607</td>\n",
       "      <td>5.997686</td>\n",
       "      <td>3.309632</td>\n",
       "      <td>1.855832</td>\n",
       "    </tr>\n",
       "    <tr>\n",
       "      <th>9</th>\n",
       "      <td>100</td>\n",
       "      <td>KM++</td>\n",
       "      <td>0.022390</td>\n",
       "      <td>9.873465</td>\n",
       "      <td>1.985846</td>\n",
       "      <td>0.903400</td>\n",
       "      <td>0.215427</td>\n",
       "    </tr>\n",
       "  </tbody>\n",
       "</table>\n",
       "</div>"
      ],
      "text/plain": [
       "     R initAlgo  initTime  updateTime   seedCost  finalCost  trueCost\n",
       "1    1     KM++  0.043638   55.357770  15.536516   8.242110  8.333528\n",
       "5   10     KM++  0.016795   42.696607   5.997686   3.309632  1.855832\n",
       "9  100     KM++  0.022390    9.873465   1.985846   0.903400  0.215427"
      ]
     },
     "execution_count": 37,
     "metadata": {},
     "output_type": "execute_result"
    }
   ],
   "source": [
    "plusplus_df = initAlgoMetrics[initAlgoMetrics[\"initAlgo\"]==\"KM++\"]\n",
    "plusplus_df"
   ]
  },
  {
   "cell_type": "code",
   "execution_count": 38,
   "id": "2d2d18f0-c26c-413e-884f-5084c3d4373d",
   "metadata": {},
   "outputs": [
    {
     "data": {
      "text/html": [
       "<div>\n",
       "<style scoped>\n",
       "    .dataframe tbody tr th:only-of-type {\n",
       "        vertical-align: middle;\n",
       "    }\n",
       "\n",
       "    .dataframe tbody tr th {\n",
       "        vertical-align: top;\n",
       "    }\n",
       "\n",
       "    .dataframe thead th {\n",
       "        text-align: right;\n",
       "    }\n",
       "</style>\n",
       "<table border=\"1\" class=\"dataframe\">\n",
       "  <thead>\n",
       "    <tr style=\"text-align: right;\">\n",
       "      <th></th>\n",
       "      <th>R</th>\n",
       "      <th>initAlgo</th>\n",
       "      <th>initTime</th>\n",
       "      <th>updateTime</th>\n",
       "      <th>seedCost</th>\n",
       "      <th>finalCost</th>\n",
       "      <th>trueCost</th>\n",
       "    </tr>\n",
       "  </thead>\n",
       "  <tbody>\n",
       "    <tr>\n",
       "      <th>2</th>\n",
       "      <td>1</td>\n",
       "      <td>KM|| 0.5</td>\n",
       "      <td>15.075234</td>\n",
       "      <td>77.748044</td>\n",
       "      <td>13.119863</td>\n",
       "      <td>8.243412</td>\n",
       "      <td>8.333528</td>\n",
       "    </tr>\n",
       "    <tr>\n",
       "      <th>6</th>\n",
       "      <td>10</td>\n",
       "      <td>KM|| 0.5</td>\n",
       "      <td>16.804399</td>\n",
       "      <td>44.087146</td>\n",
       "      <td>3.819433</td>\n",
       "      <td>2.455839</td>\n",
       "      <td>1.855832</td>\n",
       "    </tr>\n",
       "    <tr>\n",
       "      <th>10</th>\n",
       "      <td>100</td>\n",
       "      <td>KM|| 0.5</td>\n",
       "      <td>10.408533</td>\n",
       "      <td>7.133577</td>\n",
       "      <td>0.274830</td>\n",
       "      <td>0.213319</td>\n",
       "      <td>0.215427</td>\n",
       "    </tr>\n",
       "  </tbody>\n",
       "</table>\n",
       "</div>"
      ],
      "text/plain": [
       "      R  initAlgo   initTime  updateTime   seedCost  finalCost  trueCost\n",
       "2     1  KM|| 0.5  15.075234   77.748044  13.119863   8.243412  8.333528\n",
       "6    10  KM|| 0.5  16.804399   44.087146   3.819433   2.455839  1.855832\n",
       "10  100  KM|| 0.5  10.408533    7.133577   0.274830   0.213319  0.215427"
      ]
     },
     "execution_count": 38,
     "metadata": {},
     "output_type": "execute_result"
    }
   ],
   "source": [
    "parallel1_df =initAlgoMetrics[initAlgoMetrics[\"initAlgo\"]==\"KM|| 0.5\"]\n",
    "parallel1_df"
   ]
  },
  {
   "cell_type": "code",
   "execution_count": 39,
   "id": "9ed5a410-659f-4ff9-9780-15600d73ae8f",
   "metadata": {},
   "outputs": [
    {
     "data": {
      "text/html": [
       "<div>\n",
       "<style scoped>\n",
       "    .dataframe tbody tr th:only-of-type {\n",
       "        vertical-align: middle;\n",
       "    }\n",
       "\n",
       "    .dataframe tbody tr th {\n",
       "        vertical-align: top;\n",
       "    }\n",
       "\n",
       "    .dataframe thead th {\n",
       "        text-align: right;\n",
       "    }\n",
       "</style>\n",
       "<table border=\"1\" class=\"dataframe\">\n",
       "  <thead>\n",
       "    <tr style=\"text-align: right;\">\n",
       "      <th></th>\n",
       "      <th>R</th>\n",
       "      <th>initAlgo</th>\n",
       "      <th>initTime</th>\n",
       "      <th>updateTime</th>\n",
       "      <th>seedCost</th>\n",
       "      <th>finalCost</th>\n",
       "      <th>trueCost</th>\n",
       "    </tr>\n",
       "  </thead>\n",
       "  <tbody>\n",
       "    <tr>\n",
       "      <th>3</th>\n",
       "      <td>1</td>\n",
       "      <td>KM|| 2</td>\n",
       "      <td>12.254577</td>\n",
       "      <td>38.710560</td>\n",
       "      <td>9.537905</td>\n",
       "      <td>8.487959</td>\n",
       "      <td>8.333528</td>\n",
       "    </tr>\n",
       "    <tr>\n",
       "      <th>7</th>\n",
       "      <td>10</td>\n",
       "      <td>KM|| 2</td>\n",
       "      <td>14.694390</td>\n",
       "      <td>19.183839</td>\n",
       "      <td>2.866876</td>\n",
       "      <td>2.690471</td>\n",
       "      <td>1.855832</td>\n",
       "    </tr>\n",
       "    <tr>\n",
       "      <th>11</th>\n",
       "      <td>100</td>\n",
       "      <td>KM|| 2</td>\n",
       "      <td>12.165552</td>\n",
       "      <td>6.904361</td>\n",
       "      <td>1.273724</td>\n",
       "      <td>1.238280</td>\n",
       "      <td>0.215427</td>\n",
       "    </tr>\n",
       "  </tbody>\n",
       "</table>\n",
       "</div>"
      ],
      "text/plain": [
       "      R initAlgo   initTime  updateTime  seedCost  finalCost  trueCost\n",
       "3     1   KM|| 2  12.254577   38.710560  9.537905   8.487959  8.333528\n",
       "7    10   KM|| 2  14.694390   19.183839  2.866876   2.690471  1.855832\n",
       "11  100   KM|| 2  12.165552    6.904361  1.273724   1.238280  0.215427"
      ]
     },
     "execution_count": 39,
     "metadata": {},
     "output_type": "execute_result"
    }
   ],
   "source": [
    "parallel2_df =initAlgoMetrics[initAlgoMetrics[\"initAlgo\"]==\"KM|| 2\"]\n",
    "parallel2_df"
   ]
  },
  {
   "cell_type": "code",
   "execution_count": 233,
   "id": "81ca333a-defc-4194-aa2a-fa064be5935c",
   "metadata": {},
   "outputs": [
    {
     "data": {
      "image/png": "[encoded data removed]",
      "text/plain": [
       "<Figure size 1500x1000 with 4 Axes>"
      ]
     },
     "metadata": {},
     "output_type": "display_data"
    }
   ],
   "source": [
    "matplotlib.rcParams.update({'font.size': 16})\n",
    "\n",
    "# Define metrics, units and titles\n",
    "metrics = [\"initTime\", \"updateTime\", \"seedCost\", \"finalCost\"]\n",
    "units = [\"time (s)\", None, \"cost (a.u.)\", None]\n",
    "titles = [\"initTime\", \"updateTime\", \"seedCost\", \"finalCost\"]\n",
    "\n",
    "fig, axs = plt.subplots(2, 2, figsize=(15, 10))\n",
    "\n",
    "for ax, metric, title, unit in zip(axs.flat, metrics, titles, units):\n",
    "    sns.barplot(\n",
    "        data=initAlgoMetrics,\n",
    "        x=\"initAlgo\",\n",
    "        y=metric,\n",
    "        hue=\"R\",\n",
    "        palette=\"rainbow\",\n",
    "        alpha=0.8,\n",
    "        ax=ax\n",
    "    )\n",
    "\n",
    "    # Plot true cost lines\n",
    "    colors = [\"purple\", \"blue\", \"red\"]  \n",
    "    labels_true = [f\"trueCost R={R}\" for R in R_values]\n",
    "    true_handles = [plt.Line2D([0], [0], color=color, linestyle=\"dashed\", linewidth=2, label=label) for color, label in zip(colors, labels_true)]\n",
    "\n",
    "    if metric == \"finalCost\":\n",
    "        for R, color in zip(R_values, colors):\n",
    "            val = true_costs_dict[R]\n",
    "            ax.hlines(val, xmin=-0.5, xmax=3.5, linestyle=\"dashed\", color=color)\n",
    "\n",
    "    ax.set_xlabel(None, fontsize=16)\n",
    "    ax.set_ylabel(unit, fontsize=16)\n",
    "    ax.set_title(title, fontsize=16)\n",
    "    ax.tick_params(axis=\"x\", labelsize=16)\n",
    "    ax.tick_params(axis=\"y\", labelsize=16)\n",
    "    ax.get_legend().remove()\n",
    "\n",
    "# y-lims\n",
    "for ax in axs[0, :]:\n",
    "    ax.set_ylim(0, time_vals.max()*1.1)\n",
    "for ax in axs[1, :]:\n",
    "    ax.set_ylim(0, cost_vals.max()*1.1)\n",
    "\n",
    "# Legend\n",
    "handles_bar, labels_bar = axs[0,0].get_legend_handles_labels()\n",
    "labels_bar = [f\"R={lab}\" for lab in labels_bar]\n",
    "\n",
    "handles = handles_bar + true_handles\n",
    "labels = labels_bar + labels_true\n",
    "\n",
    "fig.legend(\n",
    "    handles, labels,\n",
    "    loc=\"upper center\",\n",
    "    bbox_to_anchor=(0.5, 1.05),\n",
    "    ncol=2,\n",
    "    fontsize=16,\n",
    "    frameon=False\n",
    ")\n",
    "\n",
    "plt.savefig(\"time_cost_comparison.pdf\")\n",
    "plt.tight_layout(rect=[0,0,1,0.95])\n",
    "plt.show()"
   ]
  },
  {
   "cell_type": "markdown",
   "id": "d2bfe3c7",
   "metadata": {},
   "source": [
    "## Cost vs. r plots"
   ]
  },
  {
   "cell_type": "code",
   "execution_count": 13,
   "id": "e68159a3",
   "metadata": {},
   "outputs": [],
   "source": [
    "def collect_costHistory(\n",
    "    data_rdd: RDD,\n",
    "    rounds: list[int],\n",
    "    k: int,\n",
    "    lk_ratios: list[float],\n",
    "    iterations: int,\n",
    "    verbose: bool = False\n",
    ") -> dict[int, list]:\n",
    "    costHistory = {}\n",
    "\n",
    "    for lk_ratio in lk_ratios:\n",
    "        costHistory[lk_ratio] = []\n",
    "        for r in rounds:\n",
    "            if verbose:\n",
    "                print(f\"lk_ratio: {lk_ratio} | rounds: {r}\")\n",
    "            if r==0:\n",
    "                finalCentroids = kMeansRandom_init(data_rdd, 1)\n",
    "            else:\n",
    "                centroids = kMeansParallel_init(data_rdd, k, lk_ratio * k, r)\n",
    "                finalCentroids = lloydKMeans(data_rdd, centroids, iterations)\n",
    "            cost = compute_cost(data_rdd, finalCentroids)\n",
    "            costHistory[lk_ratio].append(cost)\n",
    "    return costHistory"
   ]
  },
  {
   "cell_type": "code",
   "execution_count": 14,
   "id": "04e3fb45",
   "metadata": {},
   "outputs": [],
   "source": [
    "# --- control parameters --- \n",
    "lk_ratios = [0.5, 2, 5] #[0.5, 1, 2, 5, 10]\n",
    "rounds = [0, 2, 4] #[0, 1, 2, 4, 8, 12, 16]"
   ]
  },
  {
   "cell_type": "code",
   "execution_count": 15,
   "id": "84e3637a",
   "metadata": {},
   "outputs": [
    {
     "name": "stdout",
     "output_type": "stream",
     "text": [
      "R: 1\n"
     ]
    },
    {
     "name": "stderr",
     "output_type": "stream",
     "text": [
      "                                                                                "
     ]
    },
    {
     "name": "stdout",
     "output_type": "stream",
     "text": [
      "lk_ratio: 0.5 | rounds: 0\n"
     ]
    },
    {
     "name": "stderr",
     "output_type": "stream",
     "text": [
      "                                                                                "
     ]
    },
    {
     "name": "stdout",
     "output_type": "stream",
     "text": [
      "lk_ratio: 0.5 | rounds: 2\n"
     ]
    },
    {
     "name": "stderr",
     "output_type": "stream",
     "text": [
      "                                                                                "
     ]
    },
    {
     "name": "stdout",
     "output_type": "stream",
     "text": [
      "lk_ratio: 0.5 | rounds: 4\n"
     ]
    },
    {
     "name": "stderr",
     "output_type": "stream",
     "text": [
      "                                                                                "
     ]
    },
    {
     "name": "stdout",
     "output_type": "stream",
     "text": [
      "lk_ratio: 2 | rounds: 0\n",
      "lk_ratio: 2 | rounds: 2\n"
     ]
    },
    {
     "name": "stderr",
     "output_type": "stream",
     "text": [
      "                                                                                "
     ]
    },
    {
     "name": "stdout",
     "output_type": "stream",
     "text": [
      "lk_ratio: 2 | rounds: 4\n"
     ]
    },
    {
     "name": "stderr",
     "output_type": "stream",
     "text": [
      "                                                                                "
     ]
    },
    {
     "name": "stdout",
     "output_type": "stream",
     "text": [
      "lk_ratio: 5 | rounds: 0\n",
      "lk_ratio: 5 | rounds: 2\n"
     ]
    },
    {
     "name": "stderr",
     "output_type": "stream",
     "text": [
      "                                                                                "
     ]
    },
    {
     "name": "stdout",
     "output_type": "stream",
     "text": [
      "lk_ratio: 5 | rounds: 4\n"
     ]
    },
    {
     "name": "stderr",
     "output_type": "stream",
     "text": [
      "                                                                                "
     ]
    },
    {
     "name": "stdout",
     "output_type": "stream",
     "text": [
      "R: 10\n"
     ]
    },
    {
     "name": "stderr",
     "output_type": "stream",
     "text": [
      "                                                                                "
     ]
    },
    {
     "name": "stdout",
     "output_type": "stream",
     "text": [
      "lk_ratio: 0.5 | rounds: 0\n",
      "lk_ratio: 0.5 | rounds: 2\n"
     ]
    },
    {
     "name": "stderr",
     "output_type": "stream",
     "text": [
      "                                                                                "
     ]
    },
    {
     "name": "stdout",
     "output_type": "stream",
     "text": [
      "lk_ratio: 0.5 | rounds: 4\n"
     ]
    },
    {
     "name": "stderr",
     "output_type": "stream",
     "text": [
      "                                                                                "
     ]
    },
    {
     "name": "stdout",
     "output_type": "stream",
     "text": [
      "lk_ratio: 2 | rounds: 0\n"
     ]
    },
    {
     "name": "stderr",
     "output_type": "stream",
     "text": [
      "                                                                                "
     ]
    },
    {
     "name": "stdout",
     "output_type": "stream",
     "text": [
      "lk_ratio: 2 | rounds: 2\n"
     ]
    },
    {
     "name": "stderr",
     "output_type": "stream",
     "text": [
      "                                                                                "
     ]
    },
    {
     "name": "stdout",
     "output_type": "stream",
     "text": [
      "lk_ratio: 2 | rounds: 4\n"
     ]
    },
    {
     "name": "stderr",
     "output_type": "stream",
     "text": [
      "                                                                                "
     ]
    },
    {
     "name": "stdout",
     "output_type": "stream",
     "text": [
      "lk_ratio: 5 | rounds: 0\n"
     ]
    },
    {
     "name": "stderr",
     "output_type": "stream",
     "text": [
      "                                                                                "
     ]
    },
    {
     "name": "stdout",
     "output_type": "stream",
     "text": [
      "lk_ratio: 5 | rounds: 2\n"
     ]
    },
    {
     "name": "stderr",
     "output_type": "stream",
     "text": [
      "                                                                                "
     ]
    },
    {
     "name": "stdout",
     "output_type": "stream",
     "text": [
      "lk_ratio: 5 | rounds: 4\n"
     ]
    },
    {
     "name": "stderr",
     "output_type": "stream",
     "text": [
      "                                                                                "
     ]
    },
    {
     "name": "stdout",
     "output_type": "stream",
     "text": [
      "R: 100\n"
     ]
    },
    {
     "name": "stderr",
     "output_type": "stream",
     "text": [
      "                                                                                "
     ]
    },
    {
     "name": "stdout",
     "output_type": "stream",
     "text": [
      "lk_ratio: 0.5 | rounds: 0\n",
      "lk_ratio: 0.5 | rounds: 2\n"
     ]
    },
    {
     "name": "stderr",
     "output_type": "stream",
     "text": [
      "                                                                                "
     ]
    },
    {
     "name": "stdout",
     "output_type": "stream",
     "text": [
      "lk_ratio: 0.5 | rounds: 4\n"
     ]
    },
    {
     "name": "stderr",
     "output_type": "stream",
     "text": [
      "                                                                                "
     ]
    },
    {
     "name": "stdout",
     "output_type": "stream",
     "text": [
      "lk_ratio: 2 | rounds: 0\n",
      "lk_ratio: 2 | rounds: 2\n"
     ]
    },
    {
     "name": "stderr",
     "output_type": "stream",
     "text": [
      "                                                                                "
     ]
    },
    {
     "name": "stdout",
     "output_type": "stream",
     "text": [
      "lk_ratio: 2 | rounds: 4\n"
     ]
    },
    {
     "name": "stderr",
     "output_type": "stream",
     "text": [
      "                                                                                "
     ]
    },
    {
     "name": "stdout",
     "output_type": "stream",
     "text": [
      "lk_ratio: 5 | rounds: 0\n"
     ]
    },
    {
     "name": "stderr",
     "output_type": "stream",
     "text": [
      "                                                                                "
     ]
    },
    {
     "name": "stdout",
     "output_type": "stream",
     "text": [
      "lk_ratio: 5 | rounds: 2\n"
     ]
    },
    {
     "name": "stderr",
     "output_type": "stream",
     "text": [
      "                                                                                "
     ]
    },
    {
     "name": "stdout",
     "output_type": "stream",
     "text": [
      "lk_ratio: 5 | rounds: 4\n"
     ]
    },
    {
     "name": "stderr",
     "output_type": "stream",
     "text": [
      "                                                                                "
     ]
    }
   ],
   "source": [
    "R = [1, 10, 100]\n",
    "baselineCosts = []\n",
    "costHistory = {}\n",
    "for variance in R:\n",
    "    print(f\"R: {variance}\")\n",
    "    gmData, gmCenters = get_gm(n, k, dim, variance)\n",
    "    gmData_rdd = sc.parallelize([row for row in gmData], numSlices=16).persist()\n",
    "    trueCost = compute_cost(gmData_rdd, gmCenters)\n",
    "\n",
    "    # baseline (KM++ seeds + Lloyd)\n",
    "    centroids = kMeansPlusPlus_init(gmData, k)\n",
    "    finalCentroids = lloydKMeans(gmData_rdd, centroids, iterations)\n",
    "    baselineCosts.append(compute_cost(gmData_rdd, finalCentroids))\n",
    "    \n",
    "    costHistory[variance] = collect_costHistory(gmData_rdd, rounds, k, lk_ratios, iterations, verbose = True)"
   ]
  },
  {
   "cell_type": "code",
   "execution_count": 234,
   "id": "f309622a",
   "metadata": {},
   "outputs": [],
   "source": [
    "def plot_costHistory(\n",
    "    costHistory: dict[int, dict[int, list]],\n",
    "    rounds: list[int],\n",
    "    baselineCosts: list[float]\n",
    ") -> None:\n",
    "\n",
    "    matplotlib.rcParams.update({'font.size': 16})\n",
    "    \n",
    "    fig, axs = plt.subplots(1, len(costHistory.keys()), figsize=(18, 6), sharey=True)\n",
    "    if len(costHistory) == 1:\n",
    "        axs = [axs]  # Ensure axs is iterable\n",
    "\n",
    "    for idx, (RR, results) in enumerate(costHistory.items()):\n",
    "        ax = axs[idx]\n",
    "        \n",
    "        # Plot baseline\n",
    "        ax.axhline(baselineCosts[idx], color='k', linestyle='solid', lw=1.5, alpha=0.7, label=\"KM++ & Lloyd baseline\")\n",
    "        \n",
    "        # Colormap\n",
    "        lk_values = results.keys()\n",
    "        colors = cm.rainbow(np.linspace(0, 1, len(lk_values)))\n",
    "\n",
    "        # Markers and linestyles\n",
    "        markers = [\"s\", \"o\", \"X\"] #[\"s\", \"o\", \"X\", \"^\", \"v\"]\n",
    "        lines = [\"solid\", \"dotted\", \"dashed\"] #[\"solid\", \"dotted\", \"dashed\", \"dashdot\", \"solid\"]\n",
    "\n",
    "        for lk, color, marker, line in zip(lk_values, colors, markers, lines):\n",
    "            phis = results[lk]\n",
    "            ax.plot(rounds, phis, marker=marker, markersize=8, markerfacecolor=\"none\",\n",
    "                    color=color, linewidth=1.5, linestyle=line, alpha=0.8, label=f\"l/k={lk}\")\n",
    "\n",
    "        ax.set_title(f\"R = {RR}\", fontsize=16)\n",
    "        ax.set_xlabel(\"# Initialization Rounds\", fontsize=16)\n",
    "        if idx == 0:\n",
    "            ax.set_ylabel(\"Cost\", fontsize=16)\n",
    "        ax.xaxis.set_major_locator(MaxNLocator(integer=True))\n",
    "        ax.tick_params(axis='x', labelsize=16)\n",
    "        ax.tick_params(axis='y', labelsize=16)\n",
    "        ax.legend(frameon=False, fontsize=16)\n",
    "        ax.grid(alpha=0.6)\n",
    "\n",
    "    plt.savefig(\"cost_history_plot.pdf\")\n",
    "    plt.tight_layout()\n",
    "    plt.show()\n",
    "\n",
    "    return"
   ]
  },
  {
   "cell_type": "code",
   "execution_count": 235,
   "id": "d2c75ae6",
   "metadata": {},
   "outputs": [
    {
     "data": {
      "image/png": "[encoded data removed]",
      "text/plain": [
       "<Figure size 1800x600 with 3 Axes>"
      ]
     },
     "metadata": {},
     "output_type": "display_data"
    }
   ],
   "source": [
    "plot_costHistory(costHistory, rounds, baselineCosts)"
   ]
  },
  {
   "cell_type": "markdown",
   "id": "70022b0e",
   "metadata": {},
   "source": [
    "# Update analysis"
   ]
  },
  {
   "cell_type": "code",
   "execution_count": 19,
   "id": "d24e2e86",
   "metadata": {},
   "outputs": [],
   "source": [
    "kddData, kddLabels, entries_dict = get_kdd(standardize=True)"
   ]
  },
  {
   "cell_type": "code",
   "execution_count": 20,
   "id": "b0b2512d",
   "metadata": {},
   "outputs": [],
   "source": [
    "k = np.unique(kddLabels).shape[0]\n",
    "l = 0.5 * k"
   ]
  },
  {
   "cell_type": "code",
   "execution_count": 21,
   "id": "0cb252d6",
   "metadata": {},
   "outputs": [
    {
     "name": "stderr",
     "output_type": "stream",
     "text": [
      "ERROR:root:KeyboardInterrupt while sending command.                 (0 + 8) / 8]\n",
      "Traceback (most recent call last):\n",
      "  File \"/usr/bin/spark-3.5.5-bin-hadoop3/python/lib/py4j-0.10.9.7-src.zip/py4j/java_gateway.py\", line 1038, in send_command\n",
      "    response = connection.send_command(command)\n",
      "               ^^^^^^^^^^^^^^^^^^^^^^^^^^^^^^^^\n",
      "  File \"/usr/bin/spark-3.5.5-bin-hadoop3/python/lib/py4j-0.10.9.7-src.zip/py4j/clientserver.py\", line 511, in send_command\n",
      "    answer = smart_decode(self.stream.readline()[:-1])\n",
      "                          ^^^^^^^^^^^^^^^^^^^^^^\n",
      "  File \"/usr/local/lib/python3.11/socket.py\", line 718, in readinto\n",
      "    return self._sock.recv_into(b)\n",
      "           ^^^^^^^^^^^^^^^^^^^^^^^\n",
      "KeyboardInterrupt\n",
      "                                                                                "
     ]
    },
    {
     "ename": "KeyboardInterrupt",
     "evalue": "",
     "output_type": "error",
     "traceback": [
      "\u001b[31m---------------------------------------------------------------------------\u001b[39m",
      "\u001b[31mKeyboardInterrupt\u001b[39m                         Traceback (most recent call last)",
      "\u001b[36mCell\u001b[39m\u001b[36m \u001b[39m\u001b[32mIn[21]\u001b[39m\u001b[32m, line 2\u001b[39m\n\u001b[32m      1\u001b[39m kddData_rdd = sc.parallelize([row \u001b[38;5;28;01mfor\u001b[39;00m row \u001b[38;5;129;01min\u001b[39;00m kddData]).persist()\n\u001b[32m----> \u001b[39m\u001b[32m2\u001b[39m centroids = \u001b[43mkMeansParallel_init\u001b[49m\u001b[43m(\u001b[49m\u001b[43mkddData_rdd\u001b[49m\u001b[43m,\u001b[49m\u001b[43m \u001b[49m\u001b[43mk\u001b[49m\u001b[43m,\u001b[49m\u001b[43m \u001b[49m\u001b[43ml\u001b[49m\u001b[43m)\u001b[49m\n\u001b[32m      3\u001b[39m kddData_rdd.unpersist()\n",
      "\u001b[36mFile \u001b[39m\u001b[32m/mapd-workspace/src/kmeans/initialization.py:124\u001b[39m, in \u001b[36mkMeansParallel_init\u001b[39m\u001b[34m(data_rdd, k, l, r)\u001b[39m\n\u001b[32m    117\u001b[39m \u001b[38;5;66;03m# edge case in which centroids.shape[0] < k at the end of the iterations:\u001b[39;00m\n\u001b[32m    118\u001b[39m \u001b[38;5;66;03m# continue until we have enough centroids\u001b[39;00m\n\u001b[32m    119\u001b[39m \u001b[38;5;28;01mwhile\u001b[39;00m (\u001b[38;5;28miter\u001b[39m < iterations) \u001b[38;5;129;01mor\u001b[39;00m (centroids.shape[\u001b[32m0\u001b[39m] < k):\n\u001b[32m    120\u001b[39m     new_centroids = np.array(\n\u001b[32m    121\u001b[39m         \u001b[43mminDistance_rdd\u001b[49m\u001b[43m \u001b[49m\u001b[43m\\\u001b[49m\n\u001b[32m    122\u001b[39m \u001b[43m            \u001b[49m\u001b[43m.\u001b[49m\u001b[43mfilter\u001b[49m\u001b[43m(\u001b[49m\u001b[38;5;28;43;01mlambda\u001b[39;49;00m\u001b[43m \u001b[49m\u001b[43mx\u001b[49m\u001b[43m:\u001b[49m\u001b[43m \u001b[49m\u001b[43mnp\u001b[49m\u001b[43m.\u001b[49m\u001b[43mrandom\u001b[49m\u001b[43m.\u001b[49m\u001b[43mrand\u001b[49m\u001b[43m(\u001b[49m\u001b[43m)\u001b[49m\u001b[43m \u001b[49m\u001b[43m<\u001b[49m\u001b[43m \u001b[49m\u001b[43mnp\u001b[49m\u001b[43m.\u001b[49m\u001b[43mmin\u001b[49m\u001b[43m(\u001b[49m\u001b[43m[\u001b[49m\u001b[43ml\u001b[49m\u001b[43m \u001b[49m\u001b[43m*\u001b[49m\u001b[43m \u001b[49m\u001b[43mx\u001b[49m\u001b[43m[\u001b[49m\u001b[32;43m1\u001b[39;49m\u001b[43m]\u001b[49m\u001b[43m \u001b[49m\u001b[43m/\u001b[49m\u001b[43m \u001b[49m\u001b[43mcost\u001b[49m\u001b[43m,\u001b[49m\u001b[43m \u001b[49m\u001b[32;43m1\u001b[39;49m\u001b[43m]\u001b[49m\u001b[43m)\u001b[49m\u001b[43m)\u001b[49m\u001b[43m \u001b[49m\u001b[43m\\\u001b[49m\n\u001b[32m    123\u001b[39m \u001b[43m            \u001b[49m\u001b[43m.\u001b[49m\u001b[43mmap\u001b[49m\u001b[43m(\u001b[49m\u001b[38;5;28;43;01mlambda\u001b[39;49;00m\u001b[43m \u001b[49m\u001b[43mx\u001b[49m\u001b[43m:\u001b[49m\u001b[43m \u001b[49m\u001b[43mx\u001b[49m\u001b[43m[\u001b[49m\u001b[32;43m0\u001b[39;49m\u001b[43m]\u001b[49m\u001b[43m)\u001b[49m\u001b[43m \u001b[49m\u001b[43m\\\u001b[49m\n\u001b[32m--> \u001b[39m\u001b[32m124\u001b[39m \u001b[43m            \u001b[49m\u001b[43m.\u001b[49m\u001b[43mcollect\u001b[49m\u001b[43m(\u001b[49m\u001b[43m)\u001b[49m\n\u001b[32m    125\u001b[39m     )\n\u001b[32m    126\u001b[39m     \u001b[38;5;66;03m# edge case in which no new centroid is sampled:\u001b[39;00m\n\u001b[32m    127\u001b[39m     \u001b[38;5;66;03m# this avoids the following `np.concatenate` to fail\u001b[39;00m\n\u001b[32m    128\u001b[39m     \u001b[38;5;28;01mif\u001b[39;00m \u001b[38;5;28mlen\u001b[39m(new_centroids.shape) < \u001b[32m2\u001b[39m:\n",
      "\u001b[36mFile \u001b[39m\u001b[32m/usr/bin/spark-3.5.5-bin-hadoop3/python/pyspark/rdd.py:1833\u001b[39m, in \u001b[36mRDD.collect\u001b[39m\u001b[34m(self)\u001b[39m\n\u001b[32m   1831\u001b[39m \u001b[38;5;28;01mwith\u001b[39;00m SCCallSiteSync(\u001b[38;5;28mself\u001b[39m.context):\n\u001b[32m   1832\u001b[39m     \u001b[38;5;28;01massert\u001b[39;00m \u001b[38;5;28mself\u001b[39m.ctx._jvm \u001b[38;5;129;01mis\u001b[39;00m \u001b[38;5;129;01mnot\u001b[39;00m \u001b[38;5;28;01mNone\u001b[39;00m\n\u001b[32m-> \u001b[39m\u001b[32m1833\u001b[39m     sock_info = \u001b[38;5;28;43mself\u001b[39;49m\u001b[43m.\u001b[49m\u001b[43mctx\u001b[49m\u001b[43m.\u001b[49m\u001b[43m_jvm\u001b[49m\u001b[43m.\u001b[49m\u001b[43mPythonRDD\u001b[49m\u001b[43m.\u001b[49m\u001b[43mcollectAndServe\u001b[49m\u001b[43m(\u001b[49m\u001b[38;5;28;43mself\u001b[39;49m\u001b[43m.\u001b[49m\u001b[43m_jrdd\u001b[49m\u001b[43m.\u001b[49m\u001b[43mrdd\u001b[49m\u001b[43m(\u001b[49m\u001b[43m)\u001b[49m\u001b[43m)\u001b[49m\n\u001b[32m   1834\u001b[39m \u001b[38;5;28;01mreturn\u001b[39;00m \u001b[38;5;28mlist\u001b[39m(_load_from_socket(sock_info, \u001b[38;5;28mself\u001b[39m._jrdd_deserializer))\n",
      "\u001b[36mFile \u001b[39m\u001b[32m/usr/bin/spark-3.5.5-bin-hadoop3/python/lib/py4j-0.10.9.7-src.zip/py4j/java_gateway.py:1321\u001b[39m, in \u001b[36mJavaMember.__call__\u001b[39m\u001b[34m(self, *args)\u001b[39m\n\u001b[32m   1314\u001b[39m args_command, temp_args = \u001b[38;5;28mself\u001b[39m._build_args(*args)\n\u001b[32m   1316\u001b[39m command = proto.CALL_COMMAND_NAME +\\\n\u001b[32m   1317\u001b[39m     \u001b[38;5;28mself\u001b[39m.command_header +\\\n\u001b[32m   1318\u001b[39m     args_command +\\\n\u001b[32m   1319\u001b[39m     proto.END_COMMAND_PART\n\u001b[32m-> \u001b[39m\u001b[32m1321\u001b[39m answer = \u001b[38;5;28;43mself\u001b[39;49m\u001b[43m.\u001b[49m\u001b[43mgateway_client\u001b[49m\u001b[43m.\u001b[49m\u001b[43msend_command\u001b[49m\u001b[43m(\u001b[49m\u001b[43mcommand\u001b[49m\u001b[43m)\u001b[49m\n\u001b[32m   1322\u001b[39m return_value = get_return_value(\n\u001b[32m   1323\u001b[39m     answer, \u001b[38;5;28mself\u001b[39m.gateway_client, \u001b[38;5;28mself\u001b[39m.target_id, \u001b[38;5;28mself\u001b[39m.name)\n\u001b[32m   1325\u001b[39m \u001b[38;5;28;01mfor\u001b[39;00m temp_arg \u001b[38;5;129;01min\u001b[39;00m temp_args:\n",
      "\u001b[36mFile \u001b[39m\u001b[32m/usr/bin/spark-3.5.5-bin-hadoop3/python/lib/py4j-0.10.9.7-src.zip/py4j/java_gateway.py:1038\u001b[39m, in \u001b[36mGatewayClient.send_command\u001b[39m\u001b[34m(self, command, retry, binary)\u001b[39m\n\u001b[32m   1036\u001b[39m connection = \u001b[38;5;28mself\u001b[39m._get_connection()\n\u001b[32m   1037\u001b[39m \u001b[38;5;28;01mtry\u001b[39;00m:\n\u001b[32m-> \u001b[39m\u001b[32m1038\u001b[39m     response = \u001b[43mconnection\u001b[49m\u001b[43m.\u001b[49m\u001b[43msend_command\u001b[49m\u001b[43m(\u001b[49m\u001b[43mcommand\u001b[49m\u001b[43m)\u001b[49m\n\u001b[32m   1039\u001b[39m     \u001b[38;5;28;01mif\u001b[39;00m binary:\n\u001b[32m   1040\u001b[39m         \u001b[38;5;28;01mreturn\u001b[39;00m response, \u001b[38;5;28mself\u001b[39m._create_connection_guard(connection)\n",
      "\u001b[36mFile \u001b[39m\u001b[32m/usr/bin/spark-3.5.5-bin-hadoop3/python/lib/py4j-0.10.9.7-src.zip/py4j/clientserver.py:511\u001b[39m, in \u001b[36mClientServerConnection.send_command\u001b[39m\u001b[34m(self, command)\u001b[39m\n\u001b[32m    509\u001b[39m \u001b[38;5;28;01mtry\u001b[39;00m:\n\u001b[32m    510\u001b[39m     \u001b[38;5;28;01mwhile\u001b[39;00m \u001b[38;5;28;01mTrue\u001b[39;00m:\n\u001b[32m--> \u001b[39m\u001b[32m511\u001b[39m         answer = smart_decode(\u001b[38;5;28mself\u001b[39m.stream.readline()[:-\u001b[32m1\u001b[39m])\n\u001b[32m    512\u001b[39m         logger.debug(\u001b[33m\"\u001b[39m\u001b[33mAnswer received: \u001b[39m\u001b[38;5;132;01m{0}\u001b[39;00m\u001b[33m\"\u001b[39m.format(answer))\n\u001b[32m    513\u001b[39m         \u001b[38;5;66;03m# Happens when a the other end is dead. There might be an empty\u001b[39;00m\n\u001b[32m    514\u001b[39m         \u001b[38;5;66;03m# answer before the socket raises an error.\u001b[39;00m\n",
      "\u001b[36mFile \u001b[39m\u001b[32m/usr/local/lib/python3.11/socket.py:718\u001b[39m, in \u001b[36mSocketIO.readinto\u001b[39m\u001b[34m(self, b)\u001b[39m\n\u001b[32m    716\u001b[39m \u001b[38;5;28;01mwhile\u001b[39;00m \u001b[38;5;28;01mTrue\u001b[39;00m:\n\u001b[32m    717\u001b[39m     \u001b[38;5;28;01mtry\u001b[39;00m:\n\u001b[32m--> \u001b[39m\u001b[32m718\u001b[39m         \u001b[38;5;28;01mreturn\u001b[39;00m \u001b[38;5;28;43mself\u001b[39;49m\u001b[43m.\u001b[49m\u001b[43m_sock\u001b[49m\u001b[43m.\u001b[49m\u001b[43mrecv_into\u001b[49m\u001b[43m(\u001b[49m\u001b[43mb\u001b[49m\u001b[43m)\u001b[49m\n\u001b[32m    719\u001b[39m     \u001b[38;5;28;01mexcept\u001b[39;00m timeout:\n\u001b[32m    720\u001b[39m         \u001b[38;5;28mself\u001b[39m._timeout_occurred = \u001b[38;5;28;01mTrue\u001b[39;00m\n",
      "\u001b[31mKeyboardInterrupt\u001b[39m: "
     ]
    }
   ],
   "source": [
    "kddData_rdd = sc.parallelize([row for row in kddData]).persist()\n",
    "centroids = kMeansParallel_init(kddData_rdd, k, l)\n",
    "kddData_rdd.unpersist()"
   ]
  },
  {
   "cell_type": "code",
   "execution_count": null,
   "id": "8c245e45",
   "metadata": {},
   "outputs": [],
   "source": [
    "time_dict = {}"
   ]
  },
  {
   "cell_type": "markdown",
   "id": "c1f92f1f",
   "metadata": {},
   "source": [
    "Lloyd's kMeans serial"
   ]
  },
  {
   "cell_type": "code",
   "execution_count": null,
   "id": "7df020ad",
   "metadata": {},
   "outputs": [],
   "source": [
    "start_time = time.time()\n",
    "final_centroids = lloydKMeans(kddData, centroids, iterations = 100)\n",
    "delta_time = time.time() - start_time\n",
    "time_dict[1] = {\"lloyd\": delta_time}"
   ]
  },
  {
   "cell_type": "markdown",
   "id": "ed535a3e",
   "metadata": {},
   "source": [
    "Parallel"
   ]
  },
  {
   "cell_type": "code",
   "execution_count": null,
   "id": "a2c41209",
   "metadata": {},
   "outputs": [],
   "source": [
    "partitions = [2, 4, 8, 16, 32, 64, 128]\n",
    "for numSlices in partitions:\n",
    "    time_dict[numSlices] = {}\n",
    "    kddData_rdd = sc.parallelize([row for row in kddData], numSlices=numSlices).persist()\n",
    "    \n",
    "    start_time = time.time()\n",
    "    final_centroids = lloydKMeans(kddData_rdd, centroids, iterations = 100)\n",
    "    delta_time = time.time() - start_time\n",
    "    time_dict[numSlices][\"lloyd\"] = delta_time\n",
    "\n",
    "    start_time = time.time()\n",
    "    final_centroids = miniBatchKMeans(kddData_rdd, centroids, iterations = 100)\n",
    "    delta_time = time.time() - start_time\n",
    "    time_dict[numSlices][\"miniBatch\"] = delta_time\n",
    "    \n",
    "    kddData_rdd.unpersist()"
   ]
  },
  {
   "cell_type": "code",
   "execution_count": null,
   "id": "da16ab58",
   "metadata": {},
   "outputs": [],
   "source": [
    "time_dict"
   ]
  },
  {
   "cell_type": "markdown",
   "id": "11f4de91",
   "metadata": {},
   "source": [
    "### Cost vs iterations\n"
   ]
  },
  {
   "cell_type": "code",
   "execution_count": null,
   "id": "0946445b",
   "metadata": {},
   "outputs": [],
   "source": [
    "max_epochs = 200\n",
    "\n",
    "# final results dictionary\n",
    "results_dict = {\n",
    "    \"lloyd_serial\": [],\n",
    "    \"lloyd_parallel\": [],\n",
    "    \"minibatch_01\": [],\n",
    "    \"minibatch_02\": [],\n",
    "    \"minibatch_05\": [],\n",
    "    \"minibatch_07\": []\n",
    "}\n",
    "\n",
    "# partial_results\n",
    "patience = 3        # number of previous costs to average for stopping\n",
    "threshold = 1e-3    # convergence threshold\n",
    "\n",
    "# Parameters\n",
    "n_runs = 3  # number of independent runs\n",
    "all_histories_runs = {key: [] for key in results_dict.keys()}"
   ]
  },
  {
   "cell_type": "code",
   "execution_count": null,
   "id": "373e0824",
   "metadata": {},
   "outputs": [],
   "source": [
    "for key in results_dict.keys():\n",
    "    print(f\"Running {key}\")\n",
    "\n",
    "    for run in range(n_runs):\n",
    "        print(f\"  Run {run+1}/{n_runs}\")\n",
    "        history = []\n",
    "\n",
    "        current_centroids = centroids.copy()  # initialize centroids\n",
    "\n",
    "        # compute initial cost\n",
    "        if key.startswith(\"minibatch\") or key == \"lloyd_parallel\":\n",
    "            initial_cost = compute_cost(kddData_rdd, current_centroids)\n",
    "        else:  # lloyd_serial\n",
    "            initial_cost = compute_cost(kddData_rdd, current_centroids)\n",
    "        history.append(initial_cost)\n",
    "\n",
    "        # compute costs for each epoch\n",
    "        for epoch in range(max_epochs):\n",
    "            if key == 'lloyd_serial':\n",
    "                current_centroids = lloydKMeans(kddData_rdd, centroids=current_centroids, iterations=1)\n",
    "                cost = compute_cost(kddData_rdd, current_centroids)\n",
    "            elif key == \"lloyd_parallel\":\n",
    "                current_centroids = lloydKMeans(kddData_rdd, centroids=current_centroids, iterations=1)\n",
    "                cost = compute_cost(kddData_rdd, current_centroids)\n",
    "            elif key.startswith(\"minibatch\"):\n",
    "                fraction = {\n",
    "                    \"minibatch_01\": 0.1,\n",
    "                    \"minibatch_02\": 0.2,\n",
    "                    \"minibatch_05\": 0.5,\n",
    "                    \"minibatch_07\": 0.7,\n",
    "                }[key]\n",
    "\n",
    "                current_centroids = miniBatchKMeans(\n",
    "                    kddData_rdd, centroids=current_centroids, iterations=1, batch_fraction=fraction\n",
    "                )\n",
    "                cost = compute_cost(kddData_rdd, current_centroids)\n",
    "\n",
    "            history.append(cost)\n",
    "\n",
    "            # early stopping: compare current cost to average of last `patience` costs\n",
    "            if len(history) > patience:\n",
    "                recent_avg = np.mean(history[-patience:])\n",
    "                if abs(history[-1] - recent_avg) < threshold:\n",
    "                    break\n",
    "\n",
    "        # pad history to max_epochs\n",
    "        if len(history) < max_epochs + 1:  # +1 because of initial cost\n",
    "            history += [history[-1]] * ((max_epochs + 1) - len(history))\n",
    "\n",
    "        all_histories_runs[key].append(history)"
   ]
  },
  {
   "cell_type": "code",
   "execution_count": null,
   "id": "a91fb6aa",
   "metadata": {},
   "outputs": [],
   "source": [
    "# Compute mean and std for each algorithm\n",
    "results_mean_std = {}\n",
    "for key, histories in all_histories_runs.items():\n",
    "    arr = np.array(histories)  # shape: (n_runs, max_epochs+1)\n",
    "    mean_cost = arr.mean(axis=0)\n",
    "    std_cost = arr.std(axis=0)\n",
    "    results_mean_std[key] = {\"mean\": mean_cost, \"std\": std_cost}"
   ]
  },
  {
   "cell_type": "code",
   "execution_count": null,
   "id": "f1ccc268",
   "metadata": {},
   "outputs": [],
   "source": [
    "results_dict"
   ]
  },
  {
   "cell_type": "code",
   "execution_count": null,
   "id": "1d28e53c",
   "metadata": {},
   "outputs": [],
   "source": [
    "results_mean_std"
   ]
  },
  {
   "cell_type": "code",
   "execution_count": null,
   "id": "fb06aafc",
   "metadata": {},
   "outputs": [],
   "source": [
    "plt.figure(figsize=(12, 6))\n",
    "\n",
    "# different markers\n",
    "markers = ['o', 's', '^', 'D', 'x', '*']\n",
    "\n",
    "# offsets to avoid errorbar overlaps\n",
    "offsets = [0,1,0,0,1,-1]\n",
    "for i, (key, stats) in enumerate(results_mean_std.items()):\n",
    "    mean = stats[\"mean\"]\n",
    "    std = stats[\"std\"]\n",
    "    epochs = np.arange(len(mean))\n",
    "\n",
    "    # line style\n",
    "    if \"lloyd\" in key:\n",
    "        line_style = \"--\"   \n",
    "    else:\n",
    "        line_style = \"-\"    \n",
    "\n",
    "    # cycle markers\n",
    "    marker = markers[i]\n",
    "    \n",
    "    plt.errorbar(\n",
    "        epochs[::10+offsets[i]], mean[::10+offsets[i]], yerr=std[::10+offsets[i]],\n",
    "        fmt=line_style+marker, capsize=3, label=key\n",
    "    )\n",
    "    offset += 1\n",
    "\n",
    "plt.xlabel(\"Epoch\", fontsize=14)\n",
    "plt.ylabel(\"Cost\", fontsize=14)\n",
    "plt.title(\"K-Means Convergence: Cost vs Epochs\", fontsize=16)\n",
    "plt.grid(alpha=0.6)\n",
    "plt.legend(title=\"Algorithm:\", loc=\"best\")\n",
    "plt.show()"
   ]
  },
  {
   "cell_type": "markdown",
   "id": "d823b81f",
   "metadata": {},
   "source": [
    "Stopping the cluster"
   ]
  },
  {
   "cell_type": "code",
   "execution_count": null,
   "id": "a6b3093a",
   "metadata": {},
   "outputs": [],
   "source": [
    "sc.stop()\n",
    "spark.stop()"
   ]
  },
  {
   "cell_type": "code",
   "execution_count": null,
   "id": "5fcdb5d9",
   "metadata": {},
   "outputs": [],
   "source": [
    "\"\"\"# stopping the cluster\n",
    "! $SPARK_HOME/sbin/stop-all.sh\n",
    "# clearing the `$SPARK_HOME/work` directory in all the nodes\n",
    "# this avoids cluttering of storage among nodes\n",
    "! rm -rf $SPARK_HOME/work/*\n",
    "! ssh worker1 \"rm -rf $SPARK_HOME/work/*\"\n",
    "! ssh worker2 \"rm -rf $SPARK_HOME/work/*\"\n",
    "! ssh worker3 \"rm -rf $SPARK_HOME/work/*\"\"\"\""
   ]
  },
  {
   "cell_type": "code",
   "execution_count": null,
   "id": "971ded52-6bf6-4433-bbd7-99015ae0c8a9",
   "metadata": {},
   "outputs": [],
   "source": []
  },
  {
   "cell_type": "code",
   "execution_count": 42,
   "id": "03479156-f949-4d91-9c5c-21e8f6b8d056",
   "metadata": {},
   "outputs": [],
   "source": [
    "time_dict = {\n",
    "    1: {'lloyd': 17.238966464996338},\n",
    "    2: {'lloyd': 34.04286217689514, 'miniBatch': 12.04980731010437},\n",
    "    4: {'lloyd': 17.933119535446167, 'miniBatch': 8.075101613998413},\n",
    "    8: {'lloyd': 10.722455978393555, 'miniBatch': 5.795122861862183},\n",
    "    16: {'lloyd': 8.191429376602173, 'miniBatch': 5.853504419326782},\n",
    "    32: {'lloyd': 10.909662961959839, 'miniBatch': 6.993889093399048},\n",
    "    64: {'lloyd': 12.047245025634766, 'miniBatch': 9.350556135177612},\n",
    "    128: {'lloyd': 17.013242483139038, 'miniBatch': 13.624184846878052}\n",
    "}"
   ]
  },
  {
   "cell_type": "code",
   "execution_count": 228,
   "id": "ab14d960-c323-4edf-91b7-7a52cbede8ee",
   "metadata": {},
   "outputs": [
    {
     "data": {
      "image/png": "[encoded data removed]",
      "text/plain": [
       "<Figure size 1000x500 with 1 Axes>"
      ]
     },
     "metadata": {},
     "output_type": "display_data"
    }
   ],
   "source": [
    "# Partition vs time plot\n",
    "keys = [k for k in time_dict.keys() if k != 1] \n",
    "lloyd_values = [time_dict[k]['lloyd'] for k in keys]\n",
    "minibatch_values = [time_dict[k]['miniBatch'] for k in keys]\n",
    "\n",
    "x = np.arange(len(keys))\n",
    "\n",
    "matplotlib.rcParams.update({'font.size': 16})\n",
    "fig, ax = plt.subplots(figsize=(10, 5))\n",
    "\n",
    "ax.bar(x - width/2, lloyd_values, 0.35, label='Lloyd', color=\"purple\", alpha=0.7)\n",
    "ax.bar(x + width/2, minibatch_values, 0.35, label='MiniBatch', color=\"red\", alpha=0.7)\n",
    "\n",
    "# Baseline\n",
    "ax.axhline(time_dict[1]['lloyd'], color='k', linestyle=\"solid\", linewidth=1, label=\"Lloyd serial baseline\")\n",
    "\n",
    "ax.tick_params(axis='x', labelsize=16)\n",
    "ax.tick_params(axis='y', labelsize=16)\n",
    "ax.set_xticklabels(keys)\n",
    "ax.set_xlabel(\"# partitions\", fontsize=16)\n",
    "ax.set_ylabel(\"Time (s)\", fontsize=16)\n",
    "ax.legend(frameon=False, fontsize=16)\n",
    "\n",
    "plt.grid(None)\n",
    "ax.grid(axis=\"y\", alpha=0.6)\n",
    "\n",
    "plt.savefig(\"partition_plot.pdf\")\n",
    "plt.tight_layout()\n",
    "plt.show()"
   ]
  },
  {
   "cell_type": "code",
   "execution_count": null,
   "id": "6c0a9aaf-6566-45c3-9ef9-58607bd2571a",
   "metadata": {},
   "outputs": [],
   "source": []
  }
 ],
 "metadata": {
  "kernelspec": {
   "display_name": "Python 3 (ipykernel)",
   "language": "python",
   "name": "python3"
  },
  "language_info": {
   "codemirror_mode": {
    "name": "ipython",
    "version": 3
   },
   "file_extension": ".py",
   "mimetype": "text/x-python",
   "name": "python",
   "nbconvert_exporter": "python",
   "pygments_lexer": "ipython3",
   "version": "3.11.12"
  }
 },
 "nbformat": 4,
 "nbformat_minor": 5
}
