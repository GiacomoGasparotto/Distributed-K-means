{
 "cells": [
  {
   "cell_type": "markdown",
   "metadata": {},
   "source": [
    "# General Imports"
   ]
  },
  {
   "cell_type": "code",
   "execution_count": 1,
   "metadata": {},
   "outputs": [],
   "source": [
    "import numpy as np\n",
    "import numpy.typing as npt\n",
    "import os\n",
    "import pandas as pd\n",
    "import time\n",
    "\n",
    "import matplotlib\n",
    "import matplotlib.pyplot as plt\n",
    "from matplotlib.ticker import FuncFormatter, MaxNLocator\n",
    "import matplotlib.cm as cm\n",
    "import seaborn as sns\n",
    "\n",
    "from functools import singledispatch\n",
    "import warnings\n",
    "import logging\n",
    "\n",
    "# dataset\n",
    "from sklearn.datasets import fetch_kddcup99\n",
    "from sklearn.preprocessing import StandardScaler\n",
    "\n",
    "# pyspark module\n",
    "from pyspark.rdd import RDD\n",
    "\n",
    "# src module\n",
    "#from utils import kddSetup, local_sparkSetup\n",
    "#from kmeans import compute_centroidDistances, get_clusterId, get_minDistance, cost_function, kMeansParallel_init, kMeansPlusPlus_init, kMeansRandom_init, miniBatchKMeans, naiveKMeans\n",
    "#from utils import *\n",
    "#from base import *\n",
    "#from initialization import *\n",
    "#from update import *\n",
    "\n",
    "from src.utils import *\n",
    "from src.kmeans.base import *\n",
    "from src.kmeans.initialization import *\n",
    "from src.kmeans.update import *"
   ]
  },
  {
   "cell_type": "markdown",
   "metadata": {},
   "source": [
    "# Acess Spark Application"
   ]
  },
  {
   "cell_type": "code",
   "execution_count": 2,
   "metadata": {},
   "outputs": [],
   "source": [
    "# Setup the spark warnings\n",
    "warnings.filterwarnings(\"ignore\") \n",
    "logging.getLogger('py4j').setLevel(logging.ERROR) \n",
    "logging.getLogger('pyspark').setLevel(logging.ERROR) \n",
    "log4j_conf_path = \"./Settings//log4j.properties\""
   ]
  },
  {
   "cell_type": "code",
   "execution_count": 3,
   "metadata": {},
   "outputs": [
    {
     "name": "stderr",
     "output_type": "stream",
     "text": [
      "Setting default log level to \"WARN\".\n",
      "To adjust logging level use sc.setLogLevel(newLevel). For SparkR, use setLogLevel(newLevel).\n",
      "25/09/13 13:00:29 WARN NativeCodeLoader: Unable to load native-hadoop library for your platform... using builtin-java classes where applicable\n"
     ]
    }
   ],
   "source": [
    "### DOCKER VERSION\n",
    "from pyspark.sql import SparkSession\n",
    "\n",
    "spark = (SparkSession.builder \n",
    "        .appName(\"kMeans\") \n",
    "        .master(\"spark://spark-master:7077\") \n",
    "        .config(\"spark.driver.memory\", \"4g\") \n",
    "        .config(\"spark.executor.memory\", \"4g\") \n",
    "        .config(\"spark.executor.cores\", \"2\") \n",
    "        .config(\"spark.cores.max\", \"8\") \n",
    "        .config(\"spark.network.timeout\", \"600s\")   \n",
    "        .config(\"spark.executor.heartbeatInterval\", \"60s\") \n",
    "        .getOrCreate()\n",
    "        )\n",
    "sc = spark.sparkContext\n",
    "sc.setLogLevel(\"ERROR\")\n",
    "\n",
    "sc.addPyFile(\"src.zip\")"
   ]
  },
  {
   "cell_type": "markdown",
   "metadata": {},
   "source": [
    "# Load and Test datasets"
   ]
  },
  {
   "cell_type": "markdown",
   "metadata": {},
   "source": [
    "## Gaussian Mixture"
   ]
  },
  {
   "cell_type": "markdown",
   "metadata": {},
   "source": [
    "The first dataset we would like to test is a synthetic GaussMixture. To generate it, we sampled kcenters from a 15-dimensional spherical Gaussian distribution with mean at the origin and variance R∈{1,10,100}. We then added points from Gaussian distributions of unit variance around each center. Given the k centers, this is a mixture of k spherical Gaussians with equal weights.\n",
    "\n",
    "ref{paper kmeans||}"
   ]
  },
  {
   "cell_type": "code",
   "execution_count": 4,
   "metadata": {},
   "outputs": [],
   "source": [
    "def gauss_mixture(\n",
    "    n: int=50,  \n",
    "    k: int=10,\n",
    "    dim: int=15,                  \n",
    "    R: int=10\n",
    ") -> RDD:\n",
    "    seed = 42\n",
    "    np.random.seed(seed)\n",
    "    # Centers generation N(0, R*I)\n",
    "    centers = np.random.normal(loc=0, scale=np.sqrt(R), size=(k, dim))\n",
    "    # Point generation N(center, I) for each cluster\n",
    "    return np.concatenate(\n",
    "        [center + np.random.randn(n, dim) for center in centers],\n",
    "        axis=0\n",
    "    ), centers"
   ]
  },
  {
   "cell_type": "code",
   "execution_count": 5,
   "metadata": {},
   "outputs": [
    {
     "data": {
      "text/plain": [
       "'k = 50\\nn = 10_000\\ndim = 15\\nR = 1\\ngm_narray, true_centroids = gauss_mixture(n, k, dim, R)\\ngm_df = pd.DataFrame(gm_narray)\\ngm_df.tail(2)'"
      ]
     },
     "execution_count": 5,
     "metadata": {},
     "output_type": "execute_result"
    }
   ],
   "source": [
    "\"\"\"k = 50\n",
    "n = 10_000\n",
    "dim = 15\n",
    "R = 1\n",
    "gm_narray, true_centroids = gauss_mixture(n, k, dim, R)\n",
    "gm_df = pd.DataFrame(gm_narray)\n",
    "gm_df.tail(2)\"\"\""
   ]
  },
  {
   "cell_type": "code",
   "execution_count": 6,
   "metadata": {},
   "outputs": [
    {
     "data": {
      "text/plain": [
       "'gm_rdd = sc.parallelize([row for row in gm_narray])\\ngm_rdd'"
      ]
     },
     "execution_count": 6,
     "metadata": {},
     "output_type": "execute_result"
    }
   ],
   "source": [
    "\"\"\"gm_rdd = sc.parallelize([row for row in gm_narray])\n",
    "gm_rdd\"\"\""
   ]
  },
  {
   "cell_type": "code",
   "execution_count": 7,
   "metadata": {},
   "outputs": [
    {
     "data": {
      "text/plain": [
       "'gm_rdd.count()'"
      ]
     },
     "execution_count": 7,
     "metadata": {},
     "output_type": "execute_result"
    }
   ],
   "source": [
    "\"\"\"gm_rdd.count()\"\"\""
   ]
  },
  {
   "cell_type": "code",
   "execution_count": 8,
   "metadata": {},
   "outputs": [
    {
     "data": {
      "text/plain": [
       "'gm_true_cost = compute_cost(gm_rdd, true_centroids)\\nprint(f\"{gm_true_cost/1e4:.5f}\")\\nprint(gm_true_cost)'"
      ]
     },
     "execution_count": 8,
     "metadata": {},
     "output_type": "execute_result"
    }
   ],
   "source": [
    "\"\"\"gm_true_cost = compute_cost(gm_rdd, true_centroids)\n",
    "print(f\"{gm_true_cost/1e4:.5f}\")\n",
    "print(gm_true_cost)\"\"\""
   ]
  },
  {
   "cell_type": "markdown",
   "metadata": {},
   "source": [
    "## Reduced KDD"
   ]
  },
  {
   "cell_type": "code",
   "execution_count": 9,
   "metadata": {},
   "outputs": [
    {
     "data": {
      "text/plain": [
       "'kdd_data, kdd_labels, entries_dict = kddSetup(standardize=True)\\n\\n# get the number of clusters from kdd_labels\\nk = np.unique(kdd_labels).shape[0]\\n\\n#parallelize\\nkdd_rdd = sc.parallelize([row for row in kdd_data])\\n# kdd_rdd = kdd_rdd.persist()'"
      ]
     },
     "execution_count": 9,
     "metadata": {},
     "output_type": "execute_result"
    }
   ],
   "source": [
    "\"\"\"kdd_data, kdd_labels, entries_dict = kddSetup(standardize=True)\n",
    "\n",
    "# get the number of clusters from kdd_labels\n",
    "k = np.unique(kdd_labels).shape[0]\n",
    "\n",
    "#parallelize\n",
    "kdd_rdd = sc.parallelize([row for row in kdd_data])\n",
    "# kdd_rdd = kdd_rdd.persist()\"\"\""
   ]
  },
  {
   "cell_type": "code",
   "execution_count": 10,
   "metadata": {},
   "outputs": [
    {
     "data": {
      "text/plain": [
       "'kdd_rdd.count()'"
      ]
     },
     "execution_count": 10,
     "metadata": {},
     "output_type": "execute_result"
    }
   ],
   "source": [
    "\"\"\"kdd_rdd.count()\"\"\""
   ]
  },
  {
   "cell_type": "code",
   "execution_count": 11,
   "metadata": {},
   "outputs": [
    {
     "data": {
      "text/plain": [
       "'k = 15\\nl = k * 10\\ninit_centroids = kMeansParallel_init(kdd_rdd, k, l)\\nphi_init = cost_function(kdd_rdd, init_centroids)\\nfinal_centroids = miniBatchKMeans(kdd_rdd, init_centroids, 20, 0.3)\\nphi_final = compute_cost(kdd_rdd, final_centroids)'"
      ]
     },
     "execution_count": 11,
     "metadata": {},
     "output_type": "execute_result"
    }
   ],
   "source": [
    "\"\"\"k = 15\n",
    "l = k * 10\n",
    "init_centroids = kMeansParallel_init(kdd_rdd, k, l)\n",
    "phi_init = cost_function(kdd_rdd, init_centroids)\n",
    "final_centroids = miniBatchKMeans(kdd_rdd, init_centroids, 20, 0.3)\n",
    "phi_final = compute_cost(kdd_rdd, final_centroids)\"\"\""
   ]
  },
  {
   "cell_type": "code",
   "execution_count": 12,
   "metadata": {},
   "outputs": [
    {
     "data": {
      "text/plain": [
       "'print(f\"{phi_init:.6g}\\t{phi_final:.6g}\")'"
      ]
     },
     "execution_count": 12,
     "metadata": {},
     "output_type": "execute_result"
    }
   ],
   "source": [
    "\"\"\"print(f\"{phi_init:.6g}\\t{phi_final:.6g}\")\"\"\""
   ]
  },
  {
   "cell_type": "markdown",
   "metadata": {},
   "source": [
    "# kMeans|| Init Tests"
   ]
  },
  {
   "cell_type": "markdown",
   "metadata": {},
   "source": [
    "## Time / Cost tables"
   ]
  },
  {
   "cell_type": "code",
   "execution_count": 13,
   "metadata": {},
   "outputs": [],
   "source": [
    "def compute_time_cost(gm_narray, data_rdd, gm_true_cost, k, R, iterations, lk=1, r=5, init_algo=\"random\"):\n",
    "\n",
    "    # Initialization\n",
    "    start = time.time()\n",
    "    \n",
    "    if init_algo == \"random\": \n",
    "        centroidsRandom = kMeansRandom_init(data_rdd, k)\n",
    "    elif init_algo == \"kmeans++\": \n",
    "        centroidsRandom = kMeansPlusPlus_init(gm_narray, k)\n",
    "    elif init_algo == \"kmeans||\": \n",
    "        centroidsRandom = kMeansParallel_init(data_rdd, k, int(lk*k), r)\n",
    "    else: \n",
    "        raise ValueError(f\"Wrong initialization algorithm selected: '{init_algo}'\")\n",
    "         \n",
    "    init_time = time.time() - start\n",
    "    seed_cost = compute_cost(data_rdd, centroidsRandom)\n",
    "\n",
    "    # Algo\n",
    "    start = time.time()\n",
    "    final_centroids = lloydKMeans(data_rdd, centroidsRandom, iterations)\n",
    "    final_time = time.time() - start\n",
    "    final_cost = compute_cost(data_rdd, final_centroids)\n",
    "\n",
    "    # Store the results in a dictionary\n",
    "    results = []\n",
    "    results.append({\n",
    "        \"R\": R,\n",
    "        \"init_algo\": init_algo,\n",
    "        \"init_time (s)\": init_time,\n",
    "        \"up_time (s)\": final_time,\n",
    "        \"seed\": seed_cost,\n",
    "        \"final\": final_cost,\n",
    "        \"true\": gm_true_cost\n",
    "    })\n",
    "    \n",
    "    results = pd.DataFrame(results)\n",
    "\n",
    "    print(results.head()) # DELETE AFTER\n",
    "    \n",
    "    return results"
   ]
  },
  {
   "cell_type": "code",
   "execution_count": 14,
   "metadata": {},
   "outputs": [],
   "source": [
    "def exp10_cost(cost, frac_digits=2):\n",
    "    \"\"\"Return exponent 'a' s.t. cost ~10^a, rounded to 'frac_digits' decimals.\"\"\"\n",
    "    return float(np.round(np.log10(float(cost)), frac_digits))"
   ]
  },
  {
   "cell_type": "markdown",
   "metadata": {},
   "source": [
    "### GM dataset creation\n",
    "\n",
    "We need to create three different dataset for each value of R={1, 10, 100}"
   ]
  },
  {
   "cell_type": "code",
   "execution_count": 15,
   "metadata": {},
   "outputs": [],
   "source": [
    "# --- control parameters ---\n",
    "\"\"\"k = 50\n",
    "n = 10_000\n",
    "dim = 15\n",
    "R = [1, 10, 100]\n",
    "r = 5\n",
    "iterations = 1000\"\"\"\n",
    "\n",
    "# toy parameters for testing\n",
    "k = 5\n",
    "n = 100\n",
    "dim = 15\n",
    "R = [1, 10, 100]\n",
    "r = 5\n",
    "iterations = 10"
   ]
  },
  {
   "cell_type": "code",
   "execution_count": 16,
   "metadata": {},
   "outputs": [],
   "source": [
    "def create_gm_data(n, k, dim, R, sc):\n",
    "    \"\"\"\n",
    "    Create dataset for different values of R\n",
    "    \"\"\"\n",
    "    gm_narray, true_centroids = gauss_mixture(n, k, dim, R)\n",
    "    gm_df = pd.DataFrame(gm_narray)\n",
    "    gm_rdd = sc.parallelize([row for row in gm_narray])\n",
    "    gm_rdd.count() \n",
    "    gm_true_cost = compute_cost(gm_rdd, true_centroids)\n",
    "\n",
    "    return {\n",
    "        \"narray\": gm_narray,\n",
    "        \"df\": gm_df,\n",
    "        \"rdd\": gm_rdd,\n",
    "        \"true_centroids\": true_centroids,\n",
    "        \"true_cost\": gm_true_cost,\n",
    "    }"
   ]
  },
  {
   "cell_type": "code",
   "execution_count": 17,
   "metadata": {},
   "outputs": [
    {
     "name": "stderr",
     "output_type": "stream",
     "text": [
      "                                                                                "
     ]
    }
   ],
   "source": [
    "datasets = {RR: create_gm_data(n, k, dim, RR, sc) for RR in R}"
   ]
  },
  {
   "cell_type": "code",
   "execution_count": 18,
   "metadata": {},
   "outputs": [
    {
     "data": {
      "text/plain": [
       "15.12295504863026"
      ]
     },
     "execution_count": 18,
     "metadata": {},
     "output_type": "execute_result"
    }
   ],
   "source": [
    "datasets[1][\"true_cost\"]"
   ]
  },
  {
   "cell_type": "code",
   "execution_count": 19,
   "metadata": {},
   "outputs": [
    {
     "data": {
      "text/plain": [
       "15.197356017266493"
      ]
     },
     "execution_count": 19,
     "metadata": {},
     "output_type": "execute_result"
    }
   ],
   "source": [
    "datasets[10][\"true_cost\"]"
   ]
  },
  {
   "cell_type": "code",
   "execution_count": 20,
   "metadata": {},
   "outputs": [
    {
     "data": {
      "text/plain": [
       "15.197356017266493"
      ]
     },
     "execution_count": 20,
     "metadata": {},
     "output_type": "execute_result"
    }
   ],
   "source": [
    "datasets[100][\"true_cost\"]"
   ]
  },
  {
   "cell_type": "markdown",
   "metadata": {},
   "source": [
    "### Random initialization + Lloyd algorithm"
   ]
  },
  {
   "cell_type": "code",
   "execution_count": 21,
   "metadata": {},
   "outputs": [
    {
     "name": "stderr",
     "output_type": "stream",
     "text": [
      "                                                                                "
     ]
    },
    {
     "name": "stdout",
     "output_type": "stream",
     "text": [
      "   R init_algo  init_time (s)  up_time (s)       seed      final       true\n",
      "0  1    random       0.799422     12.18452  26.161987  16.299129  15.122955\n"
     ]
    },
    {
     "name": "stderr",
     "output_type": "stream",
     "text": [
      "                                                                                "
     ]
    },
    {
     "name": "stdout",
     "output_type": "stream",
     "text": [
      "    R init_algo  init_time (s)  up_time (s)        seed      final       true\n",
      "0  10    random       0.983663    24.234593  102.963636  37.809645  15.197356\n"
     ]
    },
    {
     "name": "stderr",
     "output_type": "stream",
     "text": [
      "                                                                                "
     ]
    },
    {
     "name": "stdout",
     "output_type": "stream",
     "text": [
      "     R init_algo  init_time (s)  up_time (s)        seed       final  \\\n",
      "0  100    random       0.926295      6.81961  764.433176  294.756284   \n",
      "\n",
      "        true  \n",
      "0  15.197356  \n"
     ]
    }
   ],
   "source": [
    "results_rand_list = []\n",
    "for RR in R:\n",
    "    res = compute_time_cost(\n",
    "        gm_narray=datasets[RR][\"narray\"],\n",
    "        data_rdd=datasets[RR][\"rdd\"],\n",
    "        gm_true_cost=datasets[RR][\"true_cost\"],\n",
    "        k=k,\n",
    "        R=RR,\n",
    "        iterations=iterations,\n",
    "        lk=1,\n",
    "        r=r,\n",
    "        init_algo=\"random\",\n",
    "    )\n",
    "    results_rand_list.append(res)\n",
    "\n",
    "results_rand = pd.concat(results_rand_list, ignore_index=True)"
   ]
  },
  {
   "cell_type": "code",
   "execution_count": 22,
   "metadata": {},
   "outputs": [
    {
     "data": {
      "text/html": [
       "<div>\n",
       "<style scoped>\n",
       "    .dataframe tbody tr th:only-of-type {\n",
       "        vertical-align: middle;\n",
       "    }\n",
       "\n",
       "    .dataframe tbody tr th {\n",
       "        vertical-align: top;\n",
       "    }\n",
       "\n",
       "    .dataframe thead th {\n",
       "        text-align: right;\n",
       "    }\n",
       "</style>\n",
       "<table border=\"1\" class=\"dataframe\">\n",
       "  <thead>\n",
       "    <tr style=\"text-align: right;\">\n",
       "      <th></th>\n",
       "      <th>R</th>\n",
       "      <th>init_algo</th>\n",
       "      <th>init_time (s)</th>\n",
       "      <th>up_time (s)</th>\n",
       "      <th>seed</th>\n",
       "      <th>final</th>\n",
       "      <th>true</th>\n",
       "    </tr>\n",
       "  </thead>\n",
       "  <tbody>\n",
       "    <tr>\n",
       "      <th>0</th>\n",
       "      <td>1</td>\n",
       "      <td>random</td>\n",
       "      <td>0.799422</td>\n",
       "      <td>12.184520</td>\n",
       "      <td>26.161987</td>\n",
       "      <td>16.299129</td>\n",
       "      <td>15.122955</td>\n",
       "    </tr>\n",
       "    <tr>\n",
       "      <th>1</th>\n",
       "      <td>10</td>\n",
       "      <td>random</td>\n",
       "      <td>0.983663</td>\n",
       "      <td>24.234593</td>\n",
       "      <td>102.963636</td>\n",
       "      <td>37.809645</td>\n",
       "      <td>15.197356</td>\n",
       "    </tr>\n",
       "    <tr>\n",
       "      <th>2</th>\n",
       "      <td>100</td>\n",
       "      <td>random</td>\n",
       "      <td>0.926295</td>\n",
       "      <td>6.819610</td>\n",
       "      <td>764.433176</td>\n",
       "      <td>294.756284</td>\n",
       "      <td>15.197356</td>\n",
       "    </tr>\n",
       "  </tbody>\n",
       "</table>\n",
       "</div>"
      ],
      "text/plain": [
       "     R init_algo  init_time (s)  up_time (s)        seed       final  \\\n",
       "0    1    random       0.799422    12.184520   26.161987   16.299129   \n",
       "1   10    random       0.983663    24.234593  102.963636   37.809645   \n",
       "2  100    random       0.926295     6.819610  764.433176  294.756284   \n",
       "\n",
       "        true  \n",
       "0  15.122955  \n",
       "1  15.197356  \n",
       "2  15.197356  "
      ]
     },
     "execution_count": 22,
     "metadata": {},
     "output_type": "execute_result"
    }
   ],
   "source": [
    "results_rand"
   ]
  },
  {
   "cell_type": "markdown",
   "metadata": {},
   "source": [
    "### kmeans++ initialization + LLoyd algorithm"
   ]
  },
  {
   "cell_type": "code",
   "execution_count": 23,
   "metadata": {},
   "outputs": [
    {
     "name": "stdout",
     "output_type": "stream",
     "text": [
      "   R init_algo  init_time (s)  up_time (s)       seed      final       true\n",
      "0  1  kmeans++       0.032853     6.329857  32.042689  14.947757  15.122955\n"
     ]
    },
    {
     "name": "stderr",
     "output_type": "stream",
     "text": [
      "                                                                                "
     ]
    },
    {
     "name": "stdout",
     "output_type": "stream",
     "text": [
      "    R init_algo  init_time (s)  up_time (s)       seed      final       true\n",
      "0  10  kmeans++       0.004005     5.824462  32.012204  15.050722  15.197356\n",
      "     R init_algo  init_time (s)  up_time (s)       seed      final       true\n",
      "0  100  kmeans++       0.003951     3.918412  26.993266  15.050722  15.197356\n"
     ]
    }
   ],
   "source": [
    "results_plus_list = []\n",
    "for RR in R:\n",
    "    res = compute_time_cost(\n",
    "        gm_narray=datasets[RR][\"narray\"],\n",
    "        data_rdd=datasets[RR][\"rdd\"],\n",
    "        gm_true_cost=datasets[RR][\"true_cost\"],\n",
    "        k=k,\n",
    "        R=RR,\n",
    "        iterations=iterations,\n",
    "        lk=1,\n",
    "        r=r,\n",
    "        init_algo=\"kmeans++\",\n",
    "    )\n",
    "    results_plus_list.append(res)\n",
    "\n",
    "results_plus = pd.concat(results_plus_list, ignore_index=True)"
   ]
  },
  {
   "cell_type": "code",
   "execution_count": 24,
   "metadata": {},
   "outputs": [
    {
     "data": {
      "text/html": [
       "<div>\n",
       "<style scoped>\n",
       "    .dataframe tbody tr th:only-of-type {\n",
       "        vertical-align: middle;\n",
       "    }\n",
       "\n",
       "    .dataframe tbody tr th {\n",
       "        vertical-align: top;\n",
       "    }\n",
       "\n",
       "    .dataframe thead th {\n",
       "        text-align: right;\n",
       "    }\n",
       "</style>\n",
       "<table border=\"1\" class=\"dataframe\">\n",
       "  <thead>\n",
       "    <tr style=\"text-align: right;\">\n",
       "      <th></th>\n",
       "      <th>R</th>\n",
       "      <th>init_algo</th>\n",
       "      <th>init_time (s)</th>\n",
       "      <th>up_time (s)</th>\n",
       "      <th>seed</th>\n",
       "      <th>final</th>\n",
       "      <th>true</th>\n",
       "    </tr>\n",
       "  </thead>\n",
       "  <tbody>\n",
       "    <tr>\n",
       "      <th>0</th>\n",
       "      <td>1</td>\n",
       "      <td>kmeans++</td>\n",
       "      <td>0.032853</td>\n",
       "      <td>6.329857</td>\n",
       "      <td>32.042689</td>\n",
       "      <td>14.947757</td>\n",
       "      <td>15.122955</td>\n",
       "    </tr>\n",
       "    <tr>\n",
       "      <th>1</th>\n",
       "      <td>10</td>\n",
       "      <td>kmeans++</td>\n",
       "      <td>0.004005</td>\n",
       "      <td>5.824462</td>\n",
       "      <td>32.012204</td>\n",
       "      <td>15.050722</td>\n",
       "      <td>15.197356</td>\n",
       "    </tr>\n",
       "    <tr>\n",
       "      <th>2</th>\n",
       "      <td>100</td>\n",
       "      <td>kmeans++</td>\n",
       "      <td>0.003951</td>\n",
       "      <td>3.918412</td>\n",
       "      <td>26.993266</td>\n",
       "      <td>15.050722</td>\n",
       "      <td>15.197356</td>\n",
       "    </tr>\n",
       "  </tbody>\n",
       "</table>\n",
       "</div>"
      ],
      "text/plain": [
       "     R init_algo  init_time (s)  up_time (s)       seed      final       true\n",
       "0    1  kmeans++       0.032853     6.329857  32.042689  14.947757  15.122955\n",
       "1   10  kmeans++       0.004005     5.824462  32.012204  15.050722  15.197356\n",
       "2  100  kmeans++       0.003951     3.918412  26.993266  15.050722  15.197356"
      ]
     },
     "execution_count": 24,
     "metadata": {},
     "output_type": "execute_result"
    }
   ],
   "source": [
    "results_plus"
   ]
  },
  {
   "cell_type": "markdown",
   "metadata": {},
   "source": [
    "### kmeans|| init + Lloyd algorithm"
   ]
  },
  {
   "cell_type": "code",
   "execution_count": 25,
   "metadata": {},
   "outputs": [
    {
     "name": "stdout",
     "output_type": "stream",
     "text": [
      "   R init_algo  init_time (s)  up_time (s)      seed      final       true\n",
      "0  1  kmeans||       4.372669     9.035321  25.04243  14.947091  15.122955\n"
     ]
    },
    {
     "name": "stderr",
     "output_type": "stream",
     "text": [
      "                                                                                "
     ]
    },
    {
     "name": "stdout",
     "output_type": "stream",
     "text": [
      "    R init_algo  init_time (s)  up_time (s)       seed      final       true\n",
      "0  10  kmeans||       6.210849     4.651249  25.166306  15.050722  15.197356\n"
     ]
    },
    {
     "name": "stderr",
     "output_type": "stream",
     "text": [
      "                                                                                "
     ]
    },
    {
     "name": "stdout",
     "output_type": "stream",
     "text": [
      "     R init_algo  init_time (s)  up_time (s)       seed      final       true\n",
      "0  100  kmeans||       7.093536     5.520122  21.077598  15.050722  15.197356\n"
     ]
    }
   ],
   "source": [
    "results_par1_list = []\n",
    "for RR in R:\n",
    "    res = compute_time_cost(\n",
    "        gm_narray=datasets[RR][\"narray\"],\n",
    "        data_rdd=datasets[RR][\"rdd\"],\n",
    "        gm_true_cost=datasets[RR][\"true_cost\"],\n",
    "        k=k,\n",
    "        R=RR,\n",
    "        iterations=iterations,\n",
    "        lk=0.5,\n",
    "        r=r,\n",
    "        init_algo=\"kmeans||\",\n",
    "    )\n",
    "    results_par1_list.append(res)\n",
    "\n",
    "results_par1 = pd.concat(results_par1_list, ignore_index=True)"
   ]
  },
  {
   "cell_type": "code",
   "execution_count": 26,
   "metadata": {},
   "outputs": [
    {
     "data": {
      "text/html": [
       "<div>\n",
       "<style scoped>\n",
       "    .dataframe tbody tr th:only-of-type {\n",
       "        vertical-align: middle;\n",
       "    }\n",
       "\n",
       "    .dataframe tbody tr th {\n",
       "        vertical-align: top;\n",
       "    }\n",
       "\n",
       "    .dataframe thead th {\n",
       "        text-align: right;\n",
       "    }\n",
       "</style>\n",
       "<table border=\"1\" class=\"dataframe\">\n",
       "  <thead>\n",
       "    <tr style=\"text-align: right;\">\n",
       "      <th></th>\n",
       "      <th>R</th>\n",
       "      <th>init_algo</th>\n",
       "      <th>init_time (s)</th>\n",
       "      <th>up_time (s)</th>\n",
       "      <th>seed</th>\n",
       "      <th>final</th>\n",
       "      <th>true</th>\n",
       "    </tr>\n",
       "  </thead>\n",
       "  <tbody>\n",
       "    <tr>\n",
       "      <th>0</th>\n",
       "      <td>1</td>\n",
       "      <td>kmeans||</td>\n",
       "      <td>4.372669</td>\n",
       "      <td>9.035321</td>\n",
       "      <td>25.042430</td>\n",
       "      <td>14.947091</td>\n",
       "      <td>15.122955</td>\n",
       "    </tr>\n",
       "    <tr>\n",
       "      <th>1</th>\n",
       "      <td>10</td>\n",
       "      <td>kmeans||</td>\n",
       "      <td>6.210849</td>\n",
       "      <td>4.651249</td>\n",
       "      <td>25.166306</td>\n",
       "      <td>15.050722</td>\n",
       "      <td>15.197356</td>\n",
       "    </tr>\n",
       "    <tr>\n",
       "      <th>2</th>\n",
       "      <td>100</td>\n",
       "      <td>kmeans||</td>\n",
       "      <td>7.093536</td>\n",
       "      <td>5.520122</td>\n",
       "      <td>21.077598</td>\n",
       "      <td>15.050722</td>\n",
       "      <td>15.197356</td>\n",
       "    </tr>\n",
       "  </tbody>\n",
       "</table>\n",
       "</div>"
      ],
      "text/plain": [
       "     R init_algo  init_time (s)  up_time (s)       seed      final       true\n",
       "0    1  kmeans||       4.372669     9.035321  25.042430  14.947091  15.122955\n",
       "1   10  kmeans||       6.210849     4.651249  25.166306  15.050722  15.197356\n",
       "2  100  kmeans||       7.093536     5.520122  21.077598  15.050722  15.197356"
      ]
     },
     "execution_count": 26,
     "metadata": {},
     "output_type": "execute_result"
    }
   ],
   "source": [
    "results_par1"
   ]
  },
  {
   "cell_type": "code",
   "execution_count": 27,
   "metadata": {},
   "outputs": [
    {
     "name": "stdout",
     "output_type": "stream",
     "text": [
      "   R init_algo  init_time (s)  up_time (s)       seed     final       true\n",
      "0  1  kmeans||        3.42796     6.424335  17.664677  16.25927  15.122955\n"
     ]
    },
    {
     "name": "stderr",
     "output_type": "stream",
     "text": [
      "                                                                                "
     ]
    },
    {
     "name": "stdout",
     "output_type": "stream",
     "text": [
      "    R init_algo  init_time (s)  up_time (s)       seed      final       true\n",
      "0  10  kmeans||       7.497376      7.56107  60.519813  58.699917  15.197356\n",
      "     R init_algo  init_time (s)  up_time (s)       seed      final       true\n",
      "0  100  kmeans||       5.991533     3.929929  16.350422  15.050722  15.197356\n"
     ]
    }
   ],
   "source": [
    "results_par2_list = []\n",
    "for RR in R:\n",
    "    res = compute_time_cost(\n",
    "        gm_narray=datasets[RR][\"narray\"],\n",
    "        data_rdd=datasets[RR][\"rdd\"],\n",
    "        gm_true_cost=datasets[RR][\"true_cost\"],\n",
    "        k=k,\n",
    "        R=RR,\n",
    "        iterations=iterations,\n",
    "        lk=2,\n",
    "        r=r,\n",
    "        init_algo=\"kmeans||\",\n",
    "    )\n",
    "    results_par2_list.append(res)\n",
    "\n",
    "results_par2 = pd.concat(results_par2_list, ignore_index=True)"
   ]
  },
  {
   "cell_type": "code",
   "execution_count": 28,
   "metadata": {},
   "outputs": [
    {
     "data": {
      "text/html": [
       "<div>\n",
       "<style scoped>\n",
       "    .dataframe tbody tr th:only-of-type {\n",
       "        vertical-align: middle;\n",
       "    }\n",
       "\n",
       "    .dataframe tbody tr th {\n",
       "        vertical-align: top;\n",
       "    }\n",
       "\n",
       "    .dataframe thead th {\n",
       "        text-align: right;\n",
       "    }\n",
       "</style>\n",
       "<table border=\"1\" class=\"dataframe\">\n",
       "  <thead>\n",
       "    <tr style=\"text-align: right;\">\n",
       "      <th></th>\n",
       "      <th>R</th>\n",
       "      <th>init_algo</th>\n",
       "      <th>init_time (s)</th>\n",
       "      <th>up_time (s)</th>\n",
       "      <th>seed</th>\n",
       "      <th>final</th>\n",
       "      <th>true</th>\n",
       "    </tr>\n",
       "  </thead>\n",
       "  <tbody>\n",
       "    <tr>\n",
       "      <th>0</th>\n",
       "      <td>1</td>\n",
       "      <td>kmeans||</td>\n",
       "      <td>3.427960</td>\n",
       "      <td>6.424335</td>\n",
       "      <td>17.664677</td>\n",
       "      <td>16.259270</td>\n",
       "      <td>15.122955</td>\n",
       "    </tr>\n",
       "    <tr>\n",
       "      <th>1</th>\n",
       "      <td>10</td>\n",
       "      <td>kmeans||</td>\n",
       "      <td>7.497376</td>\n",
       "      <td>7.561070</td>\n",
       "      <td>60.519813</td>\n",
       "      <td>58.699917</td>\n",
       "      <td>15.197356</td>\n",
       "    </tr>\n",
       "    <tr>\n",
       "      <th>2</th>\n",
       "      <td>100</td>\n",
       "      <td>kmeans||</td>\n",
       "      <td>5.991533</td>\n",
       "      <td>3.929929</td>\n",
       "      <td>16.350422</td>\n",
       "      <td>15.050722</td>\n",
       "      <td>15.197356</td>\n",
       "    </tr>\n",
       "  </tbody>\n",
       "</table>\n",
       "</div>"
      ],
      "text/plain": [
       "     R init_algo  init_time (s)  up_time (s)       seed      final       true\n",
       "0    1  kmeans||       3.427960     6.424335  17.664677  16.259270  15.122955\n",
       "1   10  kmeans||       7.497376     7.561070  60.519813  58.699917  15.197356\n",
       "2  100  kmeans||       5.991533     3.929929  16.350422  15.050722  15.197356"
      ]
     },
     "execution_count": 28,
     "metadata": {},
     "output_type": "execute_result"
    }
   ],
   "source": [
    "results_par2"
   ]
  },
  {
   "cell_type": "code",
   "execution_count": 29,
   "metadata": {},
   "outputs": [],
   "source": [
    "# Rename kmeans|| columns \n",
    "results_par1[\"init_algo\"] = \"kmeans|| (l*k=0.5)\" \n",
    "results_par2[\"init_algo\"] = \"kmeans|| (l*k=2)\" \n",
    "\n",
    "# Concatenate all the dataframes \n",
    "df_all = pd.concat([results_rand, results_plus, results_par1, results_par2], ignore_index=True) \n",
    "#df_all"
   ]
  },
  {
   "cell_type": "code",
   "execution_count": 30,
   "metadata": {},
   "outputs": [
    {
     "data": {
      "text/html": [
       "<div>\n",
       "<style scoped>\n",
       "    .dataframe tbody tr th:only-of-type {\n",
       "        vertical-align: middle;\n",
       "    }\n",
       "\n",
       "    .dataframe tbody tr th {\n",
       "        vertical-align: top;\n",
       "    }\n",
       "\n",
       "    .dataframe thead th {\n",
       "        text-align: right;\n",
       "    }\n",
       "</style>\n",
       "<table border=\"1\" class=\"dataframe\">\n",
       "  <thead>\n",
       "    <tr style=\"text-align: right;\">\n",
       "      <th></th>\n",
       "      <th>R</th>\n",
       "      <th>init_algo</th>\n",
       "      <th>init_time (s)</th>\n",
       "      <th>up_time (s)</th>\n",
       "      <th>seed</th>\n",
       "      <th>final</th>\n",
       "      <th>true</th>\n",
       "    </tr>\n",
       "  </thead>\n",
       "  <tbody>\n",
       "    <tr>\n",
       "      <th>0</th>\n",
       "      <td>1</td>\n",
       "      <td>random</td>\n",
       "      <td>0.799422</td>\n",
       "      <td>12.184520</td>\n",
       "      <td>26.161987</td>\n",
       "      <td>16.299129</td>\n",
       "      <td>15.122955</td>\n",
       "    </tr>\n",
       "    <tr>\n",
       "      <th>1</th>\n",
       "      <td>10</td>\n",
       "      <td>random</td>\n",
       "      <td>0.983663</td>\n",
       "      <td>24.234593</td>\n",
       "      <td>102.963636</td>\n",
       "      <td>37.809645</td>\n",
       "      <td>15.197356</td>\n",
       "    </tr>\n",
       "    <tr>\n",
       "      <th>2</th>\n",
       "      <td>100</td>\n",
       "      <td>random</td>\n",
       "      <td>0.926295</td>\n",
       "      <td>6.819610</td>\n",
       "      <td>764.433176</td>\n",
       "      <td>294.756284</td>\n",
       "      <td>15.197356</td>\n",
       "    </tr>\n",
       "  </tbody>\n",
       "</table>\n",
       "</div>"
      ],
      "text/plain": [
       "     R init_algo  init_time (s)  up_time (s)        seed       final  \\\n",
       "0    1    random       0.799422    12.184520   26.161987   16.299129   \n",
       "1   10    random       0.983663    24.234593  102.963636   37.809645   \n",
       "2  100    random       0.926295     6.819610  764.433176  294.756284   \n",
       "\n",
       "        true  \n",
       "0  15.122955  \n",
       "1  15.197356  \n",
       "2  15.197356  "
      ]
     },
     "metadata": {},
     "output_type": "display_data"
    },
    {
     "data": {
      "text/html": [
       "<div>\n",
       "<style scoped>\n",
       "    .dataframe tbody tr th:only-of-type {\n",
       "        vertical-align: middle;\n",
       "    }\n",
       "\n",
       "    .dataframe tbody tr th {\n",
       "        vertical-align: top;\n",
       "    }\n",
       "\n",
       "    .dataframe thead th {\n",
       "        text-align: right;\n",
       "    }\n",
       "</style>\n",
       "<table border=\"1\" class=\"dataframe\">\n",
       "  <thead>\n",
       "    <tr style=\"text-align: right;\">\n",
       "      <th></th>\n",
       "      <th>R</th>\n",
       "      <th>init_algo</th>\n",
       "      <th>init_time (s)</th>\n",
       "      <th>up_time (s)</th>\n",
       "      <th>seed</th>\n",
       "      <th>final</th>\n",
       "      <th>true</th>\n",
       "    </tr>\n",
       "  </thead>\n",
       "  <tbody>\n",
       "    <tr>\n",
       "      <th>0</th>\n",
       "      <td>1</td>\n",
       "      <td>kmeans++</td>\n",
       "      <td>0.032853</td>\n",
       "      <td>6.329857</td>\n",
       "      <td>32.042689</td>\n",
       "      <td>14.947757</td>\n",
       "      <td>15.122955</td>\n",
       "    </tr>\n",
       "    <tr>\n",
       "      <th>1</th>\n",
       "      <td>10</td>\n",
       "      <td>kmeans++</td>\n",
       "      <td>0.004005</td>\n",
       "      <td>5.824462</td>\n",
       "      <td>32.012204</td>\n",
       "      <td>15.050722</td>\n",
       "      <td>15.197356</td>\n",
       "    </tr>\n",
       "    <tr>\n",
       "      <th>2</th>\n",
       "      <td>100</td>\n",
       "      <td>kmeans++</td>\n",
       "      <td>0.003951</td>\n",
       "      <td>3.918412</td>\n",
       "      <td>26.993266</td>\n",
       "      <td>15.050722</td>\n",
       "      <td>15.197356</td>\n",
       "    </tr>\n",
       "  </tbody>\n",
       "</table>\n",
       "</div>"
      ],
      "text/plain": [
       "     R init_algo  init_time (s)  up_time (s)       seed      final       true\n",
       "0    1  kmeans++       0.032853     6.329857  32.042689  14.947757  15.122955\n",
       "1   10  kmeans++       0.004005     5.824462  32.012204  15.050722  15.197356\n",
       "2  100  kmeans++       0.003951     3.918412  26.993266  15.050722  15.197356"
      ]
     },
     "metadata": {},
     "output_type": "display_data"
    },
    {
     "name": "stdout",
     "output_type": "stream",
     "text": [
      "l*k=0.5\n"
     ]
    },
    {
     "data": {
      "text/html": [
       "<div>\n",
       "<style scoped>\n",
       "    .dataframe tbody tr th:only-of-type {\n",
       "        vertical-align: middle;\n",
       "    }\n",
       "\n",
       "    .dataframe tbody tr th {\n",
       "        vertical-align: top;\n",
       "    }\n",
       "\n",
       "    .dataframe thead th {\n",
       "        text-align: right;\n",
       "    }\n",
       "</style>\n",
       "<table border=\"1\" class=\"dataframe\">\n",
       "  <thead>\n",
       "    <tr style=\"text-align: right;\">\n",
       "      <th></th>\n",
       "      <th>R</th>\n",
       "      <th>init_algo</th>\n",
       "      <th>init_time (s)</th>\n",
       "      <th>up_time (s)</th>\n",
       "      <th>seed</th>\n",
       "      <th>final</th>\n",
       "      <th>true</th>\n",
       "    </tr>\n",
       "  </thead>\n",
       "  <tbody>\n",
       "    <tr>\n",
       "      <th>0</th>\n",
       "      <td>1</td>\n",
       "      <td>kmeans|| (l*k=0.5)</td>\n",
       "      <td>4.372669</td>\n",
       "      <td>9.035321</td>\n",
       "      <td>25.042430</td>\n",
       "      <td>14.947091</td>\n",
       "      <td>15.122955</td>\n",
       "    </tr>\n",
       "    <tr>\n",
       "      <th>1</th>\n",
       "      <td>10</td>\n",
       "      <td>kmeans|| (l*k=0.5)</td>\n",
       "      <td>6.210849</td>\n",
       "      <td>4.651249</td>\n",
       "      <td>25.166306</td>\n",
       "      <td>15.050722</td>\n",
       "      <td>15.197356</td>\n",
       "    </tr>\n",
       "    <tr>\n",
       "      <th>2</th>\n",
       "      <td>100</td>\n",
       "      <td>kmeans|| (l*k=0.5)</td>\n",
       "      <td>7.093536</td>\n",
       "      <td>5.520122</td>\n",
       "      <td>21.077598</td>\n",
       "      <td>15.050722</td>\n",
       "      <td>15.197356</td>\n",
       "    </tr>\n",
       "  </tbody>\n",
       "</table>\n",
       "</div>"
      ],
      "text/plain": [
       "     R           init_algo  init_time (s)  up_time (s)       seed      final  \\\n",
       "0    1  kmeans|| (l*k=0.5)       4.372669     9.035321  25.042430  14.947091   \n",
       "1   10  kmeans|| (l*k=0.5)       6.210849     4.651249  25.166306  15.050722   \n",
       "2  100  kmeans|| (l*k=0.5)       7.093536     5.520122  21.077598  15.050722   \n",
       "\n",
       "        true  \n",
       "0  15.122955  \n",
       "1  15.197356  \n",
       "2  15.197356  "
      ]
     },
     "metadata": {},
     "output_type": "display_data"
    },
    {
     "name": "stdout",
     "output_type": "stream",
     "text": [
      "l*k=2\n"
     ]
    },
    {
     "data": {
      "text/html": [
       "<div>\n",
       "<style scoped>\n",
       "    .dataframe tbody tr th:only-of-type {\n",
       "        vertical-align: middle;\n",
       "    }\n",
       "\n",
       "    .dataframe tbody tr th {\n",
       "        vertical-align: top;\n",
       "    }\n",
       "\n",
       "    .dataframe thead th {\n",
       "        text-align: right;\n",
       "    }\n",
       "</style>\n",
       "<table border=\"1\" class=\"dataframe\">\n",
       "  <thead>\n",
       "    <tr style=\"text-align: right;\">\n",
       "      <th></th>\n",
       "      <th>R</th>\n",
       "      <th>init_algo</th>\n",
       "      <th>init_time (s)</th>\n",
       "      <th>up_time (s)</th>\n",
       "      <th>seed</th>\n",
       "      <th>final</th>\n",
       "      <th>true</th>\n",
       "    </tr>\n",
       "  </thead>\n",
       "  <tbody>\n",
       "    <tr>\n",
       "      <th>0</th>\n",
       "      <td>1</td>\n",
       "      <td>kmeans|| (l*k=2)</td>\n",
       "      <td>3.427960</td>\n",
       "      <td>6.424335</td>\n",
       "      <td>17.664677</td>\n",
       "      <td>16.259270</td>\n",
       "      <td>15.122955</td>\n",
       "    </tr>\n",
       "    <tr>\n",
       "      <th>1</th>\n",
       "      <td>10</td>\n",
       "      <td>kmeans|| (l*k=2)</td>\n",
       "      <td>7.497376</td>\n",
       "      <td>7.561070</td>\n",
       "      <td>60.519813</td>\n",
       "      <td>58.699917</td>\n",
       "      <td>15.197356</td>\n",
       "    </tr>\n",
       "    <tr>\n",
       "      <th>2</th>\n",
       "      <td>100</td>\n",
       "      <td>kmeans|| (l*k=2)</td>\n",
       "      <td>5.991533</td>\n",
       "      <td>3.929929</td>\n",
       "      <td>16.350422</td>\n",
       "      <td>15.050722</td>\n",
       "      <td>15.197356</td>\n",
       "    </tr>\n",
       "  </tbody>\n",
       "</table>\n",
       "</div>"
      ],
      "text/plain": [
       "     R         init_algo  init_time (s)  up_time (s)       seed      final  \\\n",
       "0    1  kmeans|| (l*k=2)       3.427960     6.424335  17.664677  16.259270   \n",
       "1   10  kmeans|| (l*k=2)       7.497376     7.561070  60.519813  58.699917   \n",
       "2  100  kmeans|| (l*k=2)       5.991533     3.929929  16.350422  15.050722   \n",
       "\n",
       "        true  \n",
       "0  15.122955  \n",
       "1  15.197356  \n",
       "2  15.197356  "
      ]
     },
     "metadata": {},
     "output_type": "display_data"
    }
   ],
   "source": [
    "# Overview of the final results\n",
    "\n",
    "display(results_rand)\n",
    "display(results_plus)\n",
    "print(\"l*k=0.5\")\n",
    "display(results_par1)\n",
    "print(\"l*k=2\")\n",
    "display(results_par2)"
   ]
  },
  {
   "cell_type": "markdown",
   "metadata": {},
   "source": [
    "## Tables results visualization"
   ]
  },
  {
   "cell_type": "code",
   "execution_count": 31,
   "metadata": {},
   "outputs": [
    {
     "data": {
      "image/png": "[encoded data removed]",
      "text/plain": [
       "<Figure size 1000x800 with 4 Axes>"
      ]
     },
     "metadata": {},
     "output_type": "display_data"
    }
   ],
   "source": [
    "sns.set(style=\"whitegrid\")\n",
    "matplotlib.rcParams.update({'font.size': 12})\n",
    "\n",
    "# Define metrics and titles\n",
    "metrics = [\"init_time (s)\", \"up_time (s)\", \"seed\", \"final\"]\n",
    "titles = [\"Initialization time\", \"Lloyd’s time\", \"Seed cost\", \"Final cost\"]\n",
    "\n",
    "# Plot\n",
    "fig, axs = plt.subplots(2, 2, figsize=(10, 8))\n",
    "\n",
    "for ax, metric, title in zip(axs.flat, metrics, titles):\n",
    "    sns.barplot(\n",
    "        data=df_all,\n",
    "        x=\"init_algo\",\n",
    "        y=metric,\n",
    "        hue=\"R\",\n",
    "        palette=\"rainbow\",\n",
    "        alpha=0.8,\n",
    "        ax=ax\n",
    "    )\n",
    "    ax.set_title(title)\n",
    "    ax.set_ylabel(metric)\n",
    "    ax.tick_params(axis=\"x\", rotation=20)\n",
    "    ax.get_legend().remove() \n",
    "\n",
    "# Legend comune in alto\n",
    "handles, labels = axs[0, 0].get_legend_handles_labels()\n",
    "fig.legend(\n",
    "    handles, labels,\n",
    "    loc=\"upper center\",\n",
    "    ncol=len(labels),\n",
    "    title=\"R\",\n",
    "    bbox_to_anchor=(0.5, 1.05)  \n",
    ")\n",
    "\n",
    "plt.tight_layout()  \n",
    "plt.savefig(\"time_cost_comparison.pdf\")\n",
    "plt.show()"
   ]
  },
  {
   "cell_type": "markdown",
   "metadata": {},
   "source": [
    "## Old functions"
   ]
  },
  {
   "cell_type": "code",
   "execution_count": 32,
   "metadata": {},
   "outputs": [
    {
     "data": {
      "text/plain": [
       "'#################### RANDOM ####################\\ndata_rdd = gm_rdd\\nk = 50\\niterations = 100\\nR = 1\\n\\n######## 1 - Random Init ########\\nstart = time.time()\\n######## Init ########\\ncentroidsRandom = gm_narray[np.random.choice(gm_narray.shape[0], size=k, replace=False)]\\ninit_time = time.time() - start\\nseed_cost = compute_cost(data_rdd, centroidsRandom)\\n\\nalgo = \"naive\"\\nstart = time.time()\\n######## Algo ########\\nfinal_centroids = lloydKMeans(data_rdd, centroidsRandom, iterations)\\nfinal_time = time.time() - start\\nfinal_cost = compute_cost(data_rdd, final_centroids)'"
      ]
     },
     "execution_count": 32,
     "metadata": {},
     "output_type": "execute_result"
    }
   ],
   "source": [
    "\"\"\"#################### RANDOM ####################\n",
    "data_rdd = gm_rdd\n",
    "k = 50\n",
    "iterations = 100\n",
    "R = 1\n",
    "\n",
    "######## 1 - Random Init ########\n",
    "start = time.time()\n",
    "######## Init ########\n",
    "centroidsRandom = gm_narray[np.random.choice(gm_narray.shape[0], size=k, replace=False)]\n",
    "init_time = time.time() - start\n",
    "seed_cost = compute_cost(data_rdd, centroidsRandom)\n",
    "\n",
    "algo = \"naive\"\n",
    "start = time.time()\n",
    "######## Algo ########\n",
    "final_centroids = lloydKMeans(data_rdd, centroidsRandom, iterations)\n",
    "final_time = time.time() - start\n",
    "final_cost = compute_cost(data_rdd, final_centroids)\"\"\""
   ]
  },
  {
   "cell_type": "code",
   "execution_count": 33,
   "metadata": {},
   "outputs": [
    {
     "data": {
      "text/plain": [
       "'results_rand = []\\nresults_rand.append({\\n    \"R\": R,\\n    \"algo\": \"random\",\\n    \"init_time (s)\": f\"{init_time:.3g}\",\\n    \"up_time (s)\":f\"{final_time:.3g}\",\\n    \"seed\": f\"{seed_cost/1e4:.3g}\",\\n    \"final\": f\"{final_cost/1e4:.3g}\",\\n    \"true\": f\"{gm_true_cost/1e4:.3g}\"\\n})\\n\\nresults_rand = pd.DataFrame(results_rand)\\nresults_rand'"
      ]
     },
     "execution_count": 33,
     "metadata": {},
     "output_type": "execute_result"
    }
   ],
   "source": [
    "\"\"\"results_rand = []\n",
    "results_rand.append({\n",
    "    \"R\": R,\n",
    "    \"algo\": \"random\",\n",
    "    \"init_time (s)\": f\"{init_time:.3g}\",\n",
    "    \"up_time (s)\":f\"{final_time:.3g}\",\n",
    "    \"seed\": f\"{seed_cost/1e4:.3g}\",\n",
    "    \"final\": f\"{final_cost/1e4:.3g}\",\n",
    "    \"true\": f\"{gm_true_cost/1e4:.3g}\"\n",
    "})\n",
    "\n",
    "results_rand = pd.DataFrame(results_rand)\n",
    "results_rand\"\"\""
   ]
  },
  {
   "cell_type": "code",
   "execution_count": 34,
   "metadata": {},
   "outputs": [
    {
     "data": {
      "text/plain": [
       "'#################### k-means++ ####################\\ndata_rdd = gm_rdd\\nk = 50\\niterations = 100\\nR = 1\\n\\n######## Init ########\\nstart = time.time()\\ncentroidsPlusPlus = kMeansPlusPlus_init(gm_narray, k)\\ninit_time = time.time() - start\\nseed_cost = compute_cost(data_rdd, centroidsPlusPlus)\\n######## Algo ########\\nstart = time.time()\\nfinal_centroids = lloydKMeans(data_rdd, centroidsPlusPlus, iterations)\\nfinal_time = time.time() - start\\nfinal_cost = compute_cost(data_rdd, final_centroids)'"
      ]
     },
     "execution_count": 34,
     "metadata": {},
     "output_type": "execute_result"
    }
   ],
   "source": [
    "\"\"\"#################### k-means++ ####################\n",
    "data_rdd = gm_rdd\n",
    "k = 50\n",
    "iterations = 100\n",
    "R = 1\n",
    "\n",
    "######## Init ########\n",
    "start = time.time()\n",
    "centroidsPlusPlus = kMeansPlusPlus_init(gm_narray, k)\n",
    "init_time = time.time() - start\n",
    "seed_cost = compute_cost(data_rdd, centroidsPlusPlus)\n",
    "######## Algo ########\n",
    "start = time.time()\n",
    "final_centroids = lloydKMeans(data_rdd, centroidsPlusPlus, iterations)\n",
    "final_time = time.time() - start\n",
    "final_cost = compute_cost(data_rdd, final_centroids)\"\"\""
   ]
  },
  {
   "cell_type": "code",
   "execution_count": 35,
   "metadata": {},
   "outputs": [
    {
     "data": {
      "text/plain": [
       "'results_plus = []\\nresults_plus.append({\\n    \"R\": R,\\n    \"algo\": \"kmeans++\",\\n    \"init_time\": f\"{init_time:.3g}\",\\n    \"up_time\":f\"{final_time:.3g}\",\\n    \"seed\": f\"{seed_cost/1e4:.3g}\",\\n    \"final\": f\"{final_cost/1e4:.3g}\",\\n    \"true\": f\"{gm_true_cost/1e4:.3g}\"\\n})\\n\\nresults_plus = pd.DataFrame(results_plus)\\nresults_plus'"
      ]
     },
     "execution_count": 35,
     "metadata": {},
     "output_type": "execute_result"
    }
   ],
   "source": [
    "\"\"\"results_plus = []\n",
    "results_plus.append({\n",
    "    \"R\": R,\n",
    "    \"algo\": \"kmeans++\",\n",
    "    \"init_time\": f\"{init_time:.3g}\",\n",
    "    \"up_time\":f\"{final_time:.3g}\",\n",
    "    \"seed\": f\"{seed_cost/1e4:.3g}\",\n",
    "    \"final\": f\"{final_cost/1e4:.3g}\",\n",
    "    \"true\": f\"{gm_true_cost/1e4:.3g}\"\n",
    "})\n",
    "\n",
    "results_plus = pd.DataFrame(results_plus)\n",
    "results_plus\"\"\""
   ]
  },
  {
   "cell_type": "code",
   "execution_count": 36,
   "metadata": {},
   "outputs": [
    {
     "data": {
      "text/plain": [
       "'#################### k-means|| ####################\\ndata_rdd = gm_rdd\\nk = 50\\nr = 5\\niterations = 100\\nR = 1\\nlk_ratio = [0.5, 2]\\n\\nstart = time.time()\\n######## Init ########\\ninit_time = []\\nseed_cost = []\\ncentroids_init = []\\nfor lk in lk_ratio:\\n    centroids_init.append(kMeansParallel_init(data_rdd, k=k, l=lk*k, r=r))\\n    init_time.append(time.time() - start)\\n    start = time.time()\\n    seed_cost.append(compute_cost(data_rdd, centroids_init))\\n\\nstart = time.time()\\n######## Algo ########\\nfinal_cost = []\\nfinal_time = []\\nfor clk in centroids_init:\\n    final_centroids = lloydKMeans(data_rdd, clk, iterations)\\n    final_time.append(time.time() - start)\\n    start = time.time()\\n    final_cost.append(compute_cost(data_rdd, final_centroids))'"
      ]
     },
     "execution_count": 36,
     "metadata": {},
     "output_type": "execute_result"
    }
   ],
   "source": [
    "\"\"\"#################### k-means|| ####################\n",
    "data_rdd = gm_rdd\n",
    "k = 50\n",
    "r = 5\n",
    "iterations = 100\n",
    "R = 1\n",
    "lk_ratio = [0.5, 2]\n",
    "\n",
    "start = time.time()\n",
    "######## Init ########\n",
    "init_time = []\n",
    "seed_cost = []\n",
    "centroids_init = []\n",
    "for lk in lk_ratio:\n",
    "    centroids_init.append(kMeansParallel_init(data_rdd, k=k, l=lk*k, r=r))\n",
    "    init_time.append(time.time() - start)\n",
    "    start = time.time()\n",
    "    seed_cost.append(compute_cost(data_rdd, centroids_init))\n",
    "\n",
    "start = time.time()\n",
    "######## Algo ########\n",
    "final_cost = []\n",
    "final_time = []\n",
    "for clk in centroids_init:\n",
    "    final_centroids = lloydKMeans(data_rdd, clk, iterations)\n",
    "    final_time.append(time.time() - start)\n",
    "    start = time.time()\n",
    "    final_cost.append(compute_cost(data_rdd, final_centroids))\"\"\""
   ]
  },
  {
   "cell_type": "code",
   "execution_count": 37,
   "metadata": {},
   "outputs": [
    {
     "data": {
      "text/plain": [
       "'results_par = []\\nresults_par.append({\\n    \"R\": R,\\n    \"algo\": f\"kmeans||  (r={r}, l={lk_ratio}*k)\",\\n    \"init_time\": [f\"{t:.3g}\" for t in init_time],\\n    \"up_time\": [f\"{t:.3g}\" for t in final_time],\\n    \"seed\": [f\"{c/1e4:.3g}\" for c in seed_cost],\\n    \"final\": [f\"{c/1e4:.3g}\" for c in final_cost],\\n    \"true\": f\"{gm_true_cost/1e4:.3g}\",\\n})\\n\\nresults_par = pd.DataFrame(results_par)\\nresults_par'"
      ]
     },
     "execution_count": 37,
     "metadata": {},
     "output_type": "execute_result"
    }
   ],
   "source": [
    "\"\"\"results_par = []\n",
    "results_par.append({\n",
    "    \"R\": R,\n",
    "    \"algo\": f\"kmeans||  (r={r}, l={lk_ratio}*k)\",\n",
    "    \"init_time\": [f\"{t:.3g}\" for t in init_time],\n",
    "    \"up_time\": [f\"{t:.3g}\" for t in final_time],\n",
    "    \"seed\": [f\"{c/1e4:.3g}\" for c in seed_cost],\n",
    "    \"final\": [f\"{c/1e4:.3g}\" for c in final_cost],\n",
    "    \"true\": f\"{gm_true_cost/1e4:.3g}\",\n",
    "})\n",
    "\n",
    "results_par = pd.DataFrame(results_par)\n",
    "results_par\"\"\""
   ]
  },
  {
   "cell_type": "code",
   "execution_count": 38,
   "metadata": {},
   "outputs": [],
   "source": [
    "# gm_rdd.unpersist()"
   ]
  },
  {
   "cell_type": "markdown",
   "metadata": {},
   "source": [
    "## Cost vs. r plots"
   ]
  },
  {
   "cell_type": "code",
   "execution_count": 39,
   "metadata": {},
   "outputs": [],
   "source": [
    "def exp10_cost(cost, frac_digits=2):\n",
    "    \"\"\"Return exponent 'a' s.t. cost ~10^a, rounded to 'frac_digits' decimals.\"\"\"\n",
    "    return float(np.round(np.log10(float(cost)), frac_digits))"
   ]
  },
  {
   "cell_type": "code",
   "execution_count": 40,
   "metadata": {},
   "outputs": [
    {
     "data": {
      "text/plain": [
       "3.0"
      ]
     },
     "execution_count": 40,
     "metadata": {},
     "output_type": "execute_result"
    }
   ],
   "source": [
    "#### TEST #####\n",
    "exp10_cost(cost=1_000, frac_digits=2)"
   ]
  },
  {
   "cell_type": "code",
   "execution_count": 41,
   "metadata": {},
   "outputs": [],
   "source": [
    "def run_curves(data_rdd, k, rounds, lk_ratio, iterations):\n",
    "    curves = {lk: [] for lk in lk_ratio}\n",
    "    \n",
    "    for lk in lk_ratio:\n",
    "        for r in rounds:\n",
    "            if r==0:         \n",
    "                C_psi = kMeansRandom_init(data_rdd, 1)\n",
    "                psi = compute_cost(data_rdd, C_psi)\n",
    "                curves[lk].append(exp10_cost(psi, 2))\n",
    "            else:\n",
    "                C0   = kMeansParallel_init(data_rdd, k=k, l=int(lk*k), r=int(r))\n",
    "                Cfin = lloydKMeans(data_rdd, C0, iterations)\n",
    "                phi  = compute_cost(data_rdd, Cfin)          \n",
    "                curves[lk].append(exp10_cost(phi, 2))\n",
    "                \n",
    "            print(f\"COMPLETED: \\n##########|\\tl/k = {lk}  |  r = {r}\\t|##########\")\n",
    "        print(\"DONE!\")\n",
    "        \n",
    "    return curves"
   ]
  },
  {
   "cell_type": "markdown",
   "metadata": {},
   "source": [
    "### Plot"
   ]
  },
  {
   "cell_type": "code",
   "execution_count": 48,
   "metadata": {},
   "outputs": [],
   "source": [
    "# --- control parameters --- \n",
    "\n",
    "# Actual parameters\n",
    "lk_ratio = [1, 2, 5, 10]\n",
    "rounds = list(range(5))\n",
    "\n",
    "# Toy parameters\n",
    "#rounds = list(range(0, 5, 2))\n",
    "#lk_ratio = [1, 2]"
   ]
  },
  {
   "cell_type": "markdown",
   "metadata": {},
   "source": [
    "### kmeans|| init + Lloyd algorithm"
   ]
  },
  {
   "cell_type": "code",
   "execution_count": 50,
   "metadata": {},
   "outputs": [
    {
     "name": "stdout",
     "output_type": "stream",
     "text": [
      "Running for R=1\n",
      "COMPLETED: \n",
      "##########|\tl/k = 1  |  r = 0\t|##########\n",
      "COMPLETED: \n",
      "##########|\tl/k = 1  |  r = 1\t|##########\n",
      "COMPLETED: \n",
      "##########|\tl/k = 1  |  r = 2\t|##########\n",
      "COMPLETED: \n",
      "##########|\tl/k = 1  |  r = 3\t|##########\n",
      "COMPLETED: \n",
      "##########|\tl/k = 1  |  r = 4\t|##########\n",
      "DONE!\n",
      "COMPLETED: \n",
      "##########|\tl/k = 2  |  r = 0\t|##########\n",
      "COMPLETED: \n",
      "##########|\tl/k = 2  |  r = 1\t|##########\n",
      "COMPLETED: \n",
      "##########|\tl/k = 2  |  r = 2\t|##########\n",
      "COMPLETED: \n",
      "##########|\tl/k = 2  |  r = 3\t|##########\n",
      "COMPLETED: \n",
      "##########|\tl/k = 2  |  r = 4\t|##########\n",
      "DONE!\n",
      "COMPLETED: \n",
      "##########|\tl/k = 5  |  r = 0\t|##########\n",
      "COMPLETED: \n",
      "##########|\tl/k = 5  |  r = 1\t|##########\n",
      "COMPLETED: \n",
      "##########|\tl/k = 5  |  r = 2\t|##########\n",
      "COMPLETED: \n",
      "##########|\tl/k = 5  |  r = 3\t|##########\n",
      "COMPLETED: \n",
      "##########|\tl/k = 5  |  r = 4\t|##########\n",
      "DONE!\n",
      "COMPLETED: \n",
      "##########|\tl/k = 10  |  r = 0\t|##########\n",
      "COMPLETED: \n",
      "##########|\tl/k = 10  |  r = 1\t|##########\n",
      "COMPLETED: \n",
      "##########|\tl/k = 10  |  r = 2\t|##########\n",
      "COMPLETED: \n",
      "##########|\tl/k = 10  |  r = 3\t|##########\n",
      "COMPLETED: \n",
      "##########|\tl/k = 10  |  r = 4\t|##########\n",
      "DONE!\n",
      "Running for R=10\n"
     ]
    },
    {
     "name": "stderr",
     "output_type": "stream",
     "text": [
      "                                                                                "
     ]
    },
    {
     "name": "stdout",
     "output_type": "stream",
     "text": [
      "COMPLETED: \n",
      "##########|\tl/k = 1  |  r = 0\t|##########\n"
     ]
    },
    {
     "name": "stderr",
     "output_type": "stream",
     "text": [
      "                                                                                "
     ]
    },
    {
     "name": "stdout",
     "output_type": "stream",
     "text": [
      "COMPLETED: \n",
      "##########|\tl/k = 1  |  r = 1\t|##########\n"
     ]
    },
    {
     "name": "stderr",
     "output_type": "stream",
     "text": [
      "                                                                                "
     ]
    },
    {
     "name": "stdout",
     "output_type": "stream",
     "text": [
      "COMPLETED: \n",
      "##########|\tl/k = 1  |  r = 2\t|##########\n"
     ]
    },
    {
     "name": "stderr",
     "output_type": "stream",
     "text": [
      "                                                                                "
     ]
    },
    {
     "name": "stdout",
     "output_type": "stream",
     "text": [
      "COMPLETED: \n",
      "##########|\tl/k = 1  |  r = 3\t|##########\n"
     ]
    },
    {
     "name": "stderr",
     "output_type": "stream",
     "text": [
      "                                                                                "
     ]
    },
    {
     "name": "stdout",
     "output_type": "stream",
     "text": [
      "COMPLETED: \n",
      "##########|\tl/k = 1  |  r = 4\t|##########\n",
      "DONE!\n",
      "COMPLETED: \n",
      "##########|\tl/k = 2  |  r = 0\t|##########\n"
     ]
    },
    {
     "name": "stderr",
     "output_type": "stream",
     "text": [
      "                                                                                "
     ]
    },
    {
     "name": "stdout",
     "output_type": "stream",
     "text": [
      "COMPLETED: \n",
      "##########|\tl/k = 2  |  r = 1\t|##########\n"
     ]
    },
    {
     "name": "stderr",
     "output_type": "stream",
     "text": [
      "                                                                                "
     ]
    },
    {
     "name": "stdout",
     "output_type": "stream",
     "text": [
      "COMPLETED: \n",
      "##########|\tl/k = 2  |  r = 2\t|##########\n"
     ]
    },
    {
     "name": "stderr",
     "output_type": "stream",
     "text": [
      "                                                                                "
     ]
    },
    {
     "name": "stdout",
     "output_type": "stream",
     "text": [
      "COMPLETED: \n",
      "##########|\tl/k = 2  |  r = 3\t|##########\n"
     ]
    },
    {
     "name": "stderr",
     "output_type": "stream",
     "text": [
      "                                                                                "
     ]
    },
    {
     "name": "stdout",
     "output_type": "stream",
     "text": [
      "COMPLETED: \n",
      "##########|\tl/k = 2  |  r = 4\t|##########\n",
      "DONE!\n",
      "COMPLETED: \n",
      "##########|\tl/k = 5  |  r = 0\t|##########\n"
     ]
    },
    {
     "name": "stderr",
     "output_type": "stream",
     "text": [
      "                                                                                "
     ]
    },
    {
     "name": "stdout",
     "output_type": "stream",
     "text": [
      "COMPLETED: \n",
      "##########|\tl/k = 5  |  r = 1\t|##########\n",
      "COMPLETED: \n",
      "##########|\tl/k = 5  |  r = 2\t|##########\n",
      "COMPLETED: \n",
      "##########|\tl/k = 5  |  r = 3\t|##########\n",
      "COMPLETED: \n",
      "##########|\tl/k = 5  |  r = 4\t|##########\n",
      "DONE!\n",
      "COMPLETED: \n",
      "##########|\tl/k = 10  |  r = 0\t|##########\n",
      "COMPLETED: \n",
      "##########|\tl/k = 10  |  r = 1\t|##########\n",
      "COMPLETED: \n",
      "##########|\tl/k = 10  |  r = 2\t|##########\n"
     ]
    },
    {
     "name": "stderr",
     "output_type": "stream",
     "text": [
      "                                                                                "
     ]
    },
    {
     "name": "stdout",
     "output_type": "stream",
     "text": [
      "COMPLETED: \n",
      "##########|\tl/k = 10  |  r = 3\t|##########\n",
      "COMPLETED: \n",
      "##########|\tl/k = 10  |  r = 4\t|##########\n",
      "DONE!\n"
     ]
    },
    {
     "name": "stderr",
     "output_type": "stream",
     "text": [
      "                                                                                "
     ]
    },
    {
     "name": "stdout",
     "output_type": "stream",
     "text": [
      "Running for R=100\n",
      "COMPLETED: \n",
      "##########|\tl/k = 1  |  r = 0\t|##########\n"
     ]
    },
    {
     "name": "stderr",
     "output_type": "stream",
     "text": [
      "                                                                                "
     ]
    },
    {
     "name": "stdout",
     "output_type": "stream",
     "text": [
      "COMPLETED: \n",
      "##########|\tl/k = 1  |  r = 1\t|##########\n"
     ]
    },
    {
     "name": "stderr",
     "output_type": "stream",
     "text": [
      "                                                                                "
     ]
    },
    {
     "name": "stdout",
     "output_type": "stream",
     "text": [
      "COMPLETED: \n",
      "##########|\tl/k = 1  |  r = 2\t|##########\n"
     ]
    },
    {
     "name": "stderr",
     "output_type": "stream",
     "text": [
      "                                                                                "
     ]
    },
    {
     "name": "stdout",
     "output_type": "stream",
     "text": [
      "COMPLETED: \n",
      "##########|\tl/k = 1  |  r = 3\t|##########\n"
     ]
    },
    {
     "name": "stderr",
     "output_type": "stream",
     "text": [
      "                                                                                "
     ]
    },
    {
     "name": "stdout",
     "output_type": "stream",
     "text": [
      "COMPLETED: \n",
      "##########|\tl/k = 1  |  r = 4\t|##########\n",
      "DONE!\n",
      "COMPLETED: \n",
      "##########|\tl/k = 2  |  r = 0\t|##########\n"
     ]
    },
    {
     "name": "stderr",
     "output_type": "stream",
     "text": [
      "                                                                                "
     ]
    },
    {
     "name": "stdout",
     "output_type": "stream",
     "text": [
      "COMPLETED: \n",
      "##########|\tl/k = 2  |  r = 1\t|##########\n"
     ]
    },
    {
     "name": "stderr",
     "output_type": "stream",
     "text": [
      "                                                                                "
     ]
    },
    {
     "name": "stdout",
     "output_type": "stream",
     "text": [
      "COMPLETED: \n",
      "##########|\tl/k = 2  |  r = 2\t|##########\n"
     ]
    },
    {
     "name": "stderr",
     "output_type": "stream",
     "text": [
      "                                                                                "
     ]
    },
    {
     "name": "stdout",
     "output_type": "stream",
     "text": [
      "COMPLETED: \n",
      "##########|\tl/k = 2  |  r = 3\t|##########\n"
     ]
    },
    {
     "name": "stderr",
     "output_type": "stream",
     "text": [
      "                                                                                "
     ]
    },
    {
     "name": "stdout",
     "output_type": "stream",
     "text": [
      "COMPLETED: \n",
      "##########|\tl/k = 2  |  r = 4\t|##########\n",
      "DONE!\n",
      "COMPLETED: \n",
      "##########|\tl/k = 5  |  r = 0\t|##########\n"
     ]
    },
    {
     "name": "stderr",
     "output_type": "stream",
     "text": [
      "                                                                                "
     ]
    },
    {
     "name": "stdout",
     "output_type": "stream",
     "text": [
      "COMPLETED: \n",
      "##########|\tl/k = 5  |  r = 1\t|##########\n"
     ]
    },
    {
     "name": "stderr",
     "output_type": "stream",
     "text": [
      "                                                                                "
     ]
    },
    {
     "name": "stdout",
     "output_type": "stream",
     "text": [
      "COMPLETED: \n",
      "##########|\tl/k = 5  |  r = 2\t|##########\n"
     ]
    },
    {
     "name": "stderr",
     "output_type": "stream",
     "text": [
      "                                                                                "
     ]
    },
    {
     "name": "stdout",
     "output_type": "stream",
     "text": [
      "COMPLETED: \n",
      "##########|\tl/k = 5  |  r = 3\t|##########\n"
     ]
    },
    {
     "name": "stderr",
     "output_type": "stream",
     "text": [
      "                                                                                "
     ]
    },
    {
     "name": "stdout",
     "output_type": "stream",
     "text": [
      "COMPLETED: \n",
      "##########|\tl/k = 5  |  r = 4\t|##########\n",
      "DONE!\n",
      "COMPLETED: \n",
      "##########|\tl/k = 10  |  r = 0\t|##########\n"
     ]
    },
    {
     "name": "stderr",
     "output_type": "stream",
     "text": [
      "                                                                                "
     ]
    },
    {
     "name": "stdout",
     "output_type": "stream",
     "text": [
      "COMPLETED: \n",
      "##########|\tl/k = 10  |  r = 1\t|##########\n"
     ]
    },
    {
     "name": "stderr",
     "output_type": "stream",
     "text": [
      "                                                                                "
     ]
    },
    {
     "name": "stdout",
     "output_type": "stream",
     "text": [
      "COMPLETED: \n",
      "##########|\tl/k = 10  |  r = 2\t|##########\n"
     ]
    },
    {
     "name": "stderr",
     "output_type": "stream",
     "text": [
      "                                                                                "
     ]
    },
    {
     "name": "stdout",
     "output_type": "stream",
     "text": [
      "COMPLETED: \n",
      "##########|\tl/k = 10  |  r = 3\t|##########\n"
     ]
    },
    {
     "name": "stderr",
     "output_type": "stream",
     "text": [
      "                                                                                "
     ]
    },
    {
     "name": "stdout",
     "output_type": "stream",
     "text": [
      "COMPLETED: \n",
      "##########|\tl/k = 10  |  r = 4\t|##########\n",
      "DONE!\n"
     ]
    }
   ],
   "source": [
    "results = {}\n",
    "\n",
    "for RR in R:\n",
    "    data_rdd = datasets[RR][\"rdd\"]\n",
    "    data_narray = datasets[RR][\"narray\"]\n",
    "\n",
    "    # compute curves (KM|| seeds + Lloyd)\n",
    "    print(f\"Running for R={RR}\")\n",
    "    curves = run_curves(data_rdd, k, rounds, lk_ratio, iterations)\n",
    "\n",
    "    # baseline (KM++ seeds + Lloyd)\n",
    "    Cpp    = kMeansPlusPlus_init(data_narray, k)\n",
    "    CppFin = lloydKMeans(data_rdd, Cpp, epochs=iterations)\n",
    "    base   = exp10_cost(compute_cost(data_rdd, CppFin), 2)\n",
    "\n",
    "    results[RR] = {\n",
    "        \"curves\": curves,\n",
    "        \"base\": base,\n",
    "        \"rounds\": rounds,\n",
    "        \"lk_ratio\": lk_ratio\n",
    "    }"
   ]
  },
  {
   "cell_type": "code",
   "execution_count": 51,
   "metadata": {},
   "outputs": [],
   "source": [
    "def plot_results(results_dict):\n",
    "    matplotlib.rcParams.update({'font.size': 16})\n",
    "    \n",
    "    fig, axes = plt.subplots(1, len(results_dict), figsize=(18, 6), sharey=True)\n",
    "\n",
    "    for idx, (RR, res) in enumerate(results_dict.items()):\n",
    "        ax = axes[idx]\n",
    "\n",
    "        curves = res[\"curves\"]\n",
    "        base = res[\"base\"]\n",
    "        rounds = res[\"rounds\"]\n",
    "\n",
    "        # Add a colormap\n",
    "        lk_values = sorted(curves.keys())\n",
    "        colors = cm.rainbow(np.linspace(0, 1, len(lk_values)))\n",
    "\n",
    "        # markers and lines styles\n",
    "        markers = [\"s\", \"o\", \"X\", \"^\"]\n",
    "        lines = [\"solid\", \"dotted\", \"dashed\", \"dashdot\"]\n",
    "\n",
    "        for lk, color, marker, line in zip(lk_values, colors, markers, lines):\n",
    "            phis = curves[lk]\n",
    "            ax.plot(rounds, phis, marker=marker, markersize=8, markerfacecolor=\"none\", color=color, \n",
    "                    linewidth=1.5, linestyle=line, alpha=0.8, label=f\"l/k={lk}\")\n",
    "\n",
    "        ax.axhline(base, color=\"k\", lw=1, linestyle=\"solid\", label=\"KM++ & Lloyd baseline\")\n",
    "\n",
    "        ax.set_title(f\"R = {RR}\", fontsize=16)\n",
    "        ax.set_xlabel(\"# Initialization Rounds\")\n",
    "        if idx == 0:\n",
    "            ax.set_ylabel(\"Cost (~$10^{\\\\alpha}$)\")\n",
    "        ax.yaxis.set_major_formatter(FuncFormatter(lambda y, _: rf\"$10^{{{y:.2f}}}$\"))\n",
    "        ax.xaxis.set_major_locator(MaxNLocator(integer=True))\n",
    "        ax.legend(frameon=False)\n",
    "\n",
    "    plt.tight_layout()\n",
    "    plt.savefig(\"lk_plot.pdf\")\n",
    "    plt.show()"
   ]
  },
  {
   "cell_type": "code",
   "execution_count": 52,
   "metadata": {},
   "outputs": [
    {
     "data": {
      "image/png": "[encoded data removed]",
      "text/plain": [
       "<Figure size 1800x600 with 3 Axes>"
      ]
     },
     "metadata": {},
     "output_type": "display_data"
    }
   ],
   "source": [
    "plot_results(results)"
   ]
  },
  {
   "cell_type": "code",
   "execution_count": null,
   "metadata": {},
   "outputs": [],
   "source": []
  },
  {
   "cell_type": "code",
   "execution_count": null,
   "metadata": {},
   "outputs": [],
   "source": []
  },
  {
   "cell_type": "code",
   "execution_count": null,
   "metadata": {},
   "outputs": [],
   "source": []
  },
  {
   "cell_type": "code",
   "execution_count": null,
   "metadata": {},
   "outputs": [],
   "source": []
  },
  {
   "cell_type": "code",
   "execution_count": null,
   "metadata": {},
   "outputs": [],
   "source": [
    "\"\"\"# compute curves (KM|| seeds + Lloyd):\n",
    "curves = run_curves(data_rdd, k, rounds, lk_ratio, iterations)\n",
    "\n",
    "# baseline (KM++ seeds + Lloyd):\n",
    "Cpp    = kMeansPlusPlus_init(data_narray, k)\n",
    "CppFin = lloydKMeans(data_rdd, Cpp, epochs=iterations)\n",
    "base   = exp10_cost(compute_cost(data_rdd, CppFin), 2)\"\"\""
   ]
  },
  {
   "cell_type": "code",
   "execution_count": null,
   "metadata": {},
   "outputs": [],
   "source": [
    "\"\"\"# ----- plot -----\n",
    "fig, ax = plt.subplots(figsize=(7.2, 4.2))\n",
    "for lk, phis in sorted(curves.items()):\n",
    "    ax.plot(rounds, phis, marker='o', linewidth=1.5, label=f\"l/k={lk}\")\n",
    "\n",
    "# if baseline:\n",
    "ax.axhline(base, color='k', lw=1, label='KM++ & Lloyd')\n",
    "\n",
    "ax.set_xlabel(\"# Initialization Rounds\")\n",
    "ax.set_ylabel(\"Cost (~$10^{\\\\alpha}$)\")\n",
    "ax.yaxis.set_major_formatter(FuncFormatter(lambda y, _: rf\"$10^{{{y:.2f}}}$\"))\n",
    "\n",
    "lo = min(min(v) for v in curves.values())\n",
    "hi = max(max(v) for v in curves.values())\n",
    "\n",
    "#ax.set_ylim(lo-0.01, hi)\n",
    "ax.set_title(f\"R = {R}\")\n",
    "ax.legend(frameon=False)\n",
    "ax.xaxis.set_major_locator(MaxNLocator(integer=True))\n",
    "plt.tight_layout()\n",
    "plt.show()\"\"\""
   ]
  },
  {
   "cell_type": "code",
   "execution_count": null,
   "metadata": {},
   "outputs": [],
   "source": []
  },
  {
   "cell_type": "code",
   "execution_count": null,
   "metadata": {},
   "outputs": [],
   "source": []
  },
  {
   "cell_type": "code",
   "execution_count": null,
   "metadata": {},
   "outputs": [],
   "source": []
  },
  {
   "cell_type": "code",
   "execution_count": null,
   "metadata": {},
   "outputs": [],
   "source": [
    "\"\"\"# ----- controls -----\n",
    "n          = 10_000\n",
    "k          = 50\n",
    "dim        = 15\n",
    "R          = 1\n",
    "rounds     = list(range(16))\n",
    "lk_ratio   = [0.1, 0.5, 2, 5, 10]\n",
    "iterations = 20\n",
    "\n",
    "data_narray, true_centroids = gauss_mixture(n, k, dim, R)\n",
    "data_rdd = sc.parallelize([row for row in data_narray])\"\"\""
   ]
  },
  {
   "cell_type": "code",
   "execution_count": null,
   "metadata": {},
   "outputs": [],
   "source": [
    "\"\"\"########### TEST ############\n",
    "# C_psi = kMeansRandom_init(data_rdd, 1)\n",
    "# psi  = cost_function(data_rdd, C_psi)\n",
    "# C0   = kMeansParallel_init(data_rdd, k, l=int(lk_ratio[4]*k), r=int(rounds[15]))\n",
    "# Cfin = naiveKMeans(data_rdd, C0, epochs=100_000)\n",
    "# phi  = cost_function(data_rdd, Cfin) \n",
    "# psi, phi\"\"\""
   ]
  },
  {
   "cell_type": "code",
   "execution_count": null,
   "metadata": {},
   "outputs": [],
   "source": [
    "\"\"\"# compute curves (KM|| seeds + Lloyd):\n",
    "curves = run_curves(data_rdd, k, rounds, lk_ratio, iterations)\n",
    "# baseline (KM++ seeds + Lloyd):\n",
    "Cpp    = kMeansPlusPlus_init(data_narray, k)\n",
    "CppFin = lloydKMeans(data_rdd, Cpp, epochs=100_000)\n",
    "base   = exp10_cost(compute_cost(data_rdd, CppFin), 2)\"\"\""
   ]
  },
  {
   "cell_type": "code",
   "execution_count": null,
   "metadata": {},
   "outputs": [],
   "source": [
    "\"\"\"# ----- plot -----\n",
    "fig, ax = plt.subplots(figsize=(7.2, 4.2))\n",
    "for lk, phis in sorted(curves.items()):\n",
    "    ax.plot(rounds, phis, marker='o', linewidth=1.5, label=f\"l/k={lk}\")\n",
    "\n",
    "# if baseline:\n",
    "ax.axhline(base, color='k', lw=1, label='KM++ & Lloyd')\n",
    "\n",
    "ax.set_xlabel(\"# Initialization Rounds\")\n",
    "ax.set_ylabel(\"Cost (~$10^{\\\\alpha}$)\")\n",
    "ax.yaxis.set_major_formatter(FuncFormatter(lambda y, _: rf\"$10^{{{y:.2f}}}$\"))\n",
    "\n",
    "lo = min(min(v) for v in curves.values())\n",
    "hi = max(max(v) for v in curves.values())\n",
    "\n",
    "#ax.set_ylim(lo-0.01, hi)\n",
    "ax.set_title(f\"R = {R}\")\n",
    "ax.legend(frameon=False)\n",
    "ax.xaxis.set_major_locator(MaxNLocator(integer=True))\n",
    "plt.tight_layout()\n",
    "plt.show()\"\"\""
   ]
  },
  {
   "cell_type": "code",
   "execution_count": null,
   "metadata": {},
   "outputs": [],
   "source": [
    "\"\"\"# ----- controls -----\n",
    "n          = 10_000\n",
    "k          = 50\n",
    "dim        = 15\n",
    "R          = 10\n",
    "rounds     = list(range(16))\n",
    "lk_ratio   = [0.1, 0.5, 2, 5, 10]\n",
    "iterations = 20\n",
    "\n",
    "data_narray10, true_centroids10 = gauss_mixture(n, k, dim, R)\n",
    "data_rdd10 = sc.parallelize([row for row in data_narray10])\"\"\""
   ]
  },
  {
   "cell_type": "code",
   "execution_count": null,
   "metadata": {},
   "outputs": [],
   "source": [
    "\"\"\"# compute curves (KM|| seeds + Lloyd):\n",
    "curves10 = run_curves(data_rdd10, k, rounds, lk_ratio, iterations)\n",
    "# baseline (KM++ seeds + Lloyd):\n",
    "Cpp10    = kMeansPlusPlus_init(data_narray10, k)\n",
    "CppFin10 = lloydKMeans(data_rdd10, Cpp10, epochs=1_000)\n",
    "base10   = exp10_cost(compute_cost(data_rdd10, CppFin10), 2)\"\"\""
   ]
  },
  {
   "cell_type": "code",
   "execution_count": null,
   "metadata": {},
   "outputs": [],
   "source": [
    "\"\"\"# ----- plot -----\n",
    "fig, ax = plt.subplots(figsize=(7.2, 4.2))\n",
    "for lk, phis in sorted(curves10.items()):\n",
    "    ax.plot(rounds, phis, marker='o', linewidth=1.5, label=f\"l/k={lk}\")\n",
    "\n",
    "# if baseline:\n",
    "ax.axhline(base10, color='k', lw=1, label='KM++ & Lloyd')\n",
    "\n",
    "ax.set_xlabel(\"# Initialization Rounds\")\n",
    "ax.set_ylabel(\"Cost (~$10^{\\\\alpha}$)\")\n",
    "ax.yaxis.set_major_formatter(FuncFormatter(lambda y, _: rf\"$10^{{{y:.2f}}}$\"))\n",
    "\n",
    "lo = min(min(v) for v in curves10.values())\n",
    "hi = max(max(v) for v in curves10.values())\n",
    "\n",
    "#ax.set_ylim(lo-0.01, hi)\n",
    "ax.set_title(f\"R = {R}\")\n",
    "ax.legend(frameon=False)\n",
    "ax.xaxis.set_major_locator(MaxNLocator(integer=True))\n",
    "plt.tight_layout()\n",
    "plt.show()\"\"\""
   ]
  },
  {
   "cell_type": "code",
   "execution_count": null,
   "metadata": {},
   "outputs": [],
   "source": [
    "\"\"\"# ----- controls -----\n",
    "n          = 10_000\n",
    "k          = 50\n",
    "dim        = 15\n",
    "R          = 100\n",
    "rounds     = list(range(16))\n",
    "lk_ratio   = [0.1, 0.5, 2, 5, 10]\n",
    "iterations = 20\n",
    "\n",
    "data_narray100, true_centroids100 = gauss_mixture(n, k, dim, R)\n",
    "data_rdd100 = sc.parallelize([row for row in data_narray100])\"\"\""
   ]
  },
  {
   "cell_type": "code",
   "execution_count": null,
   "metadata": {},
   "outputs": [],
   "source": [
    "\"\"\"# compute curves (KM|| seeds + Lloyd):\n",
    "curves100 = run_curves(data_rdd100, k, rounds, lk_ratio, iterations)\n",
    "# baseline (KM++ seeds + Lloyd):\n",
    "Cpp100    = kMeansPlusPlus_init(data_narray100, k)\n",
    "CppFin100 = lloydKMeans(data_rdd100, Cpp100, epochs=1_000)\n",
    "base100   = exp10_cost(cost_function(data_rdd100, CppFin100), 2)\"\"\""
   ]
  },
  {
   "cell_type": "code",
   "execution_count": null,
   "metadata": {},
   "outputs": [],
   "source": [
    "\"\"\"# ----- plot -----\n",
    "fig, ax = plt.subplots(figsize=(7.2, 4.2))\n",
    "for lk, phis in sorted(curves100.items()):\n",
    "    ax.plot(rounds, phis, marker='o', linewidth=1.5, label=f\"l/k={lk}\")\n",
    "\n",
    "# if baseline:\n",
    "ax.axhline(base100, color='k', lw=1, label='KM++ & Lloyd')\n",
    "\n",
    "ax.set_xlabel(\"# Initialization Rounds\")\n",
    "ax.set_ylabel(\"Cost (~$10^{\\\\alpha}$)\")\n",
    "ax.yaxis.set_major_formatter(FuncFormatter(lambda y, _: rf\"$10^{{{y:.2f}}}$\"))\n",
    "\n",
    "lo = min(min(v) for v in curves.values())\n",
    "hi = max(max(v) for v in curves.values())\n",
    "\n",
    "#ax.set_ylim(lo-0.01, hi)\n",
    "ax.set_title(f\"R = {R}\")\n",
    "ax.legend(frameon=False)\n",
    "ax.xaxis.set_major_locator(MaxNLocator(integer=True))\n",
    "plt.tight_layout()\n",
    "plt.show()\"\"\""
   ]
  },
  {
   "cell_type": "code",
   "execution_count": null,
   "metadata": {},
   "outputs": [],
   "source": []
  },
  {
   "cell_type": "markdown",
   "metadata": {},
   "source": [
    "## KMeans further Analysis"
   ]
  },
  {
   "cell_type": "code",
   "execution_count": null,
   "metadata": {},
   "outputs": [],
   "source": [
    "\"\"\"def analysis(\n",
    "        data_array: npt.ArrayLike, \n",
    "        data_rdd: RDD, \n",
    "        r: int=0, \n",
    "        k: int=50, \n",
    "        lk_ratio: float=0.5,\n",
    "        iterations: int=5, \n",
    "        batch_fraction: float=0.1,\n",
    "        init_algo: str=\"random\",\n",
    "        up_algo: str=\"naive\",\n",
    "        ) -> npt.DTypeLike:\n",
    "    \n",
    "    results = []\n",
    "    start = time.time()\n",
    "    ######## Init ########\n",
    "    if init_algo==\"random\": \n",
    "        centroids_init  = data_array[np.random.choice(data_array.shape[0], size=k, replace=False)]\n",
    "        init_time = time.time() - start\n",
    "        seed_cost = compute_cost(data_rdd, centroids_init)\n",
    "    elif init_algo==\"kmeans++\": \n",
    "        centroids_init = kMeansPlusPlus_init(data_array, k)\n",
    "        init_time = time.time() - start\n",
    "        seed_cost = compute_cost(data_rdd, centroids_init)\n",
    "    else: \n",
    "        init_time = []\n",
    "        seed_cost = []\n",
    "        for lk in lk_ratio:\n",
    "            centroids_init = kMeansParallel_init(data_rdd, k=k, l=lk*k, r=r)\n",
    "            init_time.append(time.time() - start)\n",
    "            start = time.time()\n",
    "            seed_cost.append(compute_cost(data_rdd, centroids_init))\n",
    "\n",
    "    start = time.time()\n",
    "    ######## Algo ########\n",
    "    if up_algo==\"naive\": final_centroids = lloydKMeans(data_rdd, centroids_init, iterations)\n",
    "    else: final_centroids = miniBatchKMeans(data_rdd, centroids_init, iterations, batch_fraction)\n",
    "    final_time = time.time() - start\n",
    "    final_cost = compute_cost(data_rdd, final_centroids)\n",
    "    \n",
    "    results.append({\n",
    "        \"method\": init_algo,\n",
    "        \"algo\": up_algo,\n",
    "        \"initialization_time (s)\": f\"{init_time:.3f}\",\n",
    "        \"algo time (s)\":f\"{final_time:.3f}\",\n",
    "        \"seed\": f\"{seed_cost/1e4:.3f}\",\n",
    "        \"final\": f\"{final_cost/1e4:.3f}\"\n",
    "    })\n",
    "    df = pd.DataFrame(results)\n",
    "    return df\"\"\""
   ]
  },
  {
   "cell_type": "markdown",
   "metadata": {},
   "source": [
    "Paper analysis on Gaussian mixture"
   ]
  },
  {
   "cell_type": "code",
   "execution_count": null,
   "metadata": {},
   "outputs": [],
   "source": [
    "\"\"\"R = [1, 10, 100]\n",
    "res = []\n",
    "\n",
    "n = 10_000\n",
    "k = 50\n",
    "dim = 15\n",
    "r = 5\n",
    "iterations = 100_000\n",
    "batch_fraction = 0.3\n",
    "\n",
    "for RR in R:\n",
    "    data_array, true_centroids = gauss_mixture(n, k, dim, R=RR)\n",
    "    data_rdd = sc.parallelize([row for row in data_array]).persist()\n",
    "    for init_algo in [\"random\", \"kmeans++\", \"kmeans||\"]:\n",
    "        df = analysis(\n",
    "                data_array, \n",
    "                data_rdd, \n",
    "                r=r, \n",
    "                k=50, \n",
    "                lk_ratio=[0.5, 2],\n",
    "                iterations=iterations, \n",
    "                batch_fraction=0.1,\n",
    "                init_algo=\"random\",\n",
    "                up_algo=\"naive\",\n",
    "            )\n",
    "        print(\n",
    "            f\"R={RR}\\t\", \n",
    "            f\"algo={algo}\", \"\\n\",\"------------------------------\", \"\\n\"\n",
    "        )\n",
    "\n",
    "        res.append(df)\n",
    "        data_rdd.unpersist()\"\"\""
   ]
  },
  {
   "cell_type": "markdown",
   "metadata": {},
   "source": [
    "# Lloyd Parallel vs. nPartitions"
   ]
  },
  {
   "cell_type": "code",
   "execution_count": null,
   "metadata": {},
   "outputs": [],
   "source": []
  },
  {
   "cell_type": "markdown",
   "metadata": {},
   "source": [
    "# Lloyd vs. Mini-Batch"
   ]
  },
  {
   "cell_type": "code",
   "execution_count": null,
   "metadata": {},
   "outputs": [],
   "source": []
  },
  {
   "cell_type": "code",
   "execution_count": null,
   "metadata": {},
   "outputs": [],
   "source": []
  }
 ],
 "metadata": {
  "kernelspec": {
   "display_name": "Python 3 (ipykernel)",
   "language": "python",
   "name": "python3"
  },
  "language_info": {
   "codemirror_mode": {
    "name": "ipython",
    "version": 3
   },
   "file_extension": ".py",
   "mimetype": "text/x-python",
   "name": "python",
   "nbconvert_exporter": "python",
   "pygments_lexer": "ipython3",
   "version": "3.11.12"
  }
 },
 "nbformat": 4,
 "nbformat_minor": 4
}
