{
 "cells": [
  {
   "cell_type": "markdown",
   "metadata": {},
   "source": [
    "# General Imports"
   ]
  },
  {
   "cell_type": "code",
   "execution_count": 1,
   "metadata": {},
   "outputs": [],
   "source": [
    "import matplotlib.pyplot as plt\n",
    "from matplotlib.ticker import FuncFormatter, MaxNLocator\n",
    "import numpy as np\n",
    "import numpy.typing as npt\n",
    "import os\n",
    "import pandas as pd\n",
    "import time\n",
    "\n",
    "from functools import singledispatch\n",
    "import warnings\n",
    "import logging\n",
    "\n",
    "# dataset\n",
    "from sklearn.datasets import fetch_kddcup99\n",
    "from sklearn.preprocessing import StandardScaler\n",
    "\n",
    "# pyspark module\n",
    "from pyspark.rdd import RDD\n",
    "\n",
    "# src module\n",
    "from utils import kddSetup, local_sparkSetup\n",
    "from kmeans import compute_centroidDistances, get_clusterId, get_minDistance, cost_function, kMeansParallel_init, kMeansPlusPlus_init, kMeansRandom_init, miniBatchKMeans, naiveKMeans"
   ]
  },
  {
   "cell_type": "markdown",
   "metadata": {},
   "source": [
    "# Acess Spark Application"
   ]
  },
  {
   "cell_type": "code",
   "execution_count": 2,
   "metadata": {},
   "outputs": [],
   "source": [
    "# Setup the spark warnings\n",
    "warnings.filterwarnings(\"ignore\") \n",
    "logging.getLogger('py4j').setLevel(logging.ERROR) \n",
    "logging.getLogger('pyspark').setLevel(logging.ERROR) \n",
    "log4j_conf_path = \"./Settings//log4j.properties\""
   ]
  },
  {
   "cell_type": "code",
   "execution_count": 3,
   "metadata": {},
   "outputs": [
    {
     "name": "stderr",
     "output_type": "stream",
     "text": [
      "Setting default log level to \"WARN\".\n",
      "To adjust logging level use sc.setLogLevel(newLevel). For SparkR, use setLogLevel(newLevel).\n",
      "25/09/12 12:48:33 WARN NativeCodeLoader: Unable to load native-hadoop library for your platform... using builtin-java classes where applicable\n"
     ]
    }
   ],
   "source": [
    "# creating a sparkSession\n",
    "spark = local_sparkSetup(\"kMeans\")\n",
    "# create a spark context    (allows us to )\n",
    "sc = spark.sparkContext\n",
    "sc.setLogLevel(\"ERROR\")\n",
    "sc.addPyFile(\"kmeans.py\")\n",
    "sc.addPyFile(\"utils.py\")"
   ]
  },
  {
   "cell_type": "markdown",
   "metadata": {},
   "source": [
    "### Spark TEST "
   ]
  },
  {
   "cell_type": "code",
   "execution_count": 4,
   "metadata": {},
   "outputs": [],
   "source": [
    "data = [1,2,3,4,5,6,7,8]\n",
    "dist_data = sc.parallelize(data)"
   ]
  },
  {
   "cell_type": "code",
   "execution_count": 5,
   "metadata": {},
   "outputs": [
    {
     "data": {
      "text/plain": [
       "([1, 2, 3, 4, 5, 6, 7, 8],\n",
       " ParallelCollectionRDD[0] at readRDDFromFile at PythonRDD.scala:289)"
      ]
     },
     "execution_count": 5,
     "metadata": {},
     "output_type": "execute_result"
    }
   ],
   "source": [
    "data, dist_data"
   ]
  },
  {
   "cell_type": "code",
   "execution_count": 6,
   "metadata": {},
   "outputs": [
    {
     "name": "stderr",
     "output_type": "stream",
     "text": [
      "                                                                                \r"
     ]
    },
    {
     "data": {
      "text/plain": [
       "8"
      ]
     },
     "execution_count": 6,
     "metadata": {},
     "output_type": "execute_result"
    }
   ],
   "source": [
    "dist_data.count()"
   ]
  },
  {
   "cell_type": "markdown",
   "metadata": {},
   "source": [
    "# Load and Test datasets"
   ]
  },
  {
   "cell_type": "markdown",
   "metadata": {},
   "source": [
    "## Gaussian Mixture"
   ]
  },
  {
   "cell_type": "markdown",
   "metadata": {},
   "source": [
    "The first dataset we would like to test is a synthetic GaussMixture. To generate it, we sampled kcenters from a 15-dimensional spherical Gaussian distribution with mean at the origin and variance R∈{1,10,100}. We then added points from Gaussian distributions of unit variance around each center. Given the k centers, this is a mixture of k spherical Gaussians with equal weights.\n",
    "\n",
    "ref{paper kmeans||}"
   ]
  },
  {
   "cell_type": "code",
   "execution_count": 7,
   "metadata": {},
   "outputs": [],
   "source": [
    "def gauss_mixture(\n",
    "    n: int=50,  \n",
    "    k: int=10,\n",
    "    dim: int=15,                  \n",
    "    R: int=10\n",
    ") -> RDD:\n",
    "    seed = 42\n",
    "    np.random.seed(seed)\n",
    "    # Centers generation N(0, R*I)\n",
    "    centers = np.random.normal(loc=0, scale=np.sqrt(R), size=(k, dim))\n",
    "    # Point generation N(center, I) for each cluster\n",
    "    return np.concatenate(\n",
    "        [center + np.random.randn(n, dim) for center in centers],\n",
    "        axis=0\n",
    "    ), centers"
   ]
  },
  {
   "cell_type": "code",
   "execution_count": 8,
   "metadata": {},
   "outputs": [
    {
     "data": {
      "text/html": [
       "<div>\n",
       "<style scoped>\n",
       "    .dataframe tbody tr th:only-of-type {\n",
       "        vertical-align: middle;\n",
       "    }\n",
       "\n",
       "    .dataframe tbody tr th {\n",
       "        vertical-align: top;\n",
       "    }\n",
       "\n",
       "    .dataframe thead th {\n",
       "        text-align: right;\n",
       "    }\n",
       "</style>\n",
       "<table border=\"1\" class=\"dataframe\">\n",
       "  <thead>\n",
       "    <tr style=\"text-align: right;\">\n",
       "      <th></th>\n",
       "      <th>0</th>\n",
       "      <th>1</th>\n",
       "      <th>2</th>\n",
       "      <th>3</th>\n",
       "      <th>4</th>\n",
       "      <th>5</th>\n",
       "      <th>6</th>\n",
       "      <th>7</th>\n",
       "      <th>8</th>\n",
       "      <th>9</th>\n",
       "      <th>10</th>\n",
       "      <th>11</th>\n",
       "      <th>12</th>\n",
       "      <th>13</th>\n",
       "      <th>14</th>\n",
       "    </tr>\n",
       "  </thead>\n",
       "  <tbody>\n",
       "    <tr>\n",
       "      <th>499998</th>\n",
       "      <td>-0.195071</td>\n",
       "      <td>0.648387</td>\n",
       "      <td>1.793387</td>\n",
       "      <td>-0.145578</td>\n",
       "      <td>3.454503</td>\n",
       "      <td>-3.544022</td>\n",
       "      <td>0.020545</td>\n",
       "      <td>-0.528179</td>\n",
       "      <td>1.476828</td>\n",
       "      <td>1.093623</td>\n",
       "      <td>-0.439093</td>\n",
       "      <td>1.019252</td>\n",
       "      <td>-0.797185</td>\n",
       "      <td>0.131641</td>\n",
       "      <td>-2.919948</td>\n",
       "    </tr>\n",
       "    <tr>\n",
       "      <th>499999</th>\n",
       "      <td>1.941442</td>\n",
       "      <td>1.066822</td>\n",
       "      <td>-0.280569</td>\n",
       "      <td>1.635847</td>\n",
       "      <td>1.280807</td>\n",
       "      <td>-2.581591</td>\n",
       "      <td>-0.657600</td>\n",
       "      <td>-0.890811</td>\n",
       "      <td>1.479724</td>\n",
       "      <td>1.847383</td>\n",
       "      <td>0.002478</td>\n",
       "      <td>0.410025</td>\n",
       "      <td>-1.490972</td>\n",
       "      <td>-0.349985</td>\n",
       "      <td>0.980694</td>\n",
       "    </tr>\n",
       "  </tbody>\n",
       "</table>\n",
       "</div>"
      ],
      "text/plain": [
       "              0         1         2         3         4         5         6   \\\n",
       "499998 -0.195071  0.648387  1.793387 -0.145578  3.454503 -3.544022  0.020545   \n",
       "499999  1.941442  1.066822 -0.280569  1.635847  1.280807 -2.581591 -0.657600   \n",
       "\n",
       "              7         8         9         10        11        12        13  \\\n",
       "499998 -0.528179  1.476828  1.093623 -0.439093  1.019252 -0.797185  0.131641   \n",
       "499999 -0.890811  1.479724  1.847383  0.002478  0.410025 -1.490972 -0.349985   \n",
       "\n",
       "              14  \n",
       "499998 -2.919948  \n",
       "499999  0.980694  "
      ]
     },
     "execution_count": 8,
     "metadata": {},
     "output_type": "execute_result"
    }
   ],
   "source": [
    "k = 50\n",
    "n = 10_000\n",
    "dim = 15\n",
    "R = 1\n",
    "gm_narray, true_centroids = gauss_mixture(n, k, dim, R)\n",
    "gm_df = pd.DataFrame(gm_narray)\n",
    "gm_df.tail(2)"
   ]
  },
  {
   "cell_type": "code",
   "execution_count": 9,
   "metadata": {},
   "outputs": [
    {
     "data": {
      "text/plain": [
       "ParallelCollectionRDD[2] at readRDDFromFile at PythonRDD.scala:289"
      ]
     },
     "execution_count": 9,
     "metadata": {},
     "output_type": "execute_result"
    }
   ],
   "source": [
    "gm_rdd = sc.parallelize([row for row in gm_narray])\n",
    "gm_rdd"
   ]
  },
  {
   "cell_type": "code",
   "execution_count": 10,
   "metadata": {},
   "outputs": [
    {
     "name": "stderr",
     "output_type": "stream",
     "text": [
      "                                                                                \r"
     ]
    },
    {
     "data": {
      "text/plain": [
       "500000"
      ]
     },
     "execution_count": 10,
     "metadata": {},
     "output_type": "execute_result"
    }
   ],
   "source": [
    "gm_rdd.count()"
   ]
  },
  {
   "cell_type": "code",
   "execution_count": 11,
   "metadata": {},
   "outputs": [
    {
     "name": "stderr",
     "output_type": "stream",
     "text": [
      "                                                                                \r"
     ]
    },
    {
     "data": {
      "text/plain": [
       "'718.772'"
      ]
     },
     "execution_count": 11,
     "metadata": {},
     "output_type": "execute_result"
    }
   ],
   "source": [
    "gm_true_cost = cost_function(gm_rdd, true_centroids)\n",
    "f\"{gm_true_cost/1e4:.3f}\""
   ]
  },
  {
   "cell_type": "markdown",
   "metadata": {},
   "source": [
    "## Reduced KDD"
   ]
  },
  {
   "cell_type": "code",
   "execution_count": 12,
   "metadata": {},
   "outputs": [],
   "source": [
    "kdd_data, kdd_labels, entries_dict = kddSetup(standardize=True)\n",
    "\n",
    "# get the number of clusters from kdd_labels\n",
    "k = np.unique(kdd_labels).shape[0]\n",
    "\n",
    "#parallelize\n",
    "kdd_rdd = sc.parallelize([row for row in kdd_data])\n",
    "# kdd_rdd = kdd_rdd.persist()"
   ]
  },
  {
   "cell_type": "code",
   "execution_count": 13,
   "metadata": {},
   "outputs": [
    {
     "name": "stderr",
     "output_type": "stream",
     "text": [
      "                                                                                \r"
     ]
    },
    {
     "data": {
      "text/plain": [
       "494021"
      ]
     },
     "execution_count": 13,
     "metadata": {},
     "output_type": "execute_result"
    }
   ],
   "source": [
    "kdd_rdd.count()"
   ]
  },
  {
   "cell_type": "code",
   "execution_count": null,
   "metadata": {},
   "outputs": [
    {
     "name": "stderr",
     "output_type": "stream",
     "text": [
      "[Stage 95:===================>                                      (2 + 4) / 6]\r"
     ]
    },
    {
     "name": "stdout",
     "output_type": "stream",
     "text": [
      "1.88e+07\t1.88e+07\n"
     ]
    },
    {
     "name": "stderr",
     "output_type": "stream",
     "text": [
      "                                                                                \r"
     ]
    }
   ],
   "source": [
    "k = 15\n",
    "l = k * 10\n",
    "init_centroids = kMeansParallel_init(kdd_rdd, k, l)\n",
    "phi_init = cost_function(kdd_rdd, init_centroids)\n",
    "final_centroids = miniBatchKMeans(kdd_rdd, init_centroids, 20, 0.3)\n",
    "phi_final = cost_function(kdd_rdd, final_centroids)"
   ]
  },
  {
   "cell_type": "code",
   "execution_count": null,
   "metadata": {},
   "outputs": [],
   "source": [
    "print(f\"{phi_init:.6g}\\t{phi_final:.6g}\")"
   ]
  },
  {
   "cell_type": "markdown",
   "metadata": {},
   "source": [
    "# kMeans|| Init Tests"
   ]
  },
  {
   "cell_type": "markdown",
   "metadata": {},
   "source": [
    "## Time / Cost tables"
   ]
  },
  {
   "cell_type": "code",
   "execution_count": 15,
   "metadata": {},
   "outputs": [
    {
     "name": "stderr",
     "output_type": "stream",
     "text": [
      "                                                                                \r"
     ]
    }
   ],
   "source": [
    "#################### RANDOM ####################\n",
    "data_rdd = gm_rdd\n",
    "k = 50\n",
    "iterations = 100_000\n",
    "R = 1\n",
    "\n",
    "######## 1 - Random Init ########\n",
    "start = time.time()\n",
    "######## Init ########\n",
    "centroidsRandom = gm_narray[np.random.choice(gm_narray.shape[0], size=k, replace=False)]\n",
    "init_time = time.time() - start\n",
    "seed_cost = cost_function(data_rdd, centroidsRandom)\n",
    "\n",
    "algo = \"naive\"\n",
    "start = time.time()\n",
    "######## Algo ########\n",
    "final_centroids = naiveKMeans(data_rdd, centroidsRandom, iterations)\n",
    "final_time = time.time() - start\n",
    "final_cost = cost_function(data_rdd, final_centroids)"
   ]
  },
  {
   "cell_type": "code",
   "execution_count": 16,
   "metadata": {},
   "outputs": [
    {
     "data": {
      "text/html": [
       "<div>\n",
       "<style scoped>\n",
       "    .dataframe tbody tr th:only-of-type {\n",
       "        vertical-align: middle;\n",
       "    }\n",
       "\n",
       "    .dataframe tbody tr th {\n",
       "        vertical-align: top;\n",
       "    }\n",
       "\n",
       "    .dataframe thead th {\n",
       "        text-align: right;\n",
       "    }\n",
       "</style>\n",
       "<table border=\"1\" class=\"dataframe\">\n",
       "  <thead>\n",
       "    <tr style=\"text-align: right;\">\n",
       "      <th></th>\n",
       "      <th>R</th>\n",
       "      <th>algo</th>\n",
       "      <th>init_time (s)</th>\n",
       "      <th>up_time (s)</th>\n",
       "      <th>seed</th>\n",
       "      <th>final</th>\n",
       "      <th>true</th>\n",
       "    </tr>\n",
       "  </thead>\n",
       "  <tbody>\n",
       "    <tr>\n",
       "      <th>0</th>\n",
       "      <td>1</td>\n",
       "      <td>random</td>\n",
       "      <td>0.0134</td>\n",
       "      <td>172</td>\n",
       "      <td>1.17e+03</td>\n",
       "      <td>721</td>\n",
       "      <td>719</td>\n",
       "    </tr>\n",
       "  </tbody>\n",
       "</table>\n",
       "</div>"
      ],
      "text/plain": [
       "   R    algo init_time (s) up_time (s)      seed final true\n",
       "0  1  random        0.0134         172  1.17e+03   721  719"
      ]
     },
     "execution_count": 16,
     "metadata": {},
     "output_type": "execute_result"
    }
   ],
   "source": [
    "results_rand = []\n",
    "results_rand.append({\n",
    "    \"R\": R,\n",
    "    \"algo\": \"random\",\n",
    "    \"init_time (s)\": f\"{init_time:.3g}\",\n",
    "    \"up_time (s)\":f\"{final_time:.3g}\",\n",
    "    \"seed\": f\"{seed_cost/1e4:.3g}\",\n",
    "    \"final\": f\"{final_cost/1e4:.3g}\",\n",
    "    \"true\": f\"{gm_true_cost/1e4:.3g}\"\n",
    "})\n",
    "\n",
    "results_rand = pd.DataFrame(results_rand)\n",
    "results_rand"
   ]
  },
  {
   "cell_type": "code",
   "execution_count": 17,
   "metadata": {},
   "outputs": [
    {
     "name": "stderr",
     "output_type": "stream",
     "text": [
      "                                                                                \r"
     ]
    }
   ],
   "source": [
    "#################### k-means++ ####################\n",
    "data_rdd = gm_rdd\n",
    "k = 50\n",
    "iterations = 100_000\n",
    "R = 1\n",
    "\n",
    "######## Init ########\n",
    "centroidsPlusPlus = kMeansPlusPlus_init(gm_narray, k)\n",
    "init_time = time.time() - start\n",
    "seed_cost = cost_function(data_rdd, centroidsPlusPlus)\n",
    "######## Algo ########\n",
    "start = time.time()\n",
    "final_centroids = naiveKMeans(data_rdd, centroidsPlusPlus, iterations)\n",
    "final_time = time.time() - start\n",
    "final_cost = cost_function(data_rdd, final_centroids)"
   ]
  },
  {
   "cell_type": "code",
   "execution_count": 18,
   "metadata": {},
   "outputs": [
    {
     "data": {
      "text/html": [
       "<div>\n",
       "<style scoped>\n",
       "    .dataframe tbody tr th:only-of-type {\n",
       "        vertical-align: middle;\n",
       "    }\n",
       "\n",
       "    .dataframe tbody tr th {\n",
       "        vertical-align: top;\n",
       "    }\n",
       "\n",
       "    .dataframe thead th {\n",
       "        text-align: right;\n",
       "    }\n",
       "</style>\n",
       "<table border=\"1\" class=\"dataframe\">\n",
       "  <thead>\n",
       "    <tr style=\"text-align: right;\">\n",
       "      <th></th>\n",
       "      <th>R</th>\n",
       "      <th>algo</th>\n",
       "      <th>init_time</th>\n",
       "      <th>up_time</th>\n",
       "      <th>seed</th>\n",
       "      <th>final</th>\n",
       "      <th>true</th>\n",
       "    </tr>\n",
       "  </thead>\n",
       "  <tbody>\n",
       "    <tr>\n",
       "      <th>0</th>\n",
       "      <td>1</td>\n",
       "      <td>kmeans++</td>\n",
       "      <td>565</td>\n",
       "      <td>79</td>\n",
       "      <td>1.16e+03</td>\n",
       "      <td>720</td>\n",
       "      <td>719</td>\n",
       "    </tr>\n",
       "  </tbody>\n",
       "</table>\n",
       "</div>"
      ],
      "text/plain": [
       "   R      algo init_time up_time      seed final true\n",
       "0  1  kmeans++       565      79  1.16e+03   720  719"
      ]
     },
     "execution_count": 18,
     "metadata": {},
     "output_type": "execute_result"
    }
   ],
   "source": [
    "results_plus = []\n",
    "results_plus.append({\n",
    "    \"R\": R,\n",
    "    \"algo\": \"kmeans++\",\n",
    "    \"init_time\": f\"{init_time:.3g}\",\n",
    "    \"up_time\":f\"{final_time:.3g}\",\n",
    "    \"seed\": f\"{seed_cost/1e4:.3g}\",\n",
    "    \"final\": f\"{final_cost/1e4:.3g}\",\n",
    "    \"true\": f\"{gm_true_cost/1e4:.3g}\"\n",
    "})\n",
    "\n",
    "results_plus = pd.DataFrame(results_plus)\n",
    "results_plus"
   ]
  },
  {
   "cell_type": "code",
   "execution_count": 19,
   "metadata": {},
   "outputs": [
    {
     "name": "stderr",
     "output_type": "stream",
     "text": [
      "                                                                                \r"
     ]
    }
   ],
   "source": [
    "#################### k-means|| ####################\n",
    "data_rdd = gm_rdd\n",
    "k = 50\n",
    "r = 5\n",
    "iterations = 100_000\n",
    "R = 1\n",
    "lk_ratio = [0.5, 2]\n",
    "\n",
    "start = time.time()\n",
    "######## Init ########\n",
    "init_time = []\n",
    "seed_cost = []\n",
    "centroids_init = []\n",
    "for lk in lk_ratio:\n",
    "    centroids_init.append(kMeansParallel_init(data_rdd, k=k, l=lk*k, r=r))\n",
    "    init_time.append(time.time() - start)\n",
    "    start = time.time()\n",
    "    seed_cost.append(cost_function(data_rdd, centroids_init))\n",
    "\n",
    "start = time.time()\n",
    "######## Algo ########\n",
    "final_cost = []\n",
    "final_time = []\n",
    "for clk in centroids_init:\n",
    "    final_centroids = naiveKMeans(data_rdd, clk, iterations)\n",
    "    final_time.append(time.time() - start)\n",
    "    start = time.time()\n",
    "    final_cost.append(cost_function(data_rdd, final_centroids))"
   ]
  },
  {
   "cell_type": "code",
   "execution_count": 20,
   "metadata": {},
   "outputs": [
    {
     "data": {
      "text/html": [
       "<div>\n",
       "<style scoped>\n",
       "    .dataframe tbody tr th:only-of-type {\n",
       "        vertical-align: middle;\n",
       "    }\n",
       "\n",
       "    .dataframe tbody tr th {\n",
       "        vertical-align: top;\n",
       "    }\n",
       "\n",
       "    .dataframe thead th {\n",
       "        text-align: right;\n",
       "    }\n",
       "</style>\n",
       "<table border=\"1\" class=\"dataframe\">\n",
       "  <thead>\n",
       "    <tr style=\"text-align: right;\">\n",
       "      <th></th>\n",
       "      <th>R</th>\n",
       "      <th>algo</th>\n",
       "      <th>init_time</th>\n",
       "      <th>up_time</th>\n",
       "      <th>seed</th>\n",
       "      <th>final</th>\n",
       "      <th>true</th>\n",
       "    </tr>\n",
       "  </thead>\n",
       "  <tbody>\n",
       "    <tr>\n",
       "      <th>0</th>\n",
       "      <td>1</td>\n",
       "      <td>kmeans||  (r=5, l=[0.5, 2]*k)</td>\n",
       "      <td>[23.9, 31.8]</td>\n",
       "      <td>[72.5, 184]</td>\n",
       "      <td>[3.48e+03, 2.73e+03]</td>\n",
       "      <td>[723, 718]</td>\n",
       "      <td>719</td>\n",
       "    </tr>\n",
       "  </tbody>\n",
       "</table>\n",
       "</div>"
      ],
      "text/plain": [
       "   R                           algo     init_time      up_time  \\\n",
       "0  1  kmeans||  (r=5, l=[0.5, 2]*k)  [23.9, 31.8]  [72.5, 184]   \n",
       "\n",
       "                   seed       final true  \n",
       "0  [3.48e+03, 2.73e+03]  [723, 718]  719  "
      ]
     },
     "execution_count": 20,
     "metadata": {},
     "output_type": "execute_result"
    }
   ],
   "source": [
    "results_par = []\n",
    "results_par.append({\n",
    "    \"R\": R,\n",
    "    \"algo\": f\"kmeans||  (r={r}, l={lk_ratio}*k)\",\n",
    "    \"init_time\": [f\"{t:.3g}\" for t in init_time],\n",
    "    \"up_time\": [f\"{t:.3g}\" for t in final_time],\n",
    "    \"seed\": [f\"{c/1e4:.3g}\" for c in seed_cost],\n",
    "    \"final\": [f\"{c/1e4:.3g}\" for c in final_cost],\n",
    "    \"true\": f\"{gm_true_cost/1e4:.3g}\",\n",
    "})\n",
    "\n",
    "results_par = pd.DataFrame(results_par)\n",
    "results_par"
   ]
  },
  {
   "cell_type": "code",
   "execution_count": 21,
   "metadata": {},
   "outputs": [],
   "source": [
    "# gm_rdd.unpersist()"
   ]
  },
  {
   "cell_type": "markdown",
   "metadata": {},
   "source": [
    "## Cost vs. r plots"
   ]
  },
  {
   "cell_type": "code",
   "execution_count": 8,
   "metadata": {},
   "outputs": [],
   "source": [
    "def exp10_cost(cost, frac_digits=2):\n",
    "    \"\"\"Return exponent 'a' s.t. cost ~10^a, rounded to 'frac_digits' decimals.\"\"\"\n",
    "    return float(np.round(np.log10(float(cost)), frac_digits))"
   ]
  },
  {
   "cell_type": "code",
   "execution_count": 9,
   "metadata": {},
   "outputs": [
    {
     "data": {
      "text/plain": [
       "3.0"
      ]
     },
     "execution_count": 9,
     "metadata": {},
     "output_type": "execute_result"
    }
   ],
   "source": [
    "#### TEST #####\n",
    "exp10_cost(cost=1_000, frac_digits=2)"
   ]
  },
  {
   "cell_type": "code",
   "execution_count": null,
   "metadata": {},
   "outputs": [],
   "source": [
    "def run_curves(data_rdd, k, rounds, lk_ratio, iterations):\n",
    "    curves = {lk: [] for lk in lk_ratio}\n",
    "    for lk in lk_ratio:\n",
    "        for r in rounds:\n",
    "            if r==0:         \n",
    "                C_psi = kMeansRandom_init(data_rdd, 1)\n",
    "                psi = cost_function(data_rdd, C_psi)\n",
    "                curves[lk].append(exp10_cost(psi, 2))\n",
    "            else:\n",
    "                C0   = kMeansParallel_init(data_rdd, k=k, l=int(lk*k), r=int(r))\n",
    "                Cfin = naiveKMeans(data_rdd, C0, iterations)\n",
    "                phi  = cost_function(data_rdd, Cfin)          \n",
    "                curves[lk].append(exp10_cost(phi, 2))\n",
    "            print(f\"COMPLETED: \\n##########|\\tl/k = {lk}  |  r = {r}\\t|##########\")\n",
    "        print(\"DONE!\")\n",
    "    return curves"
   ]
  },
  {
   "cell_type": "code",
   "execution_count": 11,
   "metadata": {},
   "outputs": [],
   "source": [
    "# ----- controls -----\n",
    "n          = 10_000\n",
    "k          = 50\n",
    "dim        = 15\n",
    "R          = 1\n",
    "rounds     = list(range(16))\n",
    "lk_ratio   = [0.1, 0.5, 2, 5, 10]\n",
    "iterations = 20\n",
    "\n",
    "data_narray, true_centroids = gauss_mixture(n, k, dim, R)\n",
    "data_rdd = sc.parallelize([row for row in data_narray])"
   ]
  },
  {
   "cell_type": "code",
   "execution_count": 12,
   "metadata": {},
   "outputs": [],
   "source": [
    "########### TEST ############\n",
    "# C_psi = kMeansRandom_init(data_rdd, 1)\n",
    "# psi  = cost_function(data_rdd, C_psi)\n",
    "# C0   = kMeansParallel_init(data_rdd, k, l=int(lk_ratio[4]*k), r=int(rounds[15]))\n",
    "# Cfin = naiveKMeans(data_rdd, C0, epochs=100_000)\n",
    "# phi  = cost_function(data_rdd, Cfin) \n",
    "# psi, phi"
   ]
  },
  {
   "cell_type": "code",
   "execution_count": null,
   "metadata": {},
   "outputs": [
    {
     "name": "stderr",
     "output_type": "stream",
     "text": [
      "                                                                                \r"
     ]
    },
    {
     "name": "stdout",
     "output_type": "stream",
     "text": [
      "COMPLETED: \n",
      "##########\tl/k =0.1|\tr =0\t##########\n"
     ]
    },
    {
     "name": "stderr",
     "output_type": "stream",
     "text": [
      "                                                                                \r"
     ]
    },
    {
     "name": "stdout",
     "output_type": "stream",
     "text": [
      "COMPLETED: \n",
      "##########\tl/k =0.1|\tr =1\t##########\n"
     ]
    },
    {
     "name": "stderr",
     "output_type": "stream",
     "text": [
      "                                                                                \r"
     ]
    },
    {
     "name": "stdout",
     "output_type": "stream",
     "text": [
      "COMPLETED: \n",
      "##########\tl/k =0.1|\tr =2\t##########\n"
     ]
    },
    {
     "name": "stderr",
     "output_type": "stream",
     "text": [
      "                                                                                \r"
     ]
    },
    {
     "name": "stdout",
     "output_type": "stream",
     "text": [
      "COMPLETED: \n",
      "##########\tl/k =0.1|\tr =3\t##########\n"
     ]
    },
    {
     "name": "stderr",
     "output_type": "stream",
     "text": [
      "                                                                                \r"
     ]
    },
    {
     "name": "stdout",
     "output_type": "stream",
     "text": [
      "COMPLETED: \n",
      "##########\tl/k =0.1|\tr =4\t##########\n"
     ]
    },
    {
     "name": "stderr",
     "output_type": "stream",
     "text": [
      "                                                                                \r"
     ]
    },
    {
     "name": "stdout",
     "output_type": "stream",
     "text": [
      "COMPLETED: \n",
      "##########\tl/k =0.1|\tr =5\t##########\n"
     ]
    },
    {
     "name": "stderr",
     "output_type": "stream",
     "text": [
      "                                                                                \r"
     ]
    },
    {
     "name": "stdout",
     "output_type": "stream",
     "text": [
      "COMPLETED: \n",
      "##########\tl/k =0.1|\tr =6\t##########\n"
     ]
    },
    {
     "name": "stderr",
     "output_type": "stream",
     "text": [
      "                                                                                \r"
     ]
    },
    {
     "name": "stdout",
     "output_type": "stream",
     "text": [
      "COMPLETED: \n",
      "##########\tl/k =0.1|\tr =7\t##########\n"
     ]
    },
    {
     "name": "stderr",
     "output_type": "stream",
     "text": [
      "                                                                                \r"
     ]
    },
    {
     "name": "stdout",
     "output_type": "stream",
     "text": [
      "COMPLETED: \n",
      "##########\tl/k =0.1|\tr =8\t##########\n"
     ]
    },
    {
     "name": "stderr",
     "output_type": "stream",
     "text": [
      "                                                                                \r"
     ]
    },
    {
     "name": "stdout",
     "output_type": "stream",
     "text": [
      "COMPLETED: \n",
      "##########\tl/k =0.1|\tr =9\t##########\n"
     ]
    },
    {
     "name": "stderr",
     "output_type": "stream",
     "text": [
      "                                                                                \r"
     ]
    },
    {
     "name": "stdout",
     "output_type": "stream",
     "text": [
      "COMPLETED: \n",
      "##########\tl/k =0.1|\tr =10\t##########\n"
     ]
    },
    {
     "name": "stderr",
     "output_type": "stream",
     "text": [
      "                                                                                \r"
     ]
    },
    {
     "name": "stdout",
     "output_type": "stream",
     "text": [
      "COMPLETED: \n",
      "##########\tl/k =0.1|\tr =11\t##########\n"
     ]
    },
    {
     "name": "stderr",
     "output_type": "stream",
     "text": [
      "                                                                                \r"
     ]
    },
    {
     "name": "stdout",
     "output_type": "stream",
     "text": [
      "COMPLETED: \n",
      "##########\tl/k =0.1|\tr =12\t##########\n"
     ]
    },
    {
     "name": "stderr",
     "output_type": "stream",
     "text": [
      "                                                                                \r"
     ]
    },
    {
     "name": "stdout",
     "output_type": "stream",
     "text": [
      "COMPLETED: \n",
      "##########\tl/k =0.1|\tr =13\t##########\n"
     ]
    },
    {
     "name": "stderr",
     "output_type": "stream",
     "text": [
      "                                                                                \r"
     ]
    },
    {
     "name": "stdout",
     "output_type": "stream",
     "text": [
      "COMPLETED: \n",
      "##########\tl/k =0.1|\tr =14\t##########\n"
     ]
    },
    {
     "name": "stderr",
     "output_type": "stream",
     "text": [
      "                                                                                \r"
     ]
    },
    {
     "name": "stdout",
     "output_type": "stream",
     "text": [
      "COMPLETED: \n",
      "##########\tl/k =0.1|\tr =15\t##########\n",
      "DONE!\n"
     ]
    },
    {
     "name": "stderr",
     "output_type": "stream",
     "text": [
      "                                                                                \r"
     ]
    },
    {
     "name": "stdout",
     "output_type": "stream",
     "text": [
      "COMPLETED: \n",
      "##########\tl/k =0.5|\tr =0\t##########\n"
     ]
    },
    {
     "name": "stderr",
     "output_type": "stream",
     "text": [
      "                                                                                \r"
     ]
    },
    {
     "name": "stdout",
     "output_type": "stream",
     "text": [
      "COMPLETED: \n",
      "##########\tl/k =0.5|\tr =1\t##########\n"
     ]
    },
    {
     "name": "stderr",
     "output_type": "stream",
     "text": [
      "                                                                                \r"
     ]
    },
    {
     "name": "stdout",
     "output_type": "stream",
     "text": [
      "COMPLETED: \n",
      "##########\tl/k =0.5|\tr =2\t##########\n"
     ]
    },
    {
     "name": "stderr",
     "output_type": "stream",
     "text": [
      "                                                                                \r"
     ]
    },
    {
     "name": "stdout",
     "output_type": "stream",
     "text": [
      "COMPLETED: \n",
      "##########\tl/k =0.5|\tr =3\t##########\n"
     ]
    },
    {
     "name": "stderr",
     "output_type": "stream",
     "text": [
      "                                                                                \r"
     ]
    },
    {
     "name": "stdout",
     "output_type": "stream",
     "text": [
      "COMPLETED: \n",
      "##########\tl/k =0.5|\tr =4\t##########\n"
     ]
    },
    {
     "name": "stderr",
     "output_type": "stream",
     "text": [
      "[Stage 1931:>                                                       (0 + 6) / 6]\r"
     ]
    }
   ],
   "source": [
    "# compute curves (KM|| seeds + Lloyd):\n",
    "curves = run_curves(data_rdd, k, rounds, lk_ratio, iterations)\n",
    "# baseline (KM++ seeds + Lloyd):\n",
    "Cpp    = kMeansPlusPlus_init(data_narray, k)\n",
    "CppFin = naiveKMeans(data_rdd, Cpp, epochs=100_000)\n",
    "base   = exp10_cost(cost_function(data_rdd, CppFin), 2)"
   ]
  },
  {
   "cell_type": "code",
   "execution_count": null,
   "metadata": {},
   "outputs": [],
   "source": [
    "# ----- plot -----\n",
    "fig, ax = plt.subplots(figsize=(7.2, 4.2))\n",
    "for lk, phis in sorted(curves.items()):\n",
    "    ax.plot(rounds, phis, marker='o', linewidth=1.5, label=f\"l/k={lk}\")\n",
    "\n",
    "# if baseline:\n",
    "ax.axhline(base, color='k', lw=1, label='KM++ & Lloyd')\n",
    "\n",
    "ax.set_xlabel(\"# Initialization Rounds\")\n",
    "ax.set_ylabel(\"Cost (~$10^{\\\\alpha}$)\")\n",
    "ax.yaxis.set_major_formatter(FuncFormatter(lambda y, _: rf\"$10^{{{y:.2f}}}$\"))\n",
    "\n",
    "lo = min(min(v) for v in curves.values())\n",
    "hi = max(max(v) for v in curves.values())\n",
    "\n",
    "#ax.set_ylim(lo-0.01, hi)\n",
    "ax.set_title(f\"R = {R}\")\n",
    "ax.legend(frameon=False)\n",
    "ax.xaxis.set_major_locator(MaxNLocator(integer=True))\n",
    "plt.tight_layout()\n",
    "plt.show()"
   ]
  },
  {
   "cell_type": "code",
   "execution_count": null,
   "metadata": {},
   "outputs": [],
   "source": [
    "# ----- controls -----\n",
    "n          = 10_000\n",
    "k          = 50\n",
    "dim        = 15\n",
    "R          = 10\n",
    "rounds     = list(range(16))\n",
    "lk_ratio   = [0.1, 0.5, 2, 5, 10]\n",
    "iterations = 20\n",
    "\n",
    "data_narray10, true_centroids10 = gauss_mixture(n, k, dim, R)\n",
    "data_rdd10 = sc.parallelize([row for row in data_narray10])"
   ]
  },
  {
   "cell_type": "code",
   "execution_count": null,
   "metadata": {},
   "outputs": [],
   "source": [
    "# compute curves (KM|| seeds + Lloyd):\n",
    "curves10 = run_curves(data_rdd10, k, rounds, lk_ratio, iterations)\n",
    "# baseline (KM++ seeds + Lloyd):\n",
    "Cpp10   = kMeansPlusPlus_init(data_narray10, k)\n",
    "CppFin10 = naiveKMeans(data_rdd10, Cpp10, epochs=1_000)\n",
    "base10   = exp10_cost(cost_function(data_rdd10, CppFin10), 2)"
   ]
  },
  {
   "cell_type": "code",
   "execution_count": null,
   "metadata": {},
   "outputs": [],
   "source": [
    "# ----- plot -----\n",
    "fig, ax = plt.subplots(figsize=(7.2, 4.2))\n",
    "for lk, phis in sorted(curves10.items()):\n",
    "    ax.plot(rounds, phis, marker='o', linewidth=1.5, label=f\"l/k={lk}\")\n",
    "\n",
    "# if baseline:\n",
    "ax.axhline(base10, color='k', lw=1, label='KM++ & Lloyd')\n",
    "\n",
    "ax.set_xlabel(\"# Initialization Rounds\")\n",
    "ax.set_ylabel(\"Cost (~$10^{\\\\alpha}$)\")\n",
    "ax.yaxis.set_major_formatter(FuncFormatter(lambda y, _: rf\"$10^{{{y:.2f}}}$\"))\n",
    "\n",
    "lo = min(min(v) for v in curves10.values())\n",
    "hi = max(max(v) for v in curves10.values())\n",
    "\n",
    "#ax.set_ylim(lo-0.01, hi)\n",
    "ax.set_title(f\"R = {R}\")\n",
    "ax.legend(frameon=False)\n",
    "ax.xaxis.set_major_locator(MaxNLocator(integer=True))\n",
    "plt.tight_layout()\n",
    "plt.show()"
   ]
  },
  {
   "cell_type": "code",
   "execution_count": null,
   "metadata": {},
   "outputs": [],
   "source": [
    "# ----- controls -----\n",
    "n          = 10_000\n",
    "k          = 50\n",
    "dim        = 15\n",
    "R          = 100\n",
    "rounds     = list(range(16))\n",
    "lk_ratio   = [0.1, 0.5, 2, 5, 10]\n",
    "iterations = 20\n",
    "\n",
    "data_narray100, true_centroids100 = gauss_mixture(n, k, dim, R)\n",
    "data_rdd100 = sc.parallelize([row for row in data_narray100])"
   ]
  },
  {
   "cell_type": "code",
   "execution_count": null,
   "metadata": {},
   "outputs": [],
   "source": [
    "# compute curves (KM|| seeds + Lloyd):\n",
    "curves100 = run_curves(data_rdd100, k, rounds, lk_ratio, iterations)\n",
    "# baseline (KM++ seeds + Lloyd):\n",
    "Cpp100   = kMeansPlusPlus_init(data_narray100, k)\n",
    "CppFin100 = naiveKMeans(data_rdd100, Cpp100, epochs=1_000)\n",
    "base100   = exp10_cost(cost_function(data_rdd100, CppFin100), 2)"
   ]
  },
  {
   "cell_type": "code",
   "execution_count": null,
   "metadata": {},
   "outputs": [],
   "source": [
    "# ----- plot -----\n",
    "fig, ax = plt.subplots(figsize=(7.2, 4.2))\n",
    "for lk, phis in sorted(curves100.items()):\n",
    "    ax.plot(rounds, phis, marker='o', linewidth=1.5, label=f\"l/k={lk}\")\n",
    "\n",
    "# if baseline:\n",
    "ax.axhline(base100, color='k', lw=1, label='KM++ & Lloyd')\n",
    "\n",
    "ax.set_xlabel(\"# Initialization Rounds\")\n",
    "ax.set_ylabel(\"Cost (~$10^{\\\\alpha}$)\")\n",
    "ax.yaxis.set_major_formatter(FuncFormatter(lambda y, _: rf\"$10^{{{y:.2f}}}$\"))\n",
    "\n",
    "lo = min(min(v) for v in curves.values())\n",
    "hi = max(max(v) for v in curves.values())\n",
    "\n",
    "#ax.set_ylim(lo-0.01, hi)\n",
    "ax.set_title(f\"R = {R}\")\n",
    "ax.legend(frameon=False)\n",
    "ax.xaxis.set_major_locator(MaxNLocator(integer=True))\n",
    "plt.tight_layout()\n",
    "plt.show()"
   ]
  },
  {
   "cell_type": "code",
   "execution_count": null,
   "metadata": {},
   "outputs": [],
   "source": []
  },
  {
   "cell_type": "markdown",
   "metadata": {},
   "source": [
    "## KMeans further Analysis"
   ]
  },
  {
   "cell_type": "code",
   "execution_count": null,
   "metadata": {},
   "outputs": [],
   "source": [
    "def analysis(\n",
    "        data_array: npt.ArrayLike, \n",
    "        data_rdd: RDD, \n",
    "        r: int=0, \n",
    "        k: int=50, \n",
    "        lk_ratio: float=0.5,\n",
    "        iterations: int=5, \n",
    "        batch_fraction: float=0.1,\n",
    "        init_algo: str=\"random\",\n",
    "        up_algo: str=\"naive\",\n",
    "        ) -> npt.DTypeLike:\n",
    "    \n",
    "    results = []\n",
    "    start = time.time()\n",
    "    ######## Init ########\n",
    "    if init_algo==\"random\": \n",
    "        centroids_init  = data_array[np.random.choice(data_array.shape[0], size=k, replace=False)]\n",
    "        init_time = time.time() - start\n",
    "        seed_cost = cost_function(data_rdd, centroids_init)\n",
    "    elif init_algo==\"kmeans++\": \n",
    "        centroids_init = kMeansPlusPlus_init(data_array, k)\n",
    "        init_time = time.time() - start\n",
    "        seed_cost = cost_function(data_rdd, centroids_init)\n",
    "    else: \n",
    "        init_time = []\n",
    "        seed_cost = []\n",
    "        for lk in lk_ratio:\n",
    "            centroids_init = kMeansParallel_init(data_rdd, k=k, l=lk*k, r=r)\n",
    "            init_time.append(time.time() - start)\n",
    "            start = time.time()\n",
    "            seed_cost.append(cost_function(data_rdd, centroids_init))\n",
    "\n",
    "    start = time.time()\n",
    "    ######## Algo ########\n",
    "    if up_algo==\"naive\": final_centroids = naiveKMeans(data_rdd, centroids_init, iterations)\n",
    "    else: final_centroids = miniBatchKMeans(data_rdd, centroids_init, iterations, batch_fraction)\n",
    "    final_time = time.time() - start\n",
    "    final_cost = cost_function(data_rdd, final_centroids)\n",
    "    \n",
    "    results.append({\n",
    "        \"method\": init_algo,\n",
    "        \"algo\": up_algo,\n",
    "        \"initialization_time (s)\": f\"{init_time:.3f}\",\n",
    "        \"algo time (s)\":f\"{final_time:.3f}\",\n",
    "        \"seed\": f\"{seed_cost/1e4:.3f}\",\n",
    "        \"final\": f\"{final_cost/1e4:.3f}\"\n",
    "    })\n",
    "    df = pd.DataFrame(results)\n",
    "    return df"
   ]
  },
  {
   "cell_type": "markdown",
   "metadata": {},
   "source": [
    "Paper analysis on Gaussian mixture"
   ]
  },
  {
   "cell_type": "code",
   "execution_count": null,
   "metadata": {},
   "outputs": [],
   "source": [
    "R = [1, 10, 100]\n",
    "res = []\n",
    "\n",
    "n = 10_000\n",
    "k = 50\n",
    "dim = 15\n",
    "r = 5\n",
    "iterations = 100_000\n",
    "batch_fraction = 0.3\n",
    "\n",
    "for RR in R:\n",
    "    data_array, true_centroids = gauss_mixture(n, k, dim, R=RR)\n",
    "    data_rdd = sc.parallelize([row for row in data_array]).persist()\n",
    "    for init_algo in [\"random\", \"kmeans++\", \"kmeans||\"]:\n",
    "        df = analysis(\n",
    "                data_array, \n",
    "                data_rdd, \n",
    "                r=r, \n",
    "                k=50, \n",
    "                lk_ratio=[0.5, 2],\n",
    "                iterations=iterations, \n",
    "                batch_fraction=0.1,\n",
    "                init_algo=\"random\",\n",
    "                up_algo=\"naive\",\n",
    "            )\n",
    "        print(\n",
    "            f\"R={RR}\\t\", \n",
    "            f\"algo={algo}\", \"\\n\",\"------------------------------\", \"\\n\"\n",
    "        )\n",
    "\n",
    "        res.append(df)\n",
    "        data_rdd.unpersist()"
   ]
  },
  {
   "cell_type": "markdown",
   "metadata": {},
   "source": [
    "# Lloyd Parallel vs. nPartitions"
   ]
  },
  {
   "cell_type": "code",
   "execution_count": null,
   "metadata": {},
   "outputs": [],
   "source": []
  },
  {
   "cell_type": "markdown",
   "metadata": {},
   "source": [
    "# Lloyd vs. Mini-Batch"
   ]
  },
  {
   "cell_type": "code",
   "execution_count": null,
   "metadata": {},
   "outputs": [],
   "source": []
  },
  {
   "cell_type": "code",
   "execution_count": null,
   "metadata": {},
   "outputs": [],
   "source": []
  }
 ],
 "metadata": {
  "kernelspec": {
   "display_name": "Python 3 (ipykernel)",
   "language": "python",
   "name": "python3"
  },
  "language_info": {
   "codemirror_mode": {
    "name": "ipython",
    "version": 3
   },
   "file_extension": ".py",
   "mimetype": "text/x-python",
   "name": "python",
   "nbconvert_exporter": "python",
   "pygments_lexer": "ipython3",
   "version": "3.11.12"
  }
 },
 "nbformat": 4,
 "nbformat_minor": 4
}
