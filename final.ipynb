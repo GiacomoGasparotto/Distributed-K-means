{
 "cells": [
  {
   "cell_type": "code",
   "execution_count": 1,
   "id": "3fe191c6",
   "metadata": {},
   "outputs": [],
   "source": [
    "# general imports\n",
    "import matplotlib\n",
    "import matplotlib.cm as cm\n",
    "import matplotlib.pyplot as plt\n",
    "import numpy as np\n",
    "import numpy.typing as npt\n",
    "import os\n",
    "import pandas as pd\n",
    "import seaborn as sns\n",
    "import time\n",
    "import warnings, logging\n",
    "\n",
    "# pyspark module\n",
    "from pyspark.rdd import RDD\n",
    "\n",
    "# src module\n",
    "from src.data import get_gm, get_kdd\n",
    "from src.kmeans.base import compute_cost\n",
    "from src.kmeans.initialization import kMeansParallel_init, kMeansPlusPlus_init, kMeansRandom_init\n",
    "from src.kmeans.update import lloydKMeans, miniBatchKMeans\n",
    "from src.utils import sparkSetup"
   ]
  },
  {
   "cell_type": "markdown",
   "id": "f1f61d23",
   "metadata": {},
   "source": [
    "Starting the cluster"
   ]
  },
  {
   "cell_type": "code",
   "execution_count": 2,
   "id": "802036f8",
   "metadata": {},
   "outputs": [],
   "source": [
    "# creating the zipped environment if it doesn't already exist\n",
    "! if [ ! -f \"environment.tar.gz\" ]; then venv-pack -o \"environment.tar.gz\" ; fi\n",
    "# creating the zipped module src\n",
    "! if [ -f \"src.tar.gz\" ]; then rm src.tar.gz ; fi\n",
    "! tar -czf src.tar.gz src"
   ]
  },
  {
   "cell_type": "code",
   "execution_count": 3,
   "id": "45c80a13",
   "metadata": {},
   "outputs": [
    {
     "name": "stdout",
     "output_type": "stream",
     "text": [
      "starting org.apache.spark.deploy.master.Master, logging to /usr/local/spark/logs/spark-ubuntu-org.apache.spark.deploy.master.Master-1-mapd-b-14-1.out\n",
      "worker1: starting org.apache.spark.deploy.worker.Worker, logging to /usr/local/spark/logs/spark-ubuntu-org.apache.spark.deploy.worker.Worker-1-mapd-b-14-2.out\n",
      "worker3: starting org.apache.spark.deploy.worker.Worker, logging to /usr/local/spark/logs/spark-ubuntu-org.apache.spark.deploy.worker.Worker-1-mapd-b-14-4.out\n",
      "master: starting org.apache.spark.deploy.worker.Worker, logging to /usr/local/spark/logs/spark-ubuntu-org.apache.spark.deploy.worker.Worker-1-mapd-b-14-1.out\n",
      "worker2: starting org.apache.spark.deploy.worker.Worker, logging to /usr/local/spark/logs/spark-ubuntu-org.apache.spark.deploy.worker.Worker-1-mapd-b-14-3.out\n"
     ]
    }
   ],
   "source": [
    "# starting the cluster\n",
    "! $SPARK_HOME/sbin/start-all.sh"
   ]
  },
  {
   "cell_type": "code",
   "execution_count": 4,
   "id": "af4a0ed6",
   "metadata": {},
   "outputs": [],
   "source": [
    "os.environ[\"PYSPARK_PYTHON\"] = \"./environment/bin/python\""
   ]
  },
  {
   "cell_type": "code",
   "execution_count": 5,
   "id": "d6275144",
   "metadata": {},
   "outputs": [
    {
     "name": "stderr",
     "output_type": "stream",
     "text": [
      "25/09/15 11:52:23 WARN NativeCodeLoader: Unable to load native-hadoop library for your platform... using builtin-java classes where applicable\n",
      "Setting default log level to \"WARN\".\n",
      "To adjust logging level use sc.setLogLevel(newLevel). For SparkR, use setLogLevel(newLevel).\n",
      "25/09/15 11:52:30 WARN Utils: Untarring behavior will be deprecated at spark.files and SparkContext.addFile. Consider using spark.archives or SparkContext.addArchive instead.\n"
     ]
    }
   ],
   "source": [
    "# creating a sparkSession\n",
    "spark = sparkSetup(\"kMeans\")\n",
    "sc = spark.sparkContext\n",
    "# exporting the src module\n",
    "sc.addPyFile(\"src.tar.gz\")\n",
    "sc.setLogLevel(\"ERROR\")\n",
    "# Setup the spark warnings\n",
    "# log4j_conf_path = \"./config/log4j.properties\"\n",
    "# warnings.filterwarnings(\"ignore\") \n",
    "# logging.getLogger('py4j').setLevel(logging.ERROR) \n",
    "# logging.getLogger('pyspark').setLevel(logging.ERROR) "
   ]
  },
  {
   "cell_type": "markdown",
   "id": "392bdefa",
   "metadata": {},
   "source": [
    "# Load and Test datasets"
   ]
  },
  {
   "cell_type": "markdown",
   "id": "39de6ba3",
   "metadata": {},
   "source": [
    "## Gaussian Mixture"
   ]
  },
  {
   "cell_type": "markdown",
   "id": "64e0056f",
   "metadata": {},
   "source": [
    "The first dataset we would consider to test the performance of the k-means++ initialization algorithm is a synthetic GaussMixture. To generate it, we sampled $k$ centers from a 15-dimensional spherical Gaussian distribution with mean at the origin and variance $R\\in \\{1,10,100\\}$. We then added points from Gaussian distributions of unit variance around each center. Given the $k$ centers, this is a mixture of $k$ spherical Gaussians with equal weights. The value of the optimal k-clustering\n",
    "can be well approximated using the centers of these Gaussians.\n",
    "\n",
    "We will perform some preliminary analysis that can be efficiently conducted on this dataset."
   ]
  },
  {
   "cell_type": "markdown",
   "id": "d5ba95d4",
   "metadata": {},
   "source": [
    "# kMeans|| Init Tests"
   ]
  },
  {
   "cell_type": "markdown",
   "id": "a65ab3ca",
   "metadata": {},
   "source": [
    "## Time / Cost tables"
   ]
  },
  {
   "cell_type": "markdown",
   "id": "3e94da46",
   "metadata": {},
   "source": [
    "The first thing we want to assess with this dataset is the performance in terms of time and cost using different initialization algorithms. In particular, we chose to initialize our k-means algorithm with four different methods:\n",
    "\n",
    "- **random**;\n",
    "- **k-means++**;\n",
    "- **k-means||** with $l\\cdot k = 0.5$;\n",
    "- **k-means||** with $l\\cdot k = 2$.\n",
    "\n",
    "Each initialization method is followed by Lloyd's iterations.\n",
    "\n",
    "This setup allows us to investigate whether the parallelization introduced by the k-means|| initialization leads to improved clustering performance, using random and k-means++ initializations as baselines."
   ]
  },
  {
   "cell_type": "code",
   "execution_count": 6,
   "id": "eceb39c9",
   "metadata": {},
   "outputs": [],
   "source": [
    "def compute_initAlgoMetrics(\n",
    "    initAlgo: str,\n",
    "    data_ndarray: npt.NDArray, \n",
    "    data_rdd: RDD, \n",
    "    iterations: int, \n",
    "    k: int, \n",
    "    l: float, \n",
    "    r: int\n",
    ") -> tuple[float, float, float, float]:\n",
    "    # Initialization\n",
    "    startTime = time.time()\n",
    "    \n",
    "    if initAlgo == \"random\": \n",
    "        centroids = kMeansRandom_init(data_rdd, k)\n",
    "    elif initAlgo == \"plusplus\": \n",
    "        centroids = kMeansPlusPlus_init(data_ndarray, k)\n",
    "    elif initAlgo == \"parallel\": \n",
    "        centroids = kMeansParallel_init(data_rdd, k, l, r)\n",
    "    else: \n",
    "        raise ValueError(f\"Wrong initialization algorithm selected: '{initAlgo}'\")\n",
    "         \n",
    "    initTime = time.time() - startTime\n",
    "    seedCost = compute_cost(data_rdd, centroids)\n",
    "\n",
    "    # update centroids\n",
    "    startTime = time.time()\n",
    "    finalCentroids = lloydKMeans(data_rdd, centroids, iterations)\n",
    "    updateTime = time.time() - startTime\n",
    "    finalCost = compute_cost(data_rdd, finalCentroids)\n",
    "    \n",
    "    return initTime, updateTime, seedCost, finalCost"
   ]
  },
  {
   "cell_type": "code",
   "execution_count": 7,
   "id": "0c0d5298",
   "metadata": {},
   "outputs": [],
   "source": [
    "def exp10_cost(cost, frac_digits=2):\n",
    "    \"\"\"Return exponent 'a' s.t. cost ~10^a, rounded to 'frac_digits' decimals.\"\"\"\n",
    "    return float(np.round(np.log10(float(cost)), frac_digits))"
   ]
  },
  {
   "cell_type": "markdown",
   "id": "1dd930c4",
   "metadata": {},
   "source": [
    "### GM dataset creation\n",
    "\n",
    "We need to create three different dataset for each value of $R \\in \\{1, 10, 100\\}$."
   ]
  },
  {
   "cell_type": "code",
   "execution_count": 6,
   "id": "1897db05",
   "metadata": {},
   "outputs": [],
   "source": [
    "# --- control parameters ---\n",
    "k = 50\n",
    "n = 10_000\n",
    "dim = 15\n",
    "R = [1, 10, 100]\n",
    "r = 5\n",
    "iterations = 1000\n",
    "initAlgorithms = [\"random\", \"plusplus\", \"parallel\", \"parallel\"]\n",
    "lk_ratios = [0, 0, 0.5, 2]"
   ]
  },
  {
   "cell_type": "code",
   "execution_count": 9,
   "id": "821eaa5f",
   "metadata": {},
   "outputs": [
    {
     "name": "stderr",
     "output_type": "stream",
     "text": [
      "                                                                                \r"
     ]
    },
    {
     "name": "stdout",
     "output_type": "stream",
     "text": [
      "R: 1 | initAlgo: random\n"
     ]
    },
    {
     "name": "stderr",
     "output_type": "stream",
     "text": [
      "                                                                                \r"
     ]
    },
    {
     "name": "stdout",
     "output_type": "stream",
     "text": [
      "R: 1 | initAlgo: plusplus\n"
     ]
    },
    {
     "name": "stderr",
     "output_type": "stream",
     "text": [
      "                                                                                \r"
     ]
    },
    {
     "name": "stdout",
     "output_type": "stream",
     "text": [
      "R: 1 | initAlgo: parallel0.5\n"
     ]
    },
    {
     "name": "stderr",
     "output_type": "stream",
     "text": [
      "                                                                                \r"
     ]
    },
    {
     "name": "stdout",
     "output_type": "stream",
     "text": [
      "R: 1 | initAlgo: parallel2\n"
     ]
    },
    {
     "name": "stderr",
     "output_type": "stream",
     "text": [
      "                                                                                \r"
     ]
    },
    {
     "name": "stdout",
     "output_type": "stream",
     "text": [
      "R: 10 | initAlgo: random\n"
     ]
    },
    {
     "name": "stderr",
     "output_type": "stream",
     "text": [
      "                                                                                \r"
     ]
    },
    {
     "name": "stdout",
     "output_type": "stream",
     "text": [
      "R: 10 | initAlgo: plusplus\n"
     ]
    },
    {
     "name": "stderr",
     "output_type": "stream",
     "text": [
      "                                                                                \r"
     ]
    },
    {
     "name": "stdout",
     "output_type": "stream",
     "text": [
      "R: 10 | initAlgo: parallel0.5\n"
     ]
    },
    {
     "name": "stderr",
     "output_type": "stream",
     "text": [
      "                                                                                \r"
     ]
    },
    {
     "name": "stdout",
     "output_type": "stream",
     "text": [
      "R: 10 | initAlgo: parallel2\n"
     ]
    },
    {
     "name": "stderr",
     "output_type": "stream",
     "text": [
      "                                                                                \r"
     ]
    },
    {
     "name": "stdout",
     "output_type": "stream",
     "text": [
      "R: 100 | initAlgo: random\n"
     ]
    },
    {
     "name": "stderr",
     "output_type": "stream",
     "text": [
      "                                                                                \r"
     ]
    },
    {
     "name": "stdout",
     "output_type": "stream",
     "text": [
      "R: 100 | initAlgo: plusplus\n"
     ]
    },
    {
     "name": "stderr",
     "output_type": "stream",
     "text": [
      "                                                                                \r"
     ]
    },
    {
     "name": "stdout",
     "output_type": "stream",
     "text": [
      "R: 100 | initAlgo: parallel0.5\n"
     ]
    },
    {
     "name": "stderr",
     "output_type": "stream",
     "text": [
      "                                                                                \r"
     ]
    },
    {
     "name": "stdout",
     "output_type": "stream",
     "text": [
      "R: 100 | initAlgo: parallel2\n"
     ]
    },
    {
     "name": "stderr",
     "output_type": "stream",
     "text": [
      "                                                                                \r"
     ]
    }
   ],
   "source": [
    "initAlgoMetrics = []\n",
    "for variance in R:\n",
    "    gmData, gmCenters = get_gm(n, k, dim, variance)\n",
    "    gmData_rdd = sc.parallelize([row for row in gmData], numSlices=16).persist()\n",
    "    trueCost = compute_cost(gmData_rdd, gmCenters)\n",
    "    for initAlgo, lk_ratio in zip(initAlgorithms, lk_ratios):\n",
    "        print(f\"R: {variance} | initAlgo: {f\"{initAlgo}{lk_ratio}\" if initAlgo == \"parallel\" else initAlgo}\")\n",
    "        initTime, updateTime, seedCost, finalCost = compute_initAlgoMetrics(\n",
    "            initAlgo = initAlgo,\n",
    "            data_ndarray = gmData,\n",
    "            data_rdd = gmData_rdd,\n",
    "            iterations = iterations,\n",
    "            k = k,\n",
    "            l = lk_ratio * k,\n",
    "            r = r\n",
    "        )\n",
    "        initAlgoMetrics.append({\n",
    "            \"R\": variance,\n",
    "            \"initAlgo\": f\"{initAlgo}{lk_ratio}\" if initAlgo == \"parallel\" else initAlgo,\n",
    "            \"initTime\": initTime,\n",
    "            \"updateTime\": updateTime,\n",
    "            \"seedCost\": seedCost,\n",
    "            \"finalCost\": finalCost,\n",
    "            \"trueCost\": trueCost\n",
    "        })\n",
    "    gmData_rdd.unpersist()\n",
    "\n",
    "initAlgoMetrics = pd.DataFrame(initAlgoMetrics)"
   ]
  },
  {
   "cell_type": "code",
   "execution_count": null,
   "id": "bdce8fae",
   "metadata": {},
   "outputs": [
    {
     "data": {
      "image/png": "[encoded data removed]",
      "text/plain": [
       "<Figure size 1000x800 with 4 Axes>"
      ]
     },
     "metadata": {},
     "output_type": "display_data"
    }
   ],
   "source": [
    "sns.set_theme(style=\"whitegrid\")\n",
    "matplotlib.rcParams.update({'font.size': 12})\n",
    "\n",
    "# Define metrics and titles\n",
    "metrics = [\"initTime\", \"updateTime\", \"seedCost\", \"finalCost\"]\n",
    "units = [\"[seconds]\", \"[seconds]\", None, None]\n",
    "titles = [\"Initialization time\", \"Update time (Lloyd's algorithm)\", \"Seed cost\", \"Final cost\"]\n",
    "\n",
    "# Plot\n",
    "fig, axs = plt.subplots(2, 2, figsize=(10, 8))\n",
    "\n",
    "for ax, metric, title, unit in zip(axs.flat, metrics, titles, units):\n",
    "    sns.barplot(\n",
    "        data = initAlgoMetrics,\n",
    "        x = \"initAlgo\",\n",
    "        y = metric,\n",
    "        hue = \"R\",\n",
    "        palette = \"rainbow\",\n",
    "        alpha = 0.8,\n",
    "        ax = ax\n",
    "    )\n",
    "    if title == \"Final cost\":\n",
    "        ax.hlines(np.unique(initAlgoMetrics[\"trueCost\"]), xmin = -1, xmax = 4, \n",
    "                  colors = [\"red\", \"blue\", \"purple\"], linestyle = \"--\", alpha = 0.5)\n",
    "    ax.set_title(title)\n",
    "    ax.set_xlim(-0.5, 3.5)\n",
    "    ax.set_xlabel(None)\n",
    "    ax.set_ylabel(unit)\n",
    "    ax.tick_params(axis=\"x\", rotation=20)\n",
    "    ax.get_legend().remove() \n",
    "\n",
    "\n",
    "# Legend comune in alto\n",
    "handles, labels = axs[0, 0].get_legend_handles_labels()\n",
    "fig.legend(\n",
    "    handles, labels,\n",
    "    loc=\"upper center\",\n",
    "    ncol=len(labels),\n",
    "    title=\"R\",\n",
    "    bbox_to_anchor=(0.5, 1.05)  \n",
    ")\n",
    "\n",
    "plt.savefig(\"time_cost_comparison.pdf\")\n",
    "plt.tight_layout(rect=[0, 0, 1, 0.95])  \n",
    "plt.show()"
   ]
  },
  {
   "cell_type": "markdown",
   "id": "d2bfe3c7",
   "metadata": {},
   "source": [
    "## Cost vs. r plots"
   ]
  },
  {
   "cell_type": "code",
   "execution_count": 7,
   "id": "e68159a3",
   "metadata": {},
   "outputs": [],
   "source": [
    "def collect_costHistory(\n",
    "    data_rdd: RDD,\n",
    "    rounds: list[int],\n",
    "    k: int,\n",
    "    lk_ratios: list[float],\n",
    "    iterations: int,\n",
    "    verbose: bool = False\n",
    ") -> dict[int, list]:\n",
    "    costHistory = {}\n",
    "\n",
    "    for lk_ratio in lk_ratios:\n",
    "        costHistory[lk_ratio] = []\n",
    "        for r in rounds:\n",
    "            if verbose:\n",
    "                print(f\"lk_ratio: {lk_ratio} | rounds: {r}\")\n",
    "            if r==0:\n",
    "                finalCentroids = kMeansRandom_init(data_rdd, 1)\n",
    "            else:\n",
    "                centroids = kMeansParallel_init(data_rdd, k, lk_ratio * k, r)\n",
    "                finalCentroids = lloydKMeans(data_rdd, centroids, iterations)\n",
    "            cost = compute_cost(data_rdd, finalCentroids)\n",
    "            costHistory[lk_ratio].append(cost)\n",
    "    return costHistory"
   ]
  },
  {
   "cell_type": "code",
   "execution_count": 8,
   "id": "04e3fb45",
   "metadata": {},
   "outputs": [],
   "source": [
    "# --- control parameters --- \n",
    "\n",
    "# Actual parameters\n",
    "lk_ratios = [0.5, 1, 2, 5, 10]\n",
    "rounds = [0, 1, 2, 4, 8, 16]"
   ]
  },
  {
   "cell_type": "code",
   "execution_count": 9,
   "id": "84e3637a",
   "metadata": {},
   "outputs": [
    {
     "name": "stdout",
     "output_type": "stream",
     "text": [
      "R: 10\n"
     ]
    },
    {
     "name": "stderr",
     "output_type": "stream",
     "text": [
      "                                                                                \r"
     ]
    },
    {
     "name": "stdout",
     "output_type": "stream",
     "text": [
      "plusplus\n"
     ]
    },
    {
     "name": "stderr",
     "output_type": "stream",
     "text": [
      "                                                                                \r"
     ]
    },
    {
     "name": "stdout",
     "output_type": "stream",
     "text": [
      "lk_ratio: 0.5 | rounds: 1\n"
     ]
    },
    {
     "name": "stderr",
     "output_type": "stream",
     "text": [
      "                                                                                \r"
     ]
    },
    {
     "name": "stdout",
     "output_type": "stream",
     "text": [
      "lk_ratio: 0.5 | rounds: 2\n"
     ]
    },
    {
     "name": "stderr",
     "output_type": "stream",
     "text": [
      "                                                                                \r"
     ]
    },
    {
     "name": "stdout",
     "output_type": "stream",
     "text": [
      "lk_ratio: 0.5 | rounds: 4\n"
     ]
    },
    {
     "name": "stderr",
     "output_type": "stream",
     "text": [
      "                                                                                \r"
     ]
    },
    {
     "name": "stdout",
     "output_type": "stream",
     "text": [
      "lk_ratio: 0.5 | rounds: 8\n"
     ]
    },
    {
     "name": "stderr",
     "output_type": "stream",
     "text": [
      "                                                                                \r"
     ]
    },
    {
     "name": "stdout",
     "output_type": "stream",
     "text": [
      "lk_ratio: 0.5 | rounds: 16\n"
     ]
    },
    {
     "name": "stderr",
     "output_type": "stream",
     "text": [
      "                                                                                \r"
     ]
    },
    {
     "name": "stdout",
     "output_type": "stream",
     "text": [
      "lk_ratio: 1 | rounds: 1\n"
     ]
    },
    {
     "name": "stderr",
     "output_type": "stream",
     "text": [
      "                                                                                \r"
     ]
    },
    {
     "name": "stdout",
     "output_type": "stream",
     "text": [
      "lk_ratio: 1 | rounds: 2\n"
     ]
    },
    {
     "name": "stderr",
     "output_type": "stream",
     "text": [
      "                                                                                \r"
     ]
    },
    {
     "name": "stdout",
     "output_type": "stream",
     "text": [
      "lk_ratio: 1 | rounds: 4\n"
     ]
    },
    {
     "name": "stderr",
     "output_type": "stream",
     "text": [
      "                                                                                \r"
     ]
    },
    {
     "name": "stdout",
     "output_type": "stream",
     "text": [
      "lk_ratio: 1 | rounds: 8\n"
     ]
    },
    {
     "name": "stderr",
     "output_type": "stream",
     "text": [
      "                                                                                \r"
     ]
    },
    {
     "name": "stdout",
     "output_type": "stream",
     "text": [
      "lk_ratio: 1 | rounds: 16\n"
     ]
    },
    {
     "name": "stderr",
     "output_type": "stream",
     "text": [
      "                                                                                \r"
     ]
    },
    {
     "name": "stdout",
     "output_type": "stream",
     "text": [
      "lk_ratio: 2 | rounds: 1\n"
     ]
    },
    {
     "name": "stderr",
     "output_type": "stream",
     "text": [
      "                                                                                \r"
     ]
    },
    {
     "name": "stdout",
     "output_type": "stream",
     "text": [
      "lk_ratio: 2 | rounds: 2\n"
     ]
    },
    {
     "name": "stderr",
     "output_type": "stream",
     "text": [
      "                                                                                \r"
     ]
    },
    {
     "name": "stdout",
     "output_type": "stream",
     "text": [
      "lk_ratio: 2 | rounds: 4\n"
     ]
    },
    {
     "name": "stderr",
     "output_type": "stream",
     "text": [
      "                                                                                \r"
     ]
    },
    {
     "name": "stdout",
     "output_type": "stream",
     "text": [
      "lk_ratio: 2 | rounds: 8\n"
     ]
    },
    {
     "name": "stderr",
     "output_type": "stream",
     "text": [
      "                                                                                \r"
     ]
    },
    {
     "name": "stdout",
     "output_type": "stream",
     "text": [
      "lk_ratio: 2 | rounds: 16\n"
     ]
    },
    {
     "name": "stderr",
     "output_type": "stream",
     "text": [
      "                                                                                \r"
     ]
    },
    {
     "name": "stdout",
     "output_type": "stream",
     "text": [
      "lk_ratio: 5 | rounds: 1\n"
     ]
    },
    {
     "name": "stderr",
     "output_type": "stream",
     "text": [
      "                                                                                \r"
     ]
    },
    {
     "name": "stdout",
     "output_type": "stream",
     "text": [
      "lk_ratio: 5 | rounds: 2\n"
     ]
    },
    {
     "name": "stderr",
     "output_type": "stream",
     "text": [
      "                                                                                \r"
     ]
    },
    {
     "name": "stdout",
     "output_type": "stream",
     "text": [
      "lk_ratio: 5 | rounds: 4\n"
     ]
    },
    {
     "name": "stderr",
     "output_type": "stream",
     "text": [
      "                                                                                \r"
     ]
    },
    {
     "name": "stdout",
     "output_type": "stream",
     "text": [
      "lk_ratio: 5 | rounds: 8\n"
     ]
    },
    {
     "name": "stderr",
     "output_type": "stream",
     "text": [
      "                                                                                \r"
     ]
    },
    {
     "name": "stdout",
     "output_type": "stream",
     "text": [
      "lk_ratio: 5 | rounds: 16\n"
     ]
    },
    {
     "name": "stderr",
     "output_type": "stream",
     "text": [
      "                                                                                \r"
     ]
    },
    {
     "name": "stdout",
     "output_type": "stream",
     "text": [
      "lk_ratio: 10 | rounds: 1\n"
     ]
    },
    {
     "name": "stderr",
     "output_type": "stream",
     "text": [
      "                                                                                \r"
     ]
    },
    {
     "name": "stdout",
     "output_type": "stream",
     "text": [
      "lk_ratio: 10 | rounds: 2\n"
     ]
    },
    {
     "name": "stderr",
     "output_type": "stream",
     "text": [
      "                                                                                \r"
     ]
    },
    {
     "name": "stdout",
     "output_type": "stream",
     "text": [
      "lk_ratio: 10 | rounds: 4\n"
     ]
    },
    {
     "name": "stderr",
     "output_type": "stream",
     "text": [
      "                                                                                \r"
     ]
    },
    {
     "name": "stdout",
     "output_type": "stream",
     "text": [
      "lk_ratio: 10 | rounds: 8\n"
     ]
    },
    {
     "name": "stderr",
     "output_type": "stream",
     "text": [
      "                                                                                \r"
     ]
    },
    {
     "name": "stdout",
     "output_type": "stream",
     "text": [
      "lk_ratio: 10 | rounds: 16\n"
     ]
    },
    {
     "name": "stderr",
     "output_type": "stream",
     "text": [
      "                                                                                \r"
     ]
    },
    {
     "name": "stdout",
     "output_type": "stream",
     "text": [
      "R: 100\n",
      "plusplus\n"
     ]
    },
    {
     "name": "stderr",
     "output_type": "stream",
     "text": [
      "                                                                                \r"
     ]
    },
    {
     "name": "stdout",
     "output_type": "stream",
     "text": [
      "lk_ratio: 0.5 | rounds: 1\n"
     ]
    },
    {
     "name": "stderr",
     "output_type": "stream",
     "text": [
      "                                                                                \r"
     ]
    },
    {
     "name": "stdout",
     "output_type": "stream",
     "text": [
      "lk_ratio: 0.5 | rounds: 2\n"
     ]
    },
    {
     "name": "stderr",
     "output_type": "stream",
     "text": [
      "                                                                                \r"
     ]
    },
    {
     "name": "stdout",
     "output_type": "stream",
     "text": [
      "lk_ratio: 0.5 | rounds: 4\n"
     ]
    },
    {
     "name": "stderr",
     "output_type": "stream",
     "text": [
      "                                                                                \r"
     ]
    },
    {
     "name": "stdout",
     "output_type": "stream",
     "text": [
      "lk_ratio: 0.5 | rounds: 8\n"
     ]
    },
    {
     "name": "stderr",
     "output_type": "stream",
     "text": [
      "                                                                                \r"
     ]
    },
    {
     "name": "stdout",
     "output_type": "stream",
     "text": [
      "lk_ratio: 0.5 | rounds: 16\n"
     ]
    },
    {
     "name": "stderr",
     "output_type": "stream",
     "text": [
      "                                                                                \r"
     ]
    },
    {
     "name": "stdout",
     "output_type": "stream",
     "text": [
      "lk_ratio: 1 | rounds: 1\n"
     ]
    },
    {
     "name": "stderr",
     "output_type": "stream",
     "text": [
      "                                                                                \r"
     ]
    },
    {
     "name": "stdout",
     "output_type": "stream",
     "text": [
      "lk_ratio: 1 | rounds: 2\n"
     ]
    },
    {
     "name": "stderr",
     "output_type": "stream",
     "text": [
      "                                                                                \r"
     ]
    },
    {
     "name": "stdout",
     "output_type": "stream",
     "text": [
      "lk_ratio: 1 | rounds: 4\n"
     ]
    },
    {
     "name": "stderr",
     "output_type": "stream",
     "text": [
      "                                                                                \r"
     ]
    },
    {
     "name": "stdout",
     "output_type": "stream",
     "text": [
      "lk_ratio: 1 | rounds: 8\n"
     ]
    },
    {
     "name": "stderr",
     "output_type": "stream",
     "text": [
      "                                                                                \r"
     ]
    },
    {
     "name": "stdout",
     "output_type": "stream",
     "text": [
      "lk_ratio: 1 | rounds: 16\n"
     ]
    },
    {
     "name": "stderr",
     "output_type": "stream",
     "text": [
      "                                                                                \r"
     ]
    },
    {
     "name": "stdout",
     "output_type": "stream",
     "text": [
      "lk_ratio: 2 | rounds: 1\n"
     ]
    },
    {
     "name": "stderr",
     "output_type": "stream",
     "text": [
      "                                                                                \r"
     ]
    },
    {
     "name": "stdout",
     "output_type": "stream",
     "text": [
      "lk_ratio: 2 | rounds: 2\n"
     ]
    },
    {
     "name": "stderr",
     "output_type": "stream",
     "text": [
      "                                                                                \r"
     ]
    },
    {
     "name": "stdout",
     "output_type": "stream",
     "text": [
      "lk_ratio: 2 | rounds: 4\n"
     ]
    },
    {
     "name": "stderr",
     "output_type": "stream",
     "text": [
      "                                                                                \r"
     ]
    },
    {
     "name": "stdout",
     "output_type": "stream",
     "text": [
      "lk_ratio: 2 | rounds: 8\n"
     ]
    },
    {
     "name": "stderr",
     "output_type": "stream",
     "text": [
      "                                                                                \r"
     ]
    },
    {
     "name": "stdout",
     "output_type": "stream",
     "text": [
      "lk_ratio: 2 | rounds: 16\n"
     ]
    },
    {
     "name": "stderr",
     "output_type": "stream",
     "text": [
      "                                                                                \r"
     ]
    },
    {
     "name": "stdout",
     "output_type": "stream",
     "text": [
      "lk_ratio: 5 | rounds: 1\n"
     ]
    },
    {
     "name": "stderr",
     "output_type": "stream",
     "text": [
      "                                                                                \r"
     ]
    },
    {
     "name": "stdout",
     "output_type": "stream",
     "text": [
      "lk_ratio: 5 | rounds: 2\n"
     ]
    },
    {
     "name": "stderr",
     "output_type": "stream",
     "text": [
      "                                                                                \r"
     ]
    },
    {
     "name": "stdout",
     "output_type": "stream",
     "text": [
      "lk_ratio: 5 | rounds: 4\n"
     ]
    },
    {
     "name": "stderr",
     "output_type": "stream",
     "text": [
      "                                                                                \r"
     ]
    },
    {
     "name": "stdout",
     "output_type": "stream",
     "text": [
      "lk_ratio: 5 | rounds: 8\n"
     ]
    },
    {
     "name": "stderr",
     "output_type": "stream",
     "text": [
      "                                                                                \r"
     ]
    },
    {
     "name": "stdout",
     "output_type": "stream",
     "text": [
      "lk_ratio: 5 | rounds: 16\n"
     ]
    },
    {
     "name": "stderr",
     "output_type": "stream",
     "text": [
      "                                                                                \r"
     ]
    },
    {
     "name": "stdout",
     "output_type": "stream",
     "text": [
      "lk_ratio: 10 | rounds: 1\n"
     ]
    },
    {
     "name": "stderr",
     "output_type": "stream",
     "text": [
      "                                                                                \r"
     ]
    },
    {
     "name": "stdout",
     "output_type": "stream",
     "text": [
      "lk_ratio: 10 | rounds: 2\n"
     ]
    },
    {
     "name": "stderr",
     "output_type": "stream",
     "text": [
      "                                                                                \r"
     ]
    },
    {
     "name": "stdout",
     "output_type": "stream",
     "text": [
      "lk_ratio: 10 | rounds: 4\n"
     ]
    },
    {
     "name": "stderr",
     "output_type": "stream",
     "text": [
      "                                                                                \r"
     ]
    },
    {
     "name": "stdout",
     "output_type": "stream",
     "text": [
      "lk_ratio: 10 | rounds: 8\n"
     ]
    },
    {
     "name": "stderr",
     "output_type": "stream",
     "text": [
      "                                                                                \r"
     ]
    },
    {
     "name": "stdout",
     "output_type": "stream",
     "text": [
      "lk_ratio: 10 | rounds: 16\n"
     ]
    },
    {
     "name": "stderr",
     "output_type": "stream",
     "text": [
      "                                                                                \r"
     ]
    }
   ],
   "source": [
    "### Aggiungi Media\n",
    "\n",
    "R = [10, 100]\n",
    "baselineCosts = []\n",
    "costHistory = {}\n",
    "for variance in R:\n",
    "    print(f\"R: {variance}\")\n",
    "    gmData, gmCenters = get_gm(n, k, dim, variance)\n",
    "    gmData_rdd = sc.parallelize([row for row in gmData], numSlices=16).persist()\n",
    "    trueCost = compute_cost(gmData_rdd, gmCenters)\n",
    "\n",
    "    # baseline (KM++ seeds + Lloyd)\n",
    "    print(\"plusplus\")\n",
    "    centroids = kMeansPlusPlus_init(gmData, k)\n",
    "    finalCentroids = lloydKMeans(gmData_rdd, centroids, iterations)\n",
    "    baselineCosts.append(compute_cost(gmData_rdd, finalCentroids))\n",
    "    \n",
    "    costHistory[variance] = collect_costHistory(gmData_rdd, rounds, k, lk_ratios, iterations, verbose = True)"
   ]
  },
  {
   "cell_type": "code",
   "execution_count": 18,
   "id": "f309622a",
   "metadata": {},
   "outputs": [],
   "source": [
    "def plot_costHistory(\n",
    "    costHistory: dict[int, dict[int, list]],\n",
    "    rounds: list[int],\n",
    "    baselineCosts: list[float]\n",
    ") -> None:\n",
    "    matplotlib.rcParams.update({'font.size': 16})\n",
    "    \n",
    "    fig, axs = plt.subplots(1, len(costHistory.keys()), figsize=(18, 6))\n",
    "\n",
    "    for idx, (RR, results) in enumerate(costHistory.items()):\n",
    "        ax = axs[idx]\n",
    "        \n",
    "        ax.hlines(baselineCosts[idx], xmin = rounds[0] - 2, xmax = rounds[-1] + 2, \n",
    "                  label = \"plusplus\", linestyle = \"--\", alpha = 0.5)\n",
    "        for lk_ratio in results.keys():\n",
    "            ax.plot(rounds, results[lk_ratio], label = f\"{lk_ratio}\",\n",
    "                    alpha = 0.8)\n",
    "        \n",
    "        ax.set_xlim(rounds[0], rounds[-1])\n",
    "        ax.legend()\n",
    "    \n",
    "    plt.show()\n",
    "    return"
   ]
  },
  {
   "cell_type": "code",
   "execution_count": 19,
   "id": "d2c75ae6",
   "metadata": {},
   "outputs": [
    {
     "data": {
      "image/png": "[encoded data removed]",
      "text/plain": [
       "<Figure size 1800x600 with 2 Axes>"
      ]
     },
     "metadata": {},
     "output_type": "display_data"
    }
   ],
   "source": [
    "plot_costHistory(costHistory, rounds, baselineCosts)"
   ]
  },
  {
   "cell_type": "code",
   "execution_count": null,
   "id": "d15a5888",
   "metadata": {},
   "outputs": [],
   "source": [
    "def plot_results(\n",
    "    costHistory: dict[int, list],\n",
    "    rounds: list[int],\n",
    "    baselineCost: float\n",
    ") -> None:\n",
    "    matplotlib.rcParams.update({'font.size': 16})\n",
    "    \n",
    "    fig, axs = plt.subplots(1, len(costHistory.keys()), figsize=(18, 6), sharey=True)\n",
    "\n",
    "    for idx, (RR, res) in enumerate(costHistory.items()):\n",
    "        ax = axs[idx]\n",
    "\n",
    "        curves = res[\"curves\"]\n",
    "        base = res[\"base\"]\n",
    "        rounds = res[\"rounds\"]\n",
    "\n",
    "        # colormap\n",
    "        lk_values = sorted(curves.keys())\n",
    "        colors = cm.rainbow(np.linspace(0, 1, len(lk_values)))\n",
    "\n",
    "        # markers and lines styles\n",
    "        markers = [\"s\", \"o\", \"X\", \"^\"]\n",
    "        lines = [\"solid\", \"dotted\", \"dashed\", \"dashdot\"]\n",
    "\n",
    "        for lk, color, marker, line in zip(lk_values, colors, markers, lines):\n",
    "            phis = curves[lk]\n",
    "            ax.plot(rounds, phis, marker=marker, markersize=8, markerfacecolor=\"none\", color=color, \n",
    "                    linewidth=1.5, linestyle=line, alpha=0.8, label=f\"l/k={lk}\")\n",
    "\n",
    "        ax.axhline(base, color=\"k\", lw=1, linestyle=\"solid\", label=\"KM++ & Lloyd baseline\")\n",
    "\n",
    "        ax.set_title(f\"R = {RR}\", fontsize=16)\n",
    "        ax.set_xlabel(\"# Initialization Rounds\")\n",
    "        if idx == 0:\n",
    "            ax.set_ylabel(\"Cost (~$10^{\\\\alpha}$)\")\n",
    "        ax.yaxis.set_major_formatter(FuncFormatter(lambda y, _: rf\"$10^{{{y:.2f}}}$\"))\n",
    "        ax.xaxis.set_major_locator(MaxNLocator(integer=True))\n",
    "        ax.legend(frameon=False)\n",
    "\n",
    "    plt.savefig(\"lk_plot.pdf\")\n",
    "    plt.tight_layout()\n",
    "    plt.show()"
   ]
  },
  {
   "cell_type": "code",
   "execution_count": null,
   "metadata": {},
   "outputs": [],
   "source": [
    "### cost(KDD)/time vs. l - fixed r"
   ]
  },
  {
   "cell_type": "markdown",
   "id": "70022b0e",
   "metadata": {},
   "source": [
    "# Update analysis"
   ]
  },
  {
   "cell_type": "code",
   "execution_count": 6,
   "id": "d24e2e86",
   "metadata": {},
   "outputs": [],
   "source": [
    "kddData, kddLabels, entries_dict = get_kdd(standardize=True)"
   ]
  },
  {
   "cell_type": "code",
   "execution_count": 8,
   "id": "b0b2512d",
   "metadata": {},
   "outputs": [],
   "source": [
    "k = np.unique(kddLabels).shape[0]\n",
    "l = 0.5 * k"
   ]
  },
  {
   "cell_type": "code",
   "execution_count": 9,
   "id": "0cb252d6",
   "metadata": {},
   "outputs": [
    {
     "name": "stderr",
     "output_type": "stream",
     "text": [
      "                                                                                \r"
     ]
    },
    {
     "data": {
      "text/plain": [
       "ParallelCollectionRDD[1] at readRDDFromFile at PythonRDD.scala:289"
      ]
     },
     "execution_count": 9,
     "metadata": {},
     "output_type": "execute_result"
    }
   ],
   "source": [
    "kddData_rdd = sc.parallelize([row for row in kddData]).persist()\n",
    "centroids = kMeansParallel_init(kddData_rdd, k, l)\n",
    "kddData_rdd.unpersist()"
   ]
  },
  {
   "cell_type": "code",
   "execution_count": 9,
   "id": "8c245e45",
   "metadata": {},
   "outputs": [],
   "source": [
    "time_dict = {}"
   ]
  },
  {
   "cell_type": "markdown",
   "id": "c1f92f1f",
   "metadata": {},
   "source": [
    "Lloyd's kMeans serial"
   ]
  },
  {
   "cell_type": "code",
   "execution_count": 13,
   "id": "7df020ad",
   "metadata": {},
   "outputs": [],
   "source": [
    "iterations = 10\n",
    "startTime = time.time()\n",
    "seedCentroids = centroids.copy()\n",
    "finalCentroids = lloydKMeans(kddData, seedCentroids, iterations, earlyStopping=False)\n",
    "deltaTime = time.time() - startTime\n",
    "time_dict[1] = {\"lloyd\": deltaTime}"
   ]
  },
  {
   "cell_type": "markdown",
   "id": "ed535a3e",
   "metadata": {},
   "source": [
    "Parallel"
   ]
  },
  {
   "cell_type": "code",
   "execution_count": null,
   "id": "a2c41209",
   "metadata": {},
   "outputs": [
    {
     "name": "stderr",
     "output_type": "stream",
     "text": [
      "                                                                                \r"
     ]
    }
   ],
   "source": [
    "partitions = [2, 4, 8, 16, 32, 64, 128]\n",
    "for numSlices in partitions:\n",
    "    time_dict[numSlices] = {}\n",
    "    kddData_rdd = sc.parallelize([row for row in kddData], numSlices=numSlices).persist()\n",
    "    \n",
    "    startTime = time.time()\n",
    "    seedCentroids = centroids.copy()\n",
    "    finalCentroids = lloydKMeans(kddData_rdd, seedCentroids, iterations, earlyStopping=False)\n",
    "    deltaTime = time.time() - startTime\n",
    "    time_dict[numSlices][\"lloyd\"] = deltaTime\n",
    "\n",
    "    startTime = time.time()\n",
    "    seedCentroids = centroids.copy()\n",
    "    finalCentroids = miniBatchKMeans(kddData_rdd, seedCentroids, iterations, earlyStopping=False)\n",
    "    deltaTime = time.time() - startTime\n",
    "    time_dict[numSlices][\"miniBatch\"] = deltaTime\n",
    "    \n",
    "    kddData_rdd.unpersist()"
   ]
  },
  {
   "cell_type": "code",
   "execution_count": 14,
   "id": "da16ab58",
   "metadata": {},
   "outputs": [
    {
     "data": {
      "text/plain": [
       "{1: {'lloyd': 17.238966464996338},\n",
       " 2: {'lloyd': 34.04286217689514, 'miniBatch': 12.04980731010437},\n",
       " 4: {'lloyd': 17.933119535446167, 'miniBatch': 8.075101613998413},\n",
       " 8: {'lloyd': 10.722455978393555, 'miniBatch': 5.795122861862183},\n",
       " 16: {'lloyd': 8.191429376602173, 'miniBatch': 5.853504419326782},\n",
       " 32: {'lloyd': 10.909662961959839, 'miniBatch': 6.993889093399048},\n",
       " 64: {'lloyd': 12.047245025634766, 'miniBatch': 9.350556135177612},\n",
       " 128: {'lloyd': 17.013242483139038, 'miniBatch': 13.624184846878052}}"
      ]
     },
     "execution_count": 14,
     "metadata": {},
     "output_type": "execute_result"
    }
   ],
   "source": [
    "time_dict"
   ]
  },
  {
   "cell_type": "code",
   "execution_count": null,
   "metadata": {},
   "outputs": [],
   "source": [
    "### Plottare overhead per npartitions (lloyd/mini-batch)"
   ]
  },
  {
   "cell_type": "markdown",
   "id": "11f4de91",
   "metadata": {},
   "source": [
    "### Cost vs iterations\n"
   ]
  },
  {
   "cell_type": "markdown",
   "id": "c714805e",
   "metadata": {},
   "source": [
    "We now want to study, for each version of the algorithm, the number of iterations required to obtain an optimal solution. To do this, we track the cost function values at each iteration:"
   ]
  },
  {
   "cell_type": "code",
   "execution_count": null,
   "id": "0964c5c6",
   "metadata": {},
   "outputs": [
    {
     "name": "stderr",
     "output_type": "stream",
     "text": [
      "                                                                                \r"
     ]
    },
    {
     "data": {
      "text/plain": [
       "ParallelCollectionRDD[57] at readRDDFromFile at PythonRDD.scala:289"
      ]
     },
     "execution_count": 9,
     "metadata": {},
     "output_type": "execute_result"
    }
   ],
   "source": [
    "kddData_rdd = sc.parallelize([row for row in kddData], numSlices=16).persist()\n",
    "iterations = 100\n",
    "updateAlgorithms = [\"lloyd\", \"lloyd\", \"miniBatch\", \"miniBatch\", \"miniBatch\", \"miniBatch\"]\n",
    "batchFractions = [\"serial\", \"parallel\", 0.001, 0.01, 0.1, 0.5]\n",
    "\n",
    "results_dict = {}\n",
    "\n",
    "seedCost = compute_cost(kddData_rdd, centroids)\n",
    "\n",
    "# n_runs = 3  # number of independent runs\n",
    "for updateAlgo, batchFraction in zip(updateAlgorithms, batchFractions):\n",
    "    print(f\"{updateAlgo}_{batchFraction}\")\n",
    "    seedCentroids = centroids.copy()\n",
    "\n",
    "    if updateAlgo == \"lloyd\":\n",
    "        if batchFraction == \"serial\":\n",
    "            finalCentroids, costHistory = lloydKMeans(kddData, seedCentroids, iterations, save_cost = True)\n",
    "        else:\n",
    "            finalCentroids, costHistory = lloydKMeans(kddData_rdd, seedCentroids, iterations, save_cost = True)\n",
    "    else:\n",
    "        finalCentroids, costHistory = miniBatchKMeans(kddData_rdd, seedCentroids, iterations, batchFraction, save_cost = True)\n",
    "\n",
    "    results_dict[f\"{updateAlgo}_{batchFraction}\"] = costHistory\n",
    "kddData_rdd.unpersist()"
   ]
  },
  {
   "cell_type": "code",
   "execution_count": null,
   "id": "1254245b",
   "metadata": {},
   "outputs": [
    {
     "data": {
      "image/png": "[encoded data removed]",
      "text/plain": [
       "<Figure size 1000x800 with 1 Axes>"
      ]
     },
     "metadata": {},
     "output_type": "display_data"
    }
   ],
   "source": [
    "matplotlib.rcParams.update({'font.size': 16})\n",
    "fig, ax = plt.subplots(figsize=(10,8))\n",
    "\n",
    "for key, costHistory in results_dict.items():\n",
    "    ax.plot([seedCost] + costHistory, marker=\"o\", label = key, alpha = 0.7)\n",
    "\n",
    "ax.set_title(\"Cost vs iterations\")\n",
    "ax.set_xlabel(\"iteration\")\n",
    "ax.set_ylabel(\"cost\")\n",
    "ax.legend()\n",
    "plt.show()"
   ]
  },
  {
   "cell_type": "code",
   "execution_count": null,
   "id": "fb06aafc",
   "metadata": {},
   "outputs": [],
   "source": [
    "plt.figure(figsize=(12, 6))\n",
    "\n",
    "# different markers\n",
    "markers = ['o', 's', '^', 'D', 'x', '*']\n",
    "\n",
    "# offsets to avoid errorbar overlaps\n",
    "offsets = [0,1,0,0,1,-1]\n",
    "for i, (key, stats) in enumerate(results_mean_std.items()):\n",
    "    mean = stats[\"mean\"]\n",
    "    std = stats[\"std\"]\n",
    "    epochs = np.arange(len(mean))\n",
    "\n",
    "    # line style\n",
    "    if \"lloyd\" in key:\n",
    "        line_style = \"--\"   \n",
    "    else:\n",
    "        line_style = \"-\"    \n",
    "\n",
    "    # cycle markers\n",
    "    marker = markers[i]\n",
    "    \n",
    "    plt.errorbar(\n",
    "        epochs[::10+offsets[i]], mean[::10+offsets[i]], yerr=std[::10+offsets[i]],\n",
    "        fmt=line_style+marker, capsize=3, label=key\n",
    "    )\n",
    "    offset += 1\n",
    "\n",
    "plt.xlabel(\"Epoch\", fontsize=14)\n",
    "plt.ylabel(\"Cost\", fontsize=14)\n",
    "plt.title(\"K-Means Convergence: Cost vs Epochs\", fontsize=16)\n",
    "plt.grid(alpha=0.6)\n",
    "plt.legend(title=\"Algorithm:\", loc=\"best\")\n",
    "plt.show()"
   ]
  },
  {
   "cell_type": "code",
   "execution_count": null,
   "metadata": {},
   "outputs": [],
   "source": [
    "### WHY costo minore = batch fraction minore"
   ]
  },
  {
   "cell_type": "markdown",
   "id": "7e523f4a",
   "metadata": {},
   "source": [
    "From the plot above, we observe an interesting pattern: although the serial and parallel K-means algorithms require fewer iterations to reach convergence, they also demand more execution time. In contrast, the minibatch version requires more iterations to converge but achieves a lower overall execution time.\n",
    "\n",
    "Another interesting observation is that better solutions for the minibatch algorithm, in terms of minimizing the cost function, are obtained when using smaller batch fractions.  \n",
    "This can be explained by the formula used to update a generic centroid $j$:\n",
    "\n",
    "$$\n",
    "c_j^{(t+1)} = (1 - \\eta_t) \\, c_j^{(t)} + \\eta_t \\, \\bar{x}_j^{(t)}\n",
    "$$\n",
    "\n",
    "where $\\eta_t$ is the learning rate used for the update of centroid $j$ at iteration $t$.  \n",
    "The learning rate is proportional to $\\frac{1}{N_j^{\\text{samples}}}$, where $N_j^{\\text{samples}}$ is the total number of points assigned to cluster $j$ since the beginning of the algorithm.  \n",
    "\n",
    "From this formula, we see that larger batch fractions result in a faster increase of $N_j^{\\text{samples}}$, which in turn reduces the learning rate more quickly.  \n",
    "Consequently, the centroid updates become smaller over time, potentially leading to slower convergence and poorer minimization of the cost function. Note that the parallel K-means update formula can be recovered from the expression above by setting the learning rate to a constant value of 1."
   ]
  },
  {
   "cell_type": "markdown",
   "id": "d823b81f",
   "metadata": {},
   "source": [
    "Stopping the cluster"
   ]
  },
  {
   "cell_type": "code",
   "execution_count": 15,
   "id": "a6b3093a",
   "metadata": {},
   "outputs": [],
   "source": [
    "sc.stop()\n",
    "spark.stop()"
   ]
  },
  {
   "cell_type": "code",
   "execution_count": 16,
   "id": "5fcdb5d9",
   "metadata": {},
   "outputs": [
    {
     "name": "stdout",
     "output_type": "stream",
     "text": [
      "worker3: stopping org.apache.spark.deploy.worker.Worker\n",
      "worker1: stopping org.apache.spark.deploy.worker.Worker\n",
      "worker2: stopping org.apache.spark.deploy.worker.Worker\n",
      "master: stopping org.apache.spark.deploy.worker.Worker\n",
      "stopping org.apache.spark.deploy.master.Master\n"
     ]
    }
   ],
   "source": [
    "# stopping the cluster\n",
    "! $SPARK_HOME/sbin/stop-all.sh\n",
    "# clearing the `$SPARK_HOME/work` directory in all the nodes\n",
    "# this avoids cluttering of storage among nodes\n",
    "! rm -rf $SPARK_HOME/work/*\n",
    "! ssh worker1 \"rm -rf $SPARK_HOME/work/*\"\n",
    "! ssh worker2 \"rm -rf $SPARK_HOME/work/*\"\n",
    "! ssh worker3 \"rm -rf $SPARK_HOME/work/*\""
   ]
  }
 ],
 "metadata": {
  "kernelspec": {
   "display_name": ".venv (3.12.3)",
   "language": "python",
   "name": "python3"
  },
  "language_info": {
   "codemirror_mode": {
    "name": "ipython",
    "version": 3
   },
   "file_extension": ".py",
   "mimetype": "text/x-python",
   "name": "python",
   "nbconvert_exporter": "python",
   "pygments_lexer": "ipython3",
   "version": "3.12.3"
  }
 },
 "nbformat": 4,
 "nbformat_minor": 5
}
