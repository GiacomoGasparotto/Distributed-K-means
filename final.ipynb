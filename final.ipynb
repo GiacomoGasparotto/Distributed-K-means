{
 "cells": [
  {
   "cell_type": "markdown",
   "id": "5e30ad9b",
   "metadata": {},
   "source": [
    "# Distributed K-Means\n",
    "\n",
    "### Authors\n",
    "- Bezzi Filippo, *2148867*, filippo.bezzi@studenti.unipd.it\n",
    "- Conte William, *2139490*, william.conte@studenti.unipd.it\n",
    "- D'Amore Edoardo, *2152861*, edoardo.damore@studenti.unipd.it\n",
    "- Gasparotto Giacomo, *2156362*, giacomo.gasparotto@studenti.unipd.it"
   ]
  },
  {
   "cell_type": "code",
   "execution_count": null,
   "id": "3fe191c6",
   "metadata": {},
   "outputs": [],
   "source": [
    "# general imports\n",
    "import matplotlib\n",
    "import matplotlib.cm as cm\n",
    "import matplotlib.pyplot as plt\n",
    "from matplotlib.ticker import MaxNLocator\n",
    "import numpy as np\n",
    "import numpy.typing as npt\n",
    "import os\n",
    "import pandas as pd\n",
    "import seaborn as sns\n",
    "import time\n",
    "import warnings\n",
    "\n",
    "# pyspark module\n",
    "from pyspark.rdd import RDD\n",
    "\n",
    "# src module\n",
    "from src.data import get_gm, get_kdd\n",
    "from src.kmeans.base import compute_cost\n",
    "from src.kmeans.initialization import kMeansParallel_init, kMeansPlusPlus_init, kMeansRandom_init\n",
    "from src.kmeans.update import lloydKMeans, miniBatchKMeans\n",
    "from src.utils import sparkSetup"
   ]
  },
  {
   "cell_type": "code",
   "execution_count": 2,
   "id": "6136e090",
   "metadata": {},
   "outputs": [],
   "source": [
    "warnings.filterwarnings(\"ignore\") "
   ]
  },
  {
   "cell_type": "markdown",
   "id": "a921a0f6",
   "metadata": {},
   "source": [
    "# Spark setup"
   ]
  },
  {
   "cell_type": "markdown",
   "id": "d8754d54",
   "metadata": {},
   "source": [
    "We are running applications on a Spark cluster consisting of one master node and three worker nodes (slaves). Each worker node is equipped with 4 CPU cores and 6.8 GB of memory. The master node manages the cluster resources and job scheduling, while the worker nodes execute the tasks assigned by the master, enabling efficient distributed data processing."
   ]
  },
  {
   "cell_type": "markdown",
   "id": "f1f61d23",
   "metadata": {},
   "source": [
    "## Starting the cluster"
   ]
  },
  {
   "cell_type": "code",
   "execution_count": 3,
   "id": "802036f8",
   "metadata": {},
   "outputs": [],
   "source": [
    "# creating the zipped environment if it doesn't already exist\n",
    "! if [ ! -f \"environment.tar.gz\" ]; then venv-pack -o \"environment.tar.gz\" ; fi\n",
    "# creating the zipped module src\n",
    "! if [ -f \"src.tar.gz\" ]; then rm src.tar.gz ; fi\n",
    "! tar -czf src.tar.gz src"
   ]
  },
  {
   "cell_type": "code",
   "execution_count": 4,
   "id": "45c80a13",
   "metadata": {},
   "outputs": [
    {
     "name": "stdout",
     "output_type": "stream",
     "text": [
      "org.apache.spark.deploy.master.Master running as process 181985.  Stop it first.\n",
      "worker3: org.apache.spark.deploy.worker.Worker running as process 836099.  Stop it first.\n",
      "worker2: org.apache.spark.deploy.worker.Worker running as process 820820.  Stop it first.\n",
      "worker1: org.apache.spark.deploy.worker.Worker running as process 819400.  Stop it first.\n",
      "master: org.apache.spark.deploy.worker.Worker running as process 182145.  Stop it first.\n"
     ]
    }
   ],
   "source": [
    "# starting the cluster\n",
    "! $SPARK_HOME/sbin/start-all.sh"
   ]
  },
  {
   "cell_type": "code",
   "execution_count": 5,
   "id": "af4a0ed6",
   "metadata": {},
   "outputs": [],
   "source": [
    "os.environ[\"PYSPARK_PYTHON\"] = \"./environment/bin/python\""
   ]
  },
  {
   "cell_type": "code",
   "execution_count": 6,
   "id": "d6275144",
   "metadata": {},
   "outputs": [
    {
     "name": "stderr",
     "output_type": "stream",
     "text": [
      "25/09/15 21:02:59 WARN NativeCodeLoader: Unable to load native-hadoop library for your platform... using builtin-java classes where applicable\n",
      "Setting default log level to \"WARN\".\n",
      "To adjust logging level use sc.setLogLevel(newLevel). For SparkR, use setLogLevel(newLevel).\n",
      "25/09/15 21:03:08 WARN Utils: Untarring behavior will be deprecated at spark.files and SparkContext.addFile. Consider using spark.archives or SparkContext.addArchive instead.\n"
     ]
    }
   ],
   "source": [
    "# creating a sparkSession\n",
    "spark = sparkSetup(\"kMeans\")\n",
    "sc = spark.sparkContext\n",
    "# exporting the src module\n",
    "sc.addPyFile(\"src.tar.gz\")\n",
    "sc.setLogLevel(\"ERROR\")"
   ]
  },
  {
   "cell_type": "markdown",
   "id": "392bdefa",
   "metadata": {},
   "source": [
    "# Datasets"
   ]
  },
  {
   "cell_type": "markdown",
   "id": "39de6ba3",
   "metadata": {},
   "source": [
    "## Gaussian Mixture"
   ]
  },
  {
   "cell_type": "markdown",
   "id": "64e0056f",
   "metadata": {},
   "source": [
    "The first dataset we would consider to test the performance of the k-means++ initialization algorithm is a synthetic GaussMixture. To generate it, we sampled $k$ centers from a 15-dimensional spherical Gaussian distribution with mean at the origin and variance $R\\in \\{1,10,100\\}$. We then added points from Gaussian distributions of unit variance around each center. Given the $k$ centers, this is a mixture of $k$ spherical Gaussians with equal weights. The value of the optimal k-clustering\n",
    "can be well approximated using the centers of these Gaussians.\n",
    "\n",
    "We will perform some preliminary analysis that can be efficiently conducted on this dataset."
   ]
  },
  {
   "cell_type": "markdown",
   "id": "825b1826",
   "metadata": {},
   "source": [
    "## KDD Cup 1999 "
   ]
  },
  {
   "cell_type": "markdown",
   "id": "5f64adee",
   "metadata": {},
   "source": [
    "The second dataset we want to use to perform our analysis is a real dataset which consists of a collection of simulated network connection data with 41 features and a large number of redundant records, used for training and evaluating intrusion detection systems.\n",
    "\n",
    "In our case we decided to consider it since it is big enough to study and benchmark distributed computing frameworks. In particular we will use only a $10\\%$ of it due to the limited availability of our computing resources.\n",
    "\n",
    "We performed the following preprocessing operations before working with the dataset:\n",
    "\n",
    "- Shuffled the dataset;\n",
    "\n",
    "- Converted the byte entries into floats;\n",
    "\n",
    "- Scaled the entries using Scikit-learn’s ``StandardScaler()`` (if the standardize parameter was set to True)."
   ]
  },
  {
   "cell_type": "markdown",
   "id": "d5ba95d4",
   "metadata": {},
   "source": [
    "# Initialization algorithm analysis - KMeansRandom vs. KMeans++ vs. KMeans||"
   ]
  },
  {
   "cell_type": "markdown",
   "id": "468074a9",
   "metadata": {},
   "source": [
    "First of all we will consider only the **Gaussian Mixture** dataset for preliminary analysis."
   ]
  },
  {
   "cell_type": "markdown",
   "id": "e7363d2c",
   "metadata": {},
   "source": [
    "We will consider three different initialization strategies:\n",
    "\n",
    "- **Random**, which initialize randomly a certain number of centroids;\n",
    "- **K-Means++**, selects initial centroids in a smart way, giving higher probability to points that are farther from the already chosen centroids. This reduces the chance of converging to poor solutions compared to completely random initialization;\n",
    "- **K-Means||**, a distributed version of K-Means++. It works well on very large datasets by selecting multiple candidate centroids in parallel and then refining the final choice."
   ]
  },
  {
   "cell_type": "markdown",
   "id": "a65ab3ca",
   "metadata": {},
   "source": [
    "## Time / Cost tables"
   ]
  },
  {
   "cell_type": "markdown",
   "id": "568f182b",
   "metadata": {},
   "source": [
    "The first thing we want to assess is the performance in terms of **time** and **cost** using the aforementioned initialization algorithms:\n",
    "\n",
    "- **random**;\n",
    "- **k-means++**;\n",
    "- **k-means||** with $l\\cdot k = 0.5$;\n",
    "- **k-means||** with $l\\cdot k = 2$.\n",
    "\n",
    "Each of these initialization method is followed by Lloyd's iterations.\n",
    "\n",
    "This setup allows us to investigate whether the parallelization introduced by the k-means|| initialization leads to improved clustering performance, using random and k-means++ initializations as baselines."
   ]
  },
  {
   "cell_type": "markdown",
   "id": "a5a9b9b9",
   "metadata": {},
   "source": [
    "The two metrics we want to compare between the initializations are the execution time, for both the initialization and the update algorithm and the cost which has been calculated as:\n",
    "\n",
    "$$ C = \\frac{1}{|Y|} \\sum_{y \\in Y} \\min_{i=1,\\dots,k} \\|y - c_i\\|^2 $$\n",
    "\n",
    "where $y$ are our data points and $c_i$ are the actual centroids of the ditribution, normalized on the size of the dataset $|Y|$."
   ]
  },
  {
   "cell_type": "code",
   "execution_count": null,
   "id": "eceb39c9",
   "metadata": {},
   "outputs": [],
   "source": [
    "def compute_initAlgoMetrics(\n",
    "    initAlgo: str,\n",
    "    data_ndarray: npt.NDArray, \n",
    "    data_rdd: RDD, \n",
    "    iterations: int, \n",
    "    k: int, \n",
    "    l: float, \n",
    "    r: int\n",
    ") -> tuple[float, float, float, float]:\n",
    "    # Initialization\n",
    "    startTime = time.time()\n",
    "    \n",
    "    if initAlgo == \"RANDOM\": \n",
    "        centroids = kMeansRandom_init(data_rdd, k)\n",
    "    elif initAlgo == \"KM++\": \n",
    "        centroids = kMeansPlusPlus_init(data_ndarray, k)\n",
    "    elif initAlgo == \"KM||\": \n",
    "        centroids = kMeansParallel_init(data_rdd, k, l, r)\n",
    "    else: \n",
    "        raise ValueError(f\"Wrong initialization algorithm selected: '{initAlgo}'\")\n",
    "         \n",
    "    initTime = time.time() - startTime\n",
    "    seedCost = compute_cost(data_rdd, centroids)\n",
    "\n",
    "    # update centroids\n",
    "    startTime = time.time()\n",
    "    finalCentroids = lloydKMeans(data_rdd, centroids, iterations)\n",
    "    updateTime = time.time() - startTime\n",
    "    finalCost = compute_cost(data_rdd, finalCentroids)\n",
    "    \n",
    "    return initTime, updateTime, seedCost, finalCost"
   ]
  },
  {
   "cell_type": "markdown",
   "id": "f0b4bd30",
   "metadata": {},
   "source": [
    "Gaussian Mixture dataset creation. The parameters has been chosen according to (Bahmani, Bahman, et al. \"Scalable k-means++.\" arXiv preprint arXiv:1203.6402 (2012).).\n",
    "\n",
    "In particular, the crucial parameters for dataset creation are:\n",
    "\n",
    "- $\\texttt{k}$: number of clusters;\n",
    "- $\\texttt{n}$: number of datapoints;\n",
    "- $\\texttt{dim}$: dimension of datapoints;\n",
    "- $\\texttt{R}$: variances of the Gaussian Mixtures."
   ]
  },
  {
   "cell_type": "code",
   "execution_count": 7,
   "id": "1897db05",
   "metadata": {},
   "outputs": [],
   "source": [
    "# --- control parameters ---\n",
    "k = 50\n",
    "n = 10_000\n",
    "dim = 15\n",
    "R = [1, 10, 100]\n",
    "r = 5\n",
    "iterations = 1_000\n",
    "initAlgorithms = [\"RANDOM\", \"KM++\", \"KM||\", \"KM||\"]\n",
    "lk_ratios = [0, 0, 0.5, 2]"
   ]
  },
  {
   "cell_type": "markdown",
   "id": "6744ec21",
   "metadata": {},
   "source": [
    "Creation of a dataframe with the metrics we want to track: "
   ]
  },
  {
   "cell_type": "code",
   "execution_count": 9,
   "id": "821eaa5f",
   "metadata": {},
   "outputs": [
    {
     "name": "stderr",
     "output_type": "stream",
     "text": [
      "                                                                                \r"
     ]
    },
    {
     "name": "stdout",
     "output_type": "stream",
     "text": [
      "R: 1 | initAlgo: RANDOM\n"
     ]
    },
    {
     "name": "stderr",
     "output_type": "stream",
     "text": [
      "                                                                                \r"
     ]
    },
    {
     "name": "stdout",
     "output_type": "stream",
     "text": [
      "R: 1 | initAlgo: KM++\n"
     ]
    },
    {
     "name": "stderr",
     "output_type": "stream",
     "text": [
      "                                                                                \r"
     ]
    },
    {
     "name": "stdout",
     "output_type": "stream",
     "text": [
      "R: 1 | initAlgo: KM|| 0.5\n"
     ]
    },
    {
     "name": "stderr",
     "output_type": "stream",
     "text": [
      "                                                                                \r"
     ]
    },
    {
     "name": "stdout",
     "output_type": "stream",
     "text": [
      "R: 1 | initAlgo: KM|| 2\n"
     ]
    },
    {
     "name": "stderr",
     "output_type": "stream",
     "text": [
      "                                                                                \r"
     ]
    },
    {
     "name": "stdout",
     "output_type": "stream",
     "text": [
      "R: 10 | initAlgo: RANDOM\n"
     ]
    },
    {
     "name": "stderr",
     "output_type": "stream",
     "text": [
      "                                                                                \r"
     ]
    },
    {
     "name": "stdout",
     "output_type": "stream",
     "text": [
      "R: 10 | initAlgo: KM++\n"
     ]
    },
    {
     "name": "stderr",
     "output_type": "stream",
     "text": [
      "                                                                                \r"
     ]
    },
    {
     "name": "stdout",
     "output_type": "stream",
     "text": [
      "R: 10 | initAlgo: KM|| 0.5\n"
     ]
    },
    {
     "name": "stderr",
     "output_type": "stream",
     "text": [
      "                                                                                \r"
     ]
    },
    {
     "name": "stdout",
     "output_type": "stream",
     "text": [
      "R: 10 | initAlgo: KM|| 2\n"
     ]
    },
    {
     "name": "stderr",
     "output_type": "stream",
     "text": [
      "                                                                                \r"
     ]
    },
    {
     "name": "stdout",
     "output_type": "stream",
     "text": [
      "R: 100 | initAlgo: RANDOM\n"
     ]
    },
    {
     "name": "stderr",
     "output_type": "stream",
     "text": [
      "                                                                                \r"
     ]
    },
    {
     "name": "stdout",
     "output_type": "stream",
     "text": [
      "R: 100 | initAlgo: KM++\n"
     ]
    },
    {
     "name": "stderr",
     "output_type": "stream",
     "text": [
      "                                                                                \r"
     ]
    },
    {
     "name": "stdout",
     "output_type": "stream",
     "text": [
      "R: 100 | initAlgo: KM|| 0.5\n"
     ]
    },
    {
     "name": "stderr",
     "output_type": "stream",
     "text": [
      "                                                                                \r"
     ]
    },
    {
     "name": "stdout",
     "output_type": "stream",
     "text": [
      "R: 100 | initAlgo: KM|| 2\n"
     ]
    },
    {
     "name": "stderr",
     "output_type": "stream",
     "text": [
      "                                                                                \r"
     ]
    }
   ],
   "source": [
    "initAlgoMetrics = []\n",
    "for variance in R:\n",
    "    gmData, gmCenters = get_gm(n, k, dim, variance)\n",
    "    gmData_rdd = sc.parallelize([row for row in gmData], numSlices=16).persist()\n",
    "    trueCost = compute_cost(gmData_rdd, gmCenters)\n",
    "    for initAlgo, lk_ratio in zip(initAlgorithms, lk_ratios):\n",
    "        print(f\"R: {variance} | initAlgo: {f\"{initAlgo} {lk_ratio}\" if initAlgo == \"KM||\" else initAlgo}\")\n",
    "        initTime, updateTime, seedCost, finalCost = compute_initAlgoMetrics(\n",
    "            initAlgo = initAlgo,\n",
    "            data_ndarray = gmData,\n",
    "            data_rdd = gmData_rdd,\n",
    "            iterations = iterations,\n",
    "            k = k,\n",
    "            l = lk_ratio * k,\n",
    "            r = r\n",
    "        )\n",
    "        initAlgoMetrics.append({\n",
    "            \"R\": variance,\n",
    "            \"initAlgo\": f\"{initAlgo} {lk_ratio}\" if initAlgo == \"KM||\" else initAlgo,\n",
    "            \"initTime\": initTime,\n",
    "            \"updateTime\": updateTime,\n",
    "            \"seedCost\": seedCost,\n",
    "            \"finalCost\": finalCost,\n",
    "            \"trueCost\": trueCost\n",
    "        })\n",
    "    gmData_rdd.unpersist()\n",
    "\n",
    "initAlgoMetrics = pd.DataFrame(initAlgoMetrics)"
   ]
  },
  {
   "cell_type": "code",
   "execution_count": 10,
   "id": "ecd2d2a7",
   "metadata": {},
   "outputs": [
    {
     "data": {
      "image/png": "[encoded data removed]",
      "text/plain": [
       "<Figure size 640x480 with 1 Axes>"
      ]
     },
     "metadata": {},
     "output_type": "display_data"
    }
   ],
   "source": [
    "plt.scatter(gmData[:,0], gmData[:,1])\n",
    "plt.scatter(gmCenters[:,0], gmCenters[:,1], c=\"red\")\n",
    "plt.show()"
   ]
  },
  {
   "cell_type": "markdown",
   "id": "633562ee",
   "metadata": {},
   "source": [
    "The following tables summarize the metrics extracted from the dataset:"
   ]
  },
  {
   "cell_type": "code",
   "execution_count": 11,
   "id": "a863dd9c",
   "metadata": {},
   "outputs": [
    {
     "data": {
      "text/html": [
       "<div>\n",
       "<style scoped>\n",
       "    .dataframe tbody tr th:only-of-type {\n",
       "        vertical-align: middle;\n",
       "    }\n",
       "\n",
       "    .dataframe tbody tr th {\n",
       "        vertical-align: top;\n",
       "    }\n",
       "\n",
       "    .dataframe thead th {\n",
       "        text-align: right;\n",
       "    }\n",
       "</style>\n",
       "<table border=\"1\" class=\"dataframe\">\n",
       "  <thead>\n",
       "    <tr style=\"text-align: right;\">\n",
       "      <th></th>\n",
       "      <th>R</th>\n",
       "      <th>initAlgo</th>\n",
       "      <th>initTime</th>\n",
       "      <th>updateTime</th>\n",
       "      <th>seedCost</th>\n",
       "      <th>finalCost</th>\n",
       "      <th>trueCost</th>\n",
       "    </tr>\n",
       "  </thead>\n",
       "  <tbody>\n",
       "    <tr>\n",
       "      <th>0</th>\n",
       "      <td>1</td>\n",
       "      <td>RANDOM</td>\n",
       "      <td>0.893063</td>\n",
       "      <td>100.399548</td>\n",
       "      <td>11.525675</td>\n",
       "      <td>7.457877</td>\n",
       "      <td>7.443179</td>\n",
       "    </tr>\n",
       "    <tr>\n",
       "      <th>4</th>\n",
       "      <td>10</td>\n",
       "      <td>RANDOM</td>\n",
       "      <td>0.648659</td>\n",
       "      <td>17.990830</td>\n",
       "      <td>7.573351</td>\n",
       "      <td>3.090486</td>\n",
       "      <td>1.484280</td>\n",
       "    </tr>\n",
       "    <tr>\n",
       "      <th>8</th>\n",
       "      <td>100</td>\n",
       "      <td>RANDOM</td>\n",
       "      <td>0.495566</td>\n",
       "      <td>9.819107</td>\n",
       "      <td>5.854606</td>\n",
       "      <td>1.875339</td>\n",
       "      <td>0.163608</td>\n",
       "    </tr>\n",
       "  </tbody>\n",
       "</table>\n",
       "</div>"
      ],
      "text/plain": [
       "     R initAlgo  initTime  updateTime   seedCost  finalCost  trueCost\n",
       "0    1   RANDOM  0.893063  100.399548  11.525675   7.457877  7.443179\n",
       "4   10   RANDOM  0.648659   17.990830   7.573351   3.090486  1.484280\n",
       "8  100   RANDOM  0.495566    9.819107   5.854606   1.875339  0.163608"
      ]
     },
     "execution_count": 11,
     "metadata": {},
     "output_type": "execute_result"
    }
   ],
   "source": [
    "initAlgoMetrics[initAlgoMetrics[\"initAlgo\"]==\"RANDOM\"]"
   ]
  },
  {
   "cell_type": "code",
   "execution_count": 12,
   "id": "2424c854",
   "metadata": {},
   "outputs": [
    {
     "data": {
      "text/html": [
       "<div>\n",
       "<style scoped>\n",
       "    .dataframe tbody tr th:only-of-type {\n",
       "        vertical-align: middle;\n",
       "    }\n",
       "\n",
       "    .dataframe tbody tr th {\n",
       "        vertical-align: top;\n",
       "    }\n",
       "\n",
       "    .dataframe thead th {\n",
       "        text-align: right;\n",
       "    }\n",
       "</style>\n",
       "<table border=\"1\" class=\"dataframe\">\n",
       "  <thead>\n",
       "    <tr style=\"text-align: right;\">\n",
       "      <th></th>\n",
       "      <th>R</th>\n",
       "      <th>initAlgo</th>\n",
       "      <th>initTime</th>\n",
       "      <th>updateTime</th>\n",
       "      <th>seedCost</th>\n",
       "      <th>finalCost</th>\n",
       "      <th>trueCost</th>\n",
       "    </tr>\n",
       "  </thead>\n",
       "  <tbody>\n",
       "    <tr>\n",
       "      <th>1</th>\n",
       "      <td>1</td>\n",
       "      <td>KM++</td>\n",
       "      <td>43.026498</td>\n",
       "      <td>69.325397</td>\n",
       "      <td>12.099102</td>\n",
       "      <td>7.474069</td>\n",
       "      <td>7.443179</td>\n",
       "    </tr>\n",
       "    <tr>\n",
       "      <th>5</th>\n",
       "      <td>10</td>\n",
       "      <td>KM++</td>\n",
       "      <td>41.717412</td>\n",
       "      <td>13.048285</td>\n",
       "      <td>4.452820</td>\n",
       "      <td>2.189483</td>\n",
       "      <td>1.484280</td>\n",
       "    </tr>\n",
       "    <tr>\n",
       "      <th>9</th>\n",
       "      <td>100</td>\n",
       "      <td>KM++</td>\n",
       "      <td>40.737872</td>\n",
       "      <td>4.577693</td>\n",
       "      <td>0.575064</td>\n",
       "      <td>0.285104</td>\n",
       "      <td>0.163608</td>\n",
       "    </tr>\n",
       "  </tbody>\n",
       "</table>\n",
       "</div>"
      ],
      "text/plain": [
       "     R initAlgo   initTime  updateTime   seedCost  finalCost  trueCost\n",
       "1    1     KM++  43.026498   69.325397  12.099102   7.474069  7.443179\n",
       "5   10     KM++  41.717412   13.048285   4.452820   2.189483  1.484280\n",
       "9  100     KM++  40.737872    4.577693   0.575064   0.285104  0.163608"
      ]
     },
     "execution_count": 12,
     "metadata": {},
     "output_type": "execute_result"
    }
   ],
   "source": [
    "initAlgoMetrics[initAlgoMetrics[\"initAlgo\"]==\"KM++\"]"
   ]
  },
  {
   "cell_type": "code",
   "execution_count": 13,
   "id": "9bc3fb18",
   "metadata": {},
   "outputs": [
    {
     "data": {
      "text/html": [
       "<div>\n",
       "<style scoped>\n",
       "    .dataframe tbody tr th:only-of-type {\n",
       "        vertical-align: middle;\n",
       "    }\n",
       "\n",
       "    .dataframe tbody tr th {\n",
       "        vertical-align: top;\n",
       "    }\n",
       "\n",
       "    .dataframe thead th {\n",
       "        text-align: right;\n",
       "    }\n",
       "</style>\n",
       "<table border=\"1\" class=\"dataframe\">\n",
       "  <thead>\n",
       "    <tr style=\"text-align: right;\">\n",
       "      <th></th>\n",
       "      <th>R</th>\n",
       "      <th>initAlgo</th>\n",
       "      <th>initTime</th>\n",
       "      <th>updateTime</th>\n",
       "      <th>seedCost</th>\n",
       "      <th>finalCost</th>\n",
       "      <th>trueCost</th>\n",
       "    </tr>\n",
       "  </thead>\n",
       "  <tbody>\n",
       "    <tr>\n",
       "      <th>2</th>\n",
       "      <td>1</td>\n",
       "      <td>KM|| 0.5</td>\n",
       "      <td>14.134058</td>\n",
       "      <td>125.176250</td>\n",
       "      <td>10.527972</td>\n",
       "      <td>7.454659</td>\n",
       "      <td>7.443179</td>\n",
       "    </tr>\n",
       "    <tr>\n",
       "      <th>6</th>\n",
       "      <td>10</td>\n",
       "      <td>KM|| 0.5</td>\n",
       "      <td>9.942894</td>\n",
       "      <td>20.027426</td>\n",
       "      <td>3.440616</td>\n",
       "      <td>2.249905</td>\n",
       "      <td>1.484280</td>\n",
       "    </tr>\n",
       "    <tr>\n",
       "      <th>10</th>\n",
       "      <td>100</td>\n",
       "      <td>KM|| 0.5</td>\n",
       "      <td>9.052766</td>\n",
       "      <td>9.000387</td>\n",
       "      <td>0.691018</td>\n",
       "      <td>0.616959</td>\n",
       "      <td>0.163608</td>\n",
       "    </tr>\n",
       "  </tbody>\n",
       "</table>\n",
       "</div>"
      ],
      "text/plain": [
       "      R  initAlgo   initTime  updateTime   seedCost  finalCost  trueCost\n",
       "2     1  KM|| 0.5  14.134058  125.176250  10.527972   7.454659  7.443179\n",
       "6    10  KM|| 0.5   9.942894   20.027426   3.440616   2.249905  1.484280\n",
       "10  100  KM|| 0.5   9.052766    9.000387   0.691018   0.616959  0.163608"
      ]
     },
     "execution_count": 13,
     "metadata": {},
     "output_type": "execute_result"
    }
   ],
   "source": [
    "initAlgoMetrics[initAlgoMetrics[\"initAlgo\"]==\"KM|| 0.5\"]"
   ]
  },
  {
   "cell_type": "code",
   "execution_count": 14,
   "id": "089e5b46",
   "metadata": {},
   "outputs": [
    {
     "data": {
      "text/html": [
       "<div>\n",
       "<style scoped>\n",
       "    .dataframe tbody tr th:only-of-type {\n",
       "        vertical-align: middle;\n",
       "    }\n",
       "\n",
       "    .dataframe tbody tr th {\n",
       "        vertical-align: top;\n",
       "    }\n",
       "\n",
       "    .dataframe thead th {\n",
       "        text-align: right;\n",
       "    }\n",
       "</style>\n",
       "<table border=\"1\" class=\"dataframe\">\n",
       "  <thead>\n",
       "    <tr style=\"text-align: right;\">\n",
       "      <th></th>\n",
       "      <th>R</th>\n",
       "      <th>initAlgo</th>\n",
       "      <th>initTime</th>\n",
       "      <th>updateTime</th>\n",
       "      <th>seedCost</th>\n",
       "      <th>finalCost</th>\n",
       "      <th>trueCost</th>\n",
       "    </tr>\n",
       "  </thead>\n",
       "  <tbody>\n",
       "    <tr>\n",
       "      <th>3</th>\n",
       "      <td>1</td>\n",
       "      <td>KM|| 2</td>\n",
       "      <td>17.163442</td>\n",
       "      <td>131.810848</td>\n",
       "      <td>9.228601</td>\n",
       "      <td>7.433307</td>\n",
       "      <td>7.443179</td>\n",
       "    </tr>\n",
       "    <tr>\n",
       "      <th>7</th>\n",
       "      <td>10</td>\n",
       "      <td>KM|| 2</td>\n",
       "      <td>10.973757</td>\n",
       "      <td>17.949496</td>\n",
       "      <td>2.563245</td>\n",
       "      <td>2.356769</td>\n",
       "      <td>1.484280</td>\n",
       "    </tr>\n",
       "    <tr>\n",
       "      <th>11</th>\n",
       "      <td>100</td>\n",
       "      <td>KM|| 2</td>\n",
       "      <td>12.292650</td>\n",
       "      <td>7.203698</td>\n",
       "      <td>0.510822</td>\n",
       "      <td>0.489502</td>\n",
       "      <td>0.163608</td>\n",
       "    </tr>\n",
       "  </tbody>\n",
       "</table>\n",
       "</div>"
      ],
      "text/plain": [
       "      R initAlgo   initTime  updateTime  seedCost  finalCost  trueCost\n",
       "3     1   KM|| 2  17.163442  131.810848  9.228601   7.433307  7.443179\n",
       "7    10   KM|| 2  10.973757   17.949496  2.563245   2.356769  1.484280\n",
       "11  100   KM|| 2  12.292650    7.203698  0.510822   0.489502  0.163608"
      ]
     },
     "execution_count": 14,
     "metadata": {},
     "output_type": "execute_result"
    }
   ],
   "source": [
    "initAlgoMetrics[initAlgoMetrics[\"initAlgo\"]==\"KM|| 2\"]"
   ]
  },
  {
   "cell_type": "markdown",
   "id": "127b475d",
   "metadata": {},
   "source": [
    "A more visual representation is in the following plots:"
   ]
  },
  {
   "cell_type": "code",
   "execution_count": 16,
   "id": "795f73f6",
   "metadata": {},
   "outputs": [],
   "source": [
    "def plot_initAlgoMetrics(\n",
    "    initAlgoMetrics: pd.DataFrame,\n",
    "    dataset: str\n",
    ") -> None:\n",
    "    matplotlib.rcParams.update({'font.size': 16})\n",
    "    \n",
    "    withTrueCost = \"trueCost\" in initAlgoMetrics.columns\n",
    "\n",
    "    # Define metrics, units and titles\n",
    "    metrics = [\"initTime\", \"updateTime\", \"seedCost\", \"finalCost\"]\n",
    "    units = [\"time (s)\", None, \"cost (a.u.)\", None]\n",
    "    titles = [\"initTime\", \"updateTime\", \"seedCost\", \"finalCost\"]\n",
    "    if withTrueCost:\n",
    "        R_values = np.unique(initAlgoMetrics[\"R\"])\n",
    "        true_costs_dict = {v[0]: v[1] for v in initAlgoMetrics[[\"R\", \"trueCost\"]].to_numpy()}\n",
    "\n",
    "    fig, axs = plt.subplots(2, 2, figsize=(15, 10))\n",
    "\n",
    "    for ax, metric, title, unit in zip(axs.flat, metrics, titles, units):\n",
    "        sns.barplot(\n",
    "            data=initAlgoMetrics,\n",
    "            x=\"initAlgo\",\n",
    "            y=metric,\n",
    "            hue=\"R\" if withTrueCost else None,\n",
    "            palette=\"rainbow\",\n",
    "            alpha=0.8,\n",
    "            ax=ax\n",
    "        )\n",
    "\n",
    "        # Plot true cost lines\n",
    "        if withTrueCost:\n",
    "            colors = [\"purple\", \"blue\", \"red\"]  \n",
    "            labels_true = [f\"trueCost R={R}\" for R in R_values]\n",
    "            true_handles = [plt.Line2D([0], [0], color=color, linestyle=\"dashed\", linewidth=2, label=label) \n",
    "                            for color, label in zip(colors, labels_true)]\n",
    "\n",
    "            if metric == \"finalCost\":\n",
    "                for R, color in zip(R_values, colors):\n",
    "                    val = true_costs_dict[R]\n",
    "                    ax.hlines(val, xmin=-0.5, xmax=3.5, linestyle=\"dashed\", color=color)\n",
    "\n",
    "        ax.set_xlim(-0.5,3.5)\n",
    "        ax.grid(alpha = 0.5, axis = \"y\")\n",
    "        ax.set_xlabel(None, fontsize=16)\n",
    "        ax.set_ylabel(unit, fontsize=16)\n",
    "        ax.set_title(title, fontsize=16)\n",
    "        ax.tick_params(axis=\"x\", labelsize=16)\n",
    "        ax.tick_params(axis=\"y\", labelsize=16)\n",
    "        if withTrueCost:\n",
    "            ax.get_legend().remove()\n",
    "\n",
    "    time_vals_max = np.max(initAlgoMetrics[[\"initTime\", \"updateTime\"]])\n",
    "    cost_vals_max = np.max(initAlgoMetrics[[\"seedCost\", \"finalCost\"]])\n",
    "    # y-lims\n",
    "    for ax in axs[0, :]:\n",
    "        ax.set_ylim(0, time_vals_max*1.1)\n",
    "    for ax in axs[1, :]:\n",
    "        ax.set_ylim(0, cost_vals_max*1.1)\n",
    "\n",
    "    # Legend\n",
    "    handles_bar, labels_bar = axs[0,0].get_legend_handles_labels()\n",
    "    labels_bar = [f\"R={lab}\" for lab in labels_bar]\n",
    "\n",
    "    handles = handles_bar + true_handles if withTrueCost else handles_bar\n",
    "    labels = labels_bar + labels_true if withTrueCost else handles_bar\n",
    "\n",
    "    fig.legend(\n",
    "        handles, labels,\n",
    "        loc=\"upper center\",\n",
    "        bbox_to_anchor=(0.5, 1.05),\n",
    "        ncol=2,\n",
    "        fontsize=16,\n",
    "        frameon=False\n",
    "    )\n",
    "\n",
    "    plt.savefig(f\"{dataset}_time_and_cost_comparison.pdf\")\n",
    "    plt.tight_layout(rect=[0,0,1,0.95])\n",
    "    plt.show()\n",
    "    return"
   ]
  },
  {
   "cell_type": "code",
   "execution_count": 17,
   "id": "33ce2b65",
   "metadata": {},
   "outputs": [
    {
     "data": {
      "image/png": "[encoded data removed]",
      "text/plain": [
       "<Figure size 1500x1000 with 4 Axes>"
      ]
     },
     "metadata": {},
     "output_type": "display_data"
    }
   ],
   "source": [
    "plot_initAlgoMetrics(initAlgoMetrics, \"gm\")"
   ]
  },
  {
   "cell_type": "markdown",
   "id": "904aba83",
   "metadata": {},
   "source": [
    "This plot shows that the parallel implementation of the algorithms provides better results than the serial counterpart both in execution time and in cost."
   ]
  },
  {
   "cell_type": "markdown",
   "id": "d2bfe3c7",
   "metadata": {},
   "source": [
    "## Cost vs. r plots"
   ]
  },
  {
   "cell_type": "markdown",
   "id": "7bd1cac7",
   "metadata": {},
   "source": [
    "For fixed values of the ratio $l/k$, we aim to test how many rounds $r$ are needed to reach convergence. To do this, we consider only K-Means|| for initialization, since it is the direct parallelization of K-Means++, which has been used as the baseline for comparison."
   ]
  },
  {
   "cell_type": "code",
   "execution_count": null,
   "id": "e68159a3",
   "metadata": {},
   "outputs": [],
   "source": [
    "def collect_costHistory(\n",
    "    data_rdd: RDD,\n",
    "    rounds: list[int],\n",
    "    k: int,\n",
    "    lk_ratios: list[float],\n",
    "    iterations: int,\n",
    "    verbose: bool = False\n",
    ") -> dict[int, list]:\n",
    "    costHistory = {}\n",
    "\n",
    "    for lk_ratio in lk_ratios:\n",
    "        costHistory[lk_ratio] = []\n",
    "        for r in rounds:\n",
    "            if verbose:\n",
    "                print(f\"lk_ratio: {lk_ratio} | rounds: {r}\")\n",
    "            if r==0:\n",
    "                finalCentroids = kMeansRandom_init(data_rdd, 1)\n",
    "            else:\n",
    "                centroids = kMeansParallel_init(data_rdd, k, lk_ratio * k, r)\n",
    "                finalCentroids = lloydKMeans(data_rdd, centroids, iterations)\n",
    "            cost = compute_cost(data_rdd, finalCentroids)\n",
    "            costHistory[lk_ratio].append(cost)\n",
    "    return costHistory"
   ]
  },
  {
   "cell_type": "code",
   "execution_count": 19,
   "id": "84e3637a",
   "metadata": {},
   "outputs": [
    {
     "name": "stdout",
     "output_type": "stream",
     "text": [
      "R: 1\n",
      "KM++\n"
     ]
    },
    {
     "name": "stderr",
     "output_type": "stream",
     "text": [
      "                                                                                \r"
     ]
    },
    {
     "name": "stdout",
     "output_type": "stream",
     "text": [
      "lk_ratio: 0.5 | rounds: 0\n",
      "lk_ratio: 0.5 | rounds: 1\n"
     ]
    },
    {
     "name": "stderr",
     "output_type": "stream",
     "text": [
      "                                                                                \r"
     ]
    },
    {
     "name": "stdout",
     "output_type": "stream",
     "text": [
      "lk_ratio: 0.5 | rounds: 2\n"
     ]
    },
    {
     "name": "stderr",
     "output_type": "stream",
     "text": [
      "                                                                                \r"
     ]
    },
    {
     "name": "stdout",
     "output_type": "stream",
     "text": [
      "lk_ratio: 0.5 | rounds: 4\n"
     ]
    },
    {
     "name": "stderr",
     "output_type": "stream",
     "text": [
      "                                                                                \r"
     ]
    },
    {
     "name": "stdout",
     "output_type": "stream",
     "text": [
      "lk_ratio: 0.5 | rounds: 8\n"
     ]
    },
    {
     "name": "stderr",
     "output_type": "stream",
     "text": [
      "                                                                                \r"
     ]
    },
    {
     "name": "stdout",
     "output_type": "stream",
     "text": [
      "lk_ratio: 0.5 | rounds: 12\n"
     ]
    },
    {
     "name": "stderr",
     "output_type": "stream",
     "text": [
      "                                                                                \r"
     ]
    },
    {
     "name": "stdout",
     "output_type": "stream",
     "text": [
      "lk_ratio: 0.5 | rounds: 16\n"
     ]
    },
    {
     "name": "stderr",
     "output_type": "stream",
     "text": [
      "                                                                                \r"
     ]
    },
    {
     "name": "stdout",
     "output_type": "stream",
     "text": [
      "lk_ratio: 1 | rounds: 0\n",
      "lk_ratio: 1 | rounds: 1\n"
     ]
    },
    {
     "name": "stderr",
     "output_type": "stream",
     "text": [
      "                                                                                \r"
     ]
    },
    {
     "name": "stdout",
     "output_type": "stream",
     "text": [
      "lk_ratio: 1 | rounds: 2\n"
     ]
    },
    {
     "name": "stderr",
     "output_type": "stream",
     "text": [
      "                                                                                \r"
     ]
    },
    {
     "name": "stdout",
     "output_type": "stream",
     "text": [
      "lk_ratio: 1 | rounds: 4\n"
     ]
    },
    {
     "name": "stderr",
     "output_type": "stream",
     "text": [
      "                                                                                \r"
     ]
    },
    {
     "name": "stdout",
     "output_type": "stream",
     "text": [
      "lk_ratio: 1 | rounds: 8\n"
     ]
    },
    {
     "name": "stderr",
     "output_type": "stream",
     "text": [
      "                                                                                \r"
     ]
    },
    {
     "name": "stdout",
     "output_type": "stream",
     "text": [
      "lk_ratio: 1 | rounds: 12\n"
     ]
    },
    {
     "name": "stderr",
     "output_type": "stream",
     "text": [
      "                                                                                \r"
     ]
    },
    {
     "name": "stdout",
     "output_type": "stream",
     "text": [
      "lk_ratio: 1 | rounds: 16\n"
     ]
    },
    {
     "name": "stderr",
     "output_type": "stream",
     "text": [
      "                                                                                \r"
     ]
    },
    {
     "name": "stdout",
     "output_type": "stream",
     "text": [
      "lk_ratio: 2 | rounds: 0\n",
      "lk_ratio: 2 | rounds: 1\n"
     ]
    },
    {
     "name": "stderr",
     "output_type": "stream",
     "text": [
      "                                                                                \r"
     ]
    },
    {
     "name": "stdout",
     "output_type": "stream",
     "text": [
      "lk_ratio: 2 | rounds: 2\n"
     ]
    },
    {
     "name": "stderr",
     "output_type": "stream",
     "text": [
      "                                                                                \r"
     ]
    },
    {
     "name": "stdout",
     "output_type": "stream",
     "text": [
      "lk_ratio: 2 | rounds: 4\n"
     ]
    },
    {
     "name": "stderr",
     "output_type": "stream",
     "text": [
      "                                                                                \r"
     ]
    },
    {
     "name": "stdout",
     "output_type": "stream",
     "text": [
      "lk_ratio: 2 | rounds: 8\n"
     ]
    },
    {
     "name": "stderr",
     "output_type": "stream",
     "text": [
      "                                                                                \r"
     ]
    },
    {
     "name": "stdout",
     "output_type": "stream",
     "text": [
      "lk_ratio: 2 | rounds: 12\n"
     ]
    },
    {
     "name": "stderr",
     "output_type": "stream",
     "text": [
      "                                                                                \r"
     ]
    },
    {
     "name": "stdout",
     "output_type": "stream",
     "text": [
      "lk_ratio: 2 | rounds: 16\n"
     ]
    },
    {
     "name": "stderr",
     "output_type": "stream",
     "text": [
      "                                                                                \r"
     ]
    },
    {
     "name": "stdout",
     "output_type": "stream",
     "text": [
      "lk_ratio: 5 | rounds: 0\n",
      "lk_ratio: 5 | rounds: 1\n"
     ]
    },
    {
     "name": "stderr",
     "output_type": "stream",
     "text": [
      "                                                                                \r"
     ]
    },
    {
     "name": "stdout",
     "output_type": "stream",
     "text": [
      "lk_ratio: 5 | rounds: 2\n"
     ]
    },
    {
     "name": "stderr",
     "output_type": "stream",
     "text": [
      "                                                                                \r"
     ]
    },
    {
     "name": "stdout",
     "output_type": "stream",
     "text": [
      "lk_ratio: 5 | rounds: 4\n"
     ]
    },
    {
     "name": "stderr",
     "output_type": "stream",
     "text": [
      "                                                                                \r"
     ]
    },
    {
     "name": "stdout",
     "output_type": "stream",
     "text": [
      "lk_ratio: 5 | rounds: 8\n"
     ]
    },
    {
     "name": "stderr",
     "output_type": "stream",
     "text": [
      "                                                                                \r"
     ]
    },
    {
     "name": "stdout",
     "output_type": "stream",
     "text": [
      "lk_ratio: 5 | rounds: 12\n"
     ]
    },
    {
     "name": "stderr",
     "output_type": "stream",
     "text": [
      "                                                                                \r"
     ]
    },
    {
     "name": "stdout",
     "output_type": "stream",
     "text": [
      "lk_ratio: 5 | rounds: 16\n"
     ]
    },
    {
     "name": "stderr",
     "output_type": "stream",
     "text": [
      "                                                                                \r"
     ]
    },
    {
     "name": "stdout",
     "output_type": "stream",
     "text": [
      "lk_ratio: 10 | rounds: 0\n",
      "lk_ratio: 10 | rounds: 1\n"
     ]
    },
    {
     "name": "stderr",
     "output_type": "stream",
     "text": [
      "                                                                                \r"
     ]
    },
    {
     "name": "stdout",
     "output_type": "stream",
     "text": [
      "lk_ratio: 10 | rounds: 2\n"
     ]
    },
    {
     "name": "stderr",
     "output_type": "stream",
     "text": [
      "                                                                                \r"
     ]
    },
    {
     "name": "stdout",
     "output_type": "stream",
     "text": [
      "lk_ratio: 10 | rounds: 4\n"
     ]
    },
    {
     "name": "stderr",
     "output_type": "stream",
     "text": [
      "                                                                                \r"
     ]
    },
    {
     "name": "stdout",
     "output_type": "stream",
     "text": [
      "lk_ratio: 10 | rounds: 8\n"
     ]
    },
    {
     "name": "stderr",
     "output_type": "stream",
     "text": [
      "                                                                                \r"
     ]
    },
    {
     "name": "stdout",
     "output_type": "stream",
     "text": [
      "lk_ratio: 10 | rounds: 12\n"
     ]
    },
    {
     "name": "stderr",
     "output_type": "stream",
     "text": [
      "                                                                                \r"
     ]
    },
    {
     "name": "stdout",
     "output_type": "stream",
     "text": [
      "lk_ratio: 10 | rounds: 16\n"
     ]
    },
    {
     "name": "stderr",
     "output_type": "stream",
     "text": [
      "                                                                                \r"
     ]
    },
    {
     "name": "stdout",
     "output_type": "stream",
     "text": [
      "R: 10\n",
      "KM++\n",
      "lk_ratio: 0.5 | rounds: 0\n",
      "lk_ratio: 0.5 | rounds: 1\n"
     ]
    },
    {
     "name": "stderr",
     "output_type": "stream",
     "text": [
      "                                                                                \r"
     ]
    },
    {
     "name": "stdout",
     "output_type": "stream",
     "text": [
      "lk_ratio: 0.5 | rounds: 2\n"
     ]
    },
    {
     "name": "stderr",
     "output_type": "stream",
     "text": [
      "                                                                                \r"
     ]
    },
    {
     "name": "stdout",
     "output_type": "stream",
     "text": [
      "lk_ratio: 0.5 | rounds: 4\n"
     ]
    },
    {
     "name": "stderr",
     "output_type": "stream",
     "text": [
      "                                                                                \r"
     ]
    },
    {
     "name": "stdout",
     "output_type": "stream",
     "text": [
      "lk_ratio: 0.5 | rounds: 8\n"
     ]
    },
    {
     "name": "stderr",
     "output_type": "stream",
     "text": [
      "                                                                                \r"
     ]
    },
    {
     "name": "stdout",
     "output_type": "stream",
     "text": [
      "lk_ratio: 0.5 | rounds: 12\n"
     ]
    },
    {
     "name": "stderr",
     "output_type": "stream",
     "text": [
      "                                                                                \r"
     ]
    },
    {
     "name": "stdout",
     "output_type": "stream",
     "text": [
      "lk_ratio: 0.5 | rounds: 16\n"
     ]
    },
    {
     "name": "stderr",
     "output_type": "stream",
     "text": [
      "                                                                                \r"
     ]
    },
    {
     "name": "stdout",
     "output_type": "stream",
     "text": [
      "lk_ratio: 1 | rounds: 0\n",
      "lk_ratio: 1 | rounds: 1\n"
     ]
    },
    {
     "name": "stderr",
     "output_type": "stream",
     "text": [
      "                                                                                \r"
     ]
    },
    {
     "name": "stdout",
     "output_type": "stream",
     "text": [
      "lk_ratio: 1 | rounds: 2\n"
     ]
    },
    {
     "name": "stderr",
     "output_type": "stream",
     "text": [
      "                                                                                \r"
     ]
    },
    {
     "name": "stdout",
     "output_type": "stream",
     "text": [
      "lk_ratio: 1 | rounds: 4\n"
     ]
    },
    {
     "name": "stderr",
     "output_type": "stream",
     "text": [
      "                                                                                \r"
     ]
    },
    {
     "name": "stdout",
     "output_type": "stream",
     "text": [
      "lk_ratio: 1 | rounds: 8\n"
     ]
    },
    {
     "name": "stderr",
     "output_type": "stream",
     "text": [
      "                                                                                \r"
     ]
    },
    {
     "name": "stdout",
     "output_type": "stream",
     "text": [
      "lk_ratio: 1 | rounds: 12\n"
     ]
    },
    {
     "name": "stderr",
     "output_type": "stream",
     "text": [
      "                                                                                \r"
     ]
    },
    {
     "name": "stdout",
     "output_type": "stream",
     "text": [
      "lk_ratio: 1 | rounds: 16\n"
     ]
    },
    {
     "name": "stderr",
     "output_type": "stream",
     "text": [
      "                                                                                \r"
     ]
    },
    {
     "name": "stdout",
     "output_type": "stream",
     "text": [
      "lk_ratio: 2 | rounds: 0\n",
      "lk_ratio: 2 | rounds: 1\n"
     ]
    },
    {
     "name": "stderr",
     "output_type": "stream",
     "text": [
      "                                                                                \r"
     ]
    },
    {
     "name": "stdout",
     "output_type": "stream",
     "text": [
      "lk_ratio: 2 | rounds: 2\n"
     ]
    },
    {
     "name": "stderr",
     "output_type": "stream",
     "text": [
      "                                                                                \r"
     ]
    },
    {
     "name": "stdout",
     "output_type": "stream",
     "text": [
      "lk_ratio: 2 | rounds: 4\n"
     ]
    },
    {
     "name": "stderr",
     "output_type": "stream",
     "text": [
      "                                                                                \r"
     ]
    },
    {
     "name": "stdout",
     "output_type": "stream",
     "text": [
      "lk_ratio: 2 | rounds: 8\n"
     ]
    },
    {
     "name": "stderr",
     "output_type": "stream",
     "text": [
      "                                                                                \r"
     ]
    },
    {
     "name": "stdout",
     "output_type": "stream",
     "text": [
      "lk_ratio: 2 | rounds: 12\n"
     ]
    },
    {
     "name": "stderr",
     "output_type": "stream",
     "text": [
      "                                                                                \r"
     ]
    },
    {
     "name": "stdout",
     "output_type": "stream",
     "text": [
      "lk_ratio: 2 | rounds: 16\n"
     ]
    },
    {
     "name": "stderr",
     "output_type": "stream",
     "text": [
      "                                                                                \r"
     ]
    },
    {
     "name": "stdout",
     "output_type": "stream",
     "text": [
      "lk_ratio: 5 | rounds: 0\n",
      "lk_ratio: 5 | rounds: 1\n"
     ]
    },
    {
     "name": "stderr",
     "output_type": "stream",
     "text": [
      "                                                                                \r"
     ]
    },
    {
     "name": "stdout",
     "output_type": "stream",
     "text": [
      "lk_ratio: 5 | rounds: 2\n"
     ]
    },
    {
     "name": "stderr",
     "output_type": "stream",
     "text": [
      "                                                                                \r"
     ]
    },
    {
     "name": "stdout",
     "output_type": "stream",
     "text": [
      "lk_ratio: 5 | rounds: 4\n"
     ]
    },
    {
     "name": "stderr",
     "output_type": "stream",
     "text": [
      "                                                                                \r"
     ]
    },
    {
     "name": "stdout",
     "output_type": "stream",
     "text": [
      "lk_ratio: 5 | rounds: 8\n"
     ]
    },
    {
     "name": "stderr",
     "output_type": "stream",
     "text": [
      "                                                                                \r"
     ]
    },
    {
     "name": "stdout",
     "output_type": "stream",
     "text": [
      "lk_ratio: 5 | rounds: 12\n"
     ]
    },
    {
     "name": "stderr",
     "output_type": "stream",
     "text": [
      "                                                                                \r"
     ]
    },
    {
     "name": "stdout",
     "output_type": "stream",
     "text": [
      "lk_ratio: 5 | rounds: 16\n"
     ]
    },
    {
     "name": "stderr",
     "output_type": "stream",
     "text": [
      "                                                                                \r"
     ]
    },
    {
     "name": "stdout",
     "output_type": "stream",
     "text": [
      "lk_ratio: 10 | rounds: 0\n",
      "lk_ratio: 10 | rounds: 1\n"
     ]
    },
    {
     "name": "stderr",
     "output_type": "stream",
     "text": [
      "                                                                                \r"
     ]
    },
    {
     "name": "stdout",
     "output_type": "stream",
     "text": [
      "lk_ratio: 10 | rounds: 2\n"
     ]
    },
    {
     "name": "stderr",
     "output_type": "stream",
     "text": [
      "                                                                                \r"
     ]
    },
    {
     "name": "stdout",
     "output_type": "stream",
     "text": [
      "lk_ratio: 10 | rounds: 4\n"
     ]
    },
    {
     "name": "stderr",
     "output_type": "stream",
     "text": [
      "                                                                                \r"
     ]
    },
    {
     "name": "stdout",
     "output_type": "stream",
     "text": [
      "lk_ratio: 10 | rounds: 8\n"
     ]
    },
    {
     "name": "stderr",
     "output_type": "stream",
     "text": [
      "                                                                                \r"
     ]
    },
    {
     "name": "stdout",
     "output_type": "stream",
     "text": [
      "lk_ratio: 10 | rounds: 12\n"
     ]
    },
    {
     "name": "stderr",
     "output_type": "stream",
     "text": [
      "                                                                                \r"
     ]
    },
    {
     "name": "stdout",
     "output_type": "stream",
     "text": [
      "lk_ratio: 10 | rounds: 16\n"
     ]
    },
    {
     "name": "stderr",
     "output_type": "stream",
     "text": [
      "                                                                                \r"
     ]
    },
    {
     "name": "stdout",
     "output_type": "stream",
     "text": [
      "R: 100\n"
     ]
    },
    {
     "name": "stderr",
     "output_type": "stream",
     "text": [
      "                                                                                \r"
     ]
    },
    {
     "name": "stdout",
     "output_type": "stream",
     "text": [
      "KM++\n"
     ]
    },
    {
     "name": "stderr",
     "output_type": "stream",
     "text": [
      "                                                                                \r"
     ]
    },
    {
     "name": "stdout",
     "output_type": "stream",
     "text": [
      "lk_ratio: 0.5 | rounds: 0\n",
      "lk_ratio: 0.5 | rounds: 1\n"
     ]
    },
    {
     "name": "stderr",
     "output_type": "stream",
     "text": [
      "                                                                                \r"
     ]
    },
    {
     "name": "stdout",
     "output_type": "stream",
     "text": [
      "lk_ratio: 0.5 | rounds: 2\n"
     ]
    },
    {
     "name": "stderr",
     "output_type": "stream",
     "text": [
      "                                                                                \r"
     ]
    },
    {
     "name": "stdout",
     "output_type": "stream",
     "text": [
      "lk_ratio: 0.5 | rounds: 4\n"
     ]
    },
    {
     "name": "stderr",
     "output_type": "stream",
     "text": [
      "                                                                                \r"
     ]
    },
    {
     "name": "stdout",
     "output_type": "stream",
     "text": [
      "lk_ratio: 0.5 | rounds: 8\n"
     ]
    },
    {
     "name": "stderr",
     "output_type": "stream",
     "text": [
      "                                                                                \r"
     ]
    },
    {
     "name": "stdout",
     "output_type": "stream",
     "text": [
      "lk_ratio: 0.5 | rounds: 12\n"
     ]
    },
    {
     "name": "stderr",
     "output_type": "stream",
     "text": [
      "                                                                                \r"
     ]
    },
    {
     "name": "stdout",
     "output_type": "stream",
     "text": [
      "lk_ratio: 0.5 | rounds: 16\n"
     ]
    },
    {
     "name": "stderr",
     "output_type": "stream",
     "text": [
      "                                                                                \r"
     ]
    },
    {
     "name": "stdout",
     "output_type": "stream",
     "text": [
      "lk_ratio: 1 | rounds: 0\n",
      "lk_ratio: 1 | rounds: 1\n"
     ]
    },
    {
     "name": "stderr",
     "output_type": "stream",
     "text": [
      "                                                                                \r"
     ]
    },
    {
     "name": "stdout",
     "output_type": "stream",
     "text": [
      "lk_ratio: 1 | rounds: 2\n"
     ]
    },
    {
     "name": "stderr",
     "output_type": "stream",
     "text": [
      "                                                                                \r"
     ]
    },
    {
     "name": "stdout",
     "output_type": "stream",
     "text": [
      "lk_ratio: 1 | rounds: 4\n"
     ]
    },
    {
     "name": "stderr",
     "output_type": "stream",
     "text": [
      "                                                                                \r"
     ]
    },
    {
     "name": "stdout",
     "output_type": "stream",
     "text": [
      "lk_ratio: 1 | rounds: 8\n"
     ]
    },
    {
     "name": "stderr",
     "output_type": "stream",
     "text": [
      "                                                                                \r"
     ]
    },
    {
     "name": "stdout",
     "output_type": "stream",
     "text": [
      "lk_ratio: 1 | rounds: 12\n"
     ]
    },
    {
     "name": "stderr",
     "output_type": "stream",
     "text": [
      "                                                                                \r"
     ]
    },
    {
     "name": "stdout",
     "output_type": "stream",
     "text": [
      "lk_ratio: 1 | rounds: 16\n"
     ]
    },
    {
     "name": "stderr",
     "output_type": "stream",
     "text": [
      "                                                                                \r"
     ]
    },
    {
     "name": "stdout",
     "output_type": "stream",
     "text": [
      "lk_ratio: 2 | rounds: 0\n",
      "lk_ratio: 2 | rounds: 1\n"
     ]
    },
    {
     "name": "stderr",
     "output_type": "stream",
     "text": [
      "                                                                                \r"
     ]
    },
    {
     "name": "stdout",
     "output_type": "stream",
     "text": [
      "lk_ratio: 2 | rounds: 2\n"
     ]
    },
    {
     "name": "stderr",
     "output_type": "stream",
     "text": [
      "                                                                                \r"
     ]
    },
    {
     "name": "stdout",
     "output_type": "stream",
     "text": [
      "lk_ratio: 2 | rounds: 4\n"
     ]
    },
    {
     "name": "stderr",
     "output_type": "stream",
     "text": [
      "                                                                                \r"
     ]
    },
    {
     "name": "stdout",
     "output_type": "stream",
     "text": [
      "lk_ratio: 2 | rounds: 8\n"
     ]
    },
    {
     "name": "stderr",
     "output_type": "stream",
     "text": [
      "                                                                                \r"
     ]
    },
    {
     "name": "stdout",
     "output_type": "stream",
     "text": [
      "lk_ratio: 2 | rounds: 12\n"
     ]
    },
    {
     "name": "stderr",
     "output_type": "stream",
     "text": [
      "                                                                                \r"
     ]
    },
    {
     "name": "stdout",
     "output_type": "stream",
     "text": [
      "lk_ratio: 2 | rounds: 16\n"
     ]
    },
    {
     "name": "stderr",
     "output_type": "stream",
     "text": [
      "                                                                                \r"
     ]
    },
    {
     "name": "stdout",
     "output_type": "stream",
     "text": [
      "lk_ratio: 5 | rounds: 0\n",
      "lk_ratio: 5 | rounds: 1\n"
     ]
    },
    {
     "name": "stderr",
     "output_type": "stream",
     "text": [
      "                                                                                \r"
     ]
    },
    {
     "name": "stdout",
     "output_type": "stream",
     "text": [
      "lk_ratio: 5 | rounds: 2\n"
     ]
    },
    {
     "name": "stderr",
     "output_type": "stream",
     "text": [
      "                                                                                \r"
     ]
    },
    {
     "name": "stdout",
     "output_type": "stream",
     "text": [
      "lk_ratio: 5 | rounds: 4\n"
     ]
    },
    {
     "name": "stderr",
     "output_type": "stream",
     "text": [
      "                                                                                \r"
     ]
    },
    {
     "name": "stdout",
     "output_type": "stream",
     "text": [
      "lk_ratio: 5 | rounds: 8\n"
     ]
    },
    {
     "name": "stderr",
     "output_type": "stream",
     "text": [
      "                                                                                \r"
     ]
    },
    {
     "name": "stdout",
     "output_type": "stream",
     "text": [
      "lk_ratio: 5 | rounds: 12\n"
     ]
    },
    {
     "name": "stderr",
     "output_type": "stream",
     "text": [
      "                                                                                \r"
     ]
    },
    {
     "name": "stdout",
     "output_type": "stream",
     "text": [
      "lk_ratio: 5 | rounds: 16\n"
     ]
    },
    {
     "name": "stderr",
     "output_type": "stream",
     "text": [
      "                                                                                \r"
     ]
    },
    {
     "name": "stdout",
     "output_type": "stream",
     "text": [
      "lk_ratio: 10 | rounds: 0\n",
      "lk_ratio: 10 | rounds: 1\n"
     ]
    },
    {
     "name": "stderr",
     "output_type": "stream",
     "text": [
      "                                                                                \r"
     ]
    },
    {
     "name": "stdout",
     "output_type": "stream",
     "text": [
      "lk_ratio: 10 | rounds: 2\n"
     ]
    },
    {
     "name": "stderr",
     "output_type": "stream",
     "text": [
      "                                                                                \r"
     ]
    },
    {
     "name": "stdout",
     "output_type": "stream",
     "text": [
      "lk_ratio: 10 | rounds: 4\n"
     ]
    },
    {
     "name": "stderr",
     "output_type": "stream",
     "text": [
      "                                                                                \r"
     ]
    },
    {
     "name": "stdout",
     "output_type": "stream",
     "text": [
      "lk_ratio: 10 | rounds: 8\n"
     ]
    },
    {
     "name": "stderr",
     "output_type": "stream",
     "text": [
      "                                                                                \r"
     ]
    },
    {
     "name": "stdout",
     "output_type": "stream",
     "text": [
      "lk_ratio: 10 | rounds: 12\n"
     ]
    },
    {
     "name": "stderr",
     "output_type": "stream",
     "text": [
      "                                                                                \r"
     ]
    },
    {
     "name": "stdout",
     "output_type": "stream",
     "text": [
      "lk_ratio: 10 | rounds: 16\n"
     ]
    },
    {
     "name": "stderr",
     "output_type": "stream",
     "text": [
      "                                                                                \r"
     ]
    }
   ],
   "source": [
    "# parameters\n",
    "lk_ratios = [0.5, 1, 2, 5, 10]\n",
    "rounds = [0, 1, 2, 4, 8, 12, 16]\n",
    "R = [1, 10, 100]\n",
    "baselineCosts = []\n",
    "costHistory = {}\n",
    "for variance in R:\n",
    "    print(f\"R: {variance}\")\n",
    "    gmData, gmCenters = get_gm(n, k, dim, variance)\n",
    "    gmData_rdd = sc.parallelize([row for row in gmData], numSlices=16).persist()\n",
    "    trueCost = compute_cost(gmData_rdd, gmCenters)\n",
    "\n",
    "    # baseline (KM++ seeds + Lloyd)\n",
    "    print(\"KM++\")\n",
    "    centroids = kMeansPlusPlus_init(gmData, k)\n",
    "    finalCentroids = lloydKMeans(gmData_rdd, centroids, iterations)\n",
    "    baselineCosts.append(compute_cost(gmData_rdd, finalCentroids))\n",
    "    \n",
    "    costHistory[variance] = collect_costHistory(gmData_rdd, rounds, k, lk_ratios, iterations, verbose = True)"
   ]
  },
  {
   "cell_type": "code",
   "execution_count": 20,
   "id": "283b63f3",
   "metadata": {},
   "outputs": [],
   "source": [
    "def plot_costHistory(\n",
    "    costHistory: dict[int, dict[int, list]],\n",
    "    rounds: list[int],\n",
    "    baselineCosts: list[float],\n",
    "    title: str\n",
    ") -> None:\n",
    "\n",
    "    matplotlib.rcParams.update({'font.size': 16})\n",
    "    \n",
    "    fig, axs = plt.subplots(1, len(costHistory.keys()), figsize=(18, 6), sharey=True)\n",
    "    if len(costHistory) == 1:\n",
    "        axs = [axs]  # Ensure axs is iterable\n",
    "\n",
    "    for idx, (RR, results) in enumerate(costHistory.items()):\n",
    "        ax = axs[idx]\n",
    "        \n",
    "        # Plot baseline\n",
    "        ax.axhline(baselineCosts[idx], color='k', linestyle='solid', lw=1.5, alpha=0.7, label=\"KM++ & Lloyd baseline\")\n",
    "        \n",
    "        # Colormap\n",
    "        lk_values = results.keys()\n",
    "        colors = cm.rainbow(np.linspace(0, 1, len(lk_values)))\n",
    "\n",
    "        # Markers and linestyles\n",
    "        markers = [\"s\", \"o\", \"X\", \"^\", \"v\"]\n",
    "        lines = [\"solid\", \"dotted\", \"dashed\", \"dashdot\", \"solid\"]\n",
    "\n",
    "        for lk, color, marker, line in zip(lk_values, colors, markers, lines):\n",
    "            phis = results[lk]\n",
    "            ax.plot(rounds, phis, marker=marker, markersize=8, markerfacecolor=\"none\",\n",
    "                    color=color, linewidth=1.5, linestyle=line, alpha=0.8, label=f\"l/k={lk}\")\n",
    "\n",
    "        ax.set_title(f\"R = {RR}\", fontsize=16)\n",
    "        ax.set_xlabel(\"# Initialization Rounds\", fontsize=16)\n",
    "        if idx == 0:\n",
    "            ax.set_ylabel(\"Cost\", fontsize=16)\n",
    "        ax.xaxis.set_major_locator(MaxNLocator(integer=True))\n",
    "        ax.tick_params(axis='x', labelsize=16)\n",
    "        ax.tick_params(axis='y', labelsize=16)\n",
    "        ax.legend(frameon=False, fontsize=16)\n",
    "        ax.grid(alpha=0.6)\n",
    "\n",
    "    plt.savefig(f\"{title}_cost_vs_rounds.pdf\")\n",
    "    plt.tight_layout()\n",
    "    plt.show()\n",
    "\n",
    "    return"
   ]
  },
  {
   "cell_type": "code",
   "execution_count": 21,
   "id": "72be6121",
   "metadata": {},
   "outputs": [
    {
     "data": {
      "image/png": "[encoded data removed]",
      "text/plain": [
       "<Figure size 1800x600 with 3 Axes>"
      ]
     },
     "metadata": {},
     "output_type": "display_data"
    }
   ],
   "source": [
    "plot_costHistory(costHistory, rounds, baselineCosts, \"gm\")"
   ]
  },
  {
   "cell_type": "markdown",
   "id": "196b4c54",
   "metadata": {},
   "source": [
    "From these plots, it is clear that a large value of $r$ is not necessary, as convergence to the baseline is reached around $r \\approx 5$ for all variance. Therefore, for the KDD dataset, we will use a small number of rounds."
   ]
  },
  {
   "cell_type": "markdown",
   "id": "bb8d6217",
   "metadata": {},
   "source": [
    "### KDD dataset analysis"
   ]
  },
  {
   "cell_type": "code",
   "execution_count": 22,
   "id": "7a21c9e2",
   "metadata": {},
   "outputs": [],
   "source": [
    "def plot_initAlgoMetrics_kDD(\n",
    "    initAlgoMetrics: pd.DataFrame,\n",
    "    dataset: str\n",
    ") -> None:\n",
    "    matplotlib.rcParams.update({'font.size': 16})\n",
    "    \n",
    "    withTrueCost = \"trueCost\" in initAlgoMetrics.columns\n",
    "\n",
    "    # Define metrics, units and titles\n",
    "    metrics = [\"initTime\", \"updateTime\", \"seedCost\", \"finalCost\"]\n",
    "    units = [\"time (s)\", None, \"cost (a.u.)\", None]\n",
    "    titles = [\"initTime\", \"updateTime\", \"seedCost\", \"finalCost\"]\n",
    "    if withTrueCost:\n",
    "        true_cost = initAlgoMetrics[[\"trueCost\"]].to_numpy()\n",
    "\n",
    "    fig, axs = plt.subplots(2, 2, figsize=(15, 10))\n",
    "\n",
    "    for ax, metric, title, unit in zip(axs.flat, metrics, titles, units):\n",
    "        sns.barplot(\n",
    "            data=initAlgoMetrics,\n",
    "            x=\"initAlgo\",\n",
    "            y=metric,\n",
    "            palette=\"rainbow\",\n",
    "            alpha=0.8,\n",
    "            ax=ax\n",
    "        )\n",
    "\n",
    "        # Plot true cost lines\n",
    "        if withTrueCost:\n",
    "            colors = [\"purple\", \"blue\", \"red\"]  \n",
    "            labels_true = [f\"trueCost\"]\n",
    "            true_handles = [plt.Line2D([0], [0], color=color, linestyle=\"dashed\", linewidth=2, label=label) \n",
    "                            for color, label in zip(colors, labels_true)]\n",
    "\n",
    "            if metric == \"finalCost\":\n",
    "                for color in zip(colors):\n",
    "                    val = true_cost\n",
    "                    ax.hlines(val, xmin=-0.5, xmax=4.5, linestyle=\"dashed\", color=color)\n",
    "\n",
    "        ax.set_xlim(-0.5,4.5)\n",
    "        ax.grid(alpha = 0.5, axis = \"y\")\n",
    "        ax.set_xlabel(None, fontsize=16)\n",
    "        ax.set_ylabel(unit, fontsize=16)\n",
    "        ax.set_title(title, fontsize=16)\n",
    "        ax.tick_params(axis=\"x\", labelsize=16)\n",
    "        ax.tick_params(axis=\"y\", labelsize=16)\n",
    "\n",
    "    time_vals_max = np.max(initAlgoMetrics[[\"initTime\", \"updateTime\"]])\n",
    "    cost_vals_max = np.max(initAlgoMetrics[[\"seedCost\", \"finalCost\"]])\n",
    "    # y-lims\n",
    "    for ax in axs[0, :]:\n",
    "        ax.set_ylim(0, time_vals_max*1.1)\n",
    "    for ax in axs[1, :]:\n",
    "        ax.set_ylim(0, cost_vals_max*1.1)\n",
    "\n",
    "    # Legend\n",
    "    handles_bar, labels_bar = axs[0,0].get_legend_handles_labels()\n",
    "\n",
    "    handles = handles_bar + true_handles if withTrueCost else handles_bar\n",
    "    labels = labels_bar + labels_true if withTrueCost else handles_bar\n",
    "\n",
    "    fig.legend(\n",
    "        handles, labels,\n",
    "        loc=\"upper center\",\n",
    "        bbox_to_anchor=(0.5, 1.05),\n",
    "        ncol=2,\n",
    "        fontsize=16,\n",
    "        frameon=False\n",
    "    )\n",
    "\n",
    "    plt.savefig(f\"{dataset}_time_and_cost_comparison.pdf\")\n",
    "    plt.tight_layout(rect=[0,0,1,0.95])\n",
    "    plt.show()\n",
    "    return"
   ]
  },
  {
   "cell_type": "code",
   "execution_count": 23,
   "id": "ab314b4e",
   "metadata": {},
   "outputs": [
    {
     "name": "stderr",
     "output_type": "stream",
     "text": [
      "                                                                                \r"
     ]
    },
    {
     "name": "stdout",
     "output_type": "stream",
     "text": [
      "initAlgo: RANDOM\n"
     ]
    },
    {
     "name": "stderr",
     "output_type": "stream",
     "text": [
      "                                                                                \r"
     ]
    },
    {
     "name": "stderr",
     "output_type": "stream",
     "text": [
      "                                                                                \r"
     ]
    },
    {
     "name": "stdout",
     "output_type": "stream",
     "text": [
      "initAlgo: KM++\n"
     ]
    },
    {
     "name": "stderr",
     "output_type": "stream",
     "text": [
      "                                                                                \r"
     ]
    },
    {
     "name": "stdout",
     "output_type": "stream",
     "text": [
      "initAlgo: KM|| 0.5\n"
     ]
    },
    {
     "name": "stderr",
     "output_type": "stream",
     "text": [
      "                                                                                \r"
     ]
    },
    {
     "name": "stdout",
     "output_type": "stream",
     "text": [
      "initAlgo: KM|| 2\n"
     ]
    },
    {
     "name": "stderr",
     "output_type": "stream",
     "text": [
      "                                                                                \r"
     ]
    },
    {
     "name": "stdout",
     "output_type": "stream",
     "text": [
      "initAlgo: KM|| 10\n"
     ]
    },
    {
     "name": "stderr",
     "output_type": "stream",
     "text": [
      "                                                                                \r"
     ]
    }
   ],
   "source": [
    "initAlgorithms = [\"RANDOM\", \"KM++\", \"KM||\", \"KM||\", \"KM||\"]\n",
    "lk_ratios = [0, 0, 0.5, 2, 10]\n",
    "r = 5\n",
    "\n",
    "initAlgoMetrics = []\n",
    "kddData, kddLabels, entries_dict = get_kdd(standardize=True)\n",
    "\n",
    "kddData_rdd = sc.parallelize([row for row in kddData], numSlices=16).persist()\n",
    "k = np.unique(kddLabels).shape[0]\n",
    "kddLabels_int = np.unique(kddLabels, return_inverse=True)[1]\n",
    "k = np.unique(kddLabels).shape[0]\n",
    "trueCentroids = np.array(\n",
    "    [np.mean(kddData[kddLabels_int == i,:], axis=0) for i in range(k)]\n",
    ")\n",
    "trueCost = compute_cost(kddData_rdd, trueCentroids)\n",
    "\n",
    "for initAlgo, lk_ratio in zip(initAlgorithms, lk_ratios):\n",
    "    print(f\"initAlgo: {f\"{initAlgo} {lk_ratio}\" if initAlgo == \"KM||\" else initAlgo}\")\n",
    "    initTime, updateTime, seedCost, finalCost = compute_initAlgoMetrics(\n",
    "        initAlgo = initAlgo,\n",
    "        data_ndarray = kddData,\n",
    "        data_rdd = kddData_rdd,\n",
    "        iterations = iterations,\n",
    "        k = k,\n",
    "        l = lk_ratio * k,\n",
    "        r = r\n",
    "    )\n",
    "    initAlgoMetrics.append({\n",
    "        \"initAlgo\": f\"{initAlgo} {lk_ratio}\" if initAlgo == \"KM||\" else initAlgo,\n",
    "        \"initTime\": initTime,\n",
    "        \"updateTime\": updateTime,\n",
    "        \"seedCost\": seedCost,\n",
    "        \"finalCost\": finalCost,\n",
    "        \"trueCost\": trueCost\n",
    "    })\n",
    "kddData_rdd.unpersist()\n",
    "\n",
    "initAlgoMetrics = pd.DataFrame(initAlgoMetrics)"
   ]
  },
  {
   "cell_type": "code",
   "execution_count": 24,
   "id": "4113d20b",
   "metadata": {},
   "outputs": [
    {
     "data": {
      "image/png": "[encoded data removed]",
      "text/plain": [
       "<Figure size 1500x1000 with 4 Axes>"
      ]
     },
     "metadata": {},
     "output_type": "display_data"
    }
   ],
   "source": [
    "plot_initAlgoMetrics_kDD(initAlgoMetrics, \"kdd\")"
   ]
  },
  {
   "cell_type": "markdown",
   "id": "b6c9f2ac",
   "metadata": {},
   "source": [
    "The plot shows the initialization and update (until convergence) times of clustering with implementation of the different initialization algorithm. Given the relatively low number of real cluster centers of the reduced KDD dataset, the initialization times of kMeans++ and kMeans|| with $l\\sim 10$ are of the same order of magnitude. That would not be the case for a clusterization for greater orders of magnitude of cluster centers. We see that the final costs achieved by all initialization algorithms are below the true value. Overall, kMeans|| for the KDD dataset is more sensitive to the oversampling parameter $l$. Update times converge much faster than random initialization for both kMeans++ and kMeans|| initialization algorithms."
   ]
  },
  {
   "cell_type": "code",
   "execution_count": 7,
   "id": "59eb6ba8",
   "metadata": {},
   "outputs": [],
   "source": [
    "def collect_costHistory(\n",
    "    data_rdd: RDD,\n",
    "    rounds: list[int],\n",
    "    k: int,\n",
    "    lk_ratios: list[float],\n",
    "    iterations: int,\n",
    "    verbose: bool = False\n",
    ") -> dict[int, list]:\n",
    "    costHistory = {}\n",
    "\n",
    "    for lk_ratio in lk_ratios:\n",
    "        costHistory[lk_ratio] = []\n",
    "        for r in rounds:\n",
    "            if verbose:\n",
    "                print(f\"lk_ratio: {lk_ratio} | rounds: {r}\")\n",
    "            if r==0:\n",
    "                finalCentroids = kMeansRandom_init(data_rdd, 1)\n",
    "            else:\n",
    "                centroids = kMeansParallel_init(data_rdd, k, lk_ratio * k, r)\n",
    "                finalCentroids = lloydKMeans(data_rdd, centroids, iterations)\n",
    "            cost = compute_cost(data_rdd, finalCentroids)\n",
    "            costHistory[lk_ratio].append(cost)\n",
    "    return costHistory\n",
    "\n",
    "def plot_costHistory_kDD(\n",
    "    costHistory: dict[int, dict[int, list]],\n",
    "    rounds: list[int],\n",
    "    baselineCosts: list[float],\n",
    "    title: str\n",
    ") -> None:\n",
    "\n",
    "    matplotlib.rcParams.update({'font.size': 16})\n",
    "    \n",
    "    fig, ax = plt.subplots(figsize=(8, 6))\n",
    "\n",
    "    # Plot baseline\n",
    "    ax.axhline(baselineCosts, color='k', linestyle='solid', lw=1.5, alpha=0.7, label=\"KM++ & Lloyd baseline\")\n",
    "    \n",
    "    # Colormap\n",
    "    lk_values = costHistory.keys()\n",
    "    colors = cm.rainbow(np.linspace(0, 1, len(lk_values)))\n",
    "\n",
    "    # Markers and linestyles\n",
    "    markers = [\"s\", \"o\", \"X\", \"^\", \"v\"]\n",
    "    lines = [\"solid\", \"dotted\", \"dashed\", \"dashdot\", \"solid\"]\n",
    "\n",
    "    for lk, color, marker, line in zip(lk_values, colors, markers, lines):\n",
    "        phis = costHistory[lk]\n",
    "        ax.plot(rounds, phis, marker=marker, markersize=8, markerfacecolor=\"none\",\n",
    "                color=color, linewidth=1.5, linestyle=line, alpha=0.8, label=f\"l/k={lk}\")\n",
    "\n",
    "    ax.set_xticks(rounds)\n",
    "    ax.set_xlabel(\"# Initialization Rounds\", fontsize=16)\n",
    "    ax.set_ylabel(\"Cost\", fontsize=16)\n",
    "    ax.xaxis.set_major_locator(MaxNLocator(integer=True))\n",
    "    ax.tick_params(axis='x', labelsize=16)\n",
    "    ax.tick_params(axis='y', labelsize=16)\n",
    "    ax.legend(frameon=False, fontsize=16)\n",
    "    ax.grid(alpha=0.6)\n",
    "\n",
    "    plt.savefig(f\"{title}_cost_vs_rounds.pdf\")\n",
    "    plt.tight_layout()\n",
    "    plt.show()\n",
    "\n",
    "    return"
   ]
  },
  {
   "cell_type": "code",
   "execution_count": 8,
   "id": "89536a80",
   "metadata": {},
   "outputs": [
    {
     "name": "stdout",
     "output_type": "stream",
     "text": [
      "KM++\n"
     ]
    },
    {
     "name": "stderr",
     "output_type": "stream",
     "text": [
      "                                                                                \r"
     ]
    },
    {
     "name": "stdout",
     "output_type": "stream",
     "text": [
      "lk_ratio: 1 | rounds: 0\n"
     ]
    },
    {
     "name": "stderr",
     "output_type": "stream",
     "text": [
      "                                                                                \r"
     ]
    },
    {
     "name": "stdout",
     "output_type": "stream",
     "text": [
      "lk_ratio: 1 | rounds: 2\n"
     ]
    },
    {
     "name": "stderr",
     "output_type": "stream",
     "text": [
      "                                                                                \r"
     ]
    },
    {
     "name": "stdout",
     "output_type": "stream",
     "text": [
      "lk_ratio: 1 | rounds: 4\n"
     ]
    },
    {
     "name": "stderr",
     "output_type": "stream",
     "text": [
      "                                                                                \r"
     ]
    },
    {
     "name": "stdout",
     "output_type": "stream",
     "text": [
      "lk_ratio: 1 | rounds: 8\n"
     ]
    },
    {
     "name": "stderr",
     "output_type": "stream",
     "text": [
      "                                                                                \r"
     ]
    },
    {
     "name": "stdout",
     "output_type": "stream",
     "text": [
      "lk_ratio: 1 | rounds: 16\n"
     ]
    },
    {
     "name": "stderr",
     "output_type": "stream",
     "text": [
      "                                                                                \r"
     ]
    },
    {
     "name": "stdout",
     "output_type": "stream",
     "text": [
      "lk_ratio: 2 | rounds: 0\n"
     ]
    },
    {
     "name": "stderr",
     "output_type": "stream",
     "text": [
      "                                                                                \r"
     ]
    },
    {
     "name": "stdout",
     "output_type": "stream",
     "text": [
      "lk_ratio: 2 | rounds: 2\n"
     ]
    },
    {
     "name": "stderr",
     "output_type": "stream",
     "text": [
      "                                                                                \r"
     ]
    },
    {
     "name": "stdout",
     "output_type": "stream",
     "text": [
      "lk_ratio: 2 | rounds: 4\n"
     ]
    },
    {
     "name": "stderr",
     "output_type": "stream",
     "text": [
      "                                                                                \r"
     ]
    },
    {
     "name": "stdout",
     "output_type": "stream",
     "text": [
      "lk_ratio: 2 | rounds: 8\n"
     ]
    },
    {
     "name": "stderr",
     "output_type": "stream",
     "text": [
      "                                                                                \r"
     ]
    },
    {
     "name": "stdout",
     "output_type": "stream",
     "text": [
      "lk_ratio: 2 | rounds: 16\n"
     ]
    },
    {
     "name": "stderr",
     "output_type": "stream",
     "text": [
      "                                                                                \r"
     ]
    },
    {
     "name": "stdout",
     "output_type": "stream",
     "text": [
      "lk_ratio: 5 | rounds: 0\n",
      "lk_ratio: 5 | rounds: 2\n"
     ]
    },
    {
     "name": "stderr",
     "output_type": "stream",
     "text": [
      "                                                                                \r"
     ]
    },
    {
     "name": "stdout",
     "output_type": "stream",
     "text": [
      "lk_ratio: 5 | rounds: 4\n"
     ]
    },
    {
     "name": "stderr",
     "output_type": "stream",
     "text": [
      "                                                                                \r"
     ]
    },
    {
     "name": "stdout",
     "output_type": "stream",
     "text": [
      "lk_ratio: 5 | rounds: 8\n"
     ]
    },
    {
     "name": "stderr",
     "output_type": "stream",
     "text": [
      "                                                                                \r"
     ]
    },
    {
     "name": "stdout",
     "output_type": "stream",
     "text": [
      "lk_ratio: 5 | rounds: 16\n"
     ]
    },
    {
     "name": "stderr",
     "output_type": "stream",
     "text": [
      "                                                                                \r"
     ]
    },
    {
     "name": "stdout",
     "output_type": "stream",
     "text": [
      "lk_ratio: 10 | rounds: 0\n"
     ]
    },
    {
     "name": "stderr",
     "output_type": "stream",
     "text": [
      "                                                                                \r"
     ]
    },
    {
     "name": "stdout",
     "output_type": "stream",
     "text": [
      "lk_ratio: 10 | rounds: 2\n"
     ]
    },
    {
     "name": "stderr",
     "output_type": "stream",
     "text": [
      "                                                                                \r"
     ]
    },
    {
     "name": "stdout",
     "output_type": "stream",
     "text": [
      "lk_ratio: 10 | rounds: 4\n"
     ]
    },
    {
     "name": "stderr",
     "output_type": "stream",
     "text": [
      "                                                                                \r"
     ]
    },
    {
     "name": "stdout",
     "output_type": "stream",
     "text": [
      "lk_ratio: 10 | rounds: 8\n"
     ]
    },
    {
     "name": "stderr",
     "output_type": "stream",
     "text": [
      "                                                                                \r"
     ]
    },
    {
     "name": "stdout",
     "output_type": "stream",
     "text": [
      "lk_ratio: 10 | rounds: 16\n"
     ]
    },
    {
     "name": "stderr",
     "output_type": "stream",
     "text": [
      "                                                                                \r"
     ]
    }
   ],
   "source": [
    "# parameters\n",
    "lk_ratios = [1, 2, 5, 10]\n",
    "rounds = [0, 2, 4, 8, 16]\n",
    "baselineCosts = []\n",
    "iterations = 1_000\n",
    "\n",
    "kddData, kddLabels, entries_dict = get_kdd(standardize=True)\n",
    "k = np.unique(kddLabels).shape[0]\n",
    "kddData_rdd = sc.parallelize([row for row in kddData], numSlices=16).persist()\n",
    "\n",
    "# baseline (KM++ seeds + Lloyd)\n",
    "print(\"KM++\")\n",
    "centroids = kMeansPlusPlus_init(kddData, k)\n",
    "finalCentroids = lloydKMeans(kddData_rdd, centroids, iterations)\n",
    "baselineCosts.append(compute_cost(kddData_rdd, finalCentroids))\n",
    "\n",
    "costHistory_kDD = collect_costHistory(kddData_rdd, rounds, k, lk_ratios, iterations, verbose = True)"
   ]
  },
  {
   "cell_type": "code",
   "execution_count": 9,
   "id": "bbda1b35",
   "metadata": {},
   "outputs": [
    {
     "data": {
      "image/png": "[encoded data removed]",
      "text/plain": [
       "<Figure size 800x600 with 1 Axes>"
      ]
     },
     "metadata": {},
     "output_type": "display_data"
    }
   ],
   "source": [
    "plot_costHistory_kDD(costHistory_kDD, rounds, baselineCosts, \"kDD\")"
   ]
  },
  {
   "cell_type": "markdown",
   "id": "3e84fcbb",
   "metadata": {},
   "source": [
    "The plot shows the convergence cost for different $\\texttt{rounds}$ and oversampling paramter $l$. Generally, as for the Gaussian Mixture dataset case, we see that the cost at convergence of the kMeans|| algorithm, with respect to the kMeans++ baseline, is not heavily affected by the number of $\\texttt{rounds}$."
   ]
  },
  {
   "cell_type": "markdown",
   "id": "70022b0e",
   "metadata": {},
   "source": [
    "# Update analysis - lloydKMeans vs. miniBatchKMeans"
   ]
  },
  {
   "cell_type": "markdown",
   "id": "7772b462",
   "metadata": {},
   "source": [
    "## time vs. partitions"
   ]
  },
  {
   "cell_type": "code",
   "execution_count": 9,
   "id": "0cb252d6",
   "metadata": {},
   "outputs": [
    {
     "name": "stderr",
     "output_type": "stream",
     "text": [
      "                                                                                \r"
     ]
    },
    {
     "data": {
      "text/plain": [
       "ParallelCollectionRDD[0] at readRDDFromFile at PythonRDD.scala:289"
      ]
     },
     "execution_count": 9,
     "metadata": {},
     "output_type": "execute_result"
    }
   ],
   "source": [
    "kddData, kddLabels, entries_dict = get_kdd(standardize=True)\n",
    "k = np.unique(kddLabels).shape[0]\n",
    "l = 10 * k\n",
    "kddData_rdd = sc.parallelize([row for row in kddData]).persist()\n",
    "centroids = kMeansParallel_init(kddData_rdd, k, l)\n",
    "kddData_rdd.unpersist()"
   ]
  },
  {
   "cell_type": "code",
   "execution_count": 10,
   "id": "8c245e45",
   "metadata": {},
   "outputs": [],
   "source": [
    "time_dict = {}"
   ]
  },
  {
   "cell_type": "markdown",
   "id": "c1f92f1f",
   "metadata": {},
   "source": [
    "Lloyd's kMeans serial"
   ]
  },
  {
   "cell_type": "code",
   "execution_count": 11,
   "id": "7df020ad",
   "metadata": {},
   "outputs": [],
   "source": [
    "iterations = 10\n",
    "startTime = time.time()\n",
    "seedCentroids = centroids.copy()\n",
    "finalCentroids = lloydKMeans(kddData, seedCentroids, iterations, earlyStopping=False)\n",
    "deltaTime = time.time() - startTime\n",
    "time_dict[1] = {\"lloyd\": deltaTime}"
   ]
  },
  {
   "cell_type": "markdown",
   "id": "ed535a3e",
   "metadata": {},
   "source": [
    "Parallel"
   ]
  },
  {
   "cell_type": "code",
   "execution_count": 12,
   "id": "a2c41209",
   "metadata": {},
   "outputs": [
    {
     "name": "stderr",
     "output_type": "stream",
     "text": [
      "                                                                                \r"
     ]
    }
   ],
   "source": [
    "partitions = [2, 4, 8, 16, 32, 64, 128, 256]\n",
    "for numSlices in partitions:\n",
    "    time_dict[numSlices] = {}\n",
    "    startTime = time.time()\n",
    "    kddData_rdd = sc.parallelize([row for row in kddData], numSlices=numSlices).persist()\n",
    "    kddData_rdd.count()\n",
    "    deltaTime = time.time() - startTime\n",
    "    time_dict[numSlices][\"caching\"] = deltaTime\n",
    "    \n",
    "    startTime = time.time()\n",
    "    seedCentroids = centroids.copy()\n",
    "    finalCentroids = lloydKMeans(kddData_rdd, seedCentroids, iterations, earlyStopping=False)\n",
    "    deltaTime = time.time() - startTime\n",
    "    time_dict[numSlices][\"lloyd\"] = deltaTime\n",
    "\n",
    "    startTime = time.time()\n",
    "    seedCentroids = centroids.copy()\n",
    "    finalCentroids = miniBatchKMeans(kddData_rdd, seedCentroids, iterations, earlyStopping=False)\n",
    "    deltaTime = time.time() - startTime\n",
    "    time_dict[numSlices][\"miniBatch\"] = deltaTime\n",
    "    \n",
    "    kddData_rdd.unpersist()"
   ]
  },
  {
   "cell_type": "code",
   "execution_count": null,
   "id": "da16ab58",
   "metadata": {},
   "outputs": [
    {
     "data": {
      "text/plain": [
       "{1: {'lloyd': 24.300658464431763},\n",
       " 2: {'caching': 4.1298675537109375,\n",
       "  'lloyd': 30.205849170684814,\n",
       "  'miniBatch': 11.629091501235962},\n",
       " 4: {'caching': 5.85825514793396,\n",
       "  'lloyd': 18.779202699661255,\n",
       "  'miniBatch': 8.660265445709229},\n",
       " 8: {'caching': 2.863922595977783,\n",
       "  'lloyd': 11.264841556549072,\n",
       "  'miniBatch': 6.141493082046509},\n",
       " 16: {'caching': 2.8036134243011475,\n",
       "  'lloyd': 8.201023817062378,\n",
       "  'miniBatch': 5.589692115783691},\n",
       " 32: {'caching': 2.741586685180664,\n",
       "  'lloyd': 10.034053325653076,\n",
       "  'miniBatch': 6.784194707870483},\n",
       " 64: {'caching': 2.869584083557129,\n",
       "  'lloyd': 11.712941408157349,\n",
       "  'miniBatch': 8.916752099990845},\n",
       " 128: {'caching': 3.0230119228363037,\n",
       "  'lloyd': 16.977726459503174,\n",
       "  'miniBatch': 14.15588116645813},\n",
       " 256: {'caching': 3.4886813163757324,\n",
       "  'lloyd': 25.123762130737305,\n",
       "  'miniBatch': 22.149303436279297}}"
      ]
     },
     "execution_count": 30,
     "metadata": {},
     "output_type": "execute_result"
    }
   ],
   "source": [
    "time_dict"
   ]
  },
  {
   "cell_type": "code",
   "execution_count": 13,
   "id": "53536161",
   "metadata": {},
   "outputs": [
    {
     "data": {
      "image/png": "[encoded data removed]",
      "text/plain": [
       "<Figure size 1000x500 with 1 Axes>"
      ]
     },
     "metadata": {},
     "output_type": "display_data"
    }
   ],
   "source": [
    "# Partition vs time plot\n",
    "keys = [k for k in time_dict.keys() if k != 1]\n",
    "lloyd_values = [time_dict[k]['lloyd'] for k in keys]\n",
    "minibatch_values = [time_dict[k]['miniBatch'] for k in keys]\n",
    "\n",
    "x = np.arange(len(keys))\n",
    "\n",
    "matplotlib.rcParams.update({'font.size': 16})\n",
    "fig, ax = plt.subplots(figsize=(10, 5))\n",
    "\n",
    "width = 0.35\n",
    "ax.bar(x - width/2, lloyd_values, 0.35, label='Lloyd', color=\"purple\", alpha=0.7)\n",
    "ax.bar(x + width/2, minibatch_values, 0.35, label='MiniBatch', color=\"red\", alpha=0.7)\n",
    "\n",
    "# Baseline\n",
    "ax.axhline(time_dict[1]['lloyd'], color='k', linestyle=\"--\", linewidth=1, label=\"Lloyd serial baseline\")\n",
    "\n",
    "ax.tick_params(axis='x', labelsize=16)\n",
    "ax.tick_params(axis='y', labelsize=16)\n",
    "ax.set_xticks(x)\n",
    "ax.set_xticklabels(keys)\n",
    "ax.set_xlabel(\"# partitions\", fontsize=16)\n",
    "ax.set_ylabel(\"Time (s)\", fontsize=16)\n",
    "ax.legend(frameon=False, fontsize=16)\n",
    "\n",
    "plt.grid(None)\n",
    "ax.grid(axis=\"y\", alpha=0.6)\n",
    "\n",
    "plt.savefig(\"partition_plot.pdf\")\n",
    "plt.tight_layout()\n",
    "plt.show()"
   ]
  },
  {
   "cell_type": "markdown",
   "id": "3c99b17b",
   "metadata": {},
   "source": [
    "We see that by partitioning the dataset the overall execution time decreases, meaning parallelization effectively optimizes CPU usage. Beyond a minimum between 16-32 partitions for both Lloyd's and Mini-Batch's parallel implementations execution time grows due to accumulating overhead computation times."
   ]
  },
  {
   "cell_type": "markdown",
   "id": "11f4de91",
   "metadata": {},
   "source": [
    "### Cost vs iterations\n"
   ]
  },
  {
   "cell_type": "markdown",
   "id": "c714805e",
   "metadata": {},
   "source": [
    "We now want to study, for each version of the algorithm, the number of iterations required to obtain an optimal solution. To do this, we track the cost function values at each iteration:"
   ]
  },
  {
   "cell_type": "code",
   "execution_count": 32,
   "id": "0964c5c6",
   "metadata": {},
   "outputs": [
    {
     "name": "stderr",
     "output_type": "stream",
     "text": [
      "                                                                                \r"
     ]
    },
    {
     "name": "stdout",
     "output_type": "stream",
     "text": [
      "lloyd_parallel\n"
     ]
    },
    {
     "name": "stderr",
     "output_type": "stream",
     "text": [
      "                                                                                \r"
     ]
    },
    {
     "name": "stdout",
     "output_type": "stream",
     "text": [
      "miniBatch_0.001\n"
     ]
    },
    {
     "name": "stderr",
     "output_type": "stream",
     "text": [
      "                                                                                \r"
     ]
    },
    {
     "name": "stdout",
     "output_type": "stream",
     "text": [
      "miniBatch_0.01\n"
     ]
    },
    {
     "name": "stderr",
     "output_type": "stream",
     "text": [
      "                                                                                \r"
     ]
    },
    {
     "name": "stdout",
     "output_type": "stream",
     "text": [
      "miniBatch_0.1\n"
     ]
    },
    {
     "name": "stderr",
     "output_type": "stream",
     "text": [
      "                                                                                \r"
     ]
    },
    {
     "name": "stdout",
     "output_type": "stream",
     "text": [
      "miniBatch_0.5\n"
     ]
    },
    {
     "name": "stderr",
     "output_type": "stream",
     "text": [
      "                                                                                \r"
     ]
    },
    {
     "data": {
      "text/plain": [
       "ParallelCollectionRDD[18291] at readRDDFromFile at PythonRDD.scala:289"
      ]
     },
     "execution_count": 32,
     "metadata": {},
     "output_type": "execute_result"
    }
   ],
   "source": [
    "kddData_rdd = sc.parallelize([row for row in kddData], numSlices=16).persist()\n",
    "iterations = 50\n",
    "updateAlgorithms = [\"lloyd\", \"miniBatch\", \"miniBatch\", \"miniBatch\", \"miniBatch\"]\n",
    "batchFractions = [\"parallel\", 0.001, 0.01, 0.1, 0.5]\n",
    "\n",
    "results_dict = {}\n",
    "\n",
    "seedCost = compute_cost(kddData_rdd, centroids)\n",
    "\n",
    "# n_runs = 3  # number of independent runs\n",
    "for updateAlgo, batchFraction in zip(updateAlgorithms, batchFractions):\n",
    "    print(f\"{updateAlgo}_{batchFraction}\")\n",
    "    seedCentroids = centroids.copy()\n",
    "\n",
    "    if updateAlgo == \"lloyd\":\n",
    "        if batchFraction == \"serial\":\n",
    "            finalCentroids, costHistory = lloydKMeans(kddData, seedCentroids, iterations, save_cost = True, earlyStopping = False)\n",
    "        else:\n",
    "            finalCentroids, costHistory = lloydKMeans(kddData_rdd, seedCentroids, iterations, save_cost = True, earlyStopping = False)\n",
    "    else:\n",
    "        finalCentroids, costHistory = miniBatchKMeans(kddData_rdd, seedCentroids, iterations, batchFraction, save_cost = True, earlyStopping = False)\n",
    "\n",
    "    results_dict[f\"{updateAlgo}_{batchFraction}\"] = costHistory\n",
    "kddData_rdd.unpersist()"
   ]
  },
  {
   "cell_type": "code",
   "execution_count": 33,
   "id": "1254245b",
   "metadata": {},
   "outputs": [
    {
     "data": {
      "image/png": "[encoded data removed]",
      "text/plain": [
       "<Figure size 1000x600 with 1 Axes>"
      ]
     },
     "metadata": {},
     "output_type": "display_data"
    }
   ],
   "source": [
    "matplotlib.rcParams.update({'font.size': 16})\n",
    "fig, ax = plt.subplots(figsize=(10, 6))\n",
    "\n",
    "markers = ['o', 's', '^', 'D', 'x', '*']\n",
    "cmap = plt.cm.rainbow\n",
    "colors = cmap(np.linspace(0, 1, len(results_dict)))\n",
    "\n",
    "for i, ((key, costHistory), color) in enumerate(zip(results_dict.items(), colors)):\n",
    "    \n",
    "    if \"lloyd\" in key:\n",
    "        line_style = \"--\"   \n",
    "    else:\n",
    "        line_style = \"-\"\n",
    "\n",
    "    costs = [seedCost] + costHistory\n",
    "    iterations = list(range(len(costs)))\n",
    "\n",
    "    ax.plot(iterations[::3], costs[::3], marker=markers[i % len(markers)], markersize=8, markerfacecolor=\"none\", \n",
    "            label=key,linestyle=line_style, linewidth=1.5, alpha=0.8, color=color)\n",
    "\n",
    "ax.set_xlabel(\"Iterations\", fontsize=16)\n",
    "ax.set_ylabel(\"Cost\", fontsize=16)\n",
    "ax.legend(frameon=False, loc=\"best\")\n",
    "ax.grid(alpha=0.6)\n",
    "\n",
    "plt.savefig(\"cost_vs_iter.pdf\")\n",
    "plt.tight_layout()\n",
    "plt.show()"
   ]
  },
  {
   "cell_type": "markdown",
   "id": "7e523f4a",
   "metadata": {},
   "source": [
    "From the plot above, we observe an interesting pattern: although the serial and parallel K-means algorithms require fewer iterations to reach convergence, they also demand more execution time. In contrast, the minibatch version requires more iterations to converge but achieves a lower overall execution time.\n",
    "\n",
    "Another interesting observation is that better solutions for the minibatch algorithm, in terms of minimizing the cost function, are obtained when using smaller batch fractions.  \n",
    "This can be explained by the formula used to update a generic centroid $j$:\n",
    "\n",
    "$$\n",
    "c_j^{(t+1)} = (1 - \\eta_t) \\, c_j^{(t)} + \\eta_t \\, \\bar{x}_j^{(t)}\n",
    "$$\n",
    "\n",
    "where $\\eta_t$ is the learning rate used for the update of centroid $j$ at iteration $t$.  \n",
    "The learning rate is proportional to $\\frac{1}{N_j^{\\text{samples}}}$, where $N_j^{\\text{samples}}$ is the total number of points assigned to cluster $j$ since the beginning of the algorithm.  \n",
    "\n",
    "From this formula, we see that larger batch fractions result in a faster increase of $N_j^{\\text{samples}}$, which in turn reduces the learning rate more quickly.  \n",
    "Consequently, the centroid updates become smaller over time, potentially leading to slower convergence and poorer minimization of the cost function. Note that the parallel K-means update formula can be recovered from the expression above by setting the learning rate to a constant value of 1."
   ]
  },
  {
   "cell_type": "markdown",
   "id": "d823b81f",
   "metadata": {},
   "source": [
    "## Stop the Cluster"
   ]
  },
  {
   "cell_type": "code",
   "execution_count": null,
   "id": "79778b4d",
   "metadata": {},
   "outputs": [],
   "source": [
    "sc.stop()\n",
    "spark.stop()"
   ]
  },
  {
   "cell_type": "code",
   "execution_count": null,
   "id": "9c2fe72e",
   "metadata": {},
   "outputs": [
    {
     "name": "stdout",
     "output_type": "stream",
     "text": [
      "worker3: stopping org.apache.spark.deploy.worker.Worker\n",
      "worker1: stopping org.apache.spark.deploy.worker.Worker\n",
      "worker2: stopping org.apache.spark.deploy.worker.Worker\n",
      "master: stopping org.apache.spark.deploy.worker.Worker\n",
      "stopping org.apache.spark.deploy.master.Master\n"
     ]
    }
   ],
   "source": [
    "# stopping the cluster\n",
    "! $SPARK_HOME/sbin/stop-all.sh\n",
    "# clearing the `$SPARK_HOME/work` directory in all the nodes\n",
    "# this avoids cluttering of storage among nodes\n",
    "! rm -rf $SPARK_HOME/work/*\n",
    "! ssh worker1 \"rm -rf $SPARK_HOME/work/*\"\n",
    "! ssh worker2 \"rm -rf $SPARK_HOME/work/*\"\n",
    "! ssh worker3 \"rm -rf $SPARK_HOME/work/*\""
   ]
  }
 ],
 "metadata": {
  "kernelspec": {
   "display_name": ".venv",
   "language": "python",
   "name": "python3"
  },
  "language_info": {
   "codemirror_mode": {
    "name": "ipython",
    "version": 3
   },
   "file_extension": ".py",
   "mimetype": "text/x-python",
   "name": "python",
   "nbconvert_exporter": "python",
   "pygments_lexer": "ipython3",
   "version": "3.12.3"
  }
 },
 "nbformat": 4,
 "nbformat_minor": 5
}
