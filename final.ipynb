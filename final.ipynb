{
 "cells": [
  {
   "cell_type": "code",
   "execution_count": 17,
   "id": "3fe191c6",
   "metadata": {},
   "outputs": [],
   "source": [
    "# general imports\n",
    "import matplotlib\n",
    "import matplotlib.cm as cm\n",
    "import matplotlib.pyplot as plt\n",
    "import numpy as np\n",
    "import numpy.typing as npt\n",
    "import os\n",
    "import pandas as pd\n",
    "import seaborn as sns\n",
    "import time\n",
    "import warnings, logging\n",
    "\n",
    "# pyspark module\n",
    "from pyspark.rdd import RDD\n",
    "\n",
    "# src module\n",
    "from src.data import get_gm, get_kdd\n",
    "from src.kmeans.base import compute_cost\n",
    "from src.kmeans.initialization import kMeansParallel_init, kMeansPlusPlus_init, kMeansRandom_init\n",
    "from src.kmeans.update import lloydKMeans, miniBatchKMeans\n",
    "from src.utils import sparkSetup"
   ]
  },
  {
   "cell_type": "markdown",
   "id": "f1f61d23",
   "metadata": {},
   "source": [
    "Starting the cluster"
   ]
  },
  {
   "cell_type": "code",
   "execution_count": 2,
   "id": "802036f8",
   "metadata": {},
   "outputs": [],
   "source": [
    "# creating the zipped environment if it doesn't already exist\n",
    "! if [ ! -f \"environment.tar.gz\" ]; then venv-pack -o \"environment.tar.gz\" ; fi\n",
    "# creating the zipped module src\n",
    "! if [ -f \"src.tar.gz\" ]; then rm src.tar.gz ; fi\n",
    "! tar -czf src.tar.gz src"
   ]
  },
  {
   "cell_type": "code",
   "execution_count": 3,
   "id": "45c80a13",
   "metadata": {},
   "outputs": [
    {
     "name": "stdout",
     "output_type": "stream",
     "text": [
      "starting org.apache.spark.deploy.master.Master, logging to /usr/local/spark/logs/spark-ubuntu-org.apache.spark.deploy.master.Master-1-mapd-b-14-1.out\n"
     ]
    },
    {
     "name": "stdout",
     "output_type": "stream",
     "text": [
      "master: starting org.apache.spark.deploy.worker.Worker, logging to /usr/local/spark/logs/spark-ubuntu-org.apache.spark.deploy.worker.Worker-1-mapd-b-14-1.out\n",
      "worker3: starting org.apache.spark.deploy.worker.Worker, logging to /usr/local/spark/logs/spark-ubuntu-org.apache.spark.deploy.worker.Worker-1-mapd-b-14-4.out\n",
      "worker2: starting org.apache.spark.deploy.worker.Worker, logging to /usr/local/spark/logs/spark-ubuntu-org.apache.spark.deploy.worker.Worker-1-mapd-b-14-3.out\n",
      "worker1: starting org.apache.spark.deploy.worker.Worker, logging to /usr/local/spark/logs/spark-ubuntu-org.apache.spark.deploy.worker.Worker-1-mapd-b-14-2.out\n"
     ]
    }
   ],
   "source": [
    "# starting the cluster\n",
    "! $SPARK_HOME/sbin/start-all.sh"
   ]
  },
  {
   "cell_type": "code",
   "execution_count": 4,
   "id": "af4a0ed6",
   "metadata": {},
   "outputs": [],
   "source": [
    "os.environ[\"PYSPARK_PYTHON\"] = \"./environment/bin/python\""
   ]
  },
  {
   "cell_type": "code",
   "execution_count": 5,
   "id": "d6275144",
   "metadata": {},
   "outputs": [
    {
     "name": "stderr",
     "output_type": "stream",
     "text": [
      "25/09/14 16:13:46 WARN NativeCodeLoader: Unable to load native-hadoop library for your platform... using builtin-java classes where applicable\n",
      "Setting default log level to \"WARN\".\n",
      "To adjust logging level use sc.setLogLevel(newLevel). For SparkR, use setLogLevel(newLevel).\n",
      "25/09/14 16:13:56 WARN Utils: Untarring behavior will be deprecated at spark.files and SparkContext.addFile. Consider using spark.archives or SparkContext.addArchive instead.\n"
     ]
    }
   ],
   "source": [
    "# creating a sparkSession\n",
    "spark = sparkSetup(\"kMeans\")\n",
    "sc = spark.sparkContext\n",
    "# exporting the src module\n",
    "sc.addPyFile(\"src.tar.gz\")\n",
    "sc.setLogLevel(\"ERROR\")\n",
    "# Setup the spark warnings\n",
    "# log4j_conf_path = \"./config/log4j.properties\"\n",
    "# warnings.filterwarnings(\"ignore\") \n",
    "# logging.getLogger('py4j').setLevel(logging.ERROR) \n",
    "# logging.getLogger('pyspark').setLevel(logging.ERROR) "
   ]
  },
  {
   "cell_type": "markdown",
   "id": "392bdefa",
   "metadata": {},
   "source": [
    "# Load and Test datasets"
   ]
  },
  {
   "cell_type": "markdown",
   "id": "39de6ba3",
   "metadata": {},
   "source": [
    "## Gaussian Mixture"
   ]
  },
  {
   "cell_type": "markdown",
   "id": "64e0056f",
   "metadata": {},
   "source": [
    "The first dataset we would consider to test the performance of the k-means++ initialization algorithm is a synthetic GaussMixture. To generate it, we sampled $k$ centers from a 15-dimensional spherical Gaussian distribution with mean at the origin and variance $R\\in \\{1,10,100\\}$. We then added points from Gaussian distributions of unit variance around each center. Given the $k$ centers, this is a mixture of $k$ spherical Gaussians with equal weights. The value of the optimal k-clustering\n",
    "can be well approximated using the centers of these Gaussians.\n",
    "\n",
    "We will perform some preliminary analysis that can be efficiently conducted on this dataset."
   ]
  },
  {
   "cell_type": "markdown",
   "id": "d5ba95d4",
   "metadata": {},
   "source": [
    "# kMeans|| Init Tests"
   ]
  },
  {
   "cell_type": "markdown",
   "id": "a65ab3ca",
   "metadata": {},
   "source": [
    "## Time / Cost tables"
   ]
  },
  {
   "cell_type": "markdown",
   "id": "3e94da46",
   "metadata": {},
   "source": [
    "The first thing we want to assess with this dataset is the performance in terms of time and cost using different initialization algorithms. In particular, we chose to initialize our k-means algorithm with four different methods:\n",
    "\n",
    "- **random**;\n",
    "- **k-means++**;\n",
    "- **k-means||** with $l\\cdot k = 0.5$;\n",
    "- **k-means||** with $l\\cdot k = 2$.\n",
    "\n",
    "Each initialization method is followed by Lloyd's iterations.\n",
    "\n",
    "This setup allows us to investigate whether the parallelization introduced by the k-means|| initialization leads to improved clustering performance, using random and k-means++ initializations as baselines."
   ]
  },
  {
   "cell_type": "code",
   "execution_count": 6,
   "id": "eceb39c9",
   "metadata": {},
   "outputs": [],
   "source": [
    "def compute_initAlgoMetrics(\n",
    "    initAlgo: str,\n",
    "    data_ndarray: npt.NDArray, \n",
    "    data_rdd: RDD, \n",
    "    iterations: int, \n",
    "    k: int, \n",
    "    l: float, \n",
    "    r: int\n",
    ") -> tuple[float, float, float, float]:\n",
    "    # Initialization\n",
    "    startTime = time.time()\n",
    "    \n",
    "    if initAlgo == \"random\": \n",
    "        centroids = kMeansRandom_init(data_rdd, k)\n",
    "    elif initAlgo == \"plusplus\": \n",
    "        centroids = kMeansPlusPlus_init(data_ndarray, k)\n",
    "    elif initAlgo == \"parallel\": \n",
    "        centroids = kMeansParallel_init(data_rdd, k, l, r)\n",
    "    else: \n",
    "        raise ValueError(f\"Wrong initialization algorithm selected: '{initAlgo}'\")\n",
    "         \n",
    "    initTime = time.time() - startTime\n",
    "    seedCost = compute_cost(data_rdd, centroids)\n",
    "\n",
    "    # update centroids\n",
    "    startTime = time.time()\n",
    "    finalCentroids = lloydKMeans(data_rdd, centroids, iterations)\n",
    "    updateTime = time.time() - startTime\n",
    "    finalCost = compute_cost(data_rdd, finalCentroids)\n",
    "    \n",
    "    return initTime, updateTime, seedCost, finalCost"
   ]
  },
  {
   "cell_type": "code",
   "execution_count": 7,
   "id": "0c0d5298",
   "metadata": {},
   "outputs": [],
   "source": [
    "def exp10_cost(cost, frac_digits=2):\n",
    "    \"\"\"Return exponent 'a' s.t. cost ~10^a, rounded to 'frac_digits' decimals.\"\"\"\n",
    "    return float(np.round(np.log10(float(cost)), frac_digits))"
   ]
  },
  {
   "cell_type": "markdown",
   "id": "1dd930c4",
   "metadata": {},
   "source": [
    "### GM dataset creation\n",
    "\n",
    "We need to create three different dataset for each value of $R \\in \\{1, 10, 100\\}$."
   ]
  },
  {
   "cell_type": "code",
   "execution_count": 8,
   "id": "1897db05",
   "metadata": {},
   "outputs": [],
   "source": [
    "# --- control parameters ---\n",
    "k = 50\n",
    "n = 10_000\n",
    "dim = 15\n",
    "R = [1, 10, 100]\n",
    "r = 5\n",
    "iterations = 1000\n",
    "initAlgorithms = [\"random\", \"plusplus\", \"parallel\", \"parallel\"]\n",
    "lk_ratios = [0, 0, 0.5, 2]"
   ]
  },
  {
   "cell_type": "code",
   "execution_count": 9,
   "id": "821eaa5f",
   "metadata": {},
   "outputs": [
    {
     "name": "stderr",
     "output_type": "stream",
     "text": [
      "                                                                                \r"
     ]
    },
    {
     "name": "stdout",
     "output_type": "stream",
     "text": [
      "R: 1 | initAlgo: random\n"
     ]
    },
    {
     "name": "stderr",
     "output_type": "stream",
     "text": [
      "                                                                                \r"
     ]
    },
    {
     "name": "stdout",
     "output_type": "stream",
     "text": [
      "CONVERGED! in 31 iterations\n"
     ]
    },
    {
     "name": "stderr",
     "output_type": "stream",
     "text": [
      "                                                                                \r"
     ]
    },
    {
     "name": "stdout",
     "output_type": "stream",
     "text": [
      "R: 1 | initAlgo: plusplus\n"
     ]
    },
    {
     "name": "stderr",
     "output_type": "stream",
     "text": [
      "                                                                                \r"
     ]
    },
    {
     "name": "stdout",
     "output_type": "stream",
     "text": [
      "CONVERGED! in 19 iterations\n"
     ]
    },
    {
     "name": "stderr",
     "output_type": "stream",
     "text": [
      "                                                                                \r"
     ]
    },
    {
     "name": "stdout",
     "output_type": "stream",
     "text": [
      "R: 1 | initAlgo: parallel0.5\n"
     ]
    },
    {
     "name": "stderr",
     "output_type": "stream",
     "text": [
      "                                                                                \r"
     ]
    },
    {
     "name": "stdout",
     "output_type": "stream",
     "text": [
      "CONVERGED! in 27 iterations\n"
     ]
    },
    {
     "name": "stderr",
     "output_type": "stream",
     "text": [
      "                                                                                \r"
     ]
    },
    {
     "name": "stdout",
     "output_type": "stream",
     "text": [
      "R: 1 | initAlgo: parallel2\n"
     ]
    },
    {
     "name": "stderr",
     "output_type": "stream",
     "text": [
      "                                                                                \r"
     ]
    },
    {
     "name": "stdout",
     "output_type": "stream",
     "text": [
      "CONVERGED! in 14 iterations\n"
     ]
    },
    {
     "name": "stderr",
     "output_type": "stream",
     "text": [
      "                                                                                \r"
     ]
    },
    {
     "name": "stdout",
     "output_type": "stream",
     "text": [
      "R: 10 | initAlgo: random\n"
     ]
    },
    {
     "name": "stderr",
     "output_type": "stream",
     "text": [
      "                                                                                \r"
     ]
    },
    {
     "name": "stdout",
     "output_type": "stream",
     "text": [
      "CONVERGED! in 7 iterations\n",
      "R: 10 | initAlgo: plusplus\n"
     ]
    },
    {
     "name": "stderr",
     "output_type": "stream",
     "text": [
      "                                                                                \r"
     ]
    },
    {
     "name": "stdout",
     "output_type": "stream",
     "text": [
      "CONVERGED! in 4 iterations\n"
     ]
    },
    {
     "name": "stderr",
     "output_type": "stream",
     "text": [
      "                                                                                \r"
     ]
    },
    {
     "name": "stdout",
     "output_type": "stream",
     "text": [
      "R: 10 | initAlgo: parallel0.5\n"
     ]
    },
    {
     "name": "stderr",
     "output_type": "stream",
     "text": [
      "                                                                                \r"
     ]
    },
    {
     "name": "stdout",
     "output_type": "stream",
     "text": [
      "CONVERGED! in 5 iterations\n",
      "R: 10 | initAlgo: parallel2\n"
     ]
    },
    {
     "name": "stderr",
     "output_type": "stream",
     "text": [
      "                                                                                \r"
     ]
    },
    {
     "name": "stdout",
     "output_type": "stream",
     "text": [
      "CONVERGED! in 6 iterations\n"
     ]
    },
    {
     "name": "stderr",
     "output_type": "stream",
     "text": [
      "                                                                                \r"
     ]
    },
    {
     "name": "stdout",
     "output_type": "stream",
     "text": [
      "R: 100 | initAlgo: random\n"
     ]
    },
    {
     "name": "stderr",
     "output_type": "stream",
     "text": [
      "                                                                                \r"
     ]
    },
    {
     "name": "stdout",
     "output_type": "stream",
     "text": [
      "CONVERGED! in 4 iterations\n",
      "R: 100 | initAlgo: plusplus\n"
     ]
    },
    {
     "name": "stderr",
     "output_type": "stream",
     "text": [
      "                                                                                \r"
     ]
    },
    {
     "name": "stdout",
     "output_type": "stream",
     "text": [
      "CONVERGED! in 1 iterations\n",
      "R: 100 | initAlgo: parallel0.5\n"
     ]
    },
    {
     "name": "stderr",
     "output_type": "stream",
     "text": [
      "                                                                                \r"
     ]
    },
    {
     "name": "stdout",
     "output_type": "stream",
     "text": [
      "CONVERGED! in 2 iterations\n",
      "R: 100 | initAlgo: parallel2\n"
     ]
    },
    {
     "name": "stderr",
     "output_type": "stream",
     "text": [
      "                                                                                \r"
     ]
    },
    {
     "name": "stdout",
     "output_type": "stream",
     "text": [
      "CONVERGED! in 2 iterations\n"
     ]
    },
    {
     "name": "stderr",
     "output_type": "stream",
     "text": [
      "                                                                                \r"
     ]
    }
   ],
   "source": [
    "initAlgoMetrics = []\n",
    "for variance in R:\n",
    "    gmData, gmCenters = get_gm(n, k, dim, variance)\n",
    "    gmData_rdd = sc.parallelize([row for row in gmData], numSlices=16).persist()\n",
    "    trueCost = compute_cost(gmData_rdd, gmCenters)\n",
    "    for initAlgo, lk_ratio in zip(initAlgorithms, lk_ratios):\n",
    "        print(f\"R: {variance} | initAlgo: {f\"{initAlgo}{lk_ratio}\" if initAlgo == \"parallel\" else initAlgo}\")\n",
    "        initTime, updateTime, seedCost, finalCost = compute_initAlgoMetrics(\n",
    "            initAlgo = initAlgo,\n",
    "            data_ndarray = gmData,\n",
    "            data_rdd = gmData_rdd,\n",
    "            iterations = iterations,\n",
    "            k = k,\n",
    "            l = lk_ratio * k,\n",
    "            r = r\n",
    "        )\n",
    "        initAlgoMetrics.append({\n",
    "            \"R\": variance,\n",
    "            \"initAlgo\": f\"{initAlgo}{lk_ratio}\" if initAlgo == \"parallel\" else initAlgo,\n",
    "            \"initTime\": initTime,\n",
    "            \"updateTime\": updateTime,\n",
    "            \"seedCost\": seedCost,\n",
    "            \"finalCost\": finalCost,\n",
    "            \"trueCost\": trueCost\n",
    "        })\n",
    "    gmData_rdd.unpersist()\n",
    "\n",
    "initAlgoMetrics = pd.DataFrame(initAlgoMetrics)"
   ]
  },
  {
   "cell_type": "code",
   "execution_count": 10,
   "id": "72defbc5",
   "metadata": {},
   "outputs": [
    {
     "data": {
      "image/png": "[encoded data removed]",
      "text/plain": [
       "<Figure size 640x480 with 1 Axes>"
      ]
     },
     "metadata": {},
     "output_type": "display_data"
    }
   ],
   "source": [
    "plt.scatter(gmData[:,0], gmData[:,1])\n",
    "plt.show()"
   ]
  },
  {
   "cell_type": "code",
   "execution_count": null,
   "id": "bdce8fae",
   "metadata": {},
   "outputs": [
    {
     "data": {
      "image/png": "[encoded data removed]",
      "text/plain": [
       "<Figure size 1000x800 with 4 Axes>"
      ]
     },
     "metadata": {},
     "output_type": "display_data"
    }
   ],
   "source": [
    "sns.set_theme(style=\"whitegrid\")\n",
    "matplotlib.rcParams.update({'font.size': 12})\n",
    "\n",
    "# Define metrics and titles\n",
    "metrics = [\"initTime\", \"updateTime\", \"seedCost\", \"finalCost\"]\n",
    "units = [\"[seconds]\", \"[seconds]\", None, None]\n",
    "titles = [\"Initialization time\", \"Update time (Lloyd's algorithm)\", \"Seed cost\", \"Final cost\"]\n",
    "\n",
    "# Plot\n",
    "fig, axs = plt.subplots(2, 2, figsize=(10, 8))\n",
    "\n",
    "for ax, metric, title, unit in zip(axs.flat, metrics, titles, units):\n",
    "    sns.barplot(\n",
    "        data = initAlgoMetrics,\n",
    "        x = \"initAlgo\",\n",
    "        y = metric,\n",
    "        hue = \"R\",\n",
    "        palette = \"rainbow\",\n",
    "        alpha = 0.8,\n",
    "        ax = ax\n",
    "    )\n",
    "    if title == \"Final cost\":\n",
    "        ax.hlines(np.unique(initAlgoMetrics[\"trueCost\"]), xmin = -1, xmax = 4, \n",
    "                  colors = [\"red\", \"blue\", \"purple\"], linestyle = \"--\", alpha = 0.5)\n",
    "    ax.set_title(title)\n",
    "    ax.set_xlim(-0.5, 3.5)\n",
    "    ax.set_xlabel(None)\n",
    "    ax.set_ylabel(unit)\n",
    "    ax.tick_params(axis=\"x\", rotation=20)\n",
    "    ax.get_legend().remove() \n",
    "\n",
    "\n",
    "# Legend comune in alto\n",
    "handles, labels = axs[0, 0].get_legend_handles_labels()\n",
    "fig.legend(\n",
    "    handles, labels,\n",
    "    loc=\"upper center\",\n",
    "    ncol=len(labels),\n",
    "    title=\"R\",\n",
    "    bbox_to_anchor=(0.5, 1.05)  \n",
    ")\n",
    "\n",
    "plt.savefig(\"time_cost_comparison.pdf\")\n",
    "plt.tight_layout(rect=[0, 0, 1, 0.95])  \n",
    "plt.show()"
   ]
  },
  {
   "cell_type": "markdown",
   "id": "d2bfe3c7",
   "metadata": {},
   "source": [
    "## Cost vs. r plots"
   ]
  },
  {
   "cell_type": "code",
   "execution_count": null,
   "id": "149e5174",
   "metadata": {},
   "outputs": [],
   "source": [
    "def run_curves(data_rdd, k, rounds, lk_ratio, iterations):\n",
    "    curves = {lk: [] for lk in lk_ratio}\n",
    "    \n",
    "    for lk in lk_ratio:\n",
    "        for r in rounds:\n",
    "            if r==0:         \n",
    "                C_psi = kMeansRandom_init(data_rdd, 1)\n",
    "                psi = compute_cost(data_rdd, C_psi)\n",
    "                curves[lk].append(exp10_cost(psi, 2))\n",
    "            else:\n",
    "                C0   = kMeansParallel_init(data_rdd, k=k, l=int(lk*k), r=int(r))\n",
    "                Cfin = lloydKMeans(data_rdd, C0, iterations)\n",
    "                phi  = compute_cost(data_rdd, Cfin)          \n",
    "                curves[lk].append(exp10_cost(phi, 2))\n",
    "                \n",
    "            print(f\"COMPLETED: \\n##########|\\tl/k = {lk}  |  r = {r}\\t|##########\")\n",
    "        print(\"DONE!\")\n",
    "        \n",
    "    return curves"
   ]
  },
  {
   "cell_type": "markdown",
   "id": "c8967fdb",
   "metadata": {},
   "source": [
    "### Plot"
   ]
  },
  {
   "cell_type": "code",
   "execution_count": null,
   "id": "04e3fb45",
   "metadata": {},
   "outputs": [],
   "source": [
    "# --- control parameters --- \n",
    "\n",
    "# Actual parameters\n",
    "lk_ratio = [1, 2, 5, 10]\n",
    "rounds = list(range(16))\n",
    "\n",
    "# Toy parameters\n",
    "#rounds = list(range(0, 5, 2))\n",
    "#lk_ratio = [1, 2]"
   ]
  },
  {
   "cell_type": "markdown",
   "id": "55af11fd",
   "metadata": {},
   "source": [
    "### kmeans|| init + Lloyd algorithm"
   ]
  },
  {
   "cell_type": "code",
   "execution_count": null,
   "id": "37ef993f",
   "metadata": {},
   "outputs": [
    {
     "name": "stdout",
     "output_type": "stream",
     "text": [
      "Running for R=1\n"
     ]
    },
    {
     "name": "stderr",
     "output_type": "stream",
     "text": [
      "                                                                                "
     ]
    },
    {
     "name": "stdout",
     "output_type": "stream",
     "text": [
      "COMPLETED: \n",
      "##########|\tl/k = 1  |  r = 0\t|##########\n"
     ]
    },
    {
     "name": "stderr",
     "output_type": "stream",
     "text": [
      "                                                                                "
     ]
    },
    {
     "name": "stdout",
     "output_type": "stream",
     "text": [
      "COMPLETED: \n",
      "##########|\tl/k = 1  |  r = 1\t|##########\n"
     ]
    },
    {
     "name": "stderr",
     "output_type": "stream",
     "text": [
      "                                                                                "
     ]
    },
    {
     "name": "stdout",
     "output_type": "stream",
     "text": [
      "COMPLETED: \n",
      "##########|\tl/k = 1  |  r = 2\t|##########\n"
     ]
    },
    {
     "name": "stderr",
     "output_type": "stream",
     "text": [
      "                                                                                "
     ]
    },
    {
     "name": "stdout",
     "output_type": "stream",
     "text": [
      "COMPLETED: \n",
      "##########|\tl/k = 1  |  r = 3\t|##########\n",
      "COMPLETED: \n",
      "##########|\tl/k = 1  |  r = 4\t|##########\n",
      "COMPLETED: \n",
      "##########|\tl/k = 1  |  r = 5\t|##########\n"
     ]
    },
    {
     "name": "stderr",
     "output_type": "stream",
     "text": [
      "                                                                                "
     ]
    },
    {
     "name": "stdout",
     "output_type": "stream",
     "text": [
      "COMPLETED: \n",
      "##########|\tl/k = 1  |  r = 6\t|##########\n"
     ]
    },
    {
     "name": "stderr",
     "output_type": "stream",
     "text": [
      "                                                                                "
     ]
    },
    {
     "name": "stdout",
     "output_type": "stream",
     "text": [
      "COMPLETED: \n",
      "##########|\tl/k = 1  |  r = 7\t|##########\n",
      "COMPLETED: \n",
      "##########|\tl/k = 1  |  r = 8\t|##########\n"
     ]
    },
    {
     "name": "stderr",
     "output_type": "stream",
     "text": [
      "                                                                                "
     ]
    },
    {
     "name": "stdout",
     "output_type": "stream",
     "text": [
      "COMPLETED: \n",
      "##########|\tl/k = 1  |  r = 9\t|##########\n"
     ]
    },
    {
     "name": "stderr",
     "output_type": "stream",
     "text": [
      "                                                                                "
     ]
    },
    {
     "name": "stdout",
     "output_type": "stream",
     "text": [
      "COMPLETED: \n",
      "##########|\tl/k = 1  |  r = 10\t|##########\n"
     ]
    },
    {
     "name": "stderr",
     "output_type": "stream",
     "text": [
      "                                                                                "
     ]
    },
    {
     "name": "stdout",
     "output_type": "stream",
     "text": [
      "COMPLETED: \n",
      "##########|\tl/k = 1  |  r = 11\t|##########\n"
     ]
    },
    {
     "name": "stderr",
     "output_type": "stream",
     "text": [
      "                                                                                "
     ]
    },
    {
     "name": "stdout",
     "output_type": "stream",
     "text": [
      "COMPLETED: \n",
      "##########|\tl/k = 1  |  r = 12\t|##########\n"
     ]
    },
    {
     "name": "stderr",
     "output_type": "stream",
     "text": [
      "                                                                                "
     ]
    }
   ],
   "source": [
    "results = {}\n",
    "\n",
    "for RR in R:\n",
    "    data_rdd = datasets[RR][\"rdd\"]\n",
    "    data_narray = datasets[RR][\"narray\"]\n",
    "\n",
    "    # compute curves (KM|| seeds + Lloyd)\n",
    "    print(f\"Running for R={RR}\")\n",
    "    curves = run_curves(data_rdd, k, rounds, lk_ratio, iterations)\n",
    "\n",
    "    # baseline (KM++ seeds + Lloyd)\n",
    "    Cpp    = kMeansPlusPlus_init(data_narray, k)\n",
    "    CppFin = lloydKMeans(data_rdd, Cpp, epochs=iterations)\n",
    "    base   = exp10_cost(compute_cost(data_rdd, CppFin), 2)\n",
    "\n",
    "    results[RR] = {\n",
    "        \"curves\": curves,\n",
    "        \"base\": base,\n",
    "        \"rounds\": rounds,\n",
    "        \"lk_ratio\": lk_ratio\n",
    "    }"
   ]
  },
  {
   "cell_type": "code",
   "execution_count": null,
   "id": "d15a5888",
   "metadata": {},
   "outputs": [],
   "source": [
    "def plot_results(results_dict):\n",
    "    matplotlib.rcParams.update({'font.size': 16})\n",
    "    \n",
    "    fig, axes = plt.subplots(1, len(results_dict), figsize=(18, 6), sharey=True)\n",
    "\n",
    "    for idx, (RR, res) in enumerate(results_dict.items()):\n",
    "        ax = axes[idx]\n",
    "\n",
    "        curves = res[\"curves\"]\n",
    "        base = res[\"base\"]\n",
    "        rounds = res[\"rounds\"]\n",
    "\n",
    "        # colormap\n",
    "        lk_values = sorted(curves.keys())\n",
    "        colors = cm.rainbow(np.linspace(0, 1, len(lk_values)))\n",
    "\n",
    "        # markers and lines styles\n",
    "        markers = [\"s\", \"o\", \"X\", \"^\"]\n",
    "        lines = [\"solid\", \"dotted\", \"dashed\", \"dashdot\"]\n",
    "\n",
    "        for lk, color, marker, line in zip(lk_values, colors, markers, lines):\n",
    "            phis = curves[lk]\n",
    "            ax.plot(rounds, phis, marker=marker, markersize=8, markerfacecolor=\"none\", color=color, \n",
    "                    linewidth=1.5, linestyle=line, alpha=0.8, label=f\"l/k={lk}\")\n",
    "\n",
    "        ax.axhline(base, color=\"k\", lw=1, linestyle=\"solid\", label=\"KM++ & Lloyd baseline\")\n",
    "\n",
    "        ax.set_title(f\"R = {RR}\", fontsize=16)\n",
    "        ax.set_xlabel(\"# Initialization Rounds\")\n",
    "        if idx == 0:\n",
    "            ax.set_ylabel(\"Cost (~$10^{\\\\alpha}$)\")\n",
    "        ax.yaxis.set_major_formatter(FuncFormatter(lambda y, _: rf\"$10^{{{y:.2f}}}$\"))\n",
    "        ax.xaxis.set_major_locator(MaxNLocator(integer=True))\n",
    "        ax.legend(frameon=False)\n",
    "\n",
    "    plt.savefig(\"lk_plot.pdf\")\n",
    "    plt.tight_layout()\n",
    "    plt.show()"
   ]
  },
  {
   "cell_type": "code",
   "execution_count": null,
   "id": "ef67acdd",
   "metadata": {},
   "outputs": [],
   "source": [
    "plot_results(results)"
   ]
  },
  {
   "cell_type": "markdown",
   "id": "d823b81f",
   "metadata": {},
   "source": [
    "Stopping the cluster"
   ]
  },
  {
   "cell_type": "code",
   "execution_count": 11,
   "id": "a6b3093a",
   "metadata": {},
   "outputs": [],
   "source": [
    "sc.stop()\n",
    "spark.stop()"
   ]
  },
  {
   "cell_type": "code",
   "execution_count": null,
   "id": "5fcdb5d9",
   "metadata": {},
   "outputs": [
    {
     "name": "stdout",
     "output_type": "stream",
     "text": [
      "worker3: stopping org.apache.spark.deploy.worker.Worker\n",
      "worker2: stopping org.apache.spark.deploy.worker.Worker\n",
      "worker1: stopping org.apache.spark.deploy.worker.Worker\n",
      "master: stopping org.apache.spark.deploy.worker.Worker\n",
      "stopping org.apache.spark.deploy.master.Master\n"
     ]
    }
   ],
   "source": [
    "# stopping the cluster\n",
    "! $SPARK_HOME/sbin/stop-all.sh\n",
    "# clearing the `$SPARK_HOME/work` directory in all the nodes\n",
    "# this avoids cluttering of storage among nodes\n",
    "! rm -rf $SPARK_HOME/work/*\n",
    "! ssh worker1 \"rm -rf $SPARK_HOME/work/*\"\n",
    "! ssh worker2 \"rm -rf $SPARK_HOME/work/*\"\n",
    "! ssh worker3 \"rm -rf $SPARK_HOME/work/*\""
   ]
  }
 ],
 "metadata": {
  "kernelspec": {
   "display_name": ".venv (3.12.3)",
   "language": "python",
   "name": "python3"
  },
  "language_info": {
   "codemirror_mode": {
    "name": "ipython",
    "version": 3
   },
   "file_extension": ".py",
   "mimetype": "text/x-python",
   "name": "python",
   "nbconvert_exporter": "python",
   "pygments_lexer": "ipython3",
   "version": "3.12.3"
  }
 },
 "nbformat": 4,
 "nbformat_minor": 5
}
