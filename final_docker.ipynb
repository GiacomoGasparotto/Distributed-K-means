{
 "cells": [
  {
   "cell_type": "code",
   "execution_count": 1,
   "id": "60259b64",
   "metadata": {},
   "outputs": [
    {
     "name": "stdout",
     "output_type": "stream",
     "text": [
      "Requirement already satisfied: seaborn in /usr/local/lib/python3.11/site-packages (0.13.2)\n",
      "Requirement already satisfied: scikit-learn in /usr/local/lib/python3.11/site-packages (1.7.2)\n",
      "Requirement already satisfied: numpy!=1.24.0,>=1.20 in /usr/local/lib/python3.11/site-packages (from seaborn) (1.26.3)\n",
      "Requirement already satisfied: pandas>=1.2 in /usr/local/lib/python3.11/site-packages (from seaborn) (1.5.3)\n",
      "Requirement already satisfied: matplotlib!=3.6.1,>=3.4 in /usr/local/lib/python3.11/site-packages (from seaborn) (3.10.1)\n",
      "Requirement already satisfied: scipy>=1.8.0 in /usr/local/lib/python3.11/site-packages (from scikit-learn) (1.16.1)\n",
      "Requirement already satisfied: joblib>=1.2.0 in /usr/local/lib/python3.11/site-packages (from scikit-learn) (1.5.2)\n",
      "Requirement already satisfied: threadpoolctl>=3.1.0 in /usr/local/lib/python3.11/site-packages (from scikit-learn) (3.6.0)\n",
      "Requirement already satisfied: contourpy>=1.0.1 in /usr/local/lib/python3.11/site-packages (from matplotlib!=3.6.1,>=3.4->seaborn) (1.3.1)\n",
      "Requirement already satisfied: cycler>=0.10 in /usr/local/lib/python3.11/site-packages (from matplotlib!=3.6.1,>=3.4->seaborn) (0.12.1)\n",
      "Requirement already satisfied: fonttools>=4.22.0 in /usr/local/lib/python3.11/site-packages (from matplotlib!=3.6.1,>=3.4->seaborn) (4.57.0)\n",
      "Requirement already satisfied: kiwisolver>=1.3.1 in /usr/local/lib/python3.11/site-packages (from matplotlib!=3.6.1,>=3.4->seaborn) (1.4.8)\n",
      "Requirement already satisfied: packaging>=20.0 in /usr/local/lib/python3.11/site-packages (from matplotlib!=3.6.1,>=3.4->seaborn) (24.2)\n",
      "Requirement already satisfied: pillow>=8 in /usr/local/lib/python3.11/site-packages (from matplotlib!=3.6.1,>=3.4->seaborn) (11.1.0)\n",
      "Requirement already satisfied: pyparsing>=2.3.1 in /usr/local/lib/python3.11/site-packages (from matplotlib!=3.6.1,>=3.4->seaborn) (3.2.3)\n",
      "Requirement already satisfied: python-dateutil>=2.7 in /usr/local/lib/python3.11/site-packages (from matplotlib!=3.6.1,>=3.4->seaborn) (2.9.0.post0)\n",
      "Requirement already satisfied: pytz>=2020.1 in /usr/local/lib/python3.11/site-packages (from pandas>=1.2->seaborn) (2025.2)\n",
      "Requirement already satisfied: six>=1.5 in /usr/local/lib/python3.11/site-packages (from python-dateutil>=2.7->matplotlib!=3.6.1,>=3.4->seaborn) (1.17.0)\n",
      "\u001b[33mWARNING: Running pip as the 'root' user can result in broken permissions and conflicting behaviour with the system package manager. It is recommended to use a virtual environment instead: https://pip.pypa.io/warnings/venv\u001b[0m\u001b[33m\n",
      "\u001b[0m"
     ]
    }
   ],
   "source": [
    "!pip install seaborn scikit-learn"
   ]
  },
  {
   "cell_type": "code",
   "execution_count": 1,
   "id": "3fe191c6",
   "metadata": {},
   "outputs": [],
   "source": [
    "# general imports\n",
    "import matplotlib\n",
    "import matplotlib.cm as cm\n",
    "import matplotlib.pyplot as plt\n",
    "import numpy as np\n",
    "import numpy.typing as npt\n",
    "import os\n",
    "import pandas as pd\n",
    "import seaborn as sns\n",
    "import time\n",
    "import warnings, logging\n",
    "\n",
    "# pyspark module\n",
    "from pyspark.rdd import RDD\n",
    "\n",
    "# src module\n",
    "from src.data import get_gm, get_kdd\n",
    "from src.kmeans.base import compute_cost\n",
    "from src.kmeans.initialization import kMeansParallel_init, kMeansPlusPlus_init, kMeansRandom_init\n",
    "from src.kmeans.update import lloydKMeans, miniBatchKMeans\n",
    "from src.utils import sparkSetup"
   ]
  },
  {
   "cell_type": "markdown",
   "id": "f1f61d23",
   "metadata": {},
   "source": [
    "Starting the cluster"
   ]
  },
  {
   "cell_type": "code",
   "execution_count": 2,
   "id": "80878827",
   "metadata": {},
   "outputs": [],
   "source": [
    "# Setup the spark warnings\n",
    "warnings.filterwarnings(\"ignore\") \n",
    "logging.getLogger('py4j').setLevel(logging.ERROR) \n",
    "logging.getLogger('pyspark').setLevel(logging.ERROR) \n",
    "log4j_conf_path = \"./Settings//log4j.properties\""
   ]
  },
  {
   "cell_type": "code",
   "execution_count": 3,
   "id": "1ac50228",
   "metadata": {},
   "outputs": [
    {
     "name": "stderr",
     "output_type": "stream",
     "text": [
      "Setting default log level to \"WARN\".\n",
      "To adjust logging level use sc.setLogLevel(newLevel). For SparkR, use setLogLevel(newLevel).\n",
      "25/09/15 12:46:09 WARN NativeCodeLoader: Unable to load native-hadoop library for your platform... using builtin-java classes where applicable\n"
     ]
    }
   ],
   "source": [
    "### DOCKER VERSION\n",
    "from pyspark.sql import SparkSession\n",
    "\n",
    "spark = (SparkSession.builder \n",
    "        .appName(\"kMeans\") \n",
    "        .master(\"spark://spark-master:7077\") \n",
    "        .config(\"spark.driver.memory\", \"4g\") \n",
    "        .config(\"spark.executor.memory\", \"4g\") \n",
    "        .config(\"spark.executor.cores\", \"2\") \n",
    "        .config(\"spark.cores.max\", \"8\") \n",
    "        .config(\"spark.network.timeout\", \"600s\")   \n",
    "        .config(\"spark.executor.heartbeatInterval\", \"60s\") \n",
    "        .getOrCreate()\n",
    "        )\n",
    "sc = spark.sparkContext\n",
    "sc.addPyFile(\"src.zip\")\n",
    "\n",
    "# Setup the spark warnings\n",
    "sc.setLogLevel(\"ERROR\")\n",
    "log4j_conf_path = \"./config/log4j.properties\"\n",
    "warnings.filterwarnings(\"ignore\") \n",
    "logging.getLogger('py4j').setLevel(logging.ERROR) \n",
    "logging.getLogger('pyspark').setLevel(logging.ERROR) "
   ]
  },
  {
   "cell_type": "code",
   "execution_count": 34,
   "id": "d15f5aa2",
   "metadata": {},
   "outputs": [
    {
     "data": {
      "text/html": [
       "\n",
       "            <div>\n",
       "                <p><b>SparkSession - in-memory</b></p>\n",
       "                \n",
       "        <div>\n",
       "            <p><b>SparkContext</b></p>\n",
       "\n",
       "            <p><a href=\"http://b5fad74561a3:4040\">Spark UI</a></p>\n",
       "\n",
       "            <dl>\n",
       "              <dt>Version</dt>\n",
       "                <dd><code>v3.5.5</code></dd>\n",
       "              <dt>Master</dt>\n",
       "                <dd><code>spark://spark-master:7077</code></dd>\n",
       "              <dt>AppName</dt>\n",
       "                <dd><code>kMeans</code></dd>\n",
       "            </dl>\n",
       "        </div>\n",
       "        \n",
       "            </div>\n",
       "        "
      ],
      "text/plain": [
       "<pyspark.sql.session.SparkSession at 0x7fff9b122290>"
      ]
     },
     "execution_count": 34,
     "metadata": {},
     "output_type": "execute_result"
    }
   ],
   "source": [
    "spark"
   ]
  },
  {
   "cell_type": "markdown",
   "id": "392bdefa",
   "metadata": {},
   "source": [
    "# Load and Test datasets"
   ]
  },
  {
   "cell_type": "markdown",
   "id": "39de6ba3",
   "metadata": {},
   "source": [
    "## Gaussian Mixture"
   ]
  },
  {
   "cell_type": "markdown",
   "id": "64e0056f",
   "metadata": {},
   "source": [
    "The first dataset we would consider to test the performance of the k-means++ initialization algorithm is a synthetic GaussMixture. To generate it, we sampled $k$ centers from a 15-dimensional spherical Gaussian distribution with mean at the origin and variance $R\\in \\{1,10,100\\}$. We then added points from Gaussian distributions of unit variance around each center. Given the $k$ centers, this is a mixture of $k$ spherical Gaussians with equal weights. The value of the optimal k-clustering\n",
    "can be well approximated using the centers of these Gaussians.\n",
    "\n",
    "We will perform some preliminary analysis that can be efficiently conducted on this dataset."
   ]
  },
  {
   "cell_type": "markdown",
   "id": "d5ba95d4",
   "metadata": {},
   "source": [
    "# kMeans|| Init Tests"
   ]
  },
  {
   "cell_type": "markdown",
   "id": "a65ab3ca",
   "metadata": {},
   "source": [
    "## Time / Cost tables"
   ]
  },
  {
   "cell_type": "markdown",
   "id": "3e94da46",
   "metadata": {},
   "source": [
    "The first thing we want to assess with this dataset is the performance in terms of time and cost using different initialization algorithms. In particular, we chose to initialize our k-means algorithm with four different methods:\n",
    "\n",
    "- **random**;\n",
    "- **k-means++**;\n",
    "- **k-means||** with $l\\cdot k = 0.5$;\n",
    "- **k-means||** with $l\\cdot k = 2$.\n",
    "\n",
    "Each initialization method is followed by Lloyd's iterations.\n",
    "\n",
    "This setup allows us to investigate whether the parallelization introduced by the k-means|| initialization leads to improved clustering performance, using random and k-means++ initializations as baselines."
   ]
  },
  {
   "cell_type": "code",
   "execution_count": 5,
   "id": "eceb39c9",
   "metadata": {},
   "outputs": [],
   "source": [
    "def compute_initAlgoMetrics(\n",
    "    initAlgo: str,\n",
    "    data_ndarray: npt.NDArray, \n",
    "    data_rdd: RDD, \n",
    "    iterations: int, \n",
    "    k: int, \n",
    "    l: float, \n",
    "    r: int\n",
    ") -> tuple[float, float, float, float]:\n",
    "    # Initialization\n",
    "    startTime = time.time()\n",
    "    \n",
    "    if initAlgo == \"random\": \n",
    "        centroids = kMeansRandom_init(data_rdd, k)\n",
    "    elif initAlgo == \"plusplus\": \n",
    "        centroids = kMeansPlusPlus_init(data_ndarray, k)\n",
    "    elif initAlgo == \"parallel\": \n",
    "        centroids = kMeansParallel_init(data_rdd, k, l, r)\n",
    "    else: \n",
    "        raise ValueError(f\"Wrong initialization algorithm selected: '{initAlgo}'\")\n",
    "         \n",
    "    initTime = time.time() - startTime\n",
    "    seedCost = compute_cost(data_rdd, centroids)\n",
    "\n",
    "    # update centroids\n",
    "    startTime = time.time()\n",
    "    finalCentroids = lloydKMeans(data_rdd, centroids, iterations)\n",
    "    updateTime = time.time() - startTime\n",
    "    finalCost = compute_cost(data_rdd, finalCentroids)\n",
    "    \n",
    "    return initTime, updateTime, seedCost, finalCost"
   ]
  },
  {
   "cell_type": "markdown",
   "id": "1dd930c4",
   "metadata": {},
   "source": [
    "### GM dataset creation\n",
    "\n",
    "We need to create three different dataset for each value of $R \\in \\{1, 10, 100\\}$."
   ]
  },
  {
   "cell_type": "code",
   "execution_count": 8,
   "id": "1897db05",
   "metadata": {},
   "outputs": [],
   "source": [
    "# --- control parameters ---\n",
    "k = 50\n",
    "n = 10_000\n",
    "dim = 15\n",
    "R = [1, 10, 100]\n",
    "r = 5\n",
    "iterations = 1000\n",
    "initAlgorithms = [\"random\", \"plusplus\", \"parallel\", \"parallel\"]\n",
    "lk_ratios = [0, 0, 0.5, 2]"
   ]
  },
  {
   "cell_type": "code",
   "execution_count": 9,
   "id": "821eaa5f",
   "metadata": {},
   "outputs": [
    {
     "name": "stderr",
     "output_type": "stream",
     "text": [
      "                                                                                \r"
     ]
    },
    {
     "name": "stdout",
     "output_type": "stream",
     "text": [
      "R: 1 | initAlgo: random\n"
     ]
    },
    {
     "name": "stderr",
     "output_type": "stream",
     "text": [
      "Exception in thread \"serve RDD 20\" java.net.SocketTimeoutException: Accept timed out\n",
      "\tat java.base/sun.nio.ch.NioSocketImpl.timedAccept(NioSocketImpl.java:713)\n",
      "\tat java.base/sun.nio.ch.NioSocketImpl.accept(NioSocketImpl.java:757)\n",
      "\tat java.base/java.net.ServerSocket.implAccept(ServerSocket.java:675)\n",
      "\tat java.base/java.net.ServerSocket.platformImplAccept(ServerSocket.java:641)\n",
      "\tat java.base/java.net.ServerSocket.implAccept(ServerSocket.java:617)\n",
      "\tat java.base/java.net.ServerSocket.implAccept(ServerSocket.java:574)\n",
      "\tat java.base/java.net.ServerSocket.accept(ServerSocket.java:532)\n",
      "\tat org.apache.spark.security.SocketAuthServer$$anon$1.run(SocketAuthServer.scala:65)\n",
      "                                                                                \r"
     ]
    },
    {
     "name": "stdout",
     "output_type": "stream",
     "text": [
      "R: 1 | initAlgo: plusplus\n"
     ]
    },
    {
     "name": "stderr",
     "output_type": "stream",
     "text": [
      "                                                                                \r"
     ]
    },
    {
     "name": "stdout",
     "output_type": "stream",
     "text": [
      "R: 1 | initAlgo: parallel0.5\n"
     ]
    },
    {
     "name": "stderr",
     "output_type": "stream",
     "text": [
      "                                                                                \r"
     ]
    },
    {
     "name": "stdout",
     "output_type": "stream",
     "text": [
      "R: 1 | initAlgo: parallel2\n"
     ]
    },
    {
     "name": "stderr",
     "output_type": "stream",
     "text": [
      "                                                                                \r"
     ]
    },
    {
     "name": "stdout",
     "output_type": "stream",
     "text": [
      "R: 10 | initAlgo: random\n"
     ]
    },
    {
     "name": "stderr",
     "output_type": "stream",
     "text": [
      "                                                                                \r"
     ]
    },
    {
     "name": "stdout",
     "output_type": "stream",
     "text": [
      "R: 10 | initAlgo: plusplus\n"
     ]
    },
    {
     "name": "stderr",
     "output_type": "stream",
     "text": [
      "                                                                                \r"
     ]
    },
    {
     "name": "stdout",
     "output_type": "stream",
     "text": [
      "R: 10 | initAlgo: parallel0.5\n"
     ]
    },
    {
     "name": "stderr",
     "output_type": "stream",
     "text": [
      "                                                                                \r"
     ]
    },
    {
     "name": "stdout",
     "output_type": "stream",
     "text": [
      "R: 10 | initAlgo: parallel2\n"
     ]
    },
    {
     "name": "stderr",
     "output_type": "stream",
     "text": [
      "                                                                                \r"
     ]
    },
    {
     "name": "stdout",
     "output_type": "stream",
     "text": [
      "R: 100 | initAlgo: random\n"
     ]
    },
    {
     "name": "stderr",
     "output_type": "stream",
     "text": [
      "                                                                                \r"
     ]
    },
    {
     "name": "stdout",
     "output_type": "stream",
     "text": [
      "R: 100 | initAlgo: plusplus\n"
     ]
    },
    {
     "name": "stderr",
     "output_type": "stream",
     "text": [
      "                                                                                \r"
     ]
    },
    {
     "name": "stdout",
     "output_type": "stream",
     "text": [
      "R: 100 | initAlgo: parallel0.5\n"
     ]
    },
    {
     "name": "stderr",
     "output_type": "stream",
     "text": [
      "                                                                                \r"
     ]
    },
    {
     "name": "stdout",
     "output_type": "stream",
     "text": [
      "R: 100 | initAlgo: parallel2\n"
     ]
    },
    {
     "name": "stderr",
     "output_type": "stream",
     "text": [
      "                                                                                \r"
     ]
    }
   ],
   "source": [
    "initAlgoMetrics = []\n",
    "for variance in R:\n",
    "    gmData, gmCenters = get_gm(n, k, dim, variance)\n",
    "    gmData_rdd = sc.parallelize([row for row in gmData], numSlices=16).persist()\n",
    "    trueCost = compute_cost(gmData_rdd, gmCenters)\n",
    "    for initAlgo, lk_ratio in zip(initAlgorithms, lk_ratios):\n",
    "        print(f'R: {variance} | initAlgo: {f\"{initAlgo}{lk_ratio}\" if initAlgo == \"parallel\" else initAlgo}')\n",
    "        initTime, updateTime, seedCost, finalCost = compute_initAlgoMetrics(\n",
    "            initAlgo = initAlgo,\n",
    "            data_ndarray = gmData,\n",
    "            data_rdd = gmData_rdd,\n",
    "            iterations = iterations,\n",
    "            k = k,\n",
    "            l = lk_ratio * k,\n",
    "            r = r\n",
    "        )\n",
    "        initAlgoMetrics.append({\n",
    "            \"R\": variance,\n",
    "            \"initAlgo\": f\"{initAlgo}{lk_ratio}\" if initAlgo == \"parallel\" else initAlgo,\n",
    "            \"initTime\": initTime,\n",
    "            \"updateTime\": updateTime,\n",
    "            \"seedCost\": seedCost,\n",
    "            \"finalCost\": finalCost,\n",
    "            \"trueCost\": trueCost\n",
    "        })\n",
    "    gmData_rdd.unpersist()\n",
    "\n",
    "initAlgoMetrics = pd.DataFrame(initAlgoMetrics)"
   ]
  },
  {
   "cell_type": "code",
   "execution_count": null,
   "id": "bdce8fae",
   "metadata": {},
   "outputs": [
    {
     "data": {
      "image/png": "[encoded data removed]",
      "text/plain": [
       "<Figure size 1000x800 with 4 Axes>"
      ]
     },
     "metadata": {},
     "output_type": "display_data"
    }
   ],
   "source": [
    "sns.set_theme(style=\"whitegrid\")\n",
    "matplotlib.rcParams.update({'font.size': 12})\n",
    "\n",
    "# Define metrics and titles\n",
    "metrics = [\"initTime\", \"updateTime\", \"seedCost\", \"finalCost\"]\n",
    "units = [\"[seconds]\", \"[seconds]\", None, None]\n",
    "titles = [\"Initialization time\", \"Update time (Lloyd's algorithm)\", \"Seed cost\", \"Final cost\"]\n",
    "\n",
    "# Plot\n",
    "fig, axs = plt.subplots(2, 2, figsize=(10, 8))\n",
    "\n",
    "for ax, metric, title, unit in zip(axs.flat, metrics, titles, units):\n",
    "    sns.barplot(\n",
    "        data = initAlgoMetrics,\n",
    "        x = \"initAlgo\",\n",
    "        y = metric,\n",
    "        hue = \"R\",\n",
    "        palette = \"rainbow\",\n",
    "        alpha = 0.8,\n",
    "        ax = ax\n",
    "    )\n",
    "    if title == \"Final cost\":\n",
    "        ax.hlines(np.unique(initAlgoMetrics[\"trueCost\"]), xmin = -1, xmax = 4, \n",
    "                  colors = [\"red\", \"blue\", \"purple\"], linestyle = \"--\", alpha = 0.5)\n",
    "    ax.set_title(title)\n",
    "    ax.set_xlim(-0.5, 3.5)\n",
    "    ax.set_xlabel(None)\n",
    "    ax.set_ylabel(unit)\n",
    "    ax.tick_params(axis=\"x\", rotation=20)\n",
    "    ax.get_legend().remove() \n",
    "\n",
    "\n",
    "# Legend comune in alto\n",
    "handles, labels = axs[0, 0].get_legend_handles_labels()\n",
    "fig.legend(\n",
    "    handles, labels,\n",
    "    loc=\"upper center\",\n",
    "    ncol=len(labels),\n",
    "    title=\"R\",\n",
    "    bbox_to_anchor=(0.5, 1.05)  \n",
    ")\n",
    "\n",
    "plt.savefig(\"time_cost_comparison.pdf\")\n",
    "plt.tight_layout(rect=[0, 0, 1, 0.95])  \n",
    "plt.show()"
   ]
  },
  {
   "cell_type": "markdown",
   "id": "d2bfe3c7",
   "metadata": {},
   "source": [
    "## Cost vs. r plots"
   ]
  },
  {
   "cell_type": "code",
   "execution_count": 7,
   "id": "e68159a3",
   "metadata": {},
   "outputs": [],
   "source": [
    "def collect_costHistory(\n",
    "    data_rdd: RDD,\n",
    "    rounds: list[int],\n",
    "    k: int,\n",
    "    lk_ratios: list[float],\n",
    "    iterations: int,\n",
    "    verbose: bool = False\n",
    ") -> dict[int, list]:\n",
    "    costHistory = {}\n",
    "\n",
    "    for lk_ratio in lk_ratios:\n",
    "        costHistory[lk_ratio] = []\n",
    "        for r in rounds:\n",
    "            if verbose:\n",
    "                print(f\"lk_ratio: {lk_ratio} | rounds: {r}\")\n",
    "            if r==0:\n",
    "                finalCentroids = kMeansRandom_init(data_rdd, 1)\n",
    "            else:\n",
    "                centroids = kMeansParallel_init(data_rdd, k, lk_ratio * k, r)\n",
    "                finalCentroids = lloydKMeans(data_rdd, centroids, iterations)\n",
    "            cost = compute_cost(data_rdd, finalCentroids)\n",
    "            costHistory[lk_ratio].append(cost)\n",
    "    return costHistory"
   ]
  },
  {
   "cell_type": "code",
   "execution_count": null,
   "id": "04e3fb45",
   "metadata": {},
   "outputs": [],
   "source": [
    "# --- control parameters --- \n",
    "\n",
    "# Actual parameters\n",
    "lk_ratios = [0.5, 1, 2, 5, 10]\n",
    "rounds = [0, 1, 2, 4, 8, 16]"
   ]
  },
  {
   "cell_type": "code",
   "execution_count": null,
   "id": "84e3637a",
   "metadata": {},
   "outputs": [
    {
     "name": "stdout",
     "output_type": "stream",
     "text": [
      "R: 10\n"
     ]
    },
    {
     "name": "stderr",
     "output_type": "stream",
     "text": [
      "                                                                                \r"
     ]
    },
    {
     "name": "stdout",
     "output_type": "stream",
     "text": [
      "plusplus\n"
     ]
    },
    {
     "name": "stderr",
     "output_type": "stream",
     "text": [
      "                                                                                \r"
     ]
    },
    {
     "name": "stdout",
     "output_type": "stream",
     "text": [
      "lk_ratio: 0.5 | rounds: 1\n"
     ]
    },
    {
     "name": "stderr",
     "output_type": "stream",
     "text": [
      "                                                                                \r"
     ]
    },
    {
     "name": "stdout",
     "output_type": "stream",
     "text": [
      "lk_ratio: 0.5 | rounds: 2\n"
     ]
    },
    {
     "name": "stderr",
     "output_type": "stream",
     "text": [
      "                                                                                \r"
     ]
    },
    {
     "name": "stdout",
     "output_type": "stream",
     "text": [
      "lk_ratio: 0.5 | rounds: 4\n"
     ]
    },
    {
     "name": "stderr",
     "output_type": "stream",
     "text": [
      "                                                                                \r"
     ]
    },
    {
     "name": "stdout",
     "output_type": "stream",
     "text": [
      "lk_ratio: 0.5 | rounds: 8\n"
     ]
    },
    {
     "name": "stderr",
     "output_type": "stream",
     "text": [
      "                                                                                \r"
     ]
    },
    {
     "name": "stdout",
     "output_type": "stream",
     "text": [
      "lk_ratio: 0.5 | rounds: 16\n"
     ]
    },
    {
     "name": "stderr",
     "output_type": "stream",
     "text": [
      "                                                                                \r"
     ]
    },
    {
     "name": "stdout",
     "output_type": "stream",
     "text": [
      "lk_ratio: 1 | rounds: 1\n"
     ]
    },
    {
     "name": "stderr",
     "output_type": "stream",
     "text": [
      "                                                                                \r"
     ]
    },
    {
     "name": "stdout",
     "output_type": "stream",
     "text": [
      "lk_ratio: 1 | rounds: 2\n"
     ]
    },
    {
     "name": "stderr",
     "output_type": "stream",
     "text": [
      "                                                                                \r"
     ]
    },
    {
     "name": "stdout",
     "output_type": "stream",
     "text": [
      "lk_ratio: 1 | rounds: 4\n"
     ]
    },
    {
     "name": "stderr",
     "output_type": "stream",
     "text": [
      "                                                                                \r"
     ]
    },
    {
     "name": "stdout",
     "output_type": "stream",
     "text": [
      "lk_ratio: 1 | rounds: 8\n"
     ]
    },
    {
     "name": "stderr",
     "output_type": "stream",
     "text": [
      "                                                                                \r"
     ]
    },
    {
     "name": "stdout",
     "output_type": "stream",
     "text": [
      "lk_ratio: 1 | rounds: 16\n"
     ]
    },
    {
     "name": "stderr",
     "output_type": "stream",
     "text": [
      "                                                                                \r"
     ]
    },
    {
     "name": "stdout",
     "output_type": "stream",
     "text": [
      "lk_ratio: 2 | rounds: 1\n"
     ]
    },
    {
     "name": "stderr",
     "output_type": "stream",
     "text": [
      "                                                                                \r"
     ]
    },
    {
     "name": "stdout",
     "output_type": "stream",
     "text": [
      "lk_ratio: 2 | rounds: 2\n"
     ]
    },
    {
     "name": "stderr",
     "output_type": "stream",
     "text": [
      "                                                                                \r"
     ]
    },
    {
     "name": "stdout",
     "output_type": "stream",
     "text": [
      "lk_ratio: 2 | rounds: 4\n"
     ]
    },
    {
     "name": "stderr",
     "output_type": "stream",
     "text": [
      "                                                                                \r"
     ]
    },
    {
     "name": "stdout",
     "output_type": "stream",
     "text": [
      "lk_ratio: 2 | rounds: 8\n"
     ]
    },
    {
     "name": "stderr",
     "output_type": "stream",
     "text": [
      "                                                                                \r"
     ]
    },
    {
     "name": "stdout",
     "output_type": "stream",
     "text": [
      "lk_ratio: 2 | rounds: 16\n"
     ]
    },
    {
     "name": "stderr",
     "output_type": "stream",
     "text": [
      "                                                                                \r"
     ]
    },
    {
     "name": "stdout",
     "output_type": "stream",
     "text": [
      "lk_ratio: 5 | rounds: 1\n"
     ]
    },
    {
     "name": "stderr",
     "output_type": "stream",
     "text": [
      "                                                                                \r"
     ]
    },
    {
     "name": "stdout",
     "output_type": "stream",
     "text": [
      "lk_ratio: 5 | rounds: 2\n"
     ]
    },
    {
     "name": "stderr",
     "output_type": "stream",
     "text": [
      "                                                                                \r"
     ]
    },
    {
     "name": "stdout",
     "output_type": "stream",
     "text": [
      "lk_ratio: 5 | rounds: 4\n"
     ]
    },
    {
     "name": "stderr",
     "output_type": "stream",
     "text": [
      "                                                                                \r"
     ]
    },
    {
     "name": "stdout",
     "output_type": "stream",
     "text": [
      "lk_ratio: 5 | rounds: 8\n"
     ]
    },
    {
     "name": "stderr",
     "output_type": "stream",
     "text": [
      "                                                                                \r"
     ]
    },
    {
     "name": "stdout",
     "output_type": "stream",
     "text": [
      "lk_ratio: 5 | rounds: 16\n"
     ]
    },
    {
     "name": "stderr",
     "output_type": "stream",
     "text": [
      "                                                                                \r"
     ]
    },
    {
     "name": "stdout",
     "output_type": "stream",
     "text": [
      "lk_ratio: 10 | rounds: 1\n"
     ]
    },
    {
     "name": "stderr",
     "output_type": "stream",
     "text": [
      "                                                                                \r"
     ]
    },
    {
     "name": "stdout",
     "output_type": "stream",
     "text": [
      "lk_ratio: 10 | rounds: 2\n"
     ]
    },
    {
     "name": "stderr",
     "output_type": "stream",
     "text": [
      "                                                                                \r"
     ]
    },
    {
     "name": "stdout",
     "output_type": "stream",
     "text": [
      "lk_ratio: 10 | rounds: 4\n"
     ]
    },
    {
     "name": "stderr",
     "output_type": "stream",
     "text": [
      "                                                                                \r"
     ]
    },
    {
     "name": "stdout",
     "output_type": "stream",
     "text": [
      "lk_ratio: 10 | rounds: 8\n"
     ]
    },
    {
     "name": "stderr",
     "output_type": "stream",
     "text": [
      "                                                                                \r"
     ]
    },
    {
     "name": "stdout",
     "output_type": "stream",
     "text": [
      "lk_ratio: 10 | rounds: 16\n"
     ]
    },
    {
     "name": "stderr",
     "output_type": "stream",
     "text": [
      "                                                                                \r"
     ]
    },
    {
     "name": "stdout",
     "output_type": "stream",
     "text": [
      "R: 100\n",
      "plusplus\n"
     ]
    },
    {
     "name": "stderr",
     "output_type": "stream",
     "text": [
      "                                                                                \r"
     ]
    },
    {
     "name": "stdout",
     "output_type": "stream",
     "text": [
      "lk_ratio: 0.5 | rounds: 1\n"
     ]
    },
    {
     "name": "stderr",
     "output_type": "stream",
     "text": [
      "                                                                                \r"
     ]
    },
    {
     "name": "stdout",
     "output_type": "stream",
     "text": [
      "lk_ratio: 0.5 | rounds: 2\n"
     ]
    },
    {
     "name": "stderr",
     "output_type": "stream",
     "text": [
      "                                                                                \r"
     ]
    },
    {
     "name": "stdout",
     "output_type": "stream",
     "text": [
      "lk_ratio: 0.5 | rounds: 4\n"
     ]
    },
    {
     "name": "stderr",
     "output_type": "stream",
     "text": [
      "                                                                                \r"
     ]
    },
    {
     "name": "stdout",
     "output_type": "stream",
     "text": [
      "lk_ratio: 0.5 | rounds: 8\n"
     ]
    },
    {
     "name": "stderr",
     "output_type": "stream",
     "text": [
      "                                                                                \r"
     ]
    },
    {
     "name": "stdout",
     "output_type": "stream",
     "text": [
      "lk_ratio: 0.5 | rounds: 16\n"
     ]
    },
    {
     "name": "stderr",
     "output_type": "stream",
     "text": [
      "                                                                                \r"
     ]
    },
    {
     "name": "stdout",
     "output_type": "stream",
     "text": [
      "lk_ratio: 1 | rounds: 1\n"
     ]
    },
    {
     "name": "stderr",
     "output_type": "stream",
     "text": [
      "                                                                                \r"
     ]
    },
    {
     "name": "stdout",
     "output_type": "stream",
     "text": [
      "lk_ratio: 1 | rounds: 2\n"
     ]
    },
    {
     "name": "stderr",
     "output_type": "stream",
     "text": [
      "                                                                                \r"
     ]
    },
    {
     "name": "stdout",
     "output_type": "stream",
     "text": [
      "lk_ratio: 1 | rounds: 4\n"
     ]
    },
    {
     "name": "stderr",
     "output_type": "stream",
     "text": [
      "                                                                                \r"
     ]
    },
    {
     "name": "stdout",
     "output_type": "stream",
     "text": [
      "lk_ratio: 1 | rounds: 8\n"
     ]
    },
    {
     "name": "stderr",
     "output_type": "stream",
     "text": [
      "                                                                                \r"
     ]
    },
    {
     "name": "stdout",
     "output_type": "stream",
     "text": [
      "lk_ratio: 1 | rounds: 16\n"
     ]
    },
    {
     "name": "stderr",
     "output_type": "stream",
     "text": [
      "                                                                                \r"
     ]
    },
    {
     "name": "stdout",
     "output_type": "stream",
     "text": [
      "lk_ratio: 2 | rounds: 1\n"
     ]
    },
    {
     "name": "stderr",
     "output_type": "stream",
     "text": [
      "                                                                                \r"
     ]
    },
    {
     "name": "stdout",
     "output_type": "stream",
     "text": [
      "lk_ratio: 2 | rounds: 2\n"
     ]
    },
    {
     "name": "stderr",
     "output_type": "stream",
     "text": [
      "                                                                                \r"
     ]
    },
    {
     "name": "stdout",
     "output_type": "stream",
     "text": [
      "lk_ratio: 2 | rounds: 4\n"
     ]
    },
    {
     "name": "stderr",
     "output_type": "stream",
     "text": [
      "                                                                                \r"
     ]
    },
    {
     "name": "stdout",
     "output_type": "stream",
     "text": [
      "lk_ratio: 2 | rounds: 8\n"
     ]
    },
    {
     "name": "stderr",
     "output_type": "stream",
     "text": [
      "                                                                                \r"
     ]
    },
    {
     "name": "stdout",
     "output_type": "stream",
     "text": [
      "lk_ratio: 2 | rounds: 16\n"
     ]
    },
    {
     "name": "stderr",
     "output_type": "stream",
     "text": [
      "                                                                                \r"
     ]
    },
    {
     "name": "stdout",
     "output_type": "stream",
     "text": [
      "lk_ratio: 5 | rounds: 1\n"
     ]
    },
    {
     "name": "stderr",
     "output_type": "stream",
     "text": [
      "                                                                                \r"
     ]
    },
    {
     "name": "stdout",
     "output_type": "stream",
     "text": [
      "lk_ratio: 5 | rounds: 2\n"
     ]
    },
    {
     "name": "stderr",
     "output_type": "stream",
     "text": [
      "                                                                                \r"
     ]
    },
    {
     "name": "stdout",
     "output_type": "stream",
     "text": [
      "lk_ratio: 5 | rounds: 4\n"
     ]
    },
    {
     "name": "stderr",
     "output_type": "stream",
     "text": [
      "                                                                                \r"
     ]
    },
    {
     "name": "stdout",
     "output_type": "stream",
     "text": [
      "lk_ratio: 5 | rounds: 8\n"
     ]
    },
    {
     "name": "stderr",
     "output_type": "stream",
     "text": [
      "                                                                                \r"
     ]
    },
    {
     "name": "stdout",
     "output_type": "stream",
     "text": [
      "lk_ratio: 5 | rounds: 16\n"
     ]
    },
    {
     "name": "stderr",
     "output_type": "stream",
     "text": [
      "                                                                                \r"
     ]
    },
    {
     "name": "stdout",
     "output_type": "stream",
     "text": [
      "lk_ratio: 10 | rounds: 1\n"
     ]
    },
    {
     "name": "stderr",
     "output_type": "stream",
     "text": [
      "                                                                                \r"
     ]
    },
    {
     "name": "stdout",
     "output_type": "stream",
     "text": [
      "lk_ratio: 10 | rounds: 2\n"
     ]
    },
    {
     "name": "stderr",
     "output_type": "stream",
     "text": [
      "                                                                                \r"
     ]
    },
    {
     "name": "stdout",
     "output_type": "stream",
     "text": [
      "lk_ratio: 10 | rounds: 4\n"
     ]
    },
    {
     "name": "stderr",
     "output_type": "stream",
     "text": [
      "                                                                                \r"
     ]
    },
    {
     "name": "stdout",
     "output_type": "stream",
     "text": [
      "lk_ratio: 10 | rounds: 8\n"
     ]
    },
    {
     "name": "stderr",
     "output_type": "stream",
     "text": [
      "                                                                                \r"
     ]
    },
    {
     "name": "stdout",
     "output_type": "stream",
     "text": [
      "lk_ratio: 10 | rounds: 16\n"
     ]
    },
    {
     "name": "stderr",
     "output_type": "stream",
     "text": [
      "                                                                                \r"
     ]
    }
   ],
   "source": [
    "R = [1, 10, 100]\n",
    "baselineCosts = []\n",
    "costHistory = {}\n",
    "for variance in R:\n",
    "    print(f\"R: {variance}\")\n",
    "    gmData, gmCenters = get_gm(n, k, dim, variance)\n",
    "    gmData_rdd = sc.parallelize([row for row in gmData], numSlices=16).persist()\n",
    "    trueCost = compute_cost(gmData_rdd, gmCenters)\n",
    "\n",
    "    # baseline (KM++ seeds + Lloyd)\n",
    "    print(\"plusplus\")\n",
    "    centroids = kMeansPlusPlus_init(gmData, k)\n",
    "    finalCentroids = lloydKMeans(gmData_rdd, centroids, iterations)\n",
    "    baselineCosts.append(compute_cost(gmData_rdd, finalCentroids))\n",
    "    \n",
    "    costHistory[variance] = collect_costHistory(gmData_rdd, rounds, k, lk_ratios, iterations, verbose = True)"
   ]
  },
  {
   "cell_type": "code",
   "execution_count": 18,
   "id": "f309622a",
   "metadata": {},
   "outputs": [],
   "source": [
    "def plot_costHistory(\n",
    "    costHistory: dict[int, dict[int, list]],\n",
    "    rounds: list[int],\n",
    "    baselineCosts: list[float]\n",
    ") -> None:\n",
    "    matplotlib.rcParams.update({'font.size': 16})\n",
    "    \n",
    "    fig, axs = plt.subplots(1, len(costHistory.keys()), figsize=(18, 6))\n",
    "\n",
    "    for idx, (RR, results) in enumerate(costHistory.items()):\n",
    "        ax = axs[idx]\n",
    "        \n",
    "        ax.hlines(baselineCosts[idx], xmin = rounds[0] - 2, xmax = rounds[-1] + 2, \n",
    "                  label = \"plusplus\", linestyle = \"--\", alpha = 0.5)\n",
    "        for lk_ratio in results.keys():\n",
    "            ax.plot(rounds, results[lk_ratio], label = f\"{lk_ratio}\",\n",
    "                    alpha = 0.8)\n",
    "        \n",
    "        ax.set_xlim(rounds[0], rounds[-1])\n",
    "        ax.legend()\n",
    "    \n",
    "    plt.show()\n",
    "    return"
   ]
  },
  {
   "cell_type": "code",
   "execution_count": 19,
   "id": "d2c75ae6",
   "metadata": {},
   "outputs": [
    {
     "data": {
      "image/png": "[encoded data removed]",
      "text/plain": [
       "<Figure size 1800x600 with 2 Axes>"
      ]
     },
     "metadata": {},
     "output_type": "display_data"
    }
   ],
   "source": [
    "plot_costHistory(costHistory, rounds, baselineCosts)"
   ]
  },
  {
   "cell_type": "code",
   "execution_count": null,
   "id": "d15a5888",
   "metadata": {},
   "outputs": [],
   "source": [
    "def plot_results(\n",
    "    costHistory: dict[int, list],\n",
    "    rounds: list[int],\n",
    "    baselineCost: float\n",
    ") -> None:\n",
    "    matplotlib.rcParams.update({'font.size': 16})\n",
    "    \n",
    "    fig, axs = plt.subplots(1, len(costHistory.keys()), figsize=(18, 6), sharey=True)\n",
    "\n",
    "    for idx, (RR, res) in enumerate(costHistory.items()):\n",
    "        ax = axs[idx]\n",
    "\n",
    "        curves = res[\"curves\"]\n",
    "        base = res[\"base\"]\n",
    "        rounds = res[\"rounds\"]\n",
    "\n",
    "        # colormap\n",
    "        lk_values = sorted(curves.keys())\n",
    "        colors = cm.rainbow(np.linspace(0, 1, len(lk_values)))\n",
    "\n",
    "        # markers and lines styles\n",
    "        markers = [\"s\", \"o\", \"X\", \"^\"]\n",
    "        lines = [\"solid\", \"dotted\", \"dashed\", \"dashdot\"]\n",
    "\n",
    "        for lk, color, marker, line in zip(lk_values, colors, markers, lines):\n",
    "            phis = curves[lk]\n",
    "            ax.plot(rounds, phis, marker=marker, markersize=8, markerfacecolor=\"none\", color=color, \n",
    "                    linewidth=1.5, linestyle=line, alpha=0.8, label=f\"l/k={lk}\")\n",
    "\n",
    "        ax.axhline(base, color=\"k\", lw=1, linestyle=\"solid\", label=\"KM++ & Lloyd baseline\")\n",
    "\n",
    "        ax.set_title(f\"R = {RR}\", fontsize=16)\n",
    "        ax.set_xlabel(\"# Initialization Rounds\")\n",
    "        if idx == 0:\n",
    "            ax.set_ylabel(\"Cost (~$10^{\\\\alpha}$)\")\n",
    "        ax.yaxis.set_major_formatter(FuncFormatter(lambda y, _: rf\"$10^{{{y:.2f}}}$\"))\n",
    "        ax.xaxis.set_major_locator(MaxNLocator(integer=True))\n",
    "        ax.legend(frameon=False)\n",
    "\n",
    "    plt.savefig(\"lk_plot.pdf\")\n",
    "    plt.tight_layout()\n",
    "    plt.show()"
   ]
  },
  {
   "cell_type": "markdown",
   "id": "70022b0e",
   "metadata": {},
   "source": [
    "# Update analysis"
   ]
  },
  {
   "cell_type": "markdown",
   "id": "b0bcd583",
   "metadata": {},
   "source": [
    "## Time vs. n_Partitions"
   ]
  },
  {
   "cell_type": "code",
   "execution_count": 10,
   "id": "d24e2e86",
   "metadata": {},
   "outputs": [],
   "source": [
    "kddData, kddLabels, entries_dict = get_kdd(standardize=True)"
   ]
  },
  {
   "cell_type": "code",
   "execution_count": 11,
   "id": "b0b2512d",
   "metadata": {},
   "outputs": [],
   "source": [
    "k = np.unique(kddLabels).shape[0]\n",
    "l = 0.5 * k"
   ]
  },
  {
   "cell_type": "code",
   "execution_count": 12,
   "id": "0cb252d6",
   "metadata": {},
   "outputs": [
    {
     "name": "stderr",
     "output_type": "stream",
     "text": [
      "                                                                                \r"
     ]
    },
    {
     "data": {
      "text/plain": [
       "ParallelCollectionRDD[0] at readRDDFromFile at PythonRDD.scala:289"
      ]
     },
     "execution_count": 12,
     "metadata": {},
     "output_type": "execute_result"
    }
   ],
   "source": [
    "kddData_rdd = sc.parallelize([row for row in kddData]).persist()\n",
    "centroids = kMeansParallel_init(kddData_rdd, k, l)\n",
    "kddData_rdd.unpersist()"
   ]
  },
  {
   "cell_type": "code",
   "execution_count": 13,
   "id": "8c245e45",
   "metadata": {},
   "outputs": [],
   "source": [
    "time_dict = {}"
   ]
  },
  {
   "cell_type": "markdown",
   "id": "c1f92f1f",
   "metadata": {},
   "source": [
    "Lloyd's kMeans serial"
   ]
  },
  {
   "cell_type": "code",
   "execution_count": 14,
   "id": "7df020ad",
   "metadata": {},
   "outputs": [],
   "source": [
    "start_time = time.time()\n",
    "final_centroids = lloydKMeans(kddData, centroids, iterations = 100)\n",
    "delta_time = time.time() - start_time\n",
    "time_dict[1] = {\"lloyd\": delta_time}"
   ]
  },
  {
   "cell_type": "markdown",
   "id": "ed535a3e",
   "metadata": {},
   "source": [
    "Parallel"
   ]
  },
  {
   "cell_type": "code",
   "execution_count": null,
   "id": "a2c41209",
   "metadata": {},
   "outputs": [
    {
     "name": "stderr",
     "output_type": "stream",
     "text": [
      "                                                                                \r"
     ]
    }
   ],
   "source": [
    "partitions = [2, 4, 8, 16, 32, 64, 128]\n",
    "for numSlices in partitions:\n",
    "    time_dict[numSlices] = {}\n",
    "    kddData_rdd = sc.parallelize([row for row in kddData], numSlices=numSlices).persist()\n",
    "    \n",
    "    start_time = time.time()\n",
    "    final_centroids = lloydKMeans(kddData_rdd, centroids, iterations = 10, earlyStopping=False)\n",
    "    delta_time = time.time() - start_time\n",
    "    time_dict[numSlices][\"lloyd\"] = delta_time\n",
    "\n",
    "    start_time = time.time()\n",
    "    final_centroids = miniBatchKMeans(kddData_rdd, centroids, iterations = 10, earlyStopping=False)\n",
    "    delta_time = time.time() - start_time\n",
    "    time_dict[numSlices][\"miniBatch\"] = delta_time\n",
    "    \n",
    "    kddData_rdd.unpersist()"
   ]
  },
  {
   "cell_type": "code",
   "execution_count": null,
   "id": "da16ab58",
   "metadata": {},
   "outputs": [],
   "source": [
    "time_dict"
   ]
  },
  {
   "cell_type": "markdown",
   "id": "d48c4b25",
   "metadata": {},
   "source": [
    "## Spark REST metrics for each n_partitions"
   ]
  },
  {
   "cell_type": "markdown",
   "id": "cbcbb4bf",
   "metadata": {},
   "source": [
    "The REST API gives access to the values of the Task Metrics collected by Spark executors while executing a task. In the following analysis we give a close look to the following accessible metrics:\n",
    "\n",
    "| Spark Executor Task Metric name     | Short description                                                                                                                                                   |\n",
    "|-------------------------------------|---------------------------------------------------------------------------------------------------------------------------------------------------------------------|\n",
    "| executorRunTime                     | Time spent running this task. Includes time fetching shuffle data. Value in milliseconds.                               |\n",
    "| executorCpuTime                     | CPU time spent running this task. Includes time fetching shuffle data. Value expressed in nanoseconds.                                   |\n",
    "| executorDeserializeTime             | Time spent to deserialize this task. Value expressed in milliseconds.                                                                               |\n",
    "| executorDeserializeCpuTime         | CPU time taken to deserialize this task. Value expressed in nanoseconds.                                                                                   |\n",
    "| jvmGCTime                           | Elapsed time the JVM spent in garbage collection while executing this task. Value expressed in milliseconds.                                               |\n",
    "| ConcurrentGCCount                   | Returns the total number of collections that have occurred.\n",
    "| ConcurrentGCTime                    | Returns the approximate accumulated collection elapsed time in milliseconds.     |\n",
    "| resultSerializationTime             | Time spent serializing the task result. Value expressed in milliseconds.                                                                            |\n",
    "|shuffleReadMetrics.fetchWaitTime     | Time the task spent waiting for remote shuffle blocks. Only includes the time blocking on shuffle input data. For instance, if block B is being fetched while the task is still not finished processing block A, it is not considered to be blocking on block B. The value is expressed in milliseconds.|\n",
    "|shuffleWriteMetrics.writeTime        | Time spent blocking on writes to disk or buffer cache. The value is expressed in nanoseconds.|\n",
    "\n",
    "| Executor Level Metric name     |    Short description                                                                                                                         |\n",
    "|-------------------------------------|---------------------------------------------------------------------------------------------------------------------------------------------------------------------|\n",
    "| totalDuration\t                      | Elapsed time the JVM spent executing tasks in this executor. The value is expressed in milliseconds.|\n",
    "|totalGCTime                            |\tElapsed time the JVM spent in garbage collection summed in this executor. The value is expressed in milliseconds.|"
   ]
  },
  {
   "cell_type": "code",
   "execution_count": null,
   "id": "6ab4aeb5",
   "metadata": {},
   "outputs": [],
   "source": [
    "import requests\n",
    "from urllib.parse import urljoin"
   ]
  },
  {
   "cell_type": "code",
   "execution_count": null,
   "id": "0cf09458",
   "metadata": {},
   "outputs": [],
   "source": [
    "BASE_WEB = (sc.uiWebUrl or \"http://localhost:4040\").rstrip(\"/\")\n",
    "BASE_API = BASE_WEB + \"/api/v1/\""
   ]
  },
  {
   "cell_type": "code",
   "execution_count": null,
   "id": "fb38b755",
   "metadata": {},
   "outputs": [],
   "source": [
    "def get_app_id():\n",
    "    \"\"\"\n",
    "    get running spark-application's id ...\n",
    "    \"\"\"\n",
    "    apps = requests.get(urljoin(BASE_API, \"applications\")).json()\n",
    "    return apps[0][\"id\"]\n",
    "\n",
    "def get_executors(app_id):\n",
    "    \"\"\"\n",
    "    get executors' Id, skip the driver ...\n",
    "    \"\"\"\n",
    "    return [exe for exe in requests.get(urljoin(BASE_API, f\"applications/{app_id}/executors\")).json()\n",
    "            if exe[\"id\"] != \"driver\"]\n",
    "\n",
    "def list_stage_ids(app_id):\n",
    "    \"\"\"\n",
    "    get stage Ids ...\n",
    "    \"\"\"\n",
    "    return [stage[\"stageId\"] for stage in requests.get(urljoin(BASE_API, f\"applications/{app_id}/stages\")).json()]\n",
    "\n",
    "def list_attempts(app_id, stage_id):\n",
    "    \"\"\"\n",
    "    get list of all operations that took place in that stage ...\n",
    "    \"\"\"\n",
    "    return requests.get(urljoin(BASE_API, f\"applications/{app_id}/stages/{stage_id}\")).json()\n",
    "\n",
    "def task_summary(app_id, stage_id, attempt_id, q=\"0.5\"):\n",
    "    \"\"\"\n",
    "    get task summary of each attempt for each stage ...\n",
    "    \"\"\"\n",
    "    return requests.get(urljoin(BASE_API, f\"applications/{app_id}/stages/{stage_id}/{attempt_id}/taskSummary\"),\n",
    "                        params={\"quantiles\": q}).json()\n",
    "\n",
    "def _ts(x):\n",
    "    try:\n",
    "        return pd.to_datetime(x)\n",
    "    except Exception:\n",
    "        return None"
   ]
  },
  {
   "cell_type": "code",
   "execution_count": null,
   "id": "dca95706",
   "metadata": {},
   "outputs": [],
   "source": [
    "def _stage_totals(app_id, stage_id, att, cores):\n",
    "    # Units: run/deserialize/result/gc/fetchWait are ms; cpu ns; write ns\n",
    "    \n",
    "    run_ms   = float(att.get(\"executorRunTime\", 0.0))\n",
    "    cpu_ms   = float(att.get(\"executorCpuTime\", 0.0)) / 1e6\n",
    "    des_ms   = float(att.get(\"executorDeserializeTime\", 0.0))\n",
    "    ser_ms   = float(att.get(\"resultSerializationTime\", 0.0))\n",
    "    gc_ms    = float(att.get(\"jvmGcTime\", 0.0))\n",
    "    # Shuffle totals can sit under nested dicts, but attempts usually expose flat fields:\n",
    "    fetch_ms = float(att.get(\"shuffleReadFetchWaitTime\", 0.0) or\n",
    "                     att.get(\"shuffleReadMetrics.fetchWaitTime\", 0.0))\n",
    "    write_ms = float(att.get(\"shuffleWriteTime\", 0.0) or\n",
    "                     att.get(\"shuffleWriteMetrics.writeTime\", 0.0)) / 1e6  # ns -> ms\n",
    "\n",
    "    # Scheduler delay is not always surfaced at attempt totals; derive if available on tasks; else 0\n",
    "    sched_ms = float(att.get(\"schedulerDelay\", 0.0) or 0.0)\n",
    "\n",
    "    t0 = _ts(att.get(\"submissionTime\")); t1 = _ts(att.get(\"completionTime\"))\n",
    "    if t0 is None or t1 is None: return None\n",
    "    wall_s = max(1e-12, (t1 - t0).total_seconds())\n",
    "\n",
    "    tasks = int(att.get(\"numTasks\", 0))\n",
    "    core_util = (run_ms/1000.0) / (max(1, cores) * wall_s)  # totals already sum across tasks\n",
    "\n",
    "    return {\n",
    "        \"stageId\": stage_id,\n",
    "        \"attemptId\": att.get(\"attemptId\", 0),\n",
    "        \"wall_s\": wall_s,\n",
    "        \"RUN_ms\": run_ms,\n",
    "        \"CPU_ms\": cpu_ms,\n",
    "        \"OH_ms\": des_ms + ser_ms + fetch_ms + write_ms + gc_ms + sched_ms,\n",
    "        \"core_util\": core_util,\n",
    "    }\n",
    "\n",
    "def collect_run_totals(t0, t1):\n",
    "    app = get_app_id()\n",
    "    cores = sum(e[\"totalCores\"] for e in get_executors(app))\n",
    "    δ = pd.Timedelta(seconds=2.0)\n",
    "    start, end = t0 - δ, t1 + δ\n",
    "\n",
    "    recs = []\n",
    "    for sid in list_stage_ids(app):\n",
    "        for att in list_attempts(app, sid):\n",
    "            sub = _ts(att.get(\"submissionTime\")); fin = _ts(att.get(\"completionTime\"))\n",
    "            if sub is None or fin is None: continue\n",
    "            if sub >= start and fin <= end:\n",
    "                r = _stage_totals(app, sid, att, cores)\n",
    "                if r is not None: recs.append(r)\n",
    "\n",
    "    if not recs:\n",
    "        return dict(overhead_share_run=np.nan, cpu_share_run=np.nan,\n",
    "                    core_util_run=np.nan, stages_df=pd.DataFrame())\n",
    "\n",
    "    df = pd.DataFrame(recs)\n",
    "    RUN = df[\"RUN_ms\"].sum()\n",
    "    OH  = df[\"OH_ms\"].sum()\n",
    "    CPU = df[\"CPU_ms\"].sum()\n",
    "    wall = df[\"wall_s\"].sum()\n",
    "    core_util = (df[\"RUN_ms\"].sum()/1000.0) / (cores * wall)\n",
    "\n",
    "    return dict(\n",
    "        overhead_share_run = (OH/RUN) if RUN>0 else np.nan,\n",
    "        cpu_share_run      = (CPU/RUN) if RUN>0 else np.nan,\n",
    "        core_util_run      = core_util,\n",
    "        stages_df          = df.sort_values([\"stageId\",\"attemptId\"])\n",
    "    )\n",
    "\n",
    "def run_with_totals(fn):\n",
    "    t0 = pd.Timestamp.now(tz=\"UTC\")\n",
    "    t0m = time.perf_counter()\n",
    "    fn()\n",
    "    total_runtime = time.perf_counter() - t0m\n",
    "    t1 = pd.Timestamp.now(tz=\"UTC\")\n",
    "    m = collect_run_totals(t0, t1)\n",
    "    m[\"total_runtime\"] = total_runtime\n",
    "    return m"
   ]
  },
  {
   "cell_type": "code",
   "execution_count": 53,
   "id": "4c5bdb91",
   "metadata": {},
   "outputs": [
    {
     "name": "stderr",
     "output_type": "stream",
     "text": [
      "                                                                                \r"
     ]
    }
   ],
   "source": [
    "# ---------- benchmark loop ----------\n",
    "results = {}\n",
    "\n",
    "# serial baseline\n",
    "t0 = time.time()\n",
    "_ = lloydKMeans(kddData, centroids, iterations=10)\n",
    "results[1] = {\"lloyd\": {\"total_runtime\": time.time()-t0}}\n",
    "\n",
    "partitions = [2, 24, 128]\n",
    "for P in partitions:\n",
    "    kddData_rdd = sc.parallelize([row for row in kddData], numSlices=P).persist()\n",
    "    _ = kddData_rdd.count()\n",
    "\n",
    "    def _ll(): _ = lloydKMeans(kddData_rdd, centroids, iterations=10, earlyStopping=False)\n",
    "    m_ll = run_with_totals(_ll)\n",
    "\n",
    "    def _mb(): _ = miniBatchKMeans(kddData_rdd, centroids, iterations=10, earlyStopping=False)\n",
    "    m_mb = run_with_totals(_mb)\n",
    "\n",
    "    kddData_rdd.unpersist()\n",
    "\n",
    "    results[P] = {\n",
    "        \"lloyd\":    { \"overhead_share_run\": m_ll[\"overhead_share_run\"],\n",
    "                      \"cpu_share_run\":      m_ll[\"cpu_share_run\"],\n",
    "                      \"core_util_run\":      m_ll[\"core_util_run\"],\n",
    "                      \"total_runtime\":      m_ll[\"total_runtime\"] },\n",
    "        \"miniBatch\":{ \"overhead_share_run\": m_mb[\"overhead_share_run\"],\n",
    "                      \"cpu_share_run\":      m_mb[\"cpu_share_run\"],\n",
    "                      \"core_util_run\":      m_mb[\"core_util_run\"],\n",
    "                      \"total_runtime\":      m_mb[\"total_runtime\"] },\n",
    "    }"
   ]
  },
  {
   "cell_type": "code",
   "execution_count": 54,
   "id": "70399ac8",
   "metadata": {},
   "outputs": [],
   "source": [
    "def to_df(res, algo):\n",
    "    rows=[]\n",
    "    for p in sorted(res):\n",
    "        if algo in res[p]:\n",
    "            r = res[p][algo]\n",
    "            rows.append({\"n_partitions\": p,\n",
    "                         \"overhead_share_run\": r.get(\"overhead_share_run\", np.nan),\n",
    "                         \"cpu_share_run\":      r.get(\"cpu_share_run\", np.nan),\n",
    "                         \"core_util_run\":      r.get(\"core_util_run\", np.nan),\n",
    "                         \"total_runtime_s\":    r.get(\"total_runtime\", np.nan)})\n",
    "    return pd.DataFrame(rows)\n",
    "\n",
    "df_lloyd = to_df(results, \"lloyd\")\n",
    "df_mb    = to_df(results, \"miniBatch\")"
   ]
  },
  {
   "cell_type": "code",
   "execution_count": 55,
   "id": "1ae148e5",
   "metadata": {},
   "outputs": [
    {
     "data": {
      "text/html": [
       "<div>\n",
       "<style scoped>\n",
       "    .dataframe tbody tr th:only-of-type {\n",
       "        vertical-align: middle;\n",
       "    }\n",
       "\n",
       "    .dataframe tbody tr th {\n",
       "        vertical-align: top;\n",
       "    }\n",
       "\n",
       "    .dataframe thead th {\n",
       "        text-align: right;\n",
       "    }\n",
       "</style>\n",
       "<table border=\"1\" class=\"dataframe\">\n",
       "  <thead>\n",
       "    <tr style=\"text-align: right;\">\n",
       "      <th></th>\n",
       "      <th>n_partitions</th>\n",
       "      <th>overhead_share_run</th>\n",
       "      <th>cpu_share_run</th>\n",
       "      <th>core_util_run</th>\n",
       "      <th>total_runtime_s</th>\n",
       "    </tr>\n",
       "  </thead>\n",
       "  <tbody>\n",
       "    <tr>\n",
       "      <th>0</th>\n",
       "      <td>1</td>\n",
       "      <td>NaN</td>\n",
       "      <td>NaN</td>\n",
       "      <td>NaN</td>\n",
       "      <td>19.188906</td>\n",
       "    </tr>\n",
       "    <tr>\n",
       "      <th>1</th>\n",
       "      <td>2</td>\n",
       "      <td>0.208325</td>\n",
       "      <td>NaN</td>\n",
       "      <td>0.268078</td>\n",
       "      <td>41.632359</td>\n",
       "    </tr>\n",
       "    <tr>\n",
       "      <th>2</th>\n",
       "      <td>24</td>\n",
       "      <td>0.215106</td>\n",
       "      <td>NaN</td>\n",
       "      <td>0.696682</td>\n",
       "      <td>27.066866</td>\n",
       "    </tr>\n",
       "    <tr>\n",
       "      <th>3</th>\n",
       "      <td>128</td>\n",
       "      <td>0.207107</td>\n",
       "      <td>NaN</td>\n",
       "      <td>0.830693</td>\n",
       "      <td>72.857262</td>\n",
       "    </tr>\n",
       "  </tbody>\n",
       "</table>\n",
       "</div>"
      ],
      "text/plain": [
       "   n_partitions  overhead_share_run  cpu_share_run  core_util_run  \\\n",
       "0             1                 NaN            NaN            NaN   \n",
       "1             2            0.208325            NaN       0.268078   \n",
       "2            24            0.215106            NaN       0.696682   \n",
       "3           128            0.207107            NaN       0.830693   \n",
       "\n",
       "   total_runtime_s  \n",
       "0        19.188906  \n",
       "1        41.632359  \n",
       "2        27.066866  \n",
       "3        72.857262  "
      ]
     },
     "execution_count": 55,
     "metadata": {},
     "output_type": "execute_result"
    }
   ],
   "source": [
    "df_lloyd"
   ]
  },
  {
   "cell_type": "code",
   "execution_count": 57,
   "id": "193caa75",
   "metadata": {},
   "outputs": [
    {
     "data": {
      "text/html": [
       "<div>\n",
       "<style scoped>\n",
       "    .dataframe tbody tr th:only-of-type {\n",
       "        vertical-align: middle;\n",
       "    }\n",
       "\n",
       "    .dataframe tbody tr th {\n",
       "        vertical-align: top;\n",
       "    }\n",
       "\n",
       "    .dataframe thead th {\n",
       "        text-align: right;\n",
       "    }\n",
       "</style>\n",
       "<table border=\"1\" class=\"dataframe\">\n",
       "  <thead>\n",
       "    <tr style=\"text-align: right;\">\n",
       "      <th></th>\n",
       "      <th>n_partitions</th>\n",
       "      <th>overhead_share_run</th>\n",
       "      <th>cpu_share_run</th>\n",
       "      <th>core_util_run</th>\n",
       "      <th>total_runtime_s</th>\n",
       "    </tr>\n",
       "  </thead>\n",
       "  <tbody>\n",
       "    <tr>\n",
       "      <th>0</th>\n",
       "      <td>2</td>\n",
       "      <td>0.453140</td>\n",
       "      <td>NaN</td>\n",
       "      <td>0.213327</td>\n",
       "      <td>13.558419</td>\n",
       "    </tr>\n",
       "    <tr>\n",
       "      <th>1</th>\n",
       "      <td>24</td>\n",
       "      <td>0.373942</td>\n",
       "      <td>NaN</td>\n",
       "      <td>0.633115</td>\n",
       "      <td>16.334676</td>\n",
       "    </tr>\n",
       "    <tr>\n",
       "      <th>2</th>\n",
       "      <td>128</td>\n",
       "      <td>0.155833</td>\n",
       "      <td>NaN</td>\n",
       "      <td>0.846063</td>\n",
       "      <td>51.603025</td>\n",
       "    </tr>\n",
       "  </tbody>\n",
       "</table>\n",
       "</div>"
      ],
      "text/plain": [
       "   n_partitions  overhead_share_run  cpu_share_run  core_util_run  \\\n",
       "0             2            0.453140            NaN       0.213327   \n",
       "1            24            0.373942            NaN       0.633115   \n",
       "2           128            0.155833            NaN       0.846063   \n",
       "\n",
       "   total_runtime_s  \n",
       "0        13.558419  \n",
       "1        16.334676  \n",
       "2        51.603025  "
      ]
     },
     "execution_count": 57,
     "metadata": {},
     "output_type": "execute_result"
    },
    {
     "name": "stderr",
     "output_type": "stream",
     "text": [
      "25/09/15 16:17:07 ERROR TaskSchedulerImpl: Lost executor 2 on 172.18.0.6: worker lost: Not receiving heartbeat for 60 seconds\n",
      "25/09/15 16:17:07 ERROR TaskSchedulerImpl: Lost executor 1 on 172.18.0.5: worker lost: Not receiving heartbeat for 60 seconds\n",
      "25/09/15 16:17:07 ERROR TaskSchedulerImpl: Lost executor 0 on 172.18.0.4: worker lost: Not receiving heartbeat for 60 seconds\n",
      "25/09/15 17:48:24 ERROR TaskSchedulerImpl: Lost executor 4 on 172.18.0.6: worker lost: Not receiving heartbeat for 60 seconds\n",
      "25/09/15 17:48:24 ERROR TaskSchedulerImpl: Lost executor 5 on 172.18.0.5: worker lost: Not receiving heartbeat for 60 seconds\n",
      "25/09/15 17:48:24 ERROR TaskSchedulerImpl: Lost executor 3 on 172.18.0.4: worker lost: Not receiving heartbeat for 60 seconds\n"
     ]
    }
   ],
   "source": [
    "df_mb"
   ]
  },
  {
   "cell_type": "markdown",
   "id": "11f4de91",
   "metadata": {},
   "source": [
    "### Cost vs iterations\n"
   ]
  },
  {
   "cell_type": "code",
   "execution_count": 31,
   "id": "0946445b",
   "metadata": {},
   "outputs": [],
   "source": [
    "max_epochs = 200\n",
    "\n",
    "# final results dictionary\n",
    "results_dict = {\n",
    "    \"lloyd_serial\": [],\n",
    "    \"lloyd_parallel\": [],\n",
    "    \"minibatch_01\": [],\n",
    "    \"minibatch_02\": [],\n",
    "    \"minibatch_05\": [],\n",
    "    \"minibatch_07\": []\n",
    "}\n",
    "\n",
    "# partial_results\n",
    "patience = 3       # number of previous costs to average for stopping\n",
    "threshold = 1e-3    # convergence threshold\n",
    "\n",
    "# Parameters\n",
    "n_runs = 3  # number of independent runs\n",
    "all_histories_runs = {key: [] for key in results_dict.keys()}"
   ]
  },
  {
   "cell_type": "code",
   "execution_count": null,
   "id": "373e0824",
   "metadata": {},
   "outputs": [
    {
     "name": "stdout",
     "output_type": "stream",
     "text": [
      "Running lloyd_serial\n",
      "  Run 1/3\n"
     ]
    },
    {
     "name": "stderr",
     "output_type": "stream",
     "text": [
      "ERROR:root:KeyboardInterrupt while sending command.              (69 + 6) / 128]\n",
      "Traceback (most recent call last):\n",
      "  File \"/usr/bin/spark-3.5.5-bin-hadoop3/python/lib/py4j-0.10.9.7-src.zip/py4j/java_gateway.py\", line 1038, in send_command\n",
      "    response = connection.send_command(command)\n",
      "               ^^^^^^^^^^^^^^^^^^^^^^^^^^^^^^^^\n",
      "  File \"/usr/bin/spark-3.5.5-bin-hadoop3/python/lib/py4j-0.10.9.7-src.zip/py4j/clientserver.py\", line 511, in send_command\n",
      "    answer = smart_decode(self.stream.readline()[:-1])\n",
      "                          ^^^^^^^^^^^^^^^^^^^^^^\n",
      "  File \"/usr/local/lib/python3.11/socket.py\", line 718, in readinto\n",
      "    return self._sock.recv_into(b)\n",
      "           ^^^^^^^^^^^^^^^^^^^^^^^\n",
      "KeyboardInterrupt\n",
      "[Stage 450:=========================================>            (98 + 6) / 128]\r"
     ]
    },
    {
     "ename": "KeyboardInterrupt",
     "evalue": "",
     "output_type": "error",
     "traceback": [
      "\u001b[31m---------------------------------------------------------------------------\u001b[39m",
      "\u001b[31mKeyboardInterrupt\u001b[39m                         Traceback (most recent call last)",
      "\u001b[36mCell\u001b[39m\u001b[36m \u001b[39m\u001b[32mIn[32]\u001b[39m\u001b[32m, line 14\u001b[39m\n\u001b[32m     12\u001b[39m     initial_cost = compute_cost(kddData_rdd, current_centroids)\n\u001b[32m     13\u001b[39m \u001b[38;5;28;01melse\u001b[39;00m:  \u001b[38;5;66;03m# lloyd_serial\u001b[39;00m\n\u001b[32m---> \u001b[39m\u001b[32m14\u001b[39m     initial_cost = \u001b[43mcompute_cost\u001b[49m\u001b[43m(\u001b[49m\u001b[43mkddData_rdd\u001b[49m\u001b[43m,\u001b[49m\u001b[43m \u001b[49m\u001b[43mcurrent_centroids\u001b[49m\u001b[43m)\u001b[49m\n\u001b[32m     15\u001b[39m history.append(initial_cost)\n\u001b[32m     17\u001b[39m \u001b[38;5;66;03m# compute costs for each epoch\u001b[39;00m\n",
      "\u001b[36mFile \u001b[39m\u001b[32m/usr/local/lib/python3.11/functools.py:909\u001b[39m, in \u001b[36msingledispatch.<locals>.wrapper\u001b[39m\u001b[34m(*args, **kw)\u001b[39m\n\u001b[32m    905\u001b[39m \u001b[38;5;28;01mif\u001b[39;00m \u001b[38;5;129;01mnot\u001b[39;00m args:\n\u001b[32m    906\u001b[39m     \u001b[38;5;28;01mraise\u001b[39;00m \u001b[38;5;167;01mTypeError\u001b[39;00m(\u001b[33mf\u001b[39m\u001b[33m'\u001b[39m\u001b[38;5;132;01m{\u001b[39;00mfuncname\u001b[38;5;132;01m}\u001b[39;00m\u001b[33m requires at least \u001b[39m\u001b[33m'\u001b[39m\n\u001b[32m    907\u001b[39m                     \u001b[33m'\u001b[39m\u001b[33m1 positional argument\u001b[39m\u001b[33m'\u001b[39m)\n\u001b[32m--> \u001b[39m\u001b[32m909\u001b[39m \u001b[38;5;28;01mreturn\u001b[39;00m \u001b[43mdispatch\u001b[49m\u001b[43m(\u001b[49m\u001b[43margs\u001b[49m\u001b[43m[\u001b[49m\u001b[32;43m0\u001b[39;49m\u001b[43m]\u001b[49m\u001b[43m.\u001b[49m\u001b[34;43m__class__\u001b[39;49m\u001b[43m)\u001b[49m\u001b[43m(\u001b[49m\u001b[43m*\u001b[49m\u001b[43margs\u001b[49m\u001b[43m,\u001b[49m\u001b[43m \u001b[49m\u001b[43m*\u001b[49m\u001b[43m*\u001b[49m\u001b[43mkw\u001b[49m\u001b[43m)\u001b[49m\n",
      "\u001b[36mFile \u001b[39m\u001b[32m/mapd-workspace/src/kmeans/base.py:48\u001b[39m, in \u001b[36m_\u001b[39m\u001b[34m(data, centroids)\u001b[39m\n\u001b[32m     39\u001b[39m \u001b[38;5;129m@compute_cost\u001b[39m.register(RDD)\n\u001b[32m     40\u001b[39m \u001b[38;5;28;01mdef\u001b[39;00m\u001b[38;5;250m \u001b[39m\u001b[34m_\u001b[39m(\n\u001b[32m     41\u001b[39m     data: RDD, \n\u001b[32m     42\u001b[39m     centroids: npt.NDArray\n\u001b[32m     43\u001b[39m ) -> \u001b[38;5;28mfloat\u001b[39m:\n\u001b[32m     44\u001b[39m     minDistance_rdd = data \\\n\u001b[32m     45\u001b[39m         .map(\u001b[38;5;28;01mlambda\u001b[39;00m x: (x, get_minDistance(compute_centroidDistances(x, centroids))))\n\u001b[32m     46\u001b[39m     cost = \u001b[43mminDistance_rdd\u001b[49m\u001b[43m \u001b[49m\u001b[43m\\\u001b[49m\n\u001b[32m     47\u001b[39m \u001b[43m        \u001b[49m\u001b[43m.\u001b[49m\u001b[43mmap\u001b[49m\u001b[43m(\u001b[49m\u001b[38;5;28;43;01mlambda\u001b[39;49;00m\u001b[43m \u001b[49m\u001b[43mx\u001b[49m\u001b[43m:\u001b[49m\u001b[43m \u001b[49m\u001b[43mx\u001b[49m\u001b[43m[\u001b[49m\u001b[32;43m1\u001b[39;49m\u001b[43m]\u001b[49m\u001b[43m)\u001b[49m\u001b[43m \u001b[49m\u001b[43m\\\u001b[49m\n\u001b[32m---> \u001b[39m\u001b[32m48\u001b[39m \u001b[43m        \u001b[49m\u001b[43m.\u001b[49m\u001b[43msum\u001b[49m\u001b[43m(\u001b[49m\u001b[43m)\u001b[49m\n\u001b[32m     49\u001b[39m     cost /= data.count()\n\u001b[32m     50\u001b[39m     \u001b[38;5;28;01mreturn\u001b[39;00m \u001b[38;5;28mfloat\u001b[39m(cost)\n",
      "\u001b[36mFile \u001b[39m\u001b[32m/usr/bin/spark-3.5.5-bin-hadoop3/python/pyspark/rdd.py:2291\u001b[39m, in \u001b[36mRDD.sum\u001b[39m\u001b[34m(self)\u001b[39m\n\u001b[32m   2270\u001b[39m \u001b[38;5;28;01mdef\u001b[39;00m\u001b[38;5;250m \u001b[39m\u001b[34msum\u001b[39m(\u001b[38;5;28mself\u001b[39m: \u001b[33m\"\u001b[39m\u001b[33mRDD[NumberOrArray]\u001b[39m\u001b[33m\"\u001b[39m) -> \u001b[33m\"\u001b[39m\u001b[33mNumberOrArray\u001b[39m\u001b[33m\"\u001b[39m:\n\u001b[32m   2271\u001b[39m \u001b[38;5;250m    \u001b[39m\u001b[33;03m\"\"\"\u001b[39;00m\n\u001b[32m   2272\u001b[39m \u001b[33;03m    Add up the elements in this RDD.\u001b[39;00m\n\u001b[32m   2273\u001b[39m \n\u001b[32m   (...)\u001b[39m\u001b[32m   2289\u001b[39m \u001b[33;03m    6.0\u001b[39;00m\n\u001b[32m   2290\u001b[39m \u001b[33;03m    \"\"\"\u001b[39;00m\n\u001b[32m-> \u001b[39m\u001b[32m2291\u001b[39m     \u001b[38;5;28;01mreturn\u001b[39;00m \u001b[38;5;28;43mself\u001b[39;49m\u001b[43m.\u001b[49m\u001b[43mmapPartitions\u001b[49m\u001b[43m(\u001b[49m\u001b[38;5;28;43;01mlambda\u001b[39;49;00m\u001b[43m \u001b[49m\u001b[43mx\u001b[49m\u001b[43m:\u001b[49m\u001b[43m \u001b[49m\u001b[43m[\u001b[49m\u001b[38;5;28;43msum\u001b[39;49m\u001b[43m(\u001b[49m\u001b[43mx\u001b[49m\u001b[43m)\u001b[49m\u001b[43m]\u001b[49m\u001b[43m)\u001b[49m\u001b[43m.\u001b[49m\u001b[43mfold\u001b[49m\u001b[43m(\u001b[49m\u001b[43m  \u001b[49m\u001b[38;5;66;43;03m# type: ignore[return-value]\u001b[39;49;00m\n\u001b[32m   2292\u001b[39m \u001b[43m        \u001b[49m\u001b[32;43m0\u001b[39;49m\u001b[43m,\u001b[49m\u001b[43m \u001b[49m\u001b[43moperator\u001b[49m\u001b[43m.\u001b[49m\u001b[43madd\u001b[49m\n\u001b[32m   2293\u001b[39m \u001b[43m    \u001b[49m\u001b[43m)\u001b[49m\n",
      "\u001b[36mFile \u001b[39m\u001b[32m/usr/bin/spark-3.5.5-bin-hadoop3/python/pyspark/rdd.py:2044\u001b[39m, in \u001b[36mRDD.fold\u001b[39m\u001b[34m(self, zeroValue, op)\u001b[39m\n\u001b[32m   2039\u001b[39m     \u001b[38;5;28;01myield\u001b[39;00m acc\n\u001b[32m   2041\u001b[39m \u001b[38;5;66;03m# collecting result of mapPartitions here ensures that the copy of\u001b[39;00m\n\u001b[32m   2042\u001b[39m \u001b[38;5;66;03m# zeroValue provided to each partition is unique from the one provided\u001b[39;00m\n\u001b[32m   2043\u001b[39m \u001b[38;5;66;03m# to the final reduce call\u001b[39;00m\n\u001b[32m-> \u001b[39m\u001b[32m2044\u001b[39m vals = \u001b[38;5;28;43mself\u001b[39;49m\u001b[43m.\u001b[49m\u001b[43mmapPartitions\u001b[49m\u001b[43m(\u001b[49m\u001b[43mfunc\u001b[49m\u001b[43m)\u001b[49m\u001b[43m.\u001b[49m\u001b[43mcollect\u001b[49m\u001b[43m(\u001b[49m\u001b[43m)\u001b[49m\n\u001b[32m   2045\u001b[39m \u001b[38;5;28;01mreturn\u001b[39;00m reduce(op, vals, zeroValue)\n",
      "\u001b[36mFile \u001b[39m\u001b[32m/usr/bin/spark-3.5.5-bin-hadoop3/python/pyspark/rdd.py:1833\u001b[39m, in \u001b[36mRDD.collect\u001b[39m\u001b[34m(self)\u001b[39m\n\u001b[32m   1831\u001b[39m \u001b[38;5;28;01mwith\u001b[39;00m SCCallSiteSync(\u001b[38;5;28mself\u001b[39m.context):\n\u001b[32m   1832\u001b[39m     \u001b[38;5;28;01massert\u001b[39;00m \u001b[38;5;28mself\u001b[39m.ctx._jvm \u001b[38;5;129;01mis\u001b[39;00m \u001b[38;5;129;01mnot\u001b[39;00m \u001b[38;5;28;01mNone\u001b[39;00m\n\u001b[32m-> \u001b[39m\u001b[32m1833\u001b[39m     sock_info = \u001b[38;5;28;43mself\u001b[39;49m\u001b[43m.\u001b[49m\u001b[43mctx\u001b[49m\u001b[43m.\u001b[49m\u001b[43m_jvm\u001b[49m\u001b[43m.\u001b[49m\u001b[43mPythonRDD\u001b[49m\u001b[43m.\u001b[49m\u001b[43mcollectAndServe\u001b[49m\u001b[43m(\u001b[49m\u001b[38;5;28;43mself\u001b[39;49m\u001b[43m.\u001b[49m\u001b[43m_jrdd\u001b[49m\u001b[43m.\u001b[49m\u001b[43mrdd\u001b[49m\u001b[43m(\u001b[49m\u001b[43m)\u001b[49m\u001b[43m)\u001b[49m\n\u001b[32m   1834\u001b[39m \u001b[38;5;28;01mreturn\u001b[39;00m \u001b[38;5;28mlist\u001b[39m(_load_from_socket(sock_info, \u001b[38;5;28mself\u001b[39m._jrdd_deserializer))\n",
      "\u001b[36mFile \u001b[39m\u001b[32m/usr/bin/spark-3.5.5-bin-hadoop3/python/lib/py4j-0.10.9.7-src.zip/py4j/java_gateway.py:1321\u001b[39m, in \u001b[36mJavaMember.__call__\u001b[39m\u001b[34m(self, *args)\u001b[39m\n\u001b[32m   1314\u001b[39m args_command, temp_args = \u001b[38;5;28mself\u001b[39m._build_args(*args)\n\u001b[32m   1316\u001b[39m command = proto.CALL_COMMAND_NAME +\\\n\u001b[32m   1317\u001b[39m     \u001b[38;5;28mself\u001b[39m.command_header +\\\n\u001b[32m   1318\u001b[39m     args_command +\\\n\u001b[32m   1319\u001b[39m     proto.END_COMMAND_PART\n\u001b[32m-> \u001b[39m\u001b[32m1321\u001b[39m answer = \u001b[38;5;28;43mself\u001b[39;49m\u001b[43m.\u001b[49m\u001b[43mgateway_client\u001b[49m\u001b[43m.\u001b[49m\u001b[43msend_command\u001b[49m\u001b[43m(\u001b[49m\u001b[43mcommand\u001b[49m\u001b[43m)\u001b[49m\n\u001b[32m   1322\u001b[39m return_value = get_return_value(\n\u001b[32m   1323\u001b[39m     answer, \u001b[38;5;28mself\u001b[39m.gateway_client, \u001b[38;5;28mself\u001b[39m.target_id, \u001b[38;5;28mself\u001b[39m.name)\n\u001b[32m   1325\u001b[39m \u001b[38;5;28;01mfor\u001b[39;00m temp_arg \u001b[38;5;129;01min\u001b[39;00m temp_args:\n",
      "\u001b[36mFile \u001b[39m\u001b[32m/usr/bin/spark-3.5.5-bin-hadoop3/python/lib/py4j-0.10.9.7-src.zip/py4j/java_gateway.py:1038\u001b[39m, in \u001b[36mGatewayClient.send_command\u001b[39m\u001b[34m(self, command, retry, binary)\u001b[39m\n\u001b[32m   1036\u001b[39m connection = \u001b[38;5;28mself\u001b[39m._get_connection()\n\u001b[32m   1037\u001b[39m \u001b[38;5;28;01mtry\u001b[39;00m:\n\u001b[32m-> \u001b[39m\u001b[32m1038\u001b[39m     response = \u001b[43mconnection\u001b[49m\u001b[43m.\u001b[49m\u001b[43msend_command\u001b[49m\u001b[43m(\u001b[49m\u001b[43mcommand\u001b[49m\u001b[43m)\u001b[49m\n\u001b[32m   1039\u001b[39m     \u001b[38;5;28;01mif\u001b[39;00m binary:\n\u001b[32m   1040\u001b[39m         \u001b[38;5;28;01mreturn\u001b[39;00m response, \u001b[38;5;28mself\u001b[39m._create_connection_guard(connection)\n",
      "\u001b[36mFile \u001b[39m\u001b[32m/usr/bin/spark-3.5.5-bin-hadoop3/python/lib/py4j-0.10.9.7-src.zip/py4j/clientserver.py:511\u001b[39m, in \u001b[36mClientServerConnection.send_command\u001b[39m\u001b[34m(self, command)\u001b[39m\n\u001b[32m    509\u001b[39m \u001b[38;5;28;01mtry\u001b[39;00m:\n\u001b[32m    510\u001b[39m     \u001b[38;5;28;01mwhile\u001b[39;00m \u001b[38;5;28;01mTrue\u001b[39;00m:\n\u001b[32m--> \u001b[39m\u001b[32m511\u001b[39m         answer = smart_decode(\u001b[38;5;28mself\u001b[39m.stream.readline()[:-\u001b[32m1\u001b[39m])\n\u001b[32m    512\u001b[39m         logger.debug(\u001b[33m\"\u001b[39m\u001b[33mAnswer received: \u001b[39m\u001b[38;5;132;01m{0}\u001b[39;00m\u001b[33m\"\u001b[39m.format(answer))\n\u001b[32m    513\u001b[39m         \u001b[38;5;66;03m# Happens when a the other end is dead. There might be an empty\u001b[39;00m\n\u001b[32m    514\u001b[39m         \u001b[38;5;66;03m# answer before the socket raises an error.\u001b[39;00m\n",
      "\u001b[36mFile \u001b[39m\u001b[32m/usr/local/lib/python3.11/socket.py:718\u001b[39m, in \u001b[36mSocketIO.readinto\u001b[39m\u001b[34m(self, b)\u001b[39m\n\u001b[32m    716\u001b[39m \u001b[38;5;28;01mwhile\u001b[39;00m \u001b[38;5;28;01mTrue\u001b[39;00m:\n\u001b[32m    717\u001b[39m     \u001b[38;5;28;01mtry\u001b[39;00m:\n\u001b[32m--> \u001b[39m\u001b[32m718\u001b[39m         \u001b[38;5;28;01mreturn\u001b[39;00m \u001b[38;5;28;43mself\u001b[39;49m\u001b[43m.\u001b[49m\u001b[43m_sock\u001b[49m\u001b[43m.\u001b[49m\u001b[43mrecv_into\u001b[49m\u001b[43m(\u001b[49m\u001b[43mb\u001b[49m\u001b[43m)\u001b[49m\n\u001b[32m    719\u001b[39m     \u001b[38;5;28;01mexcept\u001b[39;00m timeout:\n\u001b[32m    720\u001b[39m         \u001b[38;5;28mself\u001b[39m._timeout_occurred = \u001b[38;5;28;01mTrue\u001b[39;00m\n",
      "\u001b[31mKeyboardInterrupt\u001b[39m: "
     ]
    },
    {
     "name": "stderr",
     "output_type": "stream",
     "text": [
      "Exception in thread \"serve RDD 1080\" java.net.SocketTimeoutException: Accept timed out\n",
      "\tat java.base/sun.nio.ch.NioSocketImpl.timedAccept(NioSocketImpl.java:713)\n",
      "\tat java.base/sun.nio.ch.NioSocketImpl.accept(NioSocketImpl.java:757)\n",
      "\tat java.base/java.net.ServerSocket.implAccept(ServerSocket.java:675)\n",
      "\tat java.base/java.net.ServerSocket.platformImplAccept(ServerSocket.java:641)\n",
      "\tat java.base/java.net.ServerSocket.implAccept(ServerSocket.java:617)\n",
      "\tat java.base/java.net.ServerSocket.implAccept(ServerSocket.java:574)\n",
      "\tat java.base/java.net.ServerSocket.accept(ServerSocket.java:532)\n",
      "\tat org.apache.spark.security.SocketAuthServer$$anon$1.run(SocketAuthServer.scala:65)\n"
     ]
    }
   ],
   "source": [
    "for key in results_dict.keys():\n",
    "    print(f\"Running {key}\")\n",
    "\n",
    "    for run in range(n_runs):\n",
    "        print(f\"  Run {run+1}/{n_runs}\")\n",
    "        history = []\n",
    "\n",
    "        current_centroids = centroids.copy()  # initialize centroids\n",
    "\n",
    "        # compute initial cost\n",
    "        if key.startswith(\"minibatch\") or key == \"lloyd_parallel\":\n",
    "            initial_cost = compute_cost(kddData_rdd, current_centroids)\n",
    "        else:  # lloyd_serial\n",
    "            initial_cost = compute_cost(kddData_rdd, current_centroids)\n",
    "        history.append(initial_cost)\n",
    "\n",
    "        # compute costs for each epoch\n",
    "        for epoch in range(max_epochs):\n",
    "            if key == 'lloyd_serial':\n",
    "                current_centroids = lloydKMeans(kddData_rdd, centroids=current_centroids, iterations=1)\n",
    "                cost = compute_cost(kddData_rdd, current_centroids)\n",
    "            elif key == \"lloyd_parallel\":\n",
    "                current_centroids = lloydKMeans(kddData_rdd, centroids=current_centroids, iterations=1)\n",
    "                cost = compute_cost(kddData_rdd, current_centroids)\n",
    "            elif key.startswith(\"minibatch\"):\n",
    "                fraction = {\n",
    "                    \"minibatch_01\": 0.1,\n",
    "                    \"minibatch_02\": 0.2,\n",
    "                    \"minibatch_05\": 0.5,\n",
    "                    \"minibatch_07\": 0.7,\n",
    "                }[key]\n",
    "\n",
    "                current_centroids = miniBatchKMeans(\n",
    "                    kddData_rdd, centroids=current_centroids, iterations=1, batch_fraction=fraction\n",
    "                )\n",
    "                cost = compute_cost(kddData_rdd, current_centroids)\n",
    "\n",
    "            history.append(cost)\n",
    "\n",
    "            # early stopping: compare current cost to average of last `patience` costs\n",
    "            if len(history) > patience:\n",
    "                recent_avg = np.mean(history[-patience:])\n",
    "                if abs(history[-1] - recent_avg) < threshold:\n",
    "                    break\n",
    "\n",
    "        # pad history to max_epochs\n",
    "        if len(history) < max_epochs + 1:  # +1 because of initial cost\n",
    "            history += [history[-1]] * ((max_epochs + 1) - len(history))\n",
    "\n",
    "        all_histories_runs[key].append(history)"
   ]
  },
  {
   "cell_type": "code",
   "execution_count": 29,
   "id": "a91fb6aa",
   "metadata": {},
   "outputs": [],
   "source": [
    "# Compute mean and std for each algorithm\n",
    "results_mean_std = {}\n",
    "for key, histories in all_histories_runs.items():\n",
    "    arr = np.array(histories)  # shape: (n_runs, max_epochs+1)\n",
    "    mean_cost = arr.mean(axis=0)\n",
    "    std_cost = arr.std(axis=0)\n",
    "    results_mean_std[key] = {\"mean\": mean_cost, \"std\": std_cost}"
   ]
  },
  {
   "cell_type": "code",
   "execution_count": 30,
   "id": "f1ccc268",
   "metadata": {},
   "outputs": [
    {
     "data": {
      "text/plain": [
       "{'lloyd_serial': [],\n",
       " 'lloyd_parallel': [],\n",
       " 'minibatch_01': [],\n",
       " 'minibatch_02': [],\n",
       " 'minibatch_05': [],\n",
       " 'minibatch_07': []}"
      ]
     },
     "execution_count": 30,
     "metadata": {},
     "output_type": "execute_result"
    }
   ],
   "source": [
    "results_dict"
   ]
  },
  {
   "cell_type": "code",
   "execution_count": 31,
   "id": "1d28e53c",
   "metadata": {},
   "outputs": [
    {
     "data": {
      "text/plain": [
       "{'lloyd_serial': {'mean': array([33.09530258, 17.42152087, 17.33508682, 17.30840429, 17.29642677,\n",
       "         17.28257179, 17.27590179, 17.27365812, 17.27185694, 17.23808289,\n",
       "         17.10388374, 16.98265266, 16.4207255 , 16.20191193, 15.42270152,\n",
       "         14.33303356, 14.06434536, 14.02070522, 14.0197916 , 14.01987871,\n",
       "         14.01987871, 14.01987871, 14.01987871, 14.01987871, 14.01987871,\n",
       "         14.01987871, 14.01987871, 14.01987871, 14.01987871, 14.01987871,\n",
       "         14.01987871, 14.01987871, 14.01987871, 14.01987871, 14.01987871,\n",
       "         14.01987871, 14.01987871, 14.01987871, 14.01987871, 14.01987871,\n",
       "         14.01987871, 14.01987871, 14.01987871, 14.01987871, 14.01987871,\n",
       "         14.01987871, 14.01987871, 14.01987871, 14.01987871, 14.01987871,\n",
       "         14.01987871, 14.01987871, 14.01987871, 14.01987871, 14.01987871,\n",
       "         14.01987871, 14.01987871, 14.01987871, 14.01987871, 14.01987871,\n",
       "         14.01987871, 14.01987871, 14.01987871, 14.01987871, 14.01987871,\n",
       "         14.01987871, 14.01987871, 14.01987871, 14.01987871, 14.01987871,\n",
       "         14.01987871, 14.01987871, 14.01987871, 14.01987871, 14.01987871,\n",
       "         14.01987871, 14.01987871, 14.01987871, 14.01987871, 14.01987871,\n",
       "         14.01987871, 14.01987871, 14.01987871, 14.01987871, 14.01987871,\n",
       "         14.01987871, 14.01987871, 14.01987871, 14.01987871, 14.01987871,\n",
       "         14.01987871, 14.01987871, 14.01987871, 14.01987871, 14.01987871,\n",
       "         14.01987871, 14.01987871, 14.01987871, 14.01987871, 14.01987871,\n",
       "         14.01987871, 14.01987871, 14.01987871, 14.01987871, 14.01987871,\n",
       "         14.01987871, 14.01987871, 14.01987871, 14.01987871, 14.01987871,\n",
       "         14.01987871, 14.01987871, 14.01987871, 14.01987871, 14.01987871,\n",
       "         14.01987871, 14.01987871, 14.01987871, 14.01987871, 14.01987871,\n",
       "         14.01987871, 14.01987871, 14.01987871, 14.01987871, 14.01987871,\n",
       "         14.01987871, 14.01987871, 14.01987871, 14.01987871, 14.01987871,\n",
       "         14.01987871, 14.01987871, 14.01987871, 14.01987871, 14.01987871,\n",
       "         14.01987871, 14.01987871, 14.01987871, 14.01987871, 14.01987871,\n",
       "         14.01987871, 14.01987871, 14.01987871, 14.01987871, 14.01987871,\n",
       "         14.01987871, 14.01987871, 14.01987871, 14.01987871, 14.01987871,\n",
       "         14.01987871, 14.01987871, 14.01987871, 14.01987871, 14.01987871,\n",
       "         14.01987871, 14.01987871, 14.01987871, 14.01987871, 14.01987871,\n",
       "         14.01987871, 14.01987871, 14.01987871, 14.01987871, 14.01987871,\n",
       "         14.01987871, 14.01987871, 14.01987871, 14.01987871, 14.01987871,\n",
       "         14.01987871, 14.01987871, 14.01987871, 14.01987871, 14.01987871,\n",
       "         14.01987871, 14.01987871, 14.01987871, 14.01987871, 14.01987871,\n",
       "         14.01987871, 14.01987871, 14.01987871, 14.01987871, 14.01987871,\n",
       "         14.01987871, 14.01987871, 14.01987871, 14.01987871, 14.01987871,\n",
       "         14.01987871, 14.01987871, 14.01987871, 14.01987871, 14.01987871,\n",
       "         14.01987871, 14.01987871, 14.01987871, 14.01987871, 14.01987871,\n",
       "         14.01987871]),\n",
       "  'std': array([0.00000000e+00, 8.99132768e-07, 0.00000000e+00, 1.79826554e-06,\n",
       "         0.00000000e+00, 0.00000000e+00, 0.00000000e+00, 8.99132768e-07,\n",
       "         8.99132768e-07, 0.00000000e+00, 0.00000000e+00, 0.00000000e+00,\n",
       "         8.99132768e-07, 0.00000000e+00, 4.49566384e-07, 7.78671819e-07,\n",
       "         0.00000000e+00, 0.00000000e+00, 0.00000000e+00, 4.49566384e-07,\n",
       "         4.49566384e-07, 4.49566384e-07, 4.49566384e-07, 4.49566384e-07,\n",
       "         4.49566384e-07, 4.49566384e-07, 4.49566384e-07, 4.49566384e-07,\n",
       "         4.49566384e-07, 4.49566384e-07, 4.49566384e-07, 4.49566384e-07,\n",
       "         4.49566384e-07, 4.49566384e-07, 4.49566384e-07, 4.49566384e-07,\n",
       "         4.49566384e-07, 4.49566384e-07, 4.49566384e-07, 4.49566384e-07,\n",
       "         4.49566384e-07, 4.49566384e-07, 4.49566384e-07, 4.49566384e-07,\n",
       "         4.49566384e-07, 4.49566384e-07, 4.49566384e-07, 4.49566384e-07,\n",
       "         4.49566384e-07, 4.49566384e-07, 4.49566384e-07, 4.49566384e-07,\n",
       "         4.49566384e-07, 4.49566384e-07, 4.49566384e-07, 4.49566384e-07,\n",
       "         4.49566384e-07, 4.49566384e-07, 4.49566384e-07, 4.49566384e-07,\n",
       "         4.49566384e-07, 4.49566384e-07, 4.49566384e-07, 4.49566384e-07,\n",
       "         4.49566384e-07, 4.49566384e-07, 4.49566384e-07, 4.49566384e-07,\n",
       "         4.49566384e-07, 4.49566384e-07, 4.49566384e-07, 4.49566384e-07,\n",
       "         4.49566384e-07, 4.49566384e-07, 4.49566384e-07, 4.49566384e-07,\n",
       "         4.49566384e-07, 4.49566384e-07, 4.49566384e-07, 4.49566384e-07,\n",
       "         4.49566384e-07, 4.49566384e-07, 4.49566384e-07, 4.49566384e-07,\n",
       "         4.49566384e-07, 4.49566384e-07, 4.49566384e-07, 4.49566384e-07,\n",
       "         4.49566384e-07, 4.49566384e-07, 4.49566384e-07, 4.49566384e-07,\n",
       "         4.49566384e-07, 4.49566384e-07, 4.49566384e-07, 4.49566384e-07,\n",
       "         4.49566384e-07, 4.49566384e-07, 4.49566384e-07, 4.49566384e-07,\n",
       "         4.49566384e-07, 4.49566384e-07, 4.49566384e-07, 4.49566384e-07,\n",
       "         4.49566384e-07, 4.49566384e-07, 4.49566384e-07, 4.49566384e-07,\n",
       "         4.49566384e-07, 4.49566384e-07, 4.49566384e-07, 4.49566384e-07,\n",
       "         4.49566384e-07, 4.49566384e-07, 4.49566384e-07, 4.49566384e-07,\n",
       "         4.49566384e-07, 4.49566384e-07, 4.49566384e-07, 4.49566384e-07,\n",
       "         4.49566384e-07, 4.49566384e-07, 4.49566384e-07, 4.49566384e-07,\n",
       "         4.49566384e-07, 4.49566384e-07, 4.49566384e-07, 4.49566384e-07,\n",
       "         4.49566384e-07, 4.49566384e-07, 4.49566384e-07, 4.49566384e-07,\n",
       "         4.49566384e-07, 4.49566384e-07, 4.49566384e-07, 4.49566384e-07,\n",
       "         4.49566384e-07, 4.49566384e-07, 4.49566384e-07, 4.49566384e-07,\n",
       "         4.49566384e-07, 4.49566384e-07, 4.49566384e-07, 4.49566384e-07,\n",
       "         4.49566384e-07, 4.49566384e-07, 4.49566384e-07, 4.49566384e-07,\n",
       "         4.49566384e-07, 4.49566384e-07, 4.49566384e-07, 4.49566384e-07,\n",
       "         4.49566384e-07, 4.49566384e-07, 4.49566384e-07, 4.49566384e-07,\n",
       "         4.49566384e-07, 4.49566384e-07, 4.49566384e-07, 4.49566384e-07,\n",
       "         4.49566384e-07, 4.49566384e-07, 4.49566384e-07, 4.49566384e-07,\n",
       "         4.49566384e-07, 4.49566384e-07, 4.49566384e-07, 4.49566384e-07,\n",
       "         4.49566384e-07, 4.49566384e-07, 4.49566384e-07, 4.49566384e-07,\n",
       "         4.49566384e-07, 4.49566384e-07, 4.49566384e-07, 4.49566384e-07,\n",
       "         4.49566384e-07, 4.49566384e-07, 4.49566384e-07, 4.49566384e-07,\n",
       "         4.49566384e-07, 4.49566384e-07, 4.49566384e-07, 4.49566384e-07,\n",
       "         4.49566384e-07, 4.49566384e-07, 4.49566384e-07, 4.49566384e-07,\n",
       "         4.49566384e-07, 4.49566384e-07, 4.49566384e-07, 4.49566384e-07,\n",
       "         4.49566384e-07, 4.49566384e-07, 4.49566384e-07, 4.49566384e-07,\n",
       "         4.49566384e-07, 4.49566384e-07, 4.49566384e-07, 4.49566384e-07,\n",
       "         4.49566384e-07])},\n",
       " 'lloyd_parallel': {'mean': array([33.09530258, 17.42152214, 17.33508682, 17.30840683, 17.29642677,\n",
       "         17.28257179, 17.27590116, 17.27365685, 17.27185694, 17.23808289,\n",
       "         17.10388374, 16.98265266, 16.4207255 , 16.20191193, 15.42270152,\n",
       "         14.33303261, 14.06434568, 14.02070491, 14.01979129, 14.01987902,\n",
       "         14.01987902, 14.01987902, 14.01987902, 14.01987902, 14.01987902,\n",
       "         14.01987902, 14.01987902, 14.01987902, 14.01987902, 14.01987902,\n",
       "         14.01987902, 14.01987902, 14.01987902, 14.01987902, 14.01987902,\n",
       "         14.01987902, 14.01987902, 14.01987902, 14.01987902, 14.01987902,\n",
       "         14.01987902, 14.01987902, 14.01987902, 14.01987902, 14.01987902,\n",
       "         14.01987902, 14.01987902, 14.01987902, 14.01987902, 14.01987902,\n",
       "         14.01987902, 14.01987902, 14.01987902, 14.01987902, 14.01987902,\n",
       "         14.01987902, 14.01987902, 14.01987902, 14.01987902, 14.01987902,\n",
       "         14.01987902, 14.01987902, 14.01987902, 14.01987902, 14.01987902,\n",
       "         14.01987902, 14.01987902, 14.01987902, 14.01987902, 14.01987902,\n",
       "         14.01987902, 14.01987902, 14.01987902, 14.01987902, 14.01987902,\n",
       "         14.01987902, 14.01987902, 14.01987902, 14.01987902, 14.01987902,\n",
       "         14.01987902, 14.01987902, 14.01987902, 14.01987902, 14.01987902,\n",
       "         14.01987902, 14.01987902, 14.01987902, 14.01987902, 14.01987902,\n",
       "         14.01987902, 14.01987902, 14.01987902, 14.01987902, 14.01987902,\n",
       "         14.01987902, 14.01987902, 14.01987902, 14.01987902, 14.01987902,\n",
       "         14.01987902, 14.01987902, 14.01987902, 14.01987902, 14.01987902,\n",
       "         14.01987902, 14.01987902, 14.01987902, 14.01987902, 14.01987902,\n",
       "         14.01987902, 14.01987902, 14.01987902, 14.01987902, 14.01987902,\n",
       "         14.01987902, 14.01987902, 14.01987902, 14.01987902, 14.01987902,\n",
       "         14.01987902, 14.01987902, 14.01987902, 14.01987902, 14.01987902,\n",
       "         14.01987902, 14.01987902, 14.01987902, 14.01987902, 14.01987902,\n",
       "         14.01987902, 14.01987902, 14.01987902, 14.01987902, 14.01987902,\n",
       "         14.01987902, 14.01987902, 14.01987902, 14.01987902, 14.01987902,\n",
       "         14.01987902, 14.01987902, 14.01987902, 14.01987902, 14.01987902,\n",
       "         14.01987902, 14.01987902, 14.01987902, 14.01987902, 14.01987902,\n",
       "         14.01987902, 14.01987902, 14.01987902, 14.01987902, 14.01987902,\n",
       "         14.01987902, 14.01987902, 14.01987902, 14.01987902, 14.01987902,\n",
       "         14.01987902, 14.01987902, 14.01987902, 14.01987902, 14.01987902,\n",
       "         14.01987902, 14.01987902, 14.01987902, 14.01987902, 14.01987902,\n",
       "         14.01987902, 14.01987902, 14.01987902, 14.01987902, 14.01987902,\n",
       "         14.01987902, 14.01987902, 14.01987902, 14.01987902, 14.01987902,\n",
       "         14.01987902, 14.01987902, 14.01987902, 14.01987902, 14.01987902,\n",
       "         14.01987902, 14.01987902, 14.01987902, 14.01987902, 14.01987902,\n",
       "         14.01987902, 14.01987902, 14.01987902, 14.01987902, 14.01987902,\n",
       "         14.01987902, 14.01987902, 14.01987902, 14.01987902, 14.01987902,\n",
       "         14.01987902]),\n",
       "  'std': array([0.00000000e+00, 0.00000000e+00, 0.00000000e+00, 0.00000000e+00,\n",
       "         0.00000000e+00, 0.00000000e+00, 8.99132768e-07, 0.00000000e+00,\n",
       "         8.99132768e-07, 0.00000000e+00, 0.00000000e+00, 0.00000000e+00,\n",
       "         8.99132768e-07, 0.00000000e+00, 4.49566384e-07, 0.00000000e+00,\n",
       "         4.49566384e-07, 4.49566384e-07, 4.49566384e-07, 4.49566384e-07,\n",
       "         4.49566384e-07, 4.49566384e-07, 4.49566384e-07, 4.49566384e-07,\n",
       "         4.49566384e-07, 4.49566384e-07, 4.49566384e-07, 4.49566384e-07,\n",
       "         4.49566384e-07, 4.49566384e-07, 4.49566384e-07, 4.49566384e-07,\n",
       "         4.49566384e-07, 4.49566384e-07, 4.49566384e-07, 4.49566384e-07,\n",
       "         4.49566384e-07, 4.49566384e-07, 4.49566384e-07, 4.49566384e-07,\n",
       "         4.49566384e-07, 4.49566384e-07, 4.49566384e-07, 4.49566384e-07,\n",
       "         4.49566384e-07, 4.49566384e-07, 4.49566384e-07, 4.49566384e-07,\n",
       "         4.49566384e-07, 4.49566384e-07, 4.49566384e-07, 4.49566384e-07,\n",
       "         4.49566384e-07, 4.49566384e-07, 4.49566384e-07, 4.49566384e-07,\n",
       "         4.49566384e-07, 4.49566384e-07, 4.49566384e-07, 4.49566384e-07,\n",
       "         4.49566384e-07, 4.49566384e-07, 4.49566384e-07, 4.49566384e-07,\n",
       "         4.49566384e-07, 4.49566384e-07, 4.49566384e-07, 4.49566384e-07,\n",
       "         4.49566384e-07, 4.49566384e-07, 4.49566384e-07, 4.49566384e-07,\n",
       "         4.49566384e-07, 4.49566384e-07, 4.49566384e-07, 4.49566384e-07,\n",
       "         4.49566384e-07, 4.49566384e-07, 4.49566384e-07, 4.49566384e-07,\n",
       "         4.49566384e-07, 4.49566384e-07, 4.49566384e-07, 4.49566384e-07,\n",
       "         4.49566384e-07, 4.49566384e-07, 4.49566384e-07, 4.49566384e-07,\n",
       "         4.49566384e-07, 4.49566384e-07, 4.49566384e-07, 4.49566384e-07,\n",
       "         4.49566384e-07, 4.49566384e-07, 4.49566384e-07, 4.49566384e-07,\n",
       "         4.49566384e-07, 4.49566384e-07, 4.49566384e-07, 4.49566384e-07,\n",
       "         4.49566384e-07, 4.49566384e-07, 4.49566384e-07, 4.49566384e-07,\n",
       "         4.49566384e-07, 4.49566384e-07, 4.49566384e-07, 4.49566384e-07,\n",
       "         4.49566384e-07, 4.49566384e-07, 4.49566384e-07, 4.49566384e-07,\n",
       "         4.49566384e-07, 4.49566384e-07, 4.49566384e-07, 4.49566384e-07,\n",
       "         4.49566384e-07, 4.49566384e-07, 4.49566384e-07, 4.49566384e-07,\n",
       "         4.49566384e-07, 4.49566384e-07, 4.49566384e-07, 4.49566384e-07,\n",
       "         4.49566384e-07, 4.49566384e-07, 4.49566384e-07, 4.49566384e-07,\n",
       "         4.49566384e-07, 4.49566384e-07, 4.49566384e-07, 4.49566384e-07,\n",
       "         4.49566384e-07, 4.49566384e-07, 4.49566384e-07, 4.49566384e-07,\n",
       "         4.49566384e-07, 4.49566384e-07, 4.49566384e-07, 4.49566384e-07,\n",
       "         4.49566384e-07, 4.49566384e-07, 4.49566384e-07, 4.49566384e-07,\n",
       "         4.49566384e-07, 4.49566384e-07, 4.49566384e-07, 4.49566384e-07,\n",
       "         4.49566384e-07, 4.49566384e-07, 4.49566384e-07, 4.49566384e-07,\n",
       "         4.49566384e-07, 4.49566384e-07, 4.49566384e-07, 4.49566384e-07,\n",
       "         4.49566384e-07, 4.49566384e-07, 4.49566384e-07, 4.49566384e-07,\n",
       "         4.49566384e-07, 4.49566384e-07, 4.49566384e-07, 4.49566384e-07,\n",
       "         4.49566384e-07, 4.49566384e-07, 4.49566384e-07, 4.49566384e-07,\n",
       "         4.49566384e-07, 4.49566384e-07, 4.49566384e-07, 4.49566384e-07,\n",
       "         4.49566384e-07, 4.49566384e-07, 4.49566384e-07, 4.49566384e-07,\n",
       "         4.49566384e-07, 4.49566384e-07, 4.49566384e-07, 4.49566384e-07,\n",
       "         4.49566384e-07, 4.49566384e-07, 4.49566384e-07, 4.49566384e-07,\n",
       "         4.49566384e-07, 4.49566384e-07, 4.49566384e-07, 4.49566384e-07,\n",
       "         4.49566384e-07, 4.49566384e-07, 4.49566384e-07, 4.49566384e-07,\n",
       "         4.49566384e-07, 4.49566384e-07, 4.49566384e-07, 4.49566384e-07,\n",
       "         4.49566384e-07, 4.49566384e-07, 4.49566384e-07, 4.49566384e-07,\n",
       "         4.49566384e-07])},\n",
       " 'minibatch_01': {'mean': array([33.09530258, 32.93199615, 32.87552916, 32.81969135, 32.74493973,\n",
       "         32.72991106, 32.72892383, 32.68109184, 32.65303339, 32.63373305,\n",
       "         32.69765969, 32.6369155 , 32.62159088, 32.61761155, 32.62471073,\n",
       "         32.61976885, 32.61821453, 32.6196279 , 32.59630915, 32.58044402,\n",
       "         32.57785673, 32.58724147, 32.60100657, 32.57276871, 32.58623331,\n",
       "         32.58466197, 32.56415064, 32.56373231, 32.5334654 , 32.53515735,\n",
       "         32.54007033, 32.52848186, 32.52964051, 32.53771761, 32.56435197,\n",
       "         32.55615959, 32.52946241, 32.52199269, 32.50902476, 32.50756066,\n",
       "         32.51750676, 32.5085438 , 32.51928326, 32.51898431, 32.50567682,\n",
       "         32.49013848, 32.48796256, 32.48560214, 32.48226957, 32.49136774,\n",
       "         32.49020972, 32.49259515, 32.49397241, 32.50077742, 32.48233238,\n",
       "         32.47864209, 32.49102736, 32.46839649, 32.47389788, 32.45944697,\n",
       "         32.46679008, 32.46679008, 32.46679008, 32.46679008, 32.46679008,\n",
       "         32.46679008, 32.46679008, 32.46679008, 32.46679008, 32.46679008,\n",
       "         32.46679008, 32.46679008, 32.46679008, 32.46679008, 32.46679008,\n",
       "         32.46679008, 32.46679008, 32.46679008, 32.46679008, 32.46679008,\n",
       "         32.46679008, 32.46679008, 32.46679008, 32.46679008, 32.46679008,\n",
       "         32.46679008, 32.46679008, 32.46679008, 32.46679008, 32.46679008,\n",
       "         32.46679008, 32.46679008, 32.46679008, 32.46679008, 32.46679008,\n",
       "         32.46679008, 32.46679008, 32.46679008, 32.46679008, 32.46679008,\n",
       "         32.46679008, 32.46679008, 32.46679008, 32.46679008, 32.46679008,\n",
       "         32.46679008, 32.46679008, 32.46679008, 32.46679008, 32.46679008,\n",
       "         32.46679008, 32.46679008, 32.46679008, 32.46679008, 32.46679008,\n",
       "         32.46679008, 32.46679008, 32.46679008, 32.46679008, 32.46679008,\n",
       "         32.46679008, 32.46679008, 32.46679008, 32.46679008, 32.46679008,\n",
       "         32.46679008, 32.46679008, 32.46679008, 32.46679008, 32.46679008,\n",
       "         32.46679008, 32.46679008, 32.46679008, 32.46679008, 32.46679008,\n",
       "         32.46679008, 32.46679008, 32.46679008, 32.46679008, 32.46679008,\n",
       "         32.46679008, 32.46679008, 32.46679008, 32.46679008, 32.46679008,\n",
       "         32.46679008, 32.46679008, 32.46679008, 32.46679008, 32.46679008,\n",
       "         32.46679008, 32.46679008, 32.46679008, 32.46679008, 32.46679008,\n",
       "         32.46679008, 32.46679008, 32.46679008, 32.46679008, 32.46679008,\n",
       "         32.46679008, 32.46679008, 32.46679008, 32.46679008, 32.46679008,\n",
       "         32.46679008, 32.46679008, 32.46679008, 32.46679008, 32.46679008,\n",
       "         32.46679008, 32.46679008, 32.46679008, 32.46679008, 32.46679008,\n",
       "         32.46679008, 32.46679008, 32.46679008, 32.46679008, 32.46679008,\n",
       "         32.46679008, 32.46679008, 32.46679008, 32.46679008, 32.46679008,\n",
       "         32.46679008, 32.46679008, 32.46679008, 32.46679008, 32.46679008,\n",
       "         32.46679008, 32.46679008, 32.46679008, 32.46679008, 32.46679008,\n",
       "         32.46679008, 32.46679008, 32.46679008, 32.46679008, 32.46679008,\n",
       "         32.46679008]),\n",
       "  'std': array([0.        , 0.05318585, 0.05228419, 0.05612266, 0.02630232,\n",
       "         0.03624268, 0.06243587, 0.04815564, 0.01494148, 0.00711477,\n",
       "         0.04661099, 0.00976084, 0.02206632, 0.0218771 , 0.01394888,\n",
       "         0.0209026 , 0.02309406, 0.02110127, 0.05403661, 0.07646536,\n",
       "         0.08012347, 0.06685506, 0.04739725, 0.0873175 , 0.06828036,\n",
       "         0.07050189, 0.09950325, 0.10009477, 0.14289426, 0.14050167,\n",
       "         0.1335542 , 0.14994157, 0.1483031 , 0.13688118, 0.09921857,\n",
       "         0.1108028 , 0.14855496, 0.15911808, 0.17745656, 0.17952702,\n",
       "         0.1654618 , 0.17813671, 0.16294958, 0.16337234, 0.18219105,\n",
       "         0.20416471, 0.20724182, 0.21057984, 0.21529266, 0.20242634,\n",
       "         0.20406397, 0.20069058, 0.19874292, 0.18911955, 0.21520384,\n",
       "         0.22042253, 0.20290768, 0.2349116 , 0.22713167, 0.2475678 ,\n",
       "         0.23718334, 0.23718334, 0.23718334, 0.23718334, 0.23718334,\n",
       "         0.23718334, 0.23718334, 0.23718334, 0.23718334, 0.23718334,\n",
       "         0.23718334, 0.23718334, 0.23718334, 0.23718334, 0.23718334,\n",
       "         0.23718334, 0.23718334, 0.23718334, 0.23718334, 0.23718334,\n",
       "         0.23718334, 0.23718334, 0.23718334, 0.23718334, 0.23718334,\n",
       "         0.23718334, 0.23718334, 0.23718334, 0.23718334, 0.23718334,\n",
       "         0.23718334, 0.23718334, 0.23718334, 0.23718334, 0.23718334,\n",
       "         0.23718334, 0.23718334, 0.23718334, 0.23718334, 0.23718334,\n",
       "         0.23718334, 0.23718334, 0.23718334, 0.23718334, 0.23718334,\n",
       "         0.23718334, 0.23718334, 0.23718334, 0.23718334, 0.23718334,\n",
       "         0.23718334, 0.23718334, 0.23718334, 0.23718334, 0.23718334,\n",
       "         0.23718334, 0.23718334, 0.23718334, 0.23718334, 0.23718334,\n",
       "         0.23718334, 0.23718334, 0.23718334, 0.23718334, 0.23718334,\n",
       "         0.23718334, 0.23718334, 0.23718334, 0.23718334, 0.23718334,\n",
       "         0.23718334, 0.23718334, 0.23718334, 0.23718334, 0.23718334,\n",
       "         0.23718334, 0.23718334, 0.23718334, 0.23718334, 0.23718334,\n",
       "         0.23718334, 0.23718334, 0.23718334, 0.23718334, 0.23718334,\n",
       "         0.23718334, 0.23718334, 0.23718334, 0.23718334, 0.23718334,\n",
       "         0.23718334, 0.23718334, 0.23718334, 0.23718334, 0.23718334,\n",
       "         0.23718334, 0.23718334, 0.23718334, 0.23718334, 0.23718334,\n",
       "         0.23718334, 0.23718334, 0.23718334, 0.23718334, 0.23718334,\n",
       "         0.23718334, 0.23718334, 0.23718334, 0.23718334, 0.23718334,\n",
       "         0.23718334, 0.23718334, 0.23718334, 0.23718334, 0.23718334,\n",
       "         0.23718334, 0.23718334, 0.23718334, 0.23718334, 0.23718334,\n",
       "         0.23718334, 0.23718334, 0.23718334, 0.23718334, 0.23718334,\n",
       "         0.23718334, 0.23718334, 0.23718334, 0.23718334, 0.23718334,\n",
       "         0.23718334, 0.23718334, 0.23718334, 0.23718334, 0.23718334,\n",
       "         0.23718334, 0.23718334, 0.23718334, 0.23718334, 0.23718334,\n",
       "         0.23718334])},\n",
       " 'minibatch_02': {'mean': array([33.09530258, 33.03780216, 33.06975496, 33.03889787, 32.97461219,\n",
       "         32.91332572, 32.84431116, 32.82140799, 32.78365139, 32.78068189,\n",
       "         32.77576578, 32.74807272, 32.7324033 , 32.73571059, 32.69143799,\n",
       "         32.68255799, 32.64648986, 32.65957556, 32.61628964, 32.60915791,\n",
       "         32.60703174, 32.62261108, 32.59651194, 32.57483972, 32.5686475 ,\n",
       "         32.56268086, 32.55657778, 32.56613797, 32.56901038, 32.5659434 ,\n",
       "         32.57640552, 32.57704502, 32.55827157, 32.55646186, 32.55640884,\n",
       "         32.54567112, 32.54284442, 32.53805997, 32.53709095, 32.53027662,\n",
       "         32.52595707, 32.5545657 , 32.53332617, 32.52975109, 32.53027838,\n",
       "         32.5281309 , 32.54118789, 32.54016171, 32.56144833, 32.54520535,\n",
       "         32.54073691, 32.52188147, 32.5237003 , 32.51314159, 32.520072  ,\n",
       "         32.51400029, 32.50128347, 32.50025451, 32.50908534, 32.49967409,\n",
       "         32.49781217, 32.49921467, 32.49921467, 32.49921467, 32.49921467,\n",
       "         32.49921467, 32.49921467, 32.49921467, 32.49921467, 32.49921467,\n",
       "         32.49921467, 32.49921467, 32.49921467, 32.49921467, 32.49921467,\n",
       "         32.49921467, 32.49921467, 32.49921467, 32.49921467, 32.49921467,\n",
       "         32.49921467, 32.49921467, 32.49921467, 32.49921467, 32.49921467,\n",
       "         32.49921467, 32.49921467, 32.49921467, 32.49921467, 32.49921467,\n",
       "         32.49921467, 32.49921467, 32.49921467, 32.49921467, 32.49921467,\n",
       "         32.49921467, 32.49921467, 32.49921467, 32.49921467, 32.49921467,\n",
       "         32.49921467, 32.49921467, 32.49921467, 32.49921467, 32.49921467,\n",
       "         32.49921467, 32.49921467, 32.49921467, 32.49921467, 32.49921467,\n",
       "         32.49921467, 32.49921467, 32.49921467, 32.49921467, 32.49921467,\n",
       "         32.49921467, 32.49921467, 32.49921467, 32.49921467, 32.49921467,\n",
       "         32.49921467, 32.49921467, 32.49921467, 32.49921467, 32.49921467,\n",
       "         32.49921467, 32.49921467, 32.49921467, 32.49921467, 32.49921467,\n",
       "         32.49921467, 32.49921467, 32.49921467, 32.49921467, 32.49921467,\n",
       "         32.49921467, 32.49921467, 32.49921467, 32.49921467, 32.49921467,\n",
       "         32.49921467, 32.49921467, 32.49921467, 32.49921467, 32.49921467,\n",
       "         32.49921467, 32.49921467, 32.49921467, 32.49921467, 32.49921467,\n",
       "         32.49921467, 32.49921467, 32.49921467, 32.49921467, 32.49921467,\n",
       "         32.49921467, 32.49921467, 32.49921467, 32.49921467, 32.49921467,\n",
       "         32.49921467, 32.49921467, 32.49921467, 32.49921467, 32.49921467,\n",
       "         32.49921467, 32.49921467, 32.49921467, 32.49921467, 32.49921467,\n",
       "         32.49921467, 32.49921467, 32.49921467, 32.49921467, 32.49921467,\n",
       "         32.49921467, 32.49921467, 32.49921467, 32.49921467, 32.49921467,\n",
       "         32.49921467, 32.49921467, 32.49921467, 32.49921467, 32.49921467,\n",
       "         32.49921467, 32.49921467, 32.49921467, 32.49921467, 32.49921467,\n",
       "         32.49921467, 32.49921467, 32.49921467, 32.49921467, 32.49921467,\n",
       "         32.49921467, 32.49921467, 32.49921467, 32.49921467, 32.49921467,\n",
       "         32.49921467]),\n",
       "  'std': array([0.        , 0.01168179, 0.12021276, 0.14532978, 0.10941788,\n",
       "         0.07230635, 0.03580337, 0.03056201, 0.01983355, 0.0213658 ,\n",
       "         0.02770364, 0.03035082, 0.06767868, 0.04801777, 0.06071338,\n",
       "         0.03479881, 0.03259778, 0.05188072, 0.04228043, 0.02617452,\n",
       "         0.0227352 , 0.032268  , 0.01170151, 0.01580127, 0.0160439 ,\n",
       "         0.02447773, 0.02380263, 0.02116836, 0.01635034, 0.01664672,\n",
       "         0.0356382 , 0.01695696, 0.04268845, 0.04521891, 0.04529309,\n",
       "         0.06035781, 0.06433303, 0.07106716, 0.07243178, 0.08203354,\n",
       "         0.08812399, 0.04787355, 0.07773549, 0.08277438, 0.08203107,\n",
       "         0.08505862, 0.06666386, 0.06810816, 0.03825576, 0.06101263,\n",
       "         0.06729856, 0.09387266, 0.09130695, 0.10620586, 0.09642553,\n",
       "         0.10499384, 0.12294797, 0.12440108, 0.11193182, 0.12522077,\n",
       "         0.12785037, 0.1258696 , 0.1258696 , 0.1258696 , 0.1258696 ,\n",
       "         0.1258696 , 0.1258696 , 0.1258696 , 0.1258696 , 0.1258696 ,\n",
       "         0.1258696 , 0.1258696 , 0.1258696 , 0.1258696 , 0.1258696 ,\n",
       "         0.1258696 , 0.1258696 , 0.1258696 , 0.1258696 , 0.1258696 ,\n",
       "         0.1258696 , 0.1258696 , 0.1258696 , 0.1258696 , 0.1258696 ,\n",
       "         0.1258696 , 0.1258696 , 0.1258696 , 0.1258696 , 0.1258696 ,\n",
       "         0.1258696 , 0.1258696 , 0.1258696 , 0.1258696 , 0.1258696 ,\n",
       "         0.1258696 , 0.1258696 , 0.1258696 , 0.1258696 , 0.1258696 ,\n",
       "         0.1258696 , 0.1258696 , 0.1258696 , 0.1258696 , 0.1258696 ,\n",
       "         0.1258696 , 0.1258696 , 0.1258696 , 0.1258696 , 0.1258696 ,\n",
       "         0.1258696 , 0.1258696 , 0.1258696 , 0.1258696 , 0.1258696 ,\n",
       "         0.1258696 , 0.1258696 , 0.1258696 , 0.1258696 , 0.1258696 ,\n",
       "         0.1258696 , 0.1258696 , 0.1258696 , 0.1258696 , 0.1258696 ,\n",
       "         0.1258696 , 0.1258696 , 0.1258696 , 0.1258696 , 0.1258696 ,\n",
       "         0.1258696 , 0.1258696 , 0.1258696 , 0.1258696 , 0.1258696 ,\n",
       "         0.1258696 , 0.1258696 , 0.1258696 , 0.1258696 , 0.1258696 ,\n",
       "         0.1258696 , 0.1258696 , 0.1258696 , 0.1258696 , 0.1258696 ,\n",
       "         0.1258696 , 0.1258696 , 0.1258696 , 0.1258696 , 0.1258696 ,\n",
       "         0.1258696 , 0.1258696 , 0.1258696 , 0.1258696 , 0.1258696 ,\n",
       "         0.1258696 , 0.1258696 , 0.1258696 , 0.1258696 , 0.1258696 ,\n",
       "         0.1258696 , 0.1258696 , 0.1258696 , 0.1258696 , 0.1258696 ,\n",
       "         0.1258696 , 0.1258696 , 0.1258696 , 0.1258696 , 0.1258696 ,\n",
       "         0.1258696 , 0.1258696 , 0.1258696 , 0.1258696 , 0.1258696 ,\n",
       "         0.1258696 , 0.1258696 , 0.1258696 , 0.1258696 , 0.1258696 ,\n",
       "         0.1258696 , 0.1258696 , 0.1258696 , 0.1258696 , 0.1258696 ,\n",
       "         0.1258696 , 0.1258696 , 0.1258696 , 0.1258696 , 0.1258696 ,\n",
       "         0.1258696 , 0.1258696 , 0.1258696 , 0.1258696 , 0.1258696 ,\n",
       "         0.1258696 , 0.1258696 , 0.1258696 , 0.1258696 , 0.1258696 ,\n",
       "         0.1258696 ])},\n",
       " 'minibatch_05': {'mean': array([33.09530258, 33.07027717, 33.045597  , 33.03242473, 32.99124969,\n",
       "         32.96481897, 32.94621281, 32.9299249 , 32.90745113, 32.90338837,\n",
       "         32.86339911, 32.83508367, 32.86329642, 32.83472874, 32.84955371,\n",
       "         32.81485614, 32.80243615, 32.78625999, 32.7873008 , 32.77414204,\n",
       "         32.76768752, 32.76419372, 32.75227225, 32.75248922, 32.7410639 ,\n",
       "         32.7408937 , 32.73123867, 32.73251878, 32.7256983 , 32.72602562,\n",
       "         32.74220856, 32.72856594, 32.7206867 , 32.7117902 , 32.70650851,\n",
       "         32.71177588, 32.71151536, 32.7037428 , 32.70536016, 32.7014985 ,\n",
       "         32.69668854, 32.69477397, 32.69409064, 32.69485747, 32.69485747,\n",
       "         32.69485747, 32.69485747, 32.69485747, 32.69485747, 32.69485747,\n",
       "         32.69485747, 32.69485747, 32.69485747, 32.69485747, 32.69485747,\n",
       "         32.69485747, 32.69485747, 32.69485747, 32.69485747, 32.69485747,\n",
       "         32.69485747, 32.69485747, 32.69485747, 32.69485747, 32.69485747,\n",
       "         32.69485747, 32.69485747, 32.69485747, 32.69485747, 32.69485747,\n",
       "         32.69485747, 32.69485747, 32.69485747, 32.69485747, 32.69485747,\n",
       "         32.69485747, 32.69485747, 32.69485747, 32.69485747, 32.69485747,\n",
       "         32.69485747, 32.69485747, 32.69485747, 32.69485747, 32.69485747,\n",
       "         32.69485747, 32.69485747, 32.69485747, 32.69485747, 32.69485747,\n",
       "         32.69485747, 32.69485747, 32.69485747, 32.69485747, 32.69485747,\n",
       "         32.69485747, 32.69485747, 32.69485747, 32.69485747, 32.69485747,\n",
       "         32.69485747, 32.69485747, 32.69485747, 32.69485747, 32.69485747,\n",
       "         32.69485747, 32.69485747, 32.69485747, 32.69485747, 32.69485747,\n",
       "         32.69485747, 32.69485747, 32.69485747, 32.69485747, 32.69485747,\n",
       "         32.69485747, 32.69485747, 32.69485747, 32.69485747, 32.69485747,\n",
       "         32.69485747, 32.69485747, 32.69485747, 32.69485747, 32.69485747,\n",
       "         32.69485747, 32.69485747, 32.69485747, 32.69485747, 32.69485747,\n",
       "         32.69485747, 32.69485747, 32.69485747, 32.69485747, 32.69485747,\n",
       "         32.69485747, 32.69485747, 32.69485747, 32.69485747, 32.69485747,\n",
       "         32.69485747, 32.69485747, 32.69485747, 32.69485747, 32.69485747,\n",
       "         32.69485747, 32.69485747, 32.69485747, 32.69485747, 32.69485747,\n",
       "         32.69485747, 32.69485747, 32.69485747, 32.69485747, 32.69485747,\n",
       "         32.69485747, 32.69485747, 32.69485747, 32.69485747, 32.69485747,\n",
       "         32.69485747, 32.69485747, 32.69485747, 32.69485747, 32.69485747,\n",
       "         32.69485747, 32.69485747, 32.69485747, 32.69485747, 32.69485747,\n",
       "         32.69485747, 32.69485747, 32.69485747, 32.69485747, 32.69485747,\n",
       "         32.69485747, 32.69485747, 32.69485747, 32.69485747, 32.69485747,\n",
       "         32.69485747, 32.69485747, 32.69485747, 32.69485747, 32.69485747,\n",
       "         32.69485747, 32.69485747, 32.69485747, 32.69485747, 32.69485747,\n",
       "         32.69485747, 32.69485747, 32.69485747, 32.69485747, 32.69485747,\n",
       "         32.69485747, 32.69485747, 32.69485747, 32.69485747, 32.69485747,\n",
       "         32.69485747]),\n",
       "  'std': array([0.        , 0.00879769, 0.01088802, 0.01538334, 0.00876558,\n",
       "         0.00475911, 0.01400255, 0.01052012, 0.01666708, 0.02818134,\n",
       "         0.01613995, 0.00308266, 0.02049144, 0.01412443, 0.03366277,\n",
       "         0.02443543, 0.02507996, 0.01444318, 0.02348206, 0.02487452,\n",
       "         0.02936254, 0.03198098, 0.04093936, 0.04161222, 0.04968096,\n",
       "         0.048564  , 0.05552385, 0.05445555, 0.06055559, 0.06024167,\n",
       "         0.04783987, 0.05787344, 0.06558262, 0.07532723, 0.08148099,\n",
       "         0.0753436 , 0.07564161, 0.08478773, 0.08284759, 0.08750772,\n",
       "         0.09343366, 0.09582484, 0.09668231, 0.0957202 , 0.0957202 ,\n",
       "         0.0957202 , 0.0957202 , 0.0957202 , 0.0957202 , 0.0957202 ,\n",
       "         0.0957202 , 0.0957202 , 0.0957202 , 0.0957202 , 0.0957202 ,\n",
       "         0.0957202 , 0.0957202 , 0.0957202 , 0.0957202 , 0.0957202 ,\n",
       "         0.0957202 , 0.0957202 , 0.0957202 , 0.0957202 , 0.0957202 ,\n",
       "         0.0957202 , 0.0957202 , 0.0957202 , 0.0957202 , 0.0957202 ,\n",
       "         0.0957202 , 0.0957202 , 0.0957202 , 0.0957202 , 0.0957202 ,\n",
       "         0.0957202 , 0.0957202 , 0.0957202 , 0.0957202 , 0.0957202 ,\n",
       "         0.0957202 , 0.0957202 , 0.0957202 , 0.0957202 , 0.0957202 ,\n",
       "         0.0957202 , 0.0957202 , 0.0957202 , 0.0957202 , 0.0957202 ,\n",
       "         0.0957202 , 0.0957202 , 0.0957202 , 0.0957202 , 0.0957202 ,\n",
       "         0.0957202 , 0.0957202 , 0.0957202 , 0.0957202 , 0.0957202 ,\n",
       "         0.0957202 , 0.0957202 , 0.0957202 , 0.0957202 , 0.0957202 ,\n",
       "         0.0957202 , 0.0957202 , 0.0957202 , 0.0957202 , 0.0957202 ,\n",
       "         0.0957202 , 0.0957202 , 0.0957202 , 0.0957202 , 0.0957202 ,\n",
       "         0.0957202 , 0.0957202 , 0.0957202 , 0.0957202 , 0.0957202 ,\n",
       "         0.0957202 , 0.0957202 , 0.0957202 , 0.0957202 , 0.0957202 ,\n",
       "         0.0957202 , 0.0957202 , 0.0957202 , 0.0957202 , 0.0957202 ,\n",
       "         0.0957202 , 0.0957202 , 0.0957202 , 0.0957202 , 0.0957202 ,\n",
       "         0.0957202 , 0.0957202 , 0.0957202 , 0.0957202 , 0.0957202 ,\n",
       "         0.0957202 , 0.0957202 , 0.0957202 , 0.0957202 , 0.0957202 ,\n",
       "         0.0957202 , 0.0957202 , 0.0957202 , 0.0957202 , 0.0957202 ,\n",
       "         0.0957202 , 0.0957202 , 0.0957202 , 0.0957202 , 0.0957202 ,\n",
       "         0.0957202 , 0.0957202 , 0.0957202 , 0.0957202 , 0.0957202 ,\n",
       "         0.0957202 , 0.0957202 , 0.0957202 , 0.0957202 , 0.0957202 ,\n",
       "         0.0957202 , 0.0957202 , 0.0957202 , 0.0957202 , 0.0957202 ,\n",
       "         0.0957202 , 0.0957202 , 0.0957202 , 0.0957202 , 0.0957202 ,\n",
       "         0.0957202 , 0.0957202 , 0.0957202 , 0.0957202 , 0.0957202 ,\n",
       "         0.0957202 , 0.0957202 , 0.0957202 , 0.0957202 , 0.0957202 ,\n",
       "         0.0957202 , 0.0957202 , 0.0957202 , 0.0957202 , 0.0957202 ,\n",
       "         0.0957202 , 0.0957202 , 0.0957202 , 0.0957202 , 0.0957202 ,\n",
       "         0.0957202 , 0.0957202 , 0.0957202 , 0.0957202 , 0.0957202 ,\n",
       "         0.0957202 ])},\n",
       " 'minibatch_07': {'mean': array([33.09530258, 33.06839414, 33.05040756, 33.03203576, 33.04212385,\n",
       "         33.01150433, 32.9982336 , 32.96494548, 32.95254396, 32.93055957,\n",
       "         32.89773882, 32.88209475, 32.88471351, 32.87149214, 32.86573016,\n",
       "         32.84822323, 32.8384994 , 32.83619678, 32.83025937, 32.82492246,\n",
       "         32.82087491, 32.81647586, 32.82331775, 32.81314529, 32.79567556,\n",
       "         32.7825829 , 32.77914113, 32.78075162, 32.77046981, 32.76277049,\n",
       "         32.7719884 , 32.76683489, 32.76583849, 32.76470808, 32.76181771,\n",
       "         32.76077178, 32.75624361, 32.76384735, 32.75991552, 32.75991552,\n",
       "         32.75991552, 32.75991552, 32.75991552, 32.75991552, 32.75991552,\n",
       "         32.75991552, 32.75991552, 32.75991552, 32.75991552, 32.75991552,\n",
       "         32.75991552, 32.75991552, 32.75991552, 32.75991552, 32.75991552,\n",
       "         32.75991552, 32.75991552, 32.75991552, 32.75991552, 32.75991552,\n",
       "         32.75991552, 32.75991552, 32.75991552, 32.75991552, 32.75991552,\n",
       "         32.75991552, 32.75991552, 32.75991552, 32.75991552, 32.75991552,\n",
       "         32.75991552, 32.75991552, 32.75991552, 32.75991552, 32.75991552,\n",
       "         32.75991552, 32.75991552, 32.75991552, 32.75991552, 32.75991552,\n",
       "         32.75991552, 32.75991552, 32.75991552, 32.75991552, 32.75991552,\n",
       "         32.75991552, 32.75991552, 32.75991552, 32.75991552, 32.75991552,\n",
       "         32.75991552, 32.75991552, 32.75991552, 32.75991552, 32.75991552,\n",
       "         32.75991552, 32.75991552, 32.75991552, 32.75991552, 32.75991552,\n",
       "         32.75991552, 32.75991552, 32.75991552, 32.75991552, 32.75991552,\n",
       "         32.75991552, 32.75991552, 32.75991552, 32.75991552, 32.75991552,\n",
       "         32.75991552, 32.75991552, 32.75991552, 32.75991552, 32.75991552,\n",
       "         32.75991552, 32.75991552, 32.75991552, 32.75991552, 32.75991552,\n",
       "         32.75991552, 32.75991552, 32.75991552, 32.75991552, 32.75991552,\n",
       "         32.75991552, 32.75991552, 32.75991552, 32.75991552, 32.75991552,\n",
       "         32.75991552, 32.75991552, 32.75991552, 32.75991552, 32.75991552,\n",
       "         32.75991552, 32.75991552, 32.75991552, 32.75991552, 32.75991552,\n",
       "         32.75991552, 32.75991552, 32.75991552, 32.75991552, 32.75991552,\n",
       "         32.75991552, 32.75991552, 32.75991552, 32.75991552, 32.75991552,\n",
       "         32.75991552, 32.75991552, 32.75991552, 32.75991552, 32.75991552,\n",
       "         32.75991552, 32.75991552, 32.75991552, 32.75991552, 32.75991552,\n",
       "         32.75991552, 32.75991552, 32.75991552, 32.75991552, 32.75991552,\n",
       "         32.75991552, 32.75991552, 32.75991552, 32.75991552, 32.75991552,\n",
       "         32.75991552, 32.75991552, 32.75991552, 32.75991552, 32.75991552,\n",
       "         32.75991552, 32.75991552, 32.75991552, 32.75991552, 32.75991552,\n",
       "         32.75991552, 32.75991552, 32.75991552, 32.75991552, 32.75991552,\n",
       "         32.75991552, 32.75991552, 32.75991552, 32.75991552, 32.75991552,\n",
       "         32.75991552, 32.75991552, 32.75991552, 32.75991552, 32.75991552,\n",
       "         32.75991552, 32.75991552, 32.75991552, 32.75991552, 32.75991552,\n",
       "         32.75991552]),\n",
       "  'std': array([0.        , 0.00347811, 0.01191554, 0.00598081, 0.05043711,\n",
       "         0.03499173, 0.03185195, 0.02345391, 0.02274592, 0.01712808,\n",
       "         0.0088069 , 0.01123681, 0.01396029, 0.00524049, 0.01528492,\n",
       "         0.02219085, 0.02885338, 0.03175344, 0.0335821 , 0.03734803,\n",
       "         0.03984129, 0.04450871, 0.03843717, 0.04779456, 0.05802909,\n",
       "         0.06691434, 0.06995984, 0.06886604, 0.07550406, 0.08092062,\n",
       "         0.07552809, 0.07806017, 0.07959364, 0.08059597, 0.08324364,\n",
       "         0.08423013, 0.08865913, 0.08137197, 0.08504836, 0.08504836,\n",
       "         0.08504836, 0.08504836, 0.08504836, 0.08504836, 0.08504836,\n",
       "         0.08504836, 0.08504836, 0.08504836, 0.08504836, 0.08504836,\n",
       "         0.08504836, 0.08504836, 0.08504836, 0.08504836, 0.08504836,\n",
       "         0.08504836, 0.08504836, 0.08504836, 0.08504836, 0.08504836,\n",
       "         0.08504836, 0.08504836, 0.08504836, 0.08504836, 0.08504836,\n",
       "         0.08504836, 0.08504836, 0.08504836, 0.08504836, 0.08504836,\n",
       "         0.08504836, 0.08504836, 0.08504836, 0.08504836, 0.08504836,\n",
       "         0.08504836, 0.08504836, 0.08504836, 0.08504836, 0.08504836,\n",
       "         0.08504836, 0.08504836, 0.08504836, 0.08504836, 0.08504836,\n",
       "         0.08504836, 0.08504836, 0.08504836, 0.08504836, 0.08504836,\n",
       "         0.08504836, 0.08504836, 0.08504836, 0.08504836, 0.08504836,\n",
       "         0.08504836, 0.08504836, 0.08504836, 0.08504836, 0.08504836,\n",
       "         0.08504836, 0.08504836, 0.08504836, 0.08504836, 0.08504836,\n",
       "         0.08504836, 0.08504836, 0.08504836, 0.08504836, 0.08504836,\n",
       "         0.08504836, 0.08504836, 0.08504836, 0.08504836, 0.08504836,\n",
       "         0.08504836, 0.08504836, 0.08504836, 0.08504836, 0.08504836,\n",
       "         0.08504836, 0.08504836, 0.08504836, 0.08504836, 0.08504836,\n",
       "         0.08504836, 0.08504836, 0.08504836, 0.08504836, 0.08504836,\n",
       "         0.08504836, 0.08504836, 0.08504836, 0.08504836, 0.08504836,\n",
       "         0.08504836, 0.08504836, 0.08504836, 0.08504836, 0.08504836,\n",
       "         0.08504836, 0.08504836, 0.08504836, 0.08504836, 0.08504836,\n",
       "         0.08504836, 0.08504836, 0.08504836, 0.08504836, 0.08504836,\n",
       "         0.08504836, 0.08504836, 0.08504836, 0.08504836, 0.08504836,\n",
       "         0.08504836, 0.08504836, 0.08504836, 0.08504836, 0.08504836,\n",
       "         0.08504836, 0.08504836, 0.08504836, 0.08504836, 0.08504836,\n",
       "         0.08504836, 0.08504836, 0.08504836, 0.08504836, 0.08504836,\n",
       "         0.08504836, 0.08504836, 0.08504836, 0.08504836, 0.08504836,\n",
       "         0.08504836, 0.08504836, 0.08504836, 0.08504836, 0.08504836,\n",
       "         0.08504836, 0.08504836, 0.08504836, 0.08504836, 0.08504836,\n",
       "         0.08504836, 0.08504836, 0.08504836, 0.08504836, 0.08504836,\n",
       "         0.08504836, 0.08504836, 0.08504836, 0.08504836, 0.08504836,\n",
       "         0.08504836, 0.08504836, 0.08504836, 0.08504836, 0.08504836,\n",
       "         0.08504836])}}"
      ]
     },
     "execution_count": 31,
     "metadata": {},
     "output_type": "execute_result"
    }
   ],
   "source": [
    "results_mean_std"
   ]
  },
  {
   "cell_type": "code",
   "execution_count": null,
   "id": "fb06aafc",
   "metadata": {},
   "outputs": [],
   "source": [
    "plt.figure(figsize=(12, 6))\n",
    "\n",
    "# different markers\n",
    "markers = ['o', 's', '^', 'D', 'x', '*']\n",
    "\n",
    "# offsets to avoid errorbar overlaps\n",
    "offsets = [0,1,0,0,1,-1]\n",
    "for i, (key, stats) in enumerate(results_mean_std.items()):\n",
    "    mean = stats[\"mean\"]\n",
    "    std = stats[\"std\"]\n",
    "    epochs = np.arange(len(mean))\n",
    "\n",
    "    # line style\n",
    "    if \"lloyd\" in key:\n",
    "        line_style = \"--\"   \n",
    "    else:\n",
    "        line_style = \"-\"    \n",
    "\n",
    "    # cycle markers\n",
    "    marker = markers[i]\n",
    "    \n",
    "    plt.errorbar(\n",
    "        epochs[::10+offsets[i]], mean[::10+offsets[i]], yerr=std[::10+offsets[i]],\n",
    "        fmt=line_style+marker, capsize=3, label=key\n",
    "    )\n",
    "    offset += 1\n",
    "\n",
    "plt.xlabel(\"Epoch\", fontsize=14)\n",
    "plt.ylabel(\"Cost\", fontsize=14)\n",
    "plt.title(\"K-Means Convergence: Cost vs Epochs\", fontsize=16)\n",
    "plt.grid(alpha=0.6)\n",
    "plt.legend(title=\"Algorithm:\", loc=\"best\")\n",
    "plt.show()"
   ]
  },
  {
   "cell_type": "markdown",
   "id": "d823b81f",
   "metadata": {},
   "source": [
    "Stopping the cluster"
   ]
  },
  {
   "cell_type": "code",
   "execution_count": 26,
   "id": "a6b3093a",
   "metadata": {},
   "outputs": [],
   "source": [
    "sc.stop()\n",
    "spark.stop()"
   ]
  },
  {
   "cell_type": "code",
   "execution_count": null,
   "id": "c6575bcc",
   "metadata": {},
   "outputs": [],
   "source": []
  },
  {
   "cell_type": "code",
   "execution_count": null,
   "id": "5795489b",
   "metadata": {},
   "outputs": [],
   "source": []
  },
  {
   "cell_type": "code",
   "execution_count": null,
   "id": "f92e169c",
   "metadata": {},
   "outputs": [],
   "source": []
  },
  {
   "cell_type": "code",
   "execution_count": null,
   "id": "369c0fc0",
   "metadata": {},
   "outputs": [],
   "source": []
  },
  {
   "cell_type": "code",
   "execution_count": null,
   "id": "6b01604e",
   "metadata": {},
   "outputs": [],
   "source": []
  },
  {
   "cell_type": "code",
   "execution_count": null,
   "id": "1658272a",
   "metadata": {},
   "outputs": [],
   "source": []
  },
  {
   "cell_type": "code",
   "execution_count": null,
   "id": "681d9f19",
   "metadata": {},
   "outputs": [],
   "source": []
  },
  {
   "cell_type": "code",
   "execution_count": null,
   "id": "3521234e",
   "metadata": {},
   "outputs": [],
   "source": []
  },
  {
   "cell_type": "code",
   "execution_count": null,
   "id": "b30863de",
   "metadata": {},
   "outputs": [],
   "source": []
  }
 ],
 "metadata": {
  "kernelspec": {
   "display_name": "Python 3 (ipykernel)",
   "language": "python",
   "name": "python3"
  },
  "language_info": {
   "codemirror_mode": {
    "name": "ipython",
    "version": 3
   },
   "file_extension": ".py",
   "mimetype": "text/x-python",
   "name": "python",
   "nbconvert_exporter": "python",
   "pygments_lexer": "ipython3",
   "version": "3.11.12"
  }
 },
 "nbformat": 4,
 "nbformat_minor": 5
}
