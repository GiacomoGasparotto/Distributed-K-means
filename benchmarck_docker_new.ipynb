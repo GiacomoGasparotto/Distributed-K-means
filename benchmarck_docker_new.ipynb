{
 "cells": [
  {
   "cell_type": "markdown",
   "metadata": {},
   "source": [
    "# General Imports"
   ]
  },
  {
   "cell_type": "code",
   "execution_count": null,
   "metadata": {},
   "outputs": [],
   "source": [
    "import numpy as np\n",
    "import numpy.typing as npt\n",
    "import os\n",
    "import pandas as pd\n",
    "import time\n",
    "\n",
    "import matplotlib\n",
    "import matplotlib.pyplot as plt\n",
    "from matplotlib.ticker import FuncFormatter, MaxNLocator\n",
    "import matplotlib.cm as cm\n",
    "import seaborn as sns\n",
    "\n",
    "from functools import singledispatch\n",
    "import warnings\n",
    "import logging\n",
    "\n",
    "# dataset\n",
    "from sklearn.datasets import fetch_kddcup99\n",
    "from sklearn.preprocessing import StandardScaler\n",
    "\n",
    "# pyspark module\n",
    "from pyspark.rdd import RDD\n",
    "\n",
    "# src module\n",
    "from src.utils import *\n",
    "from src.kmeans.base import *\n",
    "from src.kmeans.initialization import *\n",
    "from src.kmeans.update import *"
   ]
  },
  {
   "cell_type": "markdown",
   "metadata": {},
   "source": [
    "# Acess Spark Application"
   ]
  },
  {
   "cell_type": "code",
   "execution_count": null,
   "metadata": {},
   "outputs": [],
   "source": [
    "# Setup the spark warnings\n",
    "warnings.filterwarnings(\"ignore\") \n",
    "logging.getLogger('py4j').setLevel(logging.ERROR) \n",
    "logging.getLogger('pyspark').setLevel(logging.ERROR) \n",
    "log4j_conf_path = \"./Settings//log4j.properties\""
   ]
  },
  {
   "cell_type": "code",
   "execution_count": null,
   "metadata": {},
   "outputs": [
    {
     "name": "stderr",
     "output_type": "stream",
     "text": [
      "Setting default log level to \"WARN\".\n",
      "To adjust logging level use sc.setLogLevel(newLevel). For SparkR, use setLogLevel(newLevel).\n",
      "25/09/13 10:44:38 WARN NativeCodeLoader: Unable to load native-hadoop library for your platform... using builtin-java classes where applicable\n"
     ]
    }
   ],
   "source": [
    "### DOCKER VERSION\n",
    "from pyspark.sql import SparkSession\n",
    "\n",
    "spark = (SparkSession.builder \n",
    "        .appName(\"kMeans\") \n",
    "        .master(\"spark://spark-master:7077\") \n",
    "        .config(\"spark.driver.memory\", \"4g\") \n",
    "        .config(\"spark.executor.memory\", \"4g\") \n",
    "        .config(\"spark.executor.cores\", \"2\") \n",
    "        .config(\"spark.cores.max\", \"8\") \n",
    "        .config(\"spark.network.timeout\", \"600s\")   \n",
    "        .config(\"spark.executor.heartbeatInterval\", \"60s\") \n",
    "        .getOrCreate()\n",
    "        )\n",
    "sc = spark.sparkContext\n",
    "sc.setLogLevel(\"ERROR\")\n",
    "\n",
    "sc.addPyFile(\"src.zip\")"
   ]
  },
  {
   "cell_type": "markdown",
   "metadata": {},
   "source": [
    "# Load and Test datasets"
   ]
  },
  {
   "cell_type": "markdown",
   "metadata": {},
   "source": [
    "## Gaussian Mixture"
   ]
  },
  {
   "cell_type": "markdown",
   "metadata": {},
   "source": [
    "The first dataset we would consider to test the performance of the k-means++ initialization algorithm is a synthetic GaussMixture. To generate it, we sampled $k$ centers from a 15-dimensional spherical Gaussian distribution with mean at the origin and variance $R\\in \\{1,10,100\\}$. We then added points from Gaussian distributions of unit variance around each center. Given the $k$ centers, this is a mixture of $k$ spherical Gaussians with equal weights. The value of the optimal k-clustering\n",
    "can be well approximated using the centers of these Gaussians.\n",
    "\n",
    "We will perform some preliminary analysis that can be efficiently conducted on this dataset."
   ]
  },
  {
   "cell_type": "code",
   "execution_count": null,
   "metadata": {},
   "outputs": [],
   "source": [
    "def gauss_mixture(\n",
    "    n: int=50,  \n",
    "    k: int=10,\n",
    "    dim: int=15,                  \n",
    "    R: int=10\n",
    ") -> RDD:\n",
    "    seed = 42\n",
    "    np.random.seed(seed)\n",
    "    # Centers generation N(0, R*I)\n",
    "    centers = np.random.normal(loc=0, scale=np.sqrt(R), size=(k, dim))\n",
    "    # Point generation N(center, I) for each cluster\n",
    "    return np.concatenate(\n",
    "        [center + np.random.randn(n, dim) for center in centers],\n",
    "        axis=0\n",
    "    ), centers"
   ]
  },
  {
   "cell_type": "markdown",
   "metadata": {},
   "source": [
    "# kMeans|| Init Tests"
   ]
  },
  {
   "cell_type": "markdown",
   "metadata": {},
   "source": [
    "## Time / Cost tables"
   ]
  },
  {
   "cell_type": "markdown",
   "metadata": {},
   "source": [
    "The first thing we want to assess with this dataset is the performance in terms of time and cost using different initialization algorithms. In particular, we chose to initialize our k-means algorithm with four different methods:\n",
    "\n",
    "- **random**;\n",
    "- **k-means++**;\n",
    "- **k-means||** with $l\\cdot k = 0.5$;\n",
    "- **k-means||** with $l\\cdot k = 2$.\n",
    "\n",
    "Each initialization method is followed by Lloyd's iterations.\n",
    "\n",
    "This setup allows us to investigate whether the parallelization introduced by the k-means|| initialization leads to improved clustering performance, using random and k-means++ initializations as baselines."
   ]
  },
  {
   "cell_type": "code",
   "execution_count": null,
   "metadata": {},
   "outputs": [],
   "source": [
    "def compute_time_cost(gm_narray, data_rdd, gm_true_cost, k, R, iterations, lk=1, r=5, init_algo=\"random\"):\n",
    "\n",
    "    # Initialization\n",
    "    start = time.time()\n",
    "    \n",
    "    if init_algo == \"random\": \n",
    "        centroidsRandom = kMeansRandom_init(data_rdd, k)\n",
    "    elif init_algo == \"kmeans++\": \n",
    "        centroidsRandom = kMeansPlusPlus_init(gm_narray, k)\n",
    "    elif init_algo == \"kmeans||\": \n",
    "        centroidsRandom = kMeansParallel_init(data_rdd, k, int(lk*k), r)\n",
    "    else: \n",
    "        raise ValueError(f\"Wrong initialization algorithm selected: '{init_algo}'\")\n",
    "         \n",
    "    init_time = time.time() - start\n",
    "    seed_cost = compute_cost(data_rdd, centroidsRandom)\n",
    "\n",
    "    # Algo\n",
    "    start = time.time()\n",
    "    final_centroids = lloydKMeans(data_rdd, centroidsRandom, iterations)\n",
    "    final_time = time.time() - start\n",
    "    final_cost = compute_cost(data_rdd, final_centroids)\n",
    "\n",
    "    # Store the results in a dictionary\n",
    "    results = []\n",
    "    results.append({\n",
    "        \"R\": R,\n",
    "        \"init_algo\": init_algo,\n",
    "        \"init_time (s)\": init_time,\n",
    "        \"up_time (s)\": final_time,\n",
    "        \"seed\": seed_cost,\n",
    "        \"final\": final_cost,\n",
    "        \"true\": gm_true_cost\n",
    "    })\n",
    "    \n",
    "    results = pd.DataFrame(results)\n",
    "    \n",
    "    return results"
   ]
  },
  {
   "cell_type": "code",
   "execution_count": null,
   "metadata": {},
   "outputs": [],
   "source": [
    "def exp10_cost(cost, frac_digits=2):\n",
    "    \"\"\"Return exponent 'a' s.t. cost ~10^a, rounded to 'frac_digits' decimals.\"\"\"\n",
    "    return float(np.round(np.log10(float(cost)), frac_digits))"
   ]
  },
  {
   "cell_type": "markdown",
   "metadata": {},
   "source": [
    "### GM dataset creation\n",
    "\n",
    "We need to create three different dataset for each value of $R \\in \\{1, 10, 100\\}$."
   ]
  },
  {
   "cell_type": "code",
   "execution_count": null,
   "metadata": {},
   "outputs": [],
   "source": [
    "# --- control parameters ---\n",
    "k = 50\n",
    "n = 10_000\n",
    "dim = 15\n",
    "R = [1, 10, 100]\n",
    "r = 5\n",
    "iterations = 1000\n",
    "\n",
    "# toy parameters for testing\n",
    "\"\"\"k = 5\n",
    "n = 100\n",
    "dim = 15\n",
    "R = [1, 10, 100]\n",
    "r = 5\n",
    "iterations = 10\"\"\""
   ]
  },
  {
   "cell_type": "code",
   "execution_count": null,
   "metadata": {},
   "outputs": [],
   "source": [
    "def create_gm_data(n, k, dim, R, sc):\n",
    "    \"\"\"\n",
    "    Create dataset for different values of R\n",
    "    \"\"\"\n",
    "    gm_narray, true_centroids = gauss_mixture(n, k, dim, R)\n",
    "    gm_df = pd.DataFrame(gm_narray)\n",
    "    gm_rdd = sc.parallelize([row for row in gm_narray])\n",
    "    gm_rdd.count() \n",
    "    gm_true_cost = compute_cost(gm_rdd, true_centroids)\n",
    "\n",
    "    return {\n",
    "        \"narray\": gm_narray,\n",
    "        \"df\": gm_df,\n",
    "        \"rdd\": gm_rdd,\n",
    "        \"true_centroids\": true_centroids,\n",
    "        \"true_cost\": gm_true_cost,\n",
    "    }"
   ]
  },
  {
   "cell_type": "code",
   "execution_count": null,
   "metadata": {},
   "outputs": [
    {
     "name": "stderr",
     "output_type": "stream",
     "text": [
      "                                                                                "
     ]
    }
   ],
   "source": [
    "datasets = {RR: create_gm_data(n, k, dim, RR, sc) for RR in R}"
   ]
  },
  {
   "cell_type": "code",
   "execution_count": null,
   "metadata": {},
   "outputs": [
    {
     "data": {
      "text/plain": [
       "15.12295504863026"
      ]
     },
     "metadata": {},
     "output_type": "display_data"
    }
   ],
   "source": [
    "datasets[1][\"true_cost\"]"
   ]
  },
  {
   "cell_type": "code",
   "execution_count": null,
   "metadata": {},
   "outputs": [
    {
     "data": {
      "text/plain": [
       "15.197356017266493"
      ]
     },
     "metadata": {},
     "output_type": "display_data"
    }
   ],
   "source": [
    "datasets[10][\"true_cost\"]"
   ]
  },
  {
   "cell_type": "code",
   "execution_count": null,
   "metadata": {},
   "outputs": [
    {
     "data": {
      "text/plain": [
       "15.197356017266493"
      ]
     },
     "metadata": {},
     "output_type": "display_data"
    }
   ],
   "source": [
    "datasets[100][\"true_cost\"]"
   ]
  },
  {
   "cell_type": "markdown",
   "metadata": {},
   "source": [
    "### Random initialization + Lloyd algorithm"
   ]
  },
  {
   "cell_type": "code",
   "execution_count": null,
   "metadata": {},
   "outputs": [
    {
     "name": "stderr",
     "output_type": "stream",
     "text": [
      "                                                                                "
     ]
    },
    {
     "name": "stdout",
     "output_type": "stream",
     "text": [
      "   R init_algo  init_time (s)  up_time (s)      seed      final       true\n",
      "0  1    random        2.85204    28.324692  33.91794  14.947091  15.122955\n"
     ]
    },
    {
     "name": "stderr",
     "output_type": "stream",
     "text": [
      "                                                                                "
     ]
    },
    {
     "name": "stdout",
     "output_type": "stream",
     "text": [
      "    R init_algo  init_time (s)  up_time (s)        seed      final       true\n",
      "0  10    random       3.560877    32.916883  112.610351  29.608966  15.197356\n"
     ]
    },
    {
     "name": "stderr",
     "output_type": "stream",
     "text": [
      "                                                                                "
     ]
    },
    {
     "name": "stdout",
     "output_type": "stream",
     "text": [
      "     R init_algo  init_time (s)  up_time (s)         seed       final  \\\n",
      "0  100    random       2.635231    35.299526  1693.121882  601.246278   \n",
      "\n",
      "        true  \n",
      "0  15.197356  \n"
     ]
    }
   ],
   "source": [
    "results_rand_list = []\n",
    "for RR in R:\n",
    "    res = compute_time_cost(\n",
    "        gm_narray=datasets[RR][\"narray\"],\n",
    "        data_rdd=datasets[RR][\"rdd\"],\n",
    "        gm_true_cost=datasets[RR][\"true_cost\"],\n",
    "        k=k,\n",
    "        R=RR,\n",
    "        iterations=iterations,\n",
    "        lk=1,\n",
    "        r=r,\n",
    "        init_algo=\"random\",\n",
    "    )\n",
    "    results_rand_list.append(res)\n",
    "\n",
    "results_rand = pd.concat(results_rand_list, ignore_index=True)"
   ]
  },
  {
   "cell_type": "markdown",
   "metadata": {},
   "source": [
    "### kmeans++ initialization + LLoyd algorithm"
   ]
  },
  {
   "cell_type": "code",
   "execution_count": null,
   "metadata": {},
   "outputs": [
    {
     "name": "stderr",
     "output_type": "stream",
     "text": [
      "                                                                                "
     ]
    },
    {
     "name": "stdout",
     "output_type": "stream",
     "text": [
      "   R init_algo  init_time (s)  up_time (s)       seed      final       true\n",
      "0  1  kmeans++       0.053623    12.997394  32.042689  14.947757  15.122955\n"
     ]
    },
    {
     "name": "stderr",
     "output_type": "stream",
     "text": [
      "                                                                                "
     ]
    },
    {
     "name": "stdout",
     "output_type": "stream",
     "text": [
      "    R init_algo  init_time (s)  up_time (s)       seed      final       true\n",
      "0  10  kmeans++       0.006725    11.726718  32.012204  15.050722  15.197356\n"
     ]
    },
    {
     "name": "stderr",
     "output_type": "stream",
     "text": [
      "                                                                                "
     ]
    },
    {
     "name": "stdout",
     "output_type": "stream",
     "text": [
      "     R init_algo  init_time (s)  up_time (s)       seed      final       true\n",
      "0  100  kmeans++       0.004874    21.475211  26.993266  15.050722  15.197356\n"
     ]
    },
    {
     "name": "stderr",
     "output_type": "stream",
     "text": [
      "                                                                                "
     ]
    }
   ],
   "source": [
    "results_plus_list = []\n",
    "for RR in R:\n",
    "    res = compute_time_cost(\n",
    "        gm_narray=datasets[RR][\"narray\"],\n",
    "        data_rdd=datasets[RR][\"rdd\"],\n",
    "        gm_true_cost=datasets[RR][\"true_cost\"],\n",
    "        k=k,\n",
    "        R=RR,\n",
    "        iterations=iterations,\n",
    "        lk=1,\n",
    "        r=r,\n",
    "        init_algo=\"kmeans++\",\n",
    "    )\n",
    "    results_plus_list.append(res)\n",
    "\n",
    "results_plus = pd.concat(results_plus_list, ignore_index=True)"
   ]
  },
  {
   "cell_type": "markdown",
   "metadata": {},
   "source": [
    "### kmeans|| init + Lloyd algorithm"
   ]
  },
  {
   "cell_type": "code",
   "execution_count": null,
   "metadata": {},
   "outputs": [
    {
     "name": "stderr",
     "output_type": "stream",
     "text": [
      "                                                                                "
     ]
    },
    {
     "name": "stdout",
     "output_type": "stream",
     "text": [
      "   R init_algo  init_time (s)  up_time (s)       seed      final       true\n",
      "0  1  kmeans||       8.598313    22.956578  22.371284  16.277404  15.122955\n"
     ]
    },
    {
     "name": "stderr",
     "output_type": "stream",
     "text": [
      "                                                                                "
     ]
    },
    {
     "name": "stdout",
     "output_type": "stream",
     "text": [
      "    R init_algo  init_time (s)  up_time (s)      seed      final       true\n",
      "0  10  kmeans||      24.753145    14.204458  24.76281  15.050722  15.197356\n"
     ]
    },
    {
     "name": "stderr",
     "output_type": "stream",
     "text": [
      "                                                                                "
     ]
    },
    {
     "name": "stdout",
     "output_type": "stream",
     "text": [
      "     R init_algo  init_time (s)  up_time (s)       seed      final       true\n",
      "0  100  kmeans||      23.681348    15.634862  18.496032  15.050722  15.197356\n"
     ]
    }
   ],
   "source": [
    "results_par1_list = []\n",
    "for RR in R:\n",
    "    res = compute_time_cost(\n",
    "        gm_narray=datasets[RR][\"narray\"],\n",
    "        data_rdd=datasets[RR][\"rdd\"],\n",
    "        gm_true_cost=datasets[RR][\"true_cost\"],\n",
    "        k=k,\n",
    "        R=RR,\n",
    "        iterations=iterations,\n",
    "        lk=0.5,\n",
    "        r=r,\n",
    "        init_algo=\"kmeans||\",\n",
    "    )\n",
    "    results_par1_list.append(res)\n",
    "\n",
    "results_par1 = pd.concat(results_par1_list, ignore_index=True)"
   ]
  },
  {
   "cell_type": "code",
   "execution_count": null,
   "metadata": {},
   "outputs": [
    {
     "name": "stderr",
     "output_type": "stream",
     "text": [
      "                                                                                "
     ]
    },
    {
     "name": "stdout",
     "output_type": "stream",
     "text": [
      "   R init_algo  init_time (s)  up_time (s)       seed      final       true\n",
      "0  1  kmeans||       7.689777     8.195151  16.454436  14.947867  15.122955\n"
     ]
    },
    {
     "name": "stderr",
     "output_type": "stream",
     "text": [
      "                                                                                "
     ]
    },
    {
     "name": "stdout",
     "output_type": "stream",
     "text": [
      "    R init_algo  init_time (s)  up_time (s)       seed      final       true\n",
      "0  10  kmeans||      16.343254    10.051638  16.888192  15.050722  15.197356\n"
     ]
    },
    {
     "name": "stderr",
     "output_type": "stream",
     "text": [
      "                                                                                "
     ]
    },
    {
     "name": "stdout",
     "output_type": "stream",
     "text": [
      "     R init_algo  init_time (s)  up_time (s)       seed      final       true\n",
      "0  100  kmeans||      14.211719     9.990407  15.796554  15.050722  15.197356\n"
     ]
    },
    {
     "name": "stderr",
     "output_type": "stream",
     "text": [
      "                                                                                "
     ]
    }
   ],
   "source": [
    "results_par2_list = []\n",
    "for RR in R:\n",
    "    res = compute_time_cost(\n",
    "        gm_narray=datasets[RR][\"narray\"],\n",
    "        data_rdd=datasets[RR][\"rdd\"],\n",
    "        gm_true_cost=datasets[RR][\"true_cost\"],\n",
    "        k=k,\n",
    "        R=RR,\n",
    "        iterations=iterations,\n",
    "        lk=2,\n",
    "        r=r,\n",
    "        init_algo=\"kmeans||\",\n",
    "    )\n",
    "    results_par2_list.append(res)\n",
    "\n",
    "results_par2 = pd.concat(results_par2_list, ignore_index=True)"
   ]
  },
  {
   "cell_type": "code",
   "execution_count": null,
   "metadata": {},
   "outputs": [],
   "source": [
    "# Rename kmeans|| columns \n",
    "results_par1[\"init_algo\"] = \"kmeans|| (l*k=0.5)\" \n",
    "results_par2[\"init_algo\"] = \"kmeans|| (l*k=2)\" \n",
    "\n",
    "# Concatenate all the dataframes \n",
    "df_all = pd.concat([results_rand, results_plus, results_par1, results_par2], ignore_index=True) "
   ]
  },
  {
   "cell_type": "code",
   "execution_count": null,
   "metadata": {},
   "outputs": [],
   "source": [
    "results_rand"
   ]
  },
  {
   "cell_type": "code",
   "execution_count": null,
   "metadata": {},
   "outputs": [],
   "source": [
    "results_plus"
   ]
  },
  {
   "cell_type": "code",
   "execution_count": null,
   "metadata": {},
   "outputs": [],
   "source": [
    "results_par1"
   ]
  },
  {
   "cell_type": "code",
   "execution_count": null,
   "metadata": {},
   "outputs": [],
   "source": [
    "results_par2"
   ]
  },
  {
   "cell_type": "markdown",
   "metadata": {},
   "source": [
    "## Tables results visualization"
   ]
  },
  {
   "cell_type": "code",
   "execution_count": null,
   "metadata": {},
   "outputs": [
    {
     "data": {
      "image/png": "[encoded data removed]",
      "text/plain": [
       "<Figure size 1000x800 with 4 Axes>"
      ]
     },
     "metadata": {},
     "output_type": "display_data"
    }
   ],
   "source": [
    "sns.set(style=\"whitegrid\")\n",
    "matplotlib.rcParams.update({'font.size': 12})\n",
    "\n",
    "# Define metrics and titles\n",
    "metrics = [\"init_time (s)\", \"up_time (s)\", \"seed\", \"final\"]\n",
    "titles = [\"Initialization time\", \"Lloyd’s time\", \"Seed cost\", \"Final cost\"]\n",
    "\n",
    "# Plot\n",
    "fig, axs = plt.subplots(2, 2, figsize=(10, 8))\n",
    "\n",
    "for ax, metric, title in zip(axs.flat, metrics, titles):\n",
    "    sns.barplot(\n",
    "        data=df_all,\n",
    "        x=\"init_algo\",\n",
    "        y=metric,\n",
    "        hue=\"R\",\n",
    "        palette=\"rainbow\",\n",
    "        alpha=0.8,\n",
    "        ax=ax\n",
    "    )\n",
    "    ax.set_title(title)\n",
    "    ax.set_ylabel(metric)\n",
    "    ax.tick_params(axis=\"x\", rotation=20)\n",
    "    ax.get_legend().remove() \n",
    "\n",
    "# Legend comune in alto\n",
    "handles, labels = axs[0, 0].get_legend_handles_labels()\n",
    "fig.legend(\n",
    "    handles, labels,\n",
    "    loc=\"upper center\",\n",
    "    ncol=len(labels),\n",
    "    title=\"R\",\n",
    "    bbox_to_anchor=(0.5, 1.05)  \n",
    ")\n",
    "\n",
    "plt.savefig(\"time_cost_comparison.pdf\")\n",
    "plt.tight_layout(rect=[0, 0, 1, 0.95])  \n",
    "plt.show()"
   ]
  },
  {
   "cell_type": "markdown",
   "metadata": {},
   "source": [
    "## Cost vs. r plots"
   ]
  },
  {
   "cell_type": "code",
   "execution_count": null,
   "metadata": {},
   "outputs": [],
   "source": [
    "def run_curves(data_rdd, k, rounds, lk_ratio, iterations):\n",
    "    curves = {lk: [] for lk in lk_ratio}\n",
    "    \n",
    "    for lk in lk_ratio:\n",
    "        for r in rounds:\n",
    "            if r==0:         \n",
    "                C_psi = kMeansRandom_init(data_rdd, 1)\n",
    "                psi = compute_cost(data_rdd, C_psi)\n",
    "                curves[lk].append(exp10_cost(psi, 2))\n",
    "            else:\n",
    "                C0   = kMeansParallel_init(data_rdd, k=k, l=int(lk*k), r=int(r))\n",
    "                Cfin = lloydKMeans(data_rdd, C0, iterations)\n",
    "                phi  = compute_cost(data_rdd, Cfin)          \n",
    "                curves[lk].append(exp10_cost(phi, 2))\n",
    "                \n",
    "            print(f\"COMPLETED: \\n##########|\\tl/k = {lk}  |  r = {r}\\t|##########\")\n",
    "        print(\"DONE!\")\n",
    "        \n",
    "    return curves"
   ]
  },
  {
   "cell_type": "markdown",
   "metadata": {},
   "source": [
    "### Plot"
   ]
  },
  {
   "cell_type": "code",
   "execution_count": null,
   "metadata": {},
   "outputs": [],
   "source": [
    "# --- control parameters --- \n",
    "\n",
    "# Actual parameters\n",
    "lk_ratio = [1, 2, 5, 10]\n",
    "rounds = list(range(16))\n",
    "\n",
    "# Toy parameters\n",
    "#rounds = list(range(0, 5, 2))\n",
    "#lk_ratio = [1, 2]"
   ]
  },
  {
   "cell_type": "markdown",
   "metadata": {},
   "source": [
    "### kmeans|| init + Lloyd algorithm"
   ]
  },
  {
   "cell_type": "code",
   "execution_count": null,
   "metadata": {},
   "outputs": [
    {
     "name": "stdout",
     "output_type": "stream",
     "text": [
      "Running for R=1\n"
     ]
    },
    {
     "name": "stderr",
     "output_type": "stream",
     "text": [
      "                                                                                "
     ]
    },
    {
     "name": "stdout",
     "output_type": "stream",
     "text": [
      "COMPLETED: \n",
      "##########|\tl/k = 1  |  r = 0\t|##########\n"
     ]
    },
    {
     "name": "stderr",
     "output_type": "stream",
     "text": [
      "                                                                                "
     ]
    },
    {
     "name": "stdout",
     "output_type": "stream",
     "text": [
      "COMPLETED: \n",
      "##########|\tl/k = 1  |  r = 1\t|##########\n"
     ]
    },
    {
     "name": "stderr",
     "output_type": "stream",
     "text": [
      "                                                                                "
     ]
    },
    {
     "name": "stdout",
     "output_type": "stream",
     "text": [
      "COMPLETED: \n",
      "##########|\tl/k = 1  |  r = 2\t|##########\n"
     ]
    },
    {
     "name": "stderr",
     "output_type": "stream",
     "text": [
      "                                                                                "
     ]
    },
    {
     "name": "stdout",
     "output_type": "stream",
     "text": [
      "COMPLETED: \n",
      "##########|\tl/k = 1  |  r = 3\t|##########\n",
      "COMPLETED: \n",
      "##########|\tl/k = 1  |  r = 4\t|##########\n",
      "COMPLETED: \n",
      "##########|\tl/k = 1  |  r = 5\t|##########\n"
     ]
    },
    {
     "name": "stderr",
     "output_type": "stream",
     "text": [
      "                                                                                "
     ]
    },
    {
     "name": "stdout",
     "output_type": "stream",
     "text": [
      "COMPLETED: \n",
      "##########|\tl/k = 1  |  r = 6\t|##########\n"
     ]
    },
    {
     "name": "stderr",
     "output_type": "stream",
     "text": [
      "                                                                                "
     ]
    },
    {
     "name": "stdout",
     "output_type": "stream",
     "text": [
      "COMPLETED: \n",
      "##########|\tl/k = 1  |  r = 7\t|##########\n",
      "COMPLETED: \n",
      "##########|\tl/k = 1  |  r = 8\t|##########\n"
     ]
    },
    {
     "name": "stderr",
     "output_type": "stream",
     "text": [
      "                                                                                "
     ]
    },
    {
     "name": "stdout",
     "output_type": "stream",
     "text": [
      "COMPLETED: \n",
      "##########|\tl/k = 1  |  r = 9\t|##########\n"
     ]
    },
    {
     "name": "stderr",
     "output_type": "stream",
     "text": [
      "                                                                                "
     ]
    },
    {
     "name": "stdout",
     "output_type": "stream",
     "text": [
      "COMPLETED: \n",
      "##########|\tl/k = 1  |  r = 10\t|##########\n"
     ]
    },
    {
     "name": "stderr",
     "output_type": "stream",
     "text": [
      "                                                                                "
     ]
    },
    {
     "name": "stdout",
     "output_type": "stream",
     "text": [
      "COMPLETED: \n",
      "##########|\tl/k = 1  |  r = 11\t|##########\n"
     ]
    },
    {
     "name": "stderr",
     "output_type": "stream",
     "text": [
      "                                                                                "
     ]
    },
    {
     "name": "stdout",
     "output_type": "stream",
     "text": [
      "COMPLETED: \n",
      "##########|\tl/k = 1  |  r = 12\t|##########\n"
     ]
    },
    {
     "name": "stderr",
     "output_type": "stream",
     "text": [
      "                                                                                "
     ]
    }
   ],
   "source": [
    "results = {}\n",
    "\n",
    "for RR in R:\n",
    "    data_rdd = datasets[RR][\"rdd\"]\n",
    "    data_narray = datasets[RR][\"narray\"]\n",
    "\n",
    "    # compute curves (KM|| seeds + Lloyd)\n",
    "    print(f\"Running for R={RR}\")\n",
    "    curves = run_curves(data_rdd, k, rounds, lk_ratio, iterations)\n",
    "\n",
    "    # baseline (KM++ seeds + Lloyd)\n",
    "    Cpp    = kMeansPlusPlus_init(data_narray, k)\n",
    "    CppFin = lloydKMeans(data_rdd, Cpp, epochs=iterations)\n",
    "    base   = exp10_cost(compute_cost(data_rdd, CppFin), 2)\n",
    "\n",
    "    results[RR] = {\n",
    "        \"curves\": curves,\n",
    "        \"base\": base,\n",
    "        \"rounds\": rounds,\n",
    "        \"lk_ratio\": lk_ratio\n",
    "    }"
   ]
  },
  {
   "cell_type": "code",
   "execution_count": null,
   "metadata": {},
   "outputs": [],
   "source": [
    "def plot_results(results_dict):\n",
    "    matplotlib.rcParams.update({'font.size': 16})\n",
    "    \n",
    "    fig, axes = plt.subplots(1, len(results_dict), figsize=(18, 6), sharey=True)\n",
    "\n",
    "    for idx, (RR, res) in enumerate(results_dict.items()):\n",
    "        ax = axes[idx]\n",
    "\n",
    "        curves = res[\"curves\"]\n",
    "        base = res[\"base\"]\n",
    "        rounds = res[\"rounds\"]\n",
    "\n",
    "        # colormap\n",
    "        lk_values = sorted(curves.keys())\n",
    "        colors = cm.rainbow(np.linspace(0, 1, len(lk_values)))\n",
    "\n",
    "        # markers and lines styles\n",
    "        markers = [\"s\", \"o\", \"X\", \"^\"]\n",
    "        lines = [\"solid\", \"dotted\", \"dashed\", \"dashdot\"]\n",
    "\n",
    "        for lk, color, marker, line in zip(lk_values, colors, markers, lines):\n",
    "            phis = curves[lk]\n",
    "            ax.plot(rounds, phis, marker=marker, markersize=8, markerfacecolor=\"none\", color=color, \n",
    "                    linewidth=1.5, linestyle=line, alpha=0.8, label=f\"l/k={lk}\")\n",
    "\n",
    "        ax.axhline(base, color=\"k\", lw=1, linestyle=\"solid\", label=\"KM++ & Lloyd baseline\")\n",
    "\n",
    "        ax.set_title(f\"R = {RR}\", fontsize=16)\n",
    "        ax.set_xlabel(\"# Initialization Rounds\")\n",
    "        if idx == 0:\n",
    "            ax.set_ylabel(\"Cost (~$10^{\\\\alpha}$)\")\n",
    "        ax.yaxis.set_major_formatter(FuncFormatter(lambda y, _: rf\"$10^{{{y:.2f}}}$\"))\n",
    "        ax.xaxis.set_major_locator(MaxNLocator(integer=True))\n",
    "        ax.legend(frameon=False)\n",
    "\n",
    "    plt.savefig(\"lk_plot.pdf\")\n",
    "    plt.tight_layout()\n",
    "    plt.show()"
   ]
  },
  {
   "cell_type": "code",
   "execution_count": null,
   "metadata": {},
   "outputs": [],
   "source": [
    "plot_results(results)"
   ]
  },
  {
   "cell_type": "markdown",
   "metadata": {},
   "source": [
    "# Lloyd Parallel vs. nPartitions"
   ]
  },
  {
   "cell_type": "code",
   "execution_count": null,
   "metadata": {},
   "outputs": [],
   "source": []
  },
  {
   "cell_type": "markdown",
   "metadata": {},
   "source": [
    "# Lloyd vs. Mini-Batch"
   ]
  },
  {
   "cell_type": "code",
   "execution_count": null,
   "metadata": {},
   "outputs": [],
   "source": []
  },
  {
   "cell_type": "markdown",
   "metadata": {},
   "source": [
    "### Bibliography\n",
    "[1.1] Bahmani, Bahman, et al. \"Scalable k-means++.\" arXiv preprint arXiv:1203.6402 (2012)."
   ]
  }
 ],
 "metadata": {
  "kernelspec": {
   "display_name": "Python 3 (ipykernel)",
   "language": "python",
   "name": "python3"
  },
  "language_info": {
   "codemirror_mode": {
    "name": "ipython",
    "version": 3
   },
   "file_extension": ".py",
   "mimetype": "text/x-python",
   "name": "python",
   "nbconvert_exporter": "python",
   "pygments_lexer": "ipython3",
   "version": "3.11.12"
  }
 },
 "nbformat": 4,
 "nbformat_minor": 4
}
